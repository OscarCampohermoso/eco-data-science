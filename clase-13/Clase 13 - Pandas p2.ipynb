{
 "cells": [
  {
   "cell_type": "markdown",
   "metadata": {
    "colab_type": "text",
    "id": "MVNzjAp66GW2"
   },
   "source": [
    "# Clase 12 - Pandas\n",
    "\n",
    "### Anuncios\n",
    "- Nuevo ambiente\n",
    "- Req. 3\n",
    "\n",
    "\n",
    "### Hoy:\n",
    "- Pandas"
   ]
  },
  {
   "cell_type": "markdown",
   "metadata": {},
   "source": [
    "# Distribucion notas\n",
    "<img src=\"notasp1.png\" alt=\"drawing\" width=\"600\"/>"
   ]
  },
  {
   "cell_type": "markdown",
   "metadata": {
    "colab_type": "text",
    "id": "_QNX8cbd6y9G"
   },
   "source": [
    "### Bases de Datos\n",
    "\n",
    "Con un software de \"bases de datos\", usualmente queremos realizar las siguientes operaciones:\n",
    "\n",
    "- Leer una base de datos\n",
    "- Creación de nuevas columnas (\"variables\")\n",
    "- Filtro de datos (por ej: para individuos específicos o fechas específicas)\n",
    "- Tablas resúmen o agregadas (por ej: estadísticas por fecha o por zona geográfica)\n",
    "- Cruce de datos (unir información nueva basados en algún ID)\n",
    "- Unión de bases de datos\n",
    "- Grabar una base de datos"
   ]
  },
  {
   "cell_type": "markdown",
   "metadata": {},
   "source": [
    "Python tiene varias librerias para trabajar con bases de datos. Una de las más famosas es \"Pandas\"."
   ]
  },
  {
   "cell_type": "markdown",
   "metadata": {},
   "source": [
    "### Objetos importantes de la librería Pandas\n",
    "\n",
    "### 1. \"DataFrame\"\n",
    "\n",
    "Este objeto es muy similar a lo que entendemos comúnmente por \"base de datos\", donde tenemos N filas y K columnas.\n",
    "\n",
    "*Documentación sobre atributos y métodos de DataFrames: https://pandas.pydata.org/pandas-docs/stable/generated/pandas.DataFrame.html*\n",
    "\n",
    "*Documentación sobre atributos y métodos de Series: https://pandas.pydata.org/pandas-docs/stable/generated/pandas.Series.html*\n",
    "\n",
    "### 2. \"Series\"\n",
    "\n",
    "Es la \"base de datos\" más simple de Pandas. Una serie puede ser entendida como un vector de datos (1 dimensión). Todo DataFrame está formado por \"Series\" individuales, unidas por un índice común.\n",
    "\n",
    "### 3. \"GroupBy\"\n",
    "\n",
    "Un objeto \"GroupBy\" es un objeto que construimos desde una base de datos \"desagrupada\" y nos permite crear bases de datos \"agrupadas\", según las reglas agrupación que definamos.\n",
    "\n",
    "Documentación completa aquí: http://pandas.pydata.org/pandas-docs/stable/groupby.html\n",
    "\n",
    "Funciones disponibles: http://pandas.pydata.org/pandas-docs/stable/api.html?highlight=groupby#groupby"
   ]
  },
  {
   "cell_type": "markdown",
   "metadata": {
    "colab_type": "text",
    "id": "I67mJrJB7GRI"
   },
   "source": [
    "### Ejercicio en clase\n"
   ]
  },
  {
   "cell_type": "markdown",
   "metadata": {},
   "source": [
    "Grafique la TPM del Banco Central"
   ]
  },
  {
   "cell_type": "code",
   "execution_count": 2,
   "metadata": {},
   "outputs": [
    {
     "ename": "NameError",
     "evalue": "name 'pwd' is not defined",
     "output_type": "error",
     "traceback": [
      "\u001b[0;31m---------------------------------------------------------------------------\u001b[0m",
      "\u001b[0;31mNameError\u001b[0m                                 Traceback (most recent call last)",
      "\u001b[1;32m/Users/oscarcampohermoso/development/julia_and_python_practica/economía-y-ciencia-de-datos/clase-13/Clase 13 - Pandas p2.ipynb Celda 8\u001b[0m line \u001b[0;36m9\n\u001b[1;32m      <a href='vscode-notebook-cell:/Users/oscarcampohermoso/development/julia_and_python_practica/economi%CC%81a-y-ciencia-de-datos/clase-13/Clase%2013%20-%20Pandas%20p2.ipynb#X10sZmlsZQ%3D%3D?line=3'>4</a>\u001b[0m user\u001b[39m=\u001b[39m\u001b[39m'\u001b[39m\u001b[39m160749849\u001b[39m\u001b[39m'\u001b[39m\n\u001b[1;32m      <a href='vscode-notebook-cell:/Users/oscarcampohermoso/development/julia_and_python_practica/economi%CC%81a-y-ciencia-de-datos/clase-13/Clase%2013%20-%20Pandas%20p2.ipynb#X10sZmlsZQ%3D%3D?line=5'>6</a>\u001b[0m serie \u001b[39m=\u001b[39m \u001b[39m'\u001b[39m\u001b[39mF073.TCO.PRE.Z.D\u001b[39m\u001b[39m'\u001b[39m\n\u001b[1;32m      <a href='vscode-notebook-cell:/Users/oscarcampohermoso/development/julia_and_python_practica/economi%CC%81a-y-ciencia-de-datos/clase-13/Clase%2013%20-%20Pandas%20p2.ipynb#X10sZmlsZQ%3D%3D?line=7'>8</a>\u001b[0m url \u001b[39m=\u001b[39m \u001b[39mf\u001b[39m\u001b[39m\"\u001b[39m\u001b[39mhttps://si3.bcentral.cl/SieteRestWS/SieteRestWS.ashx?\u001b[39m\u001b[39m\"\u001b[39m \u001b[39m+\u001b[39m \\\n\u001b[0;32m----> <a href='vscode-notebook-cell:/Users/oscarcampohermoso/development/julia_and_python_practica/economi%CC%81a-y-ciencia-de-datos/clase-13/Clase%2013%20-%20Pandas%20p2.ipynb#X10sZmlsZQ%3D%3D?line=8'>9</a>\u001b[0m     \u001b[39mf\u001b[39m\u001b[39m\"\u001b[39m\u001b[39muser=\u001b[39m\u001b[39m{\u001b[39;00muser\u001b[39m}\u001b[39;00m\u001b[39m&pass=\u001b[39m\u001b[39m{\u001b[39;00mpwd\u001b[39m}\u001b[39;00m\u001b[39m&firstdate=2021-01-01&lastdate=2023-08-31&\u001b[39m\u001b[39m\"\u001b[39m \u001b[39m+\u001b[39m \\\n\u001b[1;32m     <a href='vscode-notebook-cell:/Users/oscarcampohermoso/development/julia_and_python_practica/economi%CC%81a-y-ciencia-de-datos/clase-13/Clase%2013%20-%20Pandas%20p2.ipynb#X10sZmlsZQ%3D%3D?line=9'>10</a>\u001b[0m     \u001b[39mf\u001b[39m\u001b[39m\"\u001b[39m\u001b[39mtimeseries=\u001b[39m\u001b[39m{\u001b[39;00mserie\u001b[39m}\u001b[39;00m\u001b[39m&function=GetSeries\u001b[39m\u001b[39m\"\u001b[39m\n\u001b[1;32m     <a href='vscode-notebook-cell:/Users/oscarcampohermoso/development/julia_and_python_practica/economi%CC%81a-y-ciencia-de-datos/clase-13/Clase%2013%20-%20Pandas%20p2.ipynb#X10sZmlsZQ%3D%3D?line=11'>12</a>\u001b[0m response \u001b[39m=\u001b[39m requests\u001b[39m.\u001b[39mget(url)\n\u001b[1;32m     <a href='vscode-notebook-cell:/Users/oscarcampohermoso/development/julia_and_python_practica/economi%CC%81a-y-ciencia-de-datos/clase-13/Clase%2013%20-%20Pandas%20p2.ipynb#X10sZmlsZQ%3D%3D?line=12'>13</a>\u001b[0m data \u001b[39m=\u001b[39m response\u001b[39m.\u001b[39mjson()[\u001b[39m\"\u001b[39m\u001b[39mSeries\u001b[39m\u001b[39m\"\u001b[39m][\u001b[39m\"\u001b[39m\u001b[39mObs\u001b[39m\u001b[39m\"\u001b[39m]\n",
      "\u001b[0;31mNameError\u001b[0m: name 'pwd' is not defined"
     ]
    }
   ],
   "source": [
    "import requests\n",
    "import pandas as pd\n",
    "\n",
    "user='160749849'\n",
    "\n",
    "serie = 'F073.TCO.PRE.Z.D'\n",
    "\n",
    "url = f\"https://si3.bcentral.cl/SieteRestWS/SieteRestWS.ashx?\" + \\\n",
    "    f\"user={user}&pass={pwd}&firstdate=2021-01-01&lastdate=2023-08-31&\" + \\\n",
    "    f\"timeseries={serie}&function=GetSeries\"\n",
    "\n",
    "response = requests.get(url)\n",
    "data = response.json()[\"Series\"][\"Obs\"]\n",
    "\n",
    "df1 = pd.DataFrame(data)\n",
    "df1"
   ]
  },
  {
   "cell_type": "code",
   "execution_count": null,
   "metadata": {},
   "outputs": [
    {
     "ename": "TypeError",
     "evalue": "no numeric data to plot",
     "output_type": "error",
     "traceback": [
      "\u001b[1;31m----------------------------------------------------\u001b[0m",
      "\u001b[1;31mTypeError\u001b[0m          Traceback (most recent call last)",
      "Cell \u001b[1;32mIn[5], line 1\u001b[0m\n\u001b[1;32m----> 1\u001b[0m \u001b[43mdf\u001b[49m\u001b[43m[\u001b[49m\u001b[38;5;124;43m'\u001b[39;49m\u001b[38;5;124;43mvalue\u001b[39;49m\u001b[38;5;124;43m'\u001b[39;49m\u001b[43m]\u001b[49m\u001b[38;5;241;43m.\u001b[39;49m\u001b[43mplot\u001b[49m\u001b[43m(\u001b[49m\u001b[43m)\u001b[49m\n",
      "File \u001b[1;32m~\\.conda\\envs\\eae253\\lib\\site-packages\\pandas\\plotting\\_core.py:1031\u001b[0m, in \u001b[0;36mPlotAccessor.__call__\u001b[1;34m(self, *args, **kwargs)\u001b[0m\n\u001b[0;32m   1028\u001b[0m             label_name \u001b[38;5;241m=\u001b[39m label_kw \u001b[38;5;129;01mor\u001b[39;00m data\u001b[38;5;241m.\u001b[39mcolumns\n\u001b[0;32m   1029\u001b[0m             data\u001b[38;5;241m.\u001b[39mcolumns \u001b[38;5;241m=\u001b[39m label_name\n\u001b[1;32m-> 1031\u001b[0m \u001b[38;5;28;01mreturn\u001b[39;00m plot_backend\u001b[38;5;241m.\u001b[39mplot(data, kind\u001b[38;5;241m=\u001b[39mkind, \u001b[38;5;241m*\u001b[39m\u001b[38;5;241m*\u001b[39mkwargs)\n",
      "File \u001b[1;32m~\\.conda\\envs\\eae253\\lib\\site-packages\\pandas\\plotting\\_matplotlib\\__init__.py:71\u001b[0m, in \u001b[0;36mplot\u001b[1;34m(data, kind, **kwargs)\u001b[0m\n\u001b[0;32m     69\u001b[0m         kwargs[\u001b[38;5;124m\"\u001b[39m\u001b[38;5;124max\u001b[39m\u001b[38;5;124m\"\u001b[39m] \u001b[38;5;241m=\u001b[39m \u001b[38;5;28mgetattr\u001b[39m(ax, \u001b[38;5;124m\"\u001b[39m\u001b[38;5;124mleft_ax\u001b[39m\u001b[38;5;124m\"\u001b[39m, ax)\n\u001b[0;32m     70\u001b[0m plot_obj \u001b[38;5;241m=\u001b[39m PLOT_CLASSES[kind](data, \u001b[38;5;241m*\u001b[39m\u001b[38;5;241m*\u001b[39mkwargs)\n\u001b[1;32m---> 71\u001b[0m \u001b[43mplot_obj\u001b[49m\u001b[38;5;241;43m.\u001b[39;49m\u001b[43mgenerate\u001b[49m\u001b[43m(\u001b[49m\u001b[43m)\u001b[49m\n\u001b[0;32m     72\u001b[0m plot_obj\u001b[38;5;241m.\u001b[39mdraw()\n\u001b[0;32m     73\u001b[0m \u001b[38;5;28;01mreturn\u001b[39;00m plot_obj\u001b[38;5;241m.\u001b[39mresult\n",
      "File \u001b[1;32m~\\.conda\\envs\\eae253\\lib\\site-packages\\pandas\\plotting\\_matplotlib\\core.py:451\u001b[0m, in \u001b[0;36mMPLPlot.generate\u001b[1;34m(self)\u001b[0m\n\u001b[0;32m    449\u001b[0m \u001b[38;5;28;01mdef\u001b[39;00m \u001b[38;5;21mgenerate\u001b[39m(\u001b[38;5;28mself\u001b[39m) \u001b[38;5;241m-\u001b[39m\u001b[38;5;241m>\u001b[39m \u001b[38;5;28;01mNone\u001b[39;00m:\n\u001b[0;32m    450\u001b[0m     \u001b[38;5;28mself\u001b[39m\u001b[38;5;241m.\u001b[39m_args_adjust()\n\u001b[1;32m--> 451\u001b[0m     \u001b[38;5;28;43mself\u001b[39;49m\u001b[38;5;241;43m.\u001b[39;49m\u001b[43m_compute_plot_data\u001b[49m\u001b[43m(\u001b[49m\u001b[43m)\u001b[49m\n\u001b[0;32m    452\u001b[0m     \u001b[38;5;28mself\u001b[39m\u001b[38;5;241m.\u001b[39m_setup_subplots()\n\u001b[0;32m    453\u001b[0m     \u001b[38;5;28mself\u001b[39m\u001b[38;5;241m.\u001b[39m_make_plot()\n",
      "File \u001b[1;32m~\\.conda\\envs\\eae253\\lib\\site-packages\\pandas\\plotting\\_matplotlib\\core.py:636\u001b[0m, in \u001b[0;36mMPLPlot._compute_plot_data\u001b[1;34m(self)\u001b[0m\n\u001b[0;32m    634\u001b[0m \u001b[38;5;66;03m# no non-numeric frames or series allowed\u001b[39;00m\n\u001b[0;32m    635\u001b[0m \u001b[38;5;28;01mif\u001b[39;00m is_empty:\n\u001b[1;32m--> 636\u001b[0m     \u001b[38;5;28;01mraise\u001b[39;00m \u001b[38;5;167;01mTypeError\u001b[39;00m(\u001b[38;5;124m\"\u001b[39m\u001b[38;5;124mno numeric data to plot\u001b[39m\u001b[38;5;124m\"\u001b[39m)\n\u001b[0;32m    638\u001b[0m \u001b[38;5;28mself\u001b[39m\u001b[38;5;241m.\u001b[39mdata \u001b[38;5;241m=\u001b[39m numeric_data\u001b[38;5;241m.\u001b[39mapply(\u001b[38;5;28mself\u001b[39m\u001b[38;5;241m.\u001b[39m_convert_to_ndarray)\n",
      "\u001b[1;31mTypeError\u001b[0m: no numeric data to plot"
     ]
    }
   ],
   "source": [
    "df['value'].plot()"
   ]
  },
  {
   "cell_type": "markdown",
   "metadata": {},
   "source": [
    "Los datos fueron leidos como texto... confirmemos lo anterior."
   ]
  },
  {
   "cell_type": "code",
   "execution_count": null,
   "metadata": {},
   "outputs": [
    {
     "data": {
      "text/plain": [
       "0        0.5\n",
       "1        0.5\n",
       "2        0.5\n",
       "3        0.5\n",
       "4        0.5\n",
       "       ...  \n",
       "965      NaN\n",
       "966    10.25\n",
       "967    10.25\n",
       "968    10.25\n",
       "969    10.25\n",
       "Name: value, Length: 970, dtype: object"
      ]
     },
     "execution_count": 6,
     "metadata": {},
     "output_type": "execute_result"
    }
   ],
   "source": [
    "df.value"
   ]
  },
  {
   "cell_type": "markdown",
   "metadata": {},
   "source": [
    "Para Pandas, una serie \"object\" se puede interpretar como una serie con texto. Podemos tratar de transformar los datos a número:"
   ]
  },
  {
   "cell_type": "markdown",
   "metadata": {},
   "source": [
    "Son tipos meszclados pero moyermente llegan como texto y no como numeros"
   ]
  },
  {
   "cell_type": "code",
   "execution_count": null,
   "metadata": {},
   "outputs": [
    {
     "data": {
      "text/plain": [
       "0       0.50\n",
       "1       0.50\n",
       "2       0.50\n",
       "3       0.50\n",
       "4       0.50\n",
       "       ...  \n",
       "965      NaN\n",
       "966    10.25\n",
       "967    10.25\n",
       "968    10.25\n",
       "969    10.25\n",
       "Name: valor, Length: 970, dtype: float64"
      ]
     },
     "execution_count": 7,
     "metadata": {},
     "output_type": "execute_result"
    }
   ],
   "source": [
    "df['valor'] = df['value'].astype(float)\n",
    "df.valor"
   ]
  },
  {
   "cell_type": "markdown",
   "metadata": {},
   "source": [
    "Ahora sí podemos graficar..."
   ]
  },
  {
   "cell_type": "code",
   "execution_count": null,
   "metadata": {},
   "outputs": [],
   "source": [
    "df.valor"
   ]
  },
  {
   "cell_type": "code",
   "execution_count": null,
   "metadata": {},
   "outputs": [
    {
     "data": {
      "text/plain": [
       "<Axes: >"
      ]
     },
     "execution_count": 8,
     "metadata": {},
     "output_type": "execute_result"
    },
    {
     "data": {
      "image/png": "[encoded data removed]",
      "text/plain": [
       "<Figure size 640x480 with 1 Axes>"
      ]
     },
     "metadata": {},
     "output_type": "display_data"
    }
   ],
   "source": [
    "df['valor'].plot()"
   ]
  },
  {
   "cell_type": "markdown",
   "metadata": {},
   "source": [
    "¿cómo podemos usar la fecha en el eje Y? Veamos qué tipo de Serie es \"indexDateString\""
   ]
  },
  {
   "cell_type": "code",
   "execution_count": null,
   "metadata": {},
   "outputs": [
    {
     "data": {
      "text/plain": [
       "0      04-01-2021\n",
       "1      05-01-2021\n",
       "2      06-01-2021\n",
       "3      07-01-2021\n",
       "4      08-01-2021\n",
       "          ...    \n",
       "965    27-08-2023\n",
       "966    28-08-2023\n",
       "967    29-08-2023\n",
       "968    30-08-2023\n",
       "969    31-08-2023\n",
       "Name: indexDateString, Length: 970, dtype: object"
      ]
     },
     "execution_count": 9,
     "metadata": {},
     "output_type": "execute_result"
    }
   ],
   "source": [
    "df['indexDateString']"
   ]
  },
  {
   "cell_type": "markdown",
   "metadata": {},
   "source": [
    "También es un \"texto\"... transformemos a fecha"
   ]
  },
  {
   "cell_type": "code",
   "execution_count": null,
   "metadata": {},
   "outputs": [
    {
     "data": {
      "text/html": [
       "<div>\n",
       "<style scoped>\n",
       "    .dataframe tbody tr th:only-of-type {\n",
       "        vertical-align: middle;\n",
       "    }\n",
       "\n",
       "    .dataframe tbody tr th {\n",
       "        vertical-align: top;\n",
       "    }\n",
       "\n",
       "    .dataframe thead th {\n",
       "        text-align: right;\n",
       "    }\n",
       "</style>\n",
       "<table border=\"1\" class=\"dataframe\">\n",
       "  <thead>\n",
       "    <tr style=\"text-align: right;\">\n",
       "      <th></th>\n",
       "      <th>indexDateString</th>\n",
       "      <th>value</th>\n",
       "      <th>statusCode</th>\n",
       "      <th>valor</th>\n",
       "      <th>fecha</th>\n",
       "    </tr>\n",
       "  </thead>\n",
       "  <tbody>\n",
       "    <tr>\n",
       "      <th>0</th>\n",
       "      <td>04-01-2021</td>\n",
       "      <td>0.5</td>\n",
       "      <td>OK</td>\n",
       "      <td>0.50</td>\n",
       "      <td>2021-01-04</td>\n",
       "    </tr>\n",
       "    <tr>\n",
       "      <th>1</th>\n",
       "      <td>05-01-2021</td>\n",
       "      <td>0.5</td>\n",
       "      <td>OK</td>\n",
       "      <td>0.50</td>\n",
       "      <td>2021-01-05</td>\n",
       "    </tr>\n",
       "    <tr>\n",
       "      <th>2</th>\n",
       "      <td>06-01-2021</td>\n",
       "      <td>0.5</td>\n",
       "      <td>OK</td>\n",
       "      <td>0.50</td>\n",
       "      <td>2021-01-06</td>\n",
       "    </tr>\n",
       "    <tr>\n",
       "      <th>3</th>\n",
       "      <td>07-01-2021</td>\n",
       "      <td>0.5</td>\n",
       "      <td>OK</td>\n",
       "      <td>0.50</td>\n",
       "      <td>2021-01-07</td>\n",
       "    </tr>\n",
       "    <tr>\n",
       "      <th>4</th>\n",
       "      <td>08-01-2021</td>\n",
       "      <td>0.5</td>\n",
       "      <td>OK</td>\n",
       "      <td>0.50</td>\n",
       "      <td>2021-01-08</td>\n",
       "    </tr>\n",
       "    <tr>\n",
       "      <th>...</th>\n",
       "      <td>...</td>\n",
       "      <td>...</td>\n",
       "      <td>...</td>\n",
       "      <td>...</td>\n",
       "      <td>...</td>\n",
       "    </tr>\n",
       "    <tr>\n",
       "      <th>965</th>\n",
       "      <td>27-08-2023</td>\n",
       "      <td>NaN</td>\n",
       "      <td>ND</td>\n",
       "      <td>NaN</td>\n",
       "      <td>2023-08-27</td>\n",
       "    </tr>\n",
       "    <tr>\n",
       "      <th>966</th>\n",
       "      <td>28-08-2023</td>\n",
       "      <td>10.25</td>\n",
       "      <td>OK</td>\n",
       "      <td>10.25</td>\n",
       "      <td>2023-08-28</td>\n",
       "    </tr>\n",
       "    <tr>\n",
       "      <th>967</th>\n",
       "      <td>29-08-2023</td>\n",
       "      <td>10.25</td>\n",
       "      <td>OK</td>\n",
       "      <td>10.25</td>\n",
       "      <td>2023-08-29</td>\n",
       "    </tr>\n",
       "    <tr>\n",
       "      <th>968</th>\n",
       "      <td>30-08-2023</td>\n",
       "      <td>10.25</td>\n",
       "      <td>OK</td>\n",
       "      <td>10.25</td>\n",
       "      <td>2023-08-30</td>\n",
       "    </tr>\n",
       "    <tr>\n",
       "      <th>969</th>\n",
       "      <td>31-08-2023</td>\n",
       "      <td>10.25</td>\n",
       "      <td>OK</td>\n",
       "      <td>10.25</td>\n",
       "      <td>2023-08-31</td>\n",
       "    </tr>\n",
       "  </tbody>\n",
       "</table>\n",
       "<p>970 rows × 5 columns</p>\n",
       "</div>"
      ],
      "text/plain": [
       "    indexDateString  value statusCode  valor      fecha\n",
       "0        04-01-2021    0.5         OK   0.50 2021-01-04\n",
       "1        05-01-2021    0.5         OK   0.50 2021-01-05\n",
       "2        06-01-2021    0.5         OK   0.50 2021-01-06\n",
       "3        07-01-2021    0.5         OK   0.50 2021-01-07\n",
       "4        08-01-2021    0.5         OK   0.50 2021-01-08\n",
       "..              ...    ...        ...    ...        ...\n",
       "965      27-08-2023    NaN         ND    NaN 2023-08-27\n",
       "966      28-08-2023  10.25         OK  10.25 2023-08-28\n",
       "967      29-08-2023  10.25         OK  10.25 2023-08-29\n",
       "968      30-08-2023  10.25         OK  10.25 2023-08-30\n",
       "969      31-08-2023  10.25         OK  10.25 2023-08-31\n",
       "\n",
       "[970 rows x 5 columns]"
      ]
     },
     "execution_count": 10,
     "metadata": {},
     "output_type": "execute_result"
    }
   ],
   "source": [
    "df['fecha'] = pd.to_datetime(df['indexDateString'], format=\"%d-%m-%Y\")\n",
    "df"
   ]
  },
  {
   "cell_type": "markdown",
   "metadata": {},
   "source": [
    "Ahora podemos usar la fecha como índice de la base:\n"
   ]
  },
  {
   "cell_type": "code",
   "execution_count": null,
   "metadata": {},
   "outputs": [
    {
     "data": {
      "text/html": [
       "<div>\n",
       "<style scoped>\n",
       "    .dataframe tbody tr th:only-of-type {\n",
       "        vertical-align: middle;\n",
       "    }\n",
       "\n",
       "    .dataframe tbody tr th {\n",
       "        vertical-align: top;\n",
       "    }\n",
       "\n",
       "    .dataframe thead th {\n",
       "        text-align: right;\n",
       "    }\n",
       "</style>\n",
       "<table border=\"1\" class=\"dataframe\">\n",
       "  <thead>\n",
       "    <tr style=\"text-align: right;\">\n",
       "      <th></th>\n",
       "      <th>indexDateString</th>\n",
       "      <th>value</th>\n",
       "      <th>statusCode</th>\n",
       "      <th>valor</th>\n",
       "    </tr>\n",
       "    <tr>\n",
       "      <th>fecha</th>\n",
       "      <th></th>\n",
       "      <th></th>\n",
       "      <th></th>\n",
       "      <th></th>\n",
       "    </tr>\n",
       "  </thead>\n",
       "  <tbody>\n",
       "    <tr>\n",
       "      <th>2021-01-04</th>\n",
       "      <td>04-01-2021</td>\n",
       "      <td>0.5</td>\n",
       "      <td>OK</td>\n",
       "      <td>0.50</td>\n",
       "    </tr>\n",
       "    <tr>\n",
       "      <th>2021-01-05</th>\n",
       "      <td>05-01-2021</td>\n",
       "      <td>0.5</td>\n",
       "      <td>OK</td>\n",
       "      <td>0.50</td>\n",
       "    </tr>\n",
       "    <tr>\n",
       "      <th>2021-01-06</th>\n",
       "      <td>06-01-2021</td>\n",
       "      <td>0.5</td>\n",
       "      <td>OK</td>\n",
       "      <td>0.50</td>\n",
       "    </tr>\n",
       "    <tr>\n",
       "      <th>2021-01-07</th>\n",
       "      <td>07-01-2021</td>\n",
       "      <td>0.5</td>\n",
       "      <td>OK</td>\n",
       "      <td>0.50</td>\n",
       "    </tr>\n",
       "    <tr>\n",
       "      <th>2021-01-08</th>\n",
       "      <td>08-01-2021</td>\n",
       "      <td>0.5</td>\n",
       "      <td>OK</td>\n",
       "      <td>0.50</td>\n",
       "    </tr>\n",
       "    <tr>\n",
       "      <th>...</th>\n",
       "      <td>...</td>\n",
       "      <td>...</td>\n",
       "      <td>...</td>\n",
       "      <td>...</td>\n",
       "    </tr>\n",
       "    <tr>\n",
       "      <th>2023-08-27</th>\n",
       "      <td>27-08-2023</td>\n",
       "      <td>NaN</td>\n",
       "      <td>ND</td>\n",
       "      <td>NaN</td>\n",
       "    </tr>\n",
       "    <tr>\n",
       "      <th>2023-08-28</th>\n",
       "      <td>28-08-2023</td>\n",
       "      <td>10.25</td>\n",
       "      <td>OK</td>\n",
       "      <td>10.25</td>\n",
       "    </tr>\n",
       "    <tr>\n",
       "      <th>2023-08-29</th>\n",
       "      <td>29-08-2023</td>\n",
       "      <td>10.25</td>\n",
       "      <td>OK</td>\n",
       "      <td>10.25</td>\n",
       "    </tr>\n",
       "    <tr>\n",
       "      <th>2023-08-30</th>\n",
       "      <td>30-08-2023</td>\n",
       "      <td>10.25</td>\n",
       "      <td>OK</td>\n",
       "      <td>10.25</td>\n",
       "    </tr>\n",
       "    <tr>\n",
       "      <th>2023-08-31</th>\n",
       "      <td>31-08-2023</td>\n",
       "      <td>10.25</td>\n",
       "      <td>OK</td>\n",
       "      <td>10.25</td>\n",
       "    </tr>\n",
       "  </tbody>\n",
       "</table>\n",
       "<p>970 rows × 4 columns</p>\n",
       "</div>"
      ],
      "text/plain": [
       "           indexDateString  value statusCode  valor\n",
       "fecha                                              \n",
       "2021-01-04      04-01-2021    0.5         OK   0.50\n",
       "2021-01-05      05-01-2021    0.5         OK   0.50\n",
       "2021-01-06      06-01-2021    0.5         OK   0.50\n",
       "2021-01-07      07-01-2021    0.5         OK   0.50\n",
       "2021-01-08      08-01-2021    0.5         OK   0.50\n",
       "...                    ...    ...        ...    ...\n",
       "2023-08-27      27-08-2023    NaN         ND    NaN\n",
       "2023-08-28      28-08-2023  10.25         OK  10.25\n",
       "2023-08-29      29-08-2023  10.25         OK  10.25\n",
       "2023-08-30      30-08-2023  10.25         OK  10.25\n",
       "2023-08-31      31-08-2023  10.25         OK  10.25\n",
       "\n",
       "[970 rows x 4 columns]"
      ]
     },
     "execution_count": 11,
     "metadata": {},
     "output_type": "execute_result"
    }
   ],
   "source": [
    "df = df.set_index('fecha')\n",
    "df"
   ]
  },
  {
   "cell_type": "markdown",
   "metadata": {},
   "source": [
    "Grafiquemos nuevamente"
   ]
  },
  {
   "cell_type": "code",
   "execution_count": null,
   "metadata": {},
   "outputs": [
    {
     "data": {
      "text/plain": [
       "<Axes: xlabel='fecha'>"
      ]
     },
     "execution_count": 12,
     "metadata": {},
     "output_type": "execute_result"
    },
    {
     "data": {
      "image/png": "[encoded data removed]",
      "text/plain": [
       "<Figure size 640x480 with 1 Axes>"
      ]
     },
     "metadata": {},
     "output_type": "display_data"
    }
   ],
   "source": [
    "df['valor'].plot()"
   ]
  },
  {
   "cell_type": "markdown",
   "metadata": {},
   "source": [
    "Y si quiero comparar con la tasa (promedio) que pagan los bancos por los depósitos?"
   ]
  },
  {
   "cell_type": "code",
   "execution_count": null,
   "metadata": {
    "colab": {},
    "colab_type": "code",
    "id": "7DWpd1xcyXp1"
   },
   "outputs": [
    {
     "data": {
      "text/html": [
       "<div>\n",
       "<style scoped>\n",
       "    .dataframe tbody tr th:only-of-type {\n",
       "        vertical-align: middle;\n",
       "    }\n",
       "\n",
       "    .dataframe tbody tr th {\n",
       "        vertical-align: top;\n",
       "    }\n",
       "\n",
       "    .dataframe thead th {\n",
       "        text-align: right;\n",
       "    }\n",
       "</style>\n",
       "<table border=\"1\" class=\"dataframe\">\n",
       "  <thead>\n",
       "    <tr style=\"text-align: right;\">\n",
       "      <th></th>\n",
       "      <th>indexDateString</th>\n",
       "      <th>value</th>\n",
       "      <th>statusCode</th>\n",
       "    </tr>\n",
       "  </thead>\n",
       "  <tbody>\n",
       "    <tr>\n",
       "      <th>0</th>\n",
       "      <td>04-01-2021</td>\n",
       "      <td>0.24</td>\n",
       "      <td>OK</td>\n",
       "    </tr>\n",
       "    <tr>\n",
       "      <th>1</th>\n",
       "      <td>05-01-2021</td>\n",
       "      <td>0.24</td>\n",
       "      <td>OK</td>\n",
       "    </tr>\n",
       "    <tr>\n",
       "      <th>2</th>\n",
       "      <td>06-01-2021</td>\n",
       "      <td>0.24</td>\n",
       "      <td>OK</td>\n",
       "    </tr>\n",
       "    <tr>\n",
       "      <th>3</th>\n",
       "      <td>07-01-2021</td>\n",
       "      <td>0.24</td>\n",
       "      <td>OK</td>\n",
       "    </tr>\n",
       "    <tr>\n",
       "      <th>4</th>\n",
       "      <td>08-01-2021</td>\n",
       "      <td>0.23</td>\n",
       "      <td>OK</td>\n",
       "    </tr>\n",
       "    <tr>\n",
       "      <th>...</th>\n",
       "      <td>...</td>\n",
       "      <td>...</td>\n",
       "      <td>...</td>\n",
       "    </tr>\n",
       "    <tr>\n",
       "      <th>965</th>\n",
       "      <td>27-08-2023</td>\n",
       "      <td>NaN</td>\n",
       "      <td>ND</td>\n",
       "    </tr>\n",
       "    <tr>\n",
       "      <th>966</th>\n",
       "      <td>28-08-2023</td>\n",
       "      <td>10</td>\n",
       "      <td>OK</td>\n",
       "    </tr>\n",
       "    <tr>\n",
       "      <th>967</th>\n",
       "      <td>29-08-2023</td>\n",
       "      <td>9.85</td>\n",
       "      <td>OK</td>\n",
       "    </tr>\n",
       "    <tr>\n",
       "      <th>968</th>\n",
       "      <td>30-08-2023</td>\n",
       "      <td>9.76</td>\n",
       "      <td>OK</td>\n",
       "    </tr>\n",
       "    <tr>\n",
       "      <th>969</th>\n",
       "      <td>31-08-2023</td>\n",
       "      <td>9.87</td>\n",
       "      <td>OK</td>\n",
       "    </tr>\n",
       "  </tbody>\n",
       "</table>\n",
       "<p>970 rows × 3 columns</p>\n",
       "</div>"
      ],
      "text/plain": [
       "    indexDateString value statusCode\n",
       "0        04-01-2021  0.24         OK\n",
       "1        05-01-2021  0.24         OK\n",
       "2        06-01-2021  0.24         OK\n",
       "3        07-01-2021  0.24         OK\n",
       "4        08-01-2021  0.23         OK\n",
       "..              ...   ...        ...\n",
       "965      27-08-2023   NaN         ND\n",
       "966      28-08-2023    10         OK\n",
       "967      29-08-2023  9.85         OK\n",
       "968      30-08-2023  9.76         OK\n",
       "969      31-08-2023  9.87         OK\n",
       "\n",
       "[970 rows x 3 columns]"
      ]
     },
     "execution_count": 18,
     "metadata": {},
     "output_type": "execute_result"
    }
   ],
   "source": [
    "serie = 'F022.TDB.TIS.D030.NO.Z.D'\n",
    "\n",
    "url = f\"https://si3.bcentral.cl/SieteRestWS/SieteRestWS.ashx?\" + \\\n",
    "    f\"user={user}&pass={pwd}&firstdate=2021-01-01&lastdate=2023-08-31&\" + \\\n",
    "    f\"timeseries={serie}&function=GetSeries\"\n",
    "\n",
    "response = requests.get(url)\n",
    "data = response.json()[\"Series\"][\"Obs\"]\n",
    "\n",
    "df2 = pd.DataFrame(data)\n",
    "df2"
   ]
  },
  {
   "cell_type": "markdown",
   "metadata": {},
   "source": [
    "Debemos aplicar las mismas operaciones que se aplicaron al otro database"
   ]
  },
  {
   "cell_type": "code",
   "execution_count": null,
   "metadata": {},
   "outputs": [],
   "source": [
    "df2['valor'] = df2['value'].astype(float)\n",
    "df2['fecha'] = pd.to_datetime(df2['indexDateString'], format=\"%d-%m-%Y\")\n",
    "df2 = df2.set_index('fecha') # df2.set_index('fecha', inplace=True)\n",
    "df2"
   ]
  },
  {
   "cell_type": "code",
   "execution_count": null,
   "metadata": {},
   "outputs": [],
   "source": [
    "df = df1.merge(df2, left_index=True, right_index=True) # left_index means left dataframe index and right_index means right dataframe index"
   ]
  },
  {
   "cell_type": "markdown",
   "metadata": {},
   "source": [
    "Tratar de juntar las dos bases de datos en una sola y averiguarar por que no se puede solo con\n",
    "\n",
    "```python\n",
    "df = df1.merge(df2)\n",
    "```"
   ]
  },
  {
   "cell_type": "markdown",
   "metadata": {},
   "source": []
  }
 ],
 "metadata": {
  "anaconda-cloud": {},
  "colab": {
   "collapsed_sections": [],
   "name": "Clase 2019-04-16.ipynb",
   "provenance": [],
   "version": "0.3.2"
  },
  "kernelspec": {
   "display_name": "Python 3 (ipykernel)",
   "language": "python",
   "name": "python3"
  },
  "language_info": {
   "codemirror_mode": {
    "name": "ipython",
    "version": 3
   },
   "file_extension": ".py",
   "mimetype": "text/x-python",
   "name": "python",
   "nbconvert_exporter": "python",
   "pygments_lexer": "ipython3",
   "version": "3.9.7"
  }
 },
 "nbformat": 4,
 "nbformat_minor": 1
}
