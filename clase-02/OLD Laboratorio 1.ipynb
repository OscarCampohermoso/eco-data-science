{
 "cells": [
  {
   "cell_type": "markdown",
   "metadata": {
    "id": "HLrM7XozzYF8"
   },
   "source": [
    "# Laboratorio 1. EAE253B\n",
    "<hr/>"
   ]
  },
  {
   "cell_type": "markdown",
   "metadata": {
    "id": "ba4FS68qcAMe"
   },
   "source": [
    "## **Repaso 1**: Números, strings, booleanos y operaciones."
   ]
  },
  {
   "cell_type": "markdown",
   "metadata": {
    "id": "cnggK_nWz6Jw"
   },
   "source": [
    "Los tipos de datos básicos que encontramos en Python son:\n",
    "\n",
    "- Números (int o float)\n",
    "- Booleanos (True o False)\n",
    "- Strings (Texto)\n",
    "- Nada (None)"
   ]
  },
  {
   "cell_type": "code",
   "execution_count": null,
   "metadata": {
    "id": "tcleOJoD0PBc"
   },
   "outputs": [],
   "source": [
    "# Números\n",
    "\n",
    "num1 = 5\n",
    "num2 = 8/2\n",
    "num3 = 0.5\n",
    "\n",
    "# Strings\n",
    "\n",
    "str1 = \"hola mundo\"\n",
    "str2 = \"paralelepipedo\"\n",
    "str3 = \"#YoTambienSufriConConta\"\n",
    "\n",
    "# Booleanos y None\n",
    "\n",
    "bool1 = True\n",
    "bool2 = False\n",
    "none = None"
   ]
  },
  {
   "cell_type": "markdown",
   "metadata": {
    "id": "Fv-BxzRr1AEE"
   },
   "source": [
    "En la casilla anterior definimos muchas variables, pero ahora lo importante es ver que podemos hacer con ellas. \n",
    "\n",
    "Imprimir:\n",
    "Lo primero y más simple es pedirle al computador que \"imprima\" (o muestre) el contenido de la variable con la función **print(variable o alguna expresión)** en la consola.\n",
    "\n",
    "Consultar el tipo de variable:\n",
    "Con la función **type(variable o alguna expresión)** nos dirá la clase del objeto con el cual estamos trabajando, lo que nos ayudará muchas veces a saber que cosas puedo hacer (o no hacer) con una variable determinada.\n",
    "\n",
    "Y muchas otras operaciones, que dependen de cada variable, por ejemplo las variables númericas pueden contener operadores matematicos, una cadena de texto la podemos separar con sus espacios en palabras (en caso de ser una oración) o simplemente preguntarle al computador cuantos caracteres tiene esta, pero esto lo veremos más adelante."
   ]
  },
  {
   "cell_type": "code",
   "execution_count": null,
   "metadata": {
    "id": "xnsf0gge1nTi"
   },
   "outputs": [],
   "source": [
    "# Print o \"Imprimir\"\n",
    "\n",
    "print(\"hola mundo\")\n",
    "print(num1)\n",
    "\n",
    "# Función \"type\"\n",
    "\n",
    "print(type(num1))\n",
    "print(type(bool1))\n",
    "print(type(none))"
   ]
  },
  {
   "cell_type": "markdown",
   "metadata": {
    "id": "PbbkLS1E2Ijm"
   },
   "source": [
    "#### Operadores matemáticos más comunes.\n",
    "\n",
    "La distribución estándar de python tiene las operaciones matemáticas mas comunes ya incorporadas. Por ejemplo,   \n",
    "\n",
    "\n",
    "*   Suma (y Resta): (*n* +(-) *m*)\n",
    "*   Multiplicación (y División) : (*n* * (/) *m*)\n",
    "*   Potencia: n**m (no usar el caracter \"^\", que es el más común ).\n",
    "*   División Parte Entera: n//m\n",
    "*   Resto de una división: n%m"
   ]
  },
  {
   "cell_type": "code",
   "execution_count": null,
   "metadata": {
    "id": "ExmF4Fea2cBU"
   },
   "outputs": [],
   "source": [
    "# Suma y Resta\n",
    "\n",
    "suma1 = num1 + num3\n",
    "print(\"El resultado de la suma es:\", suma1)\n",
    "\n",
    "resta1 = num1 - num2\n",
    "print(\"El resultado de la resta es:\", resta1)\n",
    "\n",
    "# Multiplicación y División\n",
    "\n",
    "mul1 = num1*num3\n",
    "print(\"El resultado de la multiplicación es:\", mul1)\n",
    "\n",
    "div1 = num1/num2\n",
    "print(\"El resultado de la división es:\", div1)\n",
    "\n",
    "# Potencia\n",
    "\n",
    "pot1 = num1**num3\n",
    "print(\"El resultado de la potencia es:\", pot1)\n",
    "\n",
    "# División parte entera\n",
    "\n",
    "ent1 = num1//num2\n",
    "print(\"El resultado de la división parte entera es:\", ent1)\n",
    "\n",
    "# Resto de una división\n",
    "\n",
    "resto1 = num1%num3\n",
    "print(\"El resultado del resto de la división es:\", resto1)"
   ]
  },
  {
   "cell_type": "markdown",
   "metadata": {
    "id": "5D4-kAzE3_jq"
   },
   "source": [
    "**EXTRA**:\n",
    "Otras operaciones/funciones debe ser importadas desde la librería \"math\".\n",
    "\n",
    "¿Qué es una librería? Python es un lenguaje de programación el cual tiene una cantidad enorme de funciones incorporadas, pero aún así ocurre que no todas las funciones vienen cargadas cada vez que uno abre la aplicación, porque si no sería muy pesado de abrir, para esto lo que se hace es que existen distintas librerías que son un conjunto de funciones hechas por gente de todo el mundo, en donde basta con cargarlas para obtenerlas.\n",
    "\n",
    "En este caso vamos a revisar la librería math que tiene muchas funciones asociadas a operadores matemáticos. Existen muchas otras librerías entre ellas librerías para hacer juegos, o para cargar mapas, para usar tiempo, entre otras.\n",
    "\n",
    "Ver https://docs.python.org/3/library/math.html para la lista completa de funciones disponibles"
   ]
  },
  {
   "cell_type": "code",
   "execution_count": null,
   "metadata": {
    "id": "btCtrj2Y3--v"
   },
   "outputs": [],
   "source": [
    "# Importamos las funciones desde la librería \"math\"\n",
    "\n",
    "from math import ceil, log, sqrt\n",
    "\n",
    "a = log(3) # Función logaritmo\n",
    "print(a)\n",
    "\n",
    "b = ceil(a) # Función del entero mayor\n",
    "print(b)\n",
    "\n",
    "c = sqrt(b) # Función raíz\n",
    "print(c)"
   ]
  },
  {
   "cell_type": "markdown",
   "metadata": {
    "id": "07lINYkq0GVD"
   },
   "source": [
    "## **TAREA 1 (1 punto)**"
   ]
  },
  {
   "cell_type": "markdown",
   "metadata": {
    "id": "ZM11r_2U5gd-"
   },
   "source": [
    "**TAREA 1.1** (0.5 puntos): Usted es un Ingeniero Comercial de una prestigiosa universidad que, dentro de otras tareas, una de sus funciones es calcular el retorno de inversión de la empresa al final de cada período, de manera que pueda presentárselo a los inversores. Después de algunas semanas de trabajo, pensó en automatizar dicha información, las cuales siempre son del estilo: **\"Los activos (en pesos chilenos) que presenta la empresa son X, y las utilidades netas son de Y. Dada esta información, el retorno de inversión (ROI) es Z, lo que me indica que la empresa sí/no es rentable en este momento\"**. Escriba un string que le permita modificar los valores X, Y y Z para adaptarse a lo que está ocurriendo en la empresa día a día. Imprima ese valor. \n",
    "- *Hint: El ROI se calcula como Utilidades netas/Activos, y se considera que la empresa es rentable si el ROI es mayor o igual a 5.*"
   ]
  },
  {
   "cell_type": "code",
   "execution_count": null,
   "metadata": {
    "id": "PSvZSDOVfBt9"
   },
   "outputs": [],
   "source": [
    "## Tarea 1.1 "
   ]
  },
  {
   "cell_type": "markdown",
   "metadata": {
    "id": "4pnd6NO-WYCD"
   },
   "source": [
    "**TAREA 1.2** (0.5 puntos): Usted es un estudiante de Ingenieria Comercial dando el curso de \"Economía y Ciencia de Datos\" por primera vez. Usted sabe que las evaluaciones del curso están compuestas por 5 laboratorios y un exámen, y saben cuánto ponderan cada evaluación en el promedio final del curso.\n",
    "Su tarea será escribir un código que le permita calcular su promedio final del curso, utilizando las ponderaciones reales de cada evaluación en su cálculo (las notas que utilice para su desarrollo tienen que ser completamente inventadas).\n",
    "- *Hint: Ver el programa del curso para más información respecto a las evaluaciones.*"
   ]
  },
  {
   "cell_type": "code",
   "execution_count": null,
   "metadata": {
    "id": "PiVjDyHWfLCQ"
   },
   "outputs": [],
   "source": [
    "## Tarea 1.2"
   ]
  },
  {
   "cell_type": "markdown",
   "metadata": {
    "id": "YLyF1A53cN_1"
   },
   "source": [
    "## **Repaso 2**: Condicionales, input"
   ]
  },
  {
   "cell_type": "markdown",
   "metadata": {
    "id": "EobGjtnwh_IK"
   },
   "source": [
    "Para repasar la materia del laboratorio anterior, usaremos la función *input*().\n",
    "\n",
    "¿De qué sirve está función? nos permite hacer que cualquier usuario que interactue con nuestro software pueda ingresar ciertos valores y en base a eso ejecutar alguna acción. \n",
    "\n",
    "¿Cómo funciona la función *input()*? Al ejecutar el código, Python le va a pedir al usuario que ingrese un valor (e.g. como las respuestas cortas de Google Forms) y ahí el computador reconocerá cualquier cosa que se ingrese como un *string*. \n",
    "\n",
    "Esta función toma como parámetro opcional un *string*, que permite entregar al usuario un texto de ayuda al momento de pedir el input (i.e. así, el *input* es más \"intuitivo\")"
   ]
  },
  {
   "cell_type": "markdown",
   "metadata": {
    "id": "gTbNjl18iDqE"
   },
   "source": [
    "#### Ejemplo:\n",
    "\n",
    "Vamos a hacer un programa que pida al usuario un número determinado. Luego, el programa responderá si dicho número es par o impar."
   ]
  },
  {
   "cell_type": "code",
   "execution_count": null,
   "metadata": {
    "id": "lN4AczLZiJOV"
   },
   "outputs": [],
   "source": [
    "numero = input(\"Ingresa tu número:\\n\")    # aqui, la variable \"numero\" es un string\n",
    "\n",
    "numero = int(numero)                      # aqui, cambiamos el tipo de la variable a \"int\"\n",
    "\n",
    "if numero % 2 == 0:\n",
    "    print(\"El número \"+str(numero)+\" es par\")\n",
    "else:\n",
    "    print (\"El número \"+str(numero)+\" es impar\")"
   ]
  },
  {
   "cell_type": "markdown",
   "metadata": {
    "id": "6G9L9fhIekFt"
   },
   "source": [
    "## **TAREA 2 (1 punto)**"
   ]
  },
  {
   "cell_type": "markdown",
   "metadata": {
    "id": "GyhKmEpeXZpx"
   },
   "source": [
    "**TAREA 2.1** (1 punto): Recientemente te graduaste de la universidad y cuentas con un gran trabajo. Ahora, tu próximo plan es comprar una casa, sin embargo, dado que el precio de la propiedad de tus sueños es muy alto, te das cuenta que vas a tener que ahorrar por muchos años antes de que puedas pagar el pie de la casa. En este ejercicio, vamos a calcular cuántos meses te tomará ahorrar suficiente dinero para pagar el pie de la casa, dados los siguientes supuestos:\n",
    "\n",
    "1. Sea el costo total de la casa de tus sueños ```costo_total```,\n",
    "2. Sea la porción del costo para el pago del pie ```porcion_pago_pie```. Por simplicidad, asume que ```porcion_pago_pie = 0.25```,\n",
    "3. Sea el monto de ahorro acumulado para tu propiedad ```ahorro_acumulado```. Asume que empiezas con ```ahorro_acumulado = 0```,\n",
    "4. Asume que inviertes tu ahorro acumulado con un retorno anual de ```r``` (en otras palabras, al fin de cada mes, tu cuenta de ahorro pasa a ser ```ahorro_acumulado * (1 + r)^(1/12)```). Asume que tus inversiones rentan ```r = 0.04``` anual (4%),\n",
    "5. Sea tu salario mensual ```salario_mensual```,\n",
    "6. Asume que vas a dedicar cierto monto de tu salario cada mes para ahorrar para el pie. Llama esta porción como ```porcion_ahorrada```. Esta variable debería estar en forma decimal (por ejemplo 0.1 para 10%),\n",
    "7. Al final de cada mes, tus ahorros serán incrementados por el retorno de tu inversión, más un porcentaje de tu salario mensual.\n",
    "\n",
    "Escribe un programa que calcule cuántos meses te tomará ahorrar lo suficiente para pagar el pie de la casa de tus sueños. Para ello, usa la función ```input()``` para solicitar al usuario las siguientes variables:\n",
    "- El salario mensual (```salario_mensual```),\n",
    "- La porción del salario a ser ahorrada (```porcion_ahorrada```),\n",
    "- El costo de tu casa de los sueños (```costo_total```)\n",
    "\n",
    "*Hint: Se recomienda transformar todas las variables a tipo ```float``` para que puedan ser tratadas correctamente en tu programa. Se espera también que tu programa pueda imprimir el número de meses que tomará ahorrar lo suficiente para pagar el pie (i.e. \"Te tomará X meses ahorrar lo suficiente para pagar el pie de tu casa\").*"
   ]
  },
  {
   "cell_type": "code",
   "execution_count": null,
   "metadata": {
    "id": "bAUjdcl8egqS"
   },
   "outputs": [],
   "source": [
    "## Escribe aquí tu programa\n",
    "\n"
   ]
  },
  {
   "cell_type": "markdown",
   "metadata": {
    "id": "jdoFud6wc_Jo"
   },
   "source": [
    "## **Repaso 3**: Sentencias de control: For y While Loops"
   ]
  },
  {
   "cell_type": "markdown",
   "metadata": {
    "id": "u86tpTN7U7RF"
   },
   "source": [
    "*Loop* es un término común usado en la programación para decir ciclo o iteración. Un loop permite realizar repetidas acciones hasta que cierta condición especificada por el programador se cumpla. En esta sección veremos dos tipos de loops, los cuales se generan por las sentencias de control ```for```, y ```while```.\n",
    "\n",
    "La sentencia de control *for* es una instrucción que nos permite repetir un conjunto de otras instrucciones (a cada repetición se le llama \"iteración\"). La estructura del loop es la siguiente:\n",
    "\n",
    "```\n",
    "for elemento in iterable:\n",
    "       acciones a realizar con \"variable\"\n",
    "```\n",
    "\n",
    "*Iterable* puede ser cualquier objeto que permita recorrer su estructura de forma iterativa, por ejemplo, una lista, un rango de valores, una secuencia de caracteres, las llaves de un diccionario, etc.\n"
   ]
  },
  {
   "cell_type": "code",
   "execution_count": null,
   "metadata": {
    "id": "h9hb9Vd_Wu_v"
   },
   "outputs": [],
   "source": [
    "#Ejemplo 0: Loop simple\n",
    "for i in [1, 2, 3]:\n",
    "    print(i)"
   ]
  },
  {
   "cell_type": "code",
   "execution_count": null,
   "metadata": {
    "id": "rvpxcZycWzhY"
   },
   "outputs": [],
   "source": [
    "#Ejemplo 1: Calculo del cuadrado de una secuencia de números\n",
    "\n",
    "rango_numeros = range(5,10)\n",
    "\n",
    "for numero in rango_numeros:\n",
    "    cuadrado = numero ** 2\n",
    "    print(\"El cuadrado de {} es {}\".format(numero, cuadrado))"
   ]
  },
  {
   "cell_type": "code",
   "execution_count": null,
   "metadata": {
    "id": "nkBitFNLXC78"
   },
   "outputs": [],
   "source": [
    "# Ejemplo 2: Si usamos un for loop sobre una palabra (string), Python iterará\n",
    "# sobre los caracteres de la palabra (como se fuera una lista de caracteres)\n",
    "\n",
    "palabra = input(\"Escriba una palabra: \")\n",
    "\n",
    "for letra in palabra:\n",
    "    print(f\"Dame una {letra}\")\n",
    "    print(f\" ---> {letra}!\")\n",
    "\n",
    "print('¿Qué dice?')\n",
    "print(f\"¡{palabra}!\")"
   ]
  },
  {
   "cell_type": "markdown",
   "metadata": {
    "id": "F62koD0tXHVh"
   },
   "source": [
    "### For loops y sentencia \"if\""
   ]
  },
  {
   "cell_type": "code",
   "execution_count": null,
   "metadata": {
    "id": "Gu1O9kmDXNrR"
   },
   "outputs": [],
   "source": [
    "##El for puede recorrer una secuencia de números o una lista, \n",
    "## ahora implementaremos un contador para que no se impriman todos los numeros miren:\n",
    "contador = 0\n",
    "for numero in range(10):\n",
    "    contador += 1\n",
    "    if contador <= 5: #Solo imprimimos entonces los 5 primeros elementos de la lista.\n",
    "        print(numero)"
   ]
  },
  {
   "cell_type": "markdown",
   "metadata": {
    "id": "Sc6vtV2vXTlO"
   },
   "source": [
    "### Ejercicios de práctica\n",
    "\n",
    "a) Cree un programa que al ingresar una oración pueda separar las palabras en elementos de una lista. Para ello, use el método \"split\" disponible en los objetos \"string\". (ver https://www.w3schools.com/python/ref_string_split.asp). **Output esperado:** Imprimir una lista con cada palabra en una celda.\n",
    "\n",
    "b) Luego de obtenida la lista de palabras,  pasar la lista a un string mediante el método *join()* disponible en los objetos \"string\" (ver https://www.w3schools.com/python/ref_string_join.asp). **Output esperado:** Imprimir la oración, pero en vez de espacios, cada palabra estará separada por el símbolo \"&\"."
   ]
  },
  {
   "cell_type": "markdown",
   "metadata": {
    "id": "c8BUsMp9XjTb"
   },
   "source": [
    "La sentencia *while* nos permite ejecutar código repetidamente mientras la condición establecida se cumpla (sea \"True\"). La sintaxis de este tipo de sentencia es:\n",
    "\n",
    "\n",
    "```\n",
    "while condition :\n",
    "    expression\n",
    "    change in condition\n",
    "```\n",
    "\n",
    "Cabe destacar que si la condición no cambia en alguna iteración, entonces el código nunca dejará de correr.\n"
   ]
  },
  {
   "cell_type": "markdown",
   "metadata": {
    "id": "FHJW3HuuYPDB"
   },
   "source": [
    "Ejemplo. Suponga que la función de utilidad de un individuo está dada por $U(x) = \\frac{x^{1-\\rho}}{1-\\rho} + \\log(x)$, con $\\rho = 0.3$. Determine la cantidad de $x$ que deja a este individuo con 100 (o menos) \"*utiles*\". Pruebe sólo con valores enteros (y positivos) para $x$.\n",
    "\n",
    "\n"
   ]
  },
  {
   "cell_type": "code",
   "execution_count": null,
   "metadata": {
    "id": "nloLq9NkYZiU"
   },
   "outputs": [],
   "source": [
    "import math\n",
    "\n",
    "p = 0.3\n",
    "x = 1\n",
    "utility = (x ** (1 - p))/(1 - p) + math.log(x)\n",
    "while utility <= 100:\n",
    "    x += 1\n",
    "    utility = (x ** (1 - p))/(1 - p) + math.log(x)\n",
    "    \n",
    "print(f\"Cualquier valor entre el intervalo ]0, {x-1}] dejará al individuo con 100 utiles o menos\")"
   ]
  },
  {
   "cell_type": "markdown",
   "metadata": {
    "id": "qmT2dZl9ZP_h"
   },
   "source": [
    "## **TAREA 3 (1.5 puntos)**"
   ]
  },
  {
   "cell_type": "markdown",
   "metadata": {
    "id": "zwit2j4mZU_h"
   },
   "source": [
    "**TAREA 3.1** (0.5 puntos): Sea una secuencia $(0, 1, 2, ..., n) \\subset \\mathbb{N}_0$ (esta secuencia puede ser creada en python usando la función ```range(n+1)```). Cree un programa tal que le permita al usuario ingresar el valor de $n$, y que imprima todos los números de la secuencia $(0, 1, 2, ..., n)$ que sean impares y múltiplos de 3.\n",
    "\n",
    "- *Hint: Si bien es posible hacer este programa usando la sentencia while, no es para nada eficiente. Se recomienda el uso de la sentencia for. Recuerda, los for son útiles cuando se posee un objeto iterable sobre el cual iterar, como en este caso.*"
   ]
  },
  {
   "cell_type": "code",
   "execution_count": null,
   "metadata": {
    "id": "FqxrPu8yat_7"
   },
   "outputs": [],
   "source": [
    "## Escribe aquí el código"
   ]
  },
  {
   "cell_type": "markdown",
   "metadata": {
    "id": "-iS3j13Md4nV"
   },
   "source": [
    "**TAREA 3.2** (1 punto): Una de sus vecinas tiene pensado llenar un barril (suponga que tiene forma de cilindro) con agua. El barril tiene las siguientes dimensiones: $5m$ de altura, y $3m$ de diámetro. La manguera y las instalaciones de riego del hogar que dispone su vecina le dan a ella una velocidad de llenado de $5m^3/hora$.\n",
    "\n",
    "Se pide que desarrolle un programa que le indique cuántas horas necesita su vecina para llenar el barril, usando la sentencia *while*. Para simplificar el problema y así pueda enfocarse en el uso del *while*, si su vecina necesitara exactamente 10.1 horas, entonces será considerado correcto que su programa le indique tanto 10 horas, como 11 horas."
   ]
  },
  {
   "cell_type": "code",
   "execution_count": null,
   "metadata": {
    "id": "XI2IPIvqidAk"
   },
   "outputs": [],
   "source": [
    "## Escribe aquí el código"
   ]
  },
  {
   "cell_type": "markdown",
   "metadata": {
    "id": "1lsoZ8Tmcdet"
   },
   "source": [
    "## **Repaso 4**: Estructura de datos: Listas y diccionarios "
   ]
  },
  {
   "cell_type": "markdown",
   "metadata": {
    "id": "GfujQKSdJWOh"
   },
   "source": [
    "**Listas**: Como vimos (o vamos a ver) en clases, las listas son objetos que nos permiten guardar series o secuencias de elementos, para ser consultados posteriormente de acuerdo a su índice (posición en la lista). En Python, las secuencias parten por defecto en el índice \"0\" (la lógica detrás de esto es que el primer elemento se encuentra a \"0\" posiciones desde la posición inicial.)\n"
   ]
  },
  {
   "cell_type": "code",
   "execution_count": null,
   "metadata": {
    "id": "hGYBqR45KBkZ"
   },
   "outputs": [],
   "source": [
    "# Creacion de listas\n",
    "\n",
    "lista1 = [1, 2, 3, 4, 5, 6]\n",
    "lista2 = ['a', 'b', 'c']\n",
    "\n",
    "print(lista1)\n",
    "print(lista2)"
   ]
  },
  {
   "cell_type": "code",
   "execution_count": null,
   "metadata": {
    "id": "qdDUSiJTKCMj"
   },
   "outputs": [],
   "source": [
    "# Podemos acceder a elementos puntuales de las listas, usando su posición\n",
    "\n",
    "print(lista1[0])\n",
    "print(lista1[2])"
   ]
  },
  {
   "cell_type": "code",
   "execution_count": null,
   "metadata": {
    "id": "qVz67-V3KEY3"
   },
   "outputs": [],
   "source": [
    "# También podemos cambiar elementos puntuales de las listas\n",
    "\n",
    "lista1[1] = 'b'\n",
    "print(lista1)\n",
    "\n",
    "#lo que hacemos acá es acceder a la memoria del computador y modificar la primera posicion de la lista \"lista1\""
   ]
  },
  {
   "cell_type": "code",
   "execution_count": null,
   "metadata": {
    "id": "rgO4OhraKI97"
   },
   "outputs": [],
   "source": [
    "# Además de acceder a elementos puntuales, podemos acceder a \"secciones\" o \"rebanadas\" de nuestras listas:\n",
    "\n",
    "primeros3 = lista1[0:3]\n",
    "print(lista1)\n",
    "\n",
    "lista1[0] = 8\n",
    "\n",
    "print(primeros3)\n",
    "print(lista1)"
   ]
  },
  {
   "cell_type": "code",
   "execution_count": null,
   "metadata": {
    "id": "oQXyQat-KJtk"
   },
   "outputs": [],
   "source": [
    "# Una lista puede estar formada por otras listas (en realidad, una lista\n",
    "# puede contener cualquier objeto; esto será muy útil más adelante)\n",
    "\n",
    "notas = [ [\"Microeconomía I\", 45.40, \"Conta II\", 39.49, \"Macro II\", 50.0, \"Economía y Ciencia de los datos\", 70, \"Ética\", 60.5],\n",
    "          [\"Micro II\", 50, \"Conta II\", 45, \"Macro Internacional\", 45, \"OFG\", 68, \"OPR\", 60],\n",
    "          [\"Competencia\", 46, \"Cyt\",  50, \"Mercados\",50,\"OFG\",60,\"OPR\",65],\n",
    "          [\"Teoría Micro\", 46, \"Teoría Macro\",  52, \"Eco Mate\",48,\"Análisis Real\",39.5]\n",
    "        ]\n",
    "print(notas[0])\n",
    "print(notas[3][-1])\n",
    "print(notas[2][4:])"
   ]
  },
  {
   "cell_type": "markdown",
   "metadata": {
    "id": "5773xzfrKZja"
   },
   "source": [
    "**EJERCICIO DE PRÁCTICA**. Pruebe los siguientes métodos de las listas (mayor descripción acá: https://www.programiz.com/python-programming/methods/list)\n",
    "\n",
    "- list.append()\n",
    "- list.pop()\n",
    "- list.sort()\n",
    "- list.index()\n",
    "\n"
   ]
  },
  {
   "cell_type": "code",
   "execution_count": null,
   "metadata": {
    "id": "jR9xPjrTKdLB"
   },
   "outputs": [],
   "source": [
    "# Ingresar códigos aquí"
   ]
  },
  {
   "cell_type": "markdown",
   "metadata": {
    "id": "W3MgOL-1KqPx"
   },
   "source": [
    "Además de los métodos ya incorporados en el objeto \"lista\", existen funciones generales de Python que se pueden ocupar sobre listas (y otros objetos...). Por ejemplo:\n",
    "\n",
    "1. Para ordenar: ***sorted(lista)***, que lo que hace es retornar la lista en orden ascendente. (ejemplos de uso avanzado de función *sorted* acá: https://jarroba.com/ordenar-listas-python-ejemplos/). Ojo que no cambia el orden de la lista original, si no que retorna una lista ordenada.\n",
    "\n",
    "2. Para sumar: ***sum(lista)*** (en el caso en que la lista sea númerica).\n",
    "\n",
    "3. Para saber el número de elementos: ***len(lista)***"
   ]
  },
  {
   "cell_type": "code",
   "execution_count": null,
   "metadata": {
    "id": "wNc5HoUBKtu9"
   },
   "outputs": [],
   "source": [
    "##Ejemplo:\n",
    "peso = [80, 62, 101, 58, 67, 74, 55, 48, 92]\n",
    "\n",
    "peso_ordenado = sorted(peso)\n",
    "\n",
    "print(peso) ##Noten que sigue desordenada.\n",
    "print(peso_ordenado)\n",
    "\n",
    "print(sum(peso))\n",
    "print(sum(peso)/len(peso)) ##Promedio de pesos"
   ]
  },
  {
   "cell_type": "code",
   "execution_count": null,
   "metadata": {
    "id": "3b_DuLsMKwps"
   },
   "outputs": [],
   "source": [
    "mipeso=int(input())\n",
    "peso.append(mipeso)\n",
    "peso_ordenado = sorted(peso)\n",
    "print(peso_ordenado)\n",
    "\n",
    "print(peso_ordenado.index(mipeso))\n",
    "\n",
    "#Si lo hacemos más sofisticado, hagamos un ranking:\n",
    "print(\"Soy el \"+str(len(peso_ordenado)-peso_ordenado.index(mipeso))+\"° más pesado.\")"
   ]
  },
  {
   "cell_type": "markdown",
   "metadata": {
    "id": "-ls20OokKrf6"
   },
   "source": [
    "**Diccionarios**:\n",
    "\n",
    "<font size='1'>Basado en material de Karim Pichara y Christian Pieringer. Todos los derechos reservados. \n",
    "  \n",
    "  Y obtenidos del sitio: \n",
    "  https://github.com/IIC2115/Syllabus/blob/master/Material%20de%20clases/Cap%C3%ADtulo%202/04%20-%20Diccionarios.ipynb</font>\n",
    "\n",
    "\n",
    "Los diccionarios corresponden a estructuras de datos orientadas a la asociación de pares de elementos mediante una relación: __llave-valor__. Esta relación permite que la búsqueda de los elementos se realice de forma eficiente mediante el uso de la llave, quien indica la posición de memoria donde está contenido su valor asociado.\n",
    "\n",
    "![](figs/hash-table.png)\n",
    "\n",
    "En Python los diccionarios se escriben con `{}`. Se debe especificar la llave y el valor, asociadas mediante `:`. Las llaves en los diccionarios pueden ser cualquier tipo de variable __inmutable__: `int`, `str`, `tuple`, etc. Su creación se realiza como sigue:"
   ]
  },
  {
   "cell_type": "code",
   "execution_count": null,
   "metadata": {
    "id": "1ZuUYlPULlYe"
   },
   "outputs": [],
   "source": [
    "perros = {'bc': 'border-collie', 'lr': 'labrador retriever', 'pg': 'pug'}\n",
    "telefonos = {23545344: 'Juanito', 23545340: 'Sole', 23545342: 'Ignacio'}\n",
    "tuplas = {('23545344', 0): 'oficina', ('2353445340', 1): 'secretaria'}\n",
    "\n",
    "print(perros)\n",
    "print(tuplas)"
   ]
  },
  {
   "cell_type": "markdown",
   "metadata": {
    "id": "HfEVNgtgLn3b"
   },
   "source": [
    "La referenciación mediante llaves es incluso más flexible. Las llaves dentro de un diccionario pueden ser de distinto tipo. Nota en el ejemplo que el ordenamiento no está relacionado al orden de ingreso de los valores."
   ]
  },
  {
   "cell_type": "code",
   "execution_count": null,
   "metadata": {
    "id": "0VMqG1_0LmBC"
   },
   "outputs": [],
   "source": [
    "varios = {1:'primera llave', '2': 'segunda llave', 23.0: 'tercera llave', (23,5): 'cuarta llave'}\n",
    "print(varios)"
   ]
  },
  {
   "cell_type": "markdown",
   "metadata": {
    "id": "trRgyo7wLqc8"
   },
   "source": [
    "Los contenidos del diccionario **no** están ordenados según ingreso como ocurre en las tuplas y listas. Para acceder a cada valor asociado a cada llave utilizamos la llave como `nombre_diccionario[nombre_llave]`. A continuación algunos ejemplos:"
   ]
  },
  {
   "cell_type": "code",
   "execution_count": null,
   "metadata": {
    "id": "83Sr579MLtlz"
   },
   "outputs": [],
   "source": [
    "print(perros['bc'])\n",
    "print(telefonos[23545344])\n",
    "print(tuplas[('23545344', 0)])"
   ]
  },
  {
   "cell_type": "markdown",
   "metadata": {
    "id": "fRoQfdFvLyLi"
   },
   "source": [
    "Los diccionarios son estructuras de datos **mutables**, es decir, su contenido puede cambiar a lo largo del programa. Si se asigna un valor a una llave, existen dos comportamientos posibles: si la llave no existe, esta se crea y se le asigna un valor; si la llave ya existe, se actualiza con el nuevo valor."
   ]
  },
  {
   "cell_type": "code",
   "execution_count": null,
   "metadata": {
    "id": "vPHBcBedL0Nf"
   },
   "outputs": [],
   "source": [
    "perros['te'] = 'terrier'\n",
    "print(perros)\n",
    "\n",
    "perros['pg'] = 'pug-pug'\n",
    "print(perros)"
   ]
  },
  {
   "cell_type": "markdown",
   "metadata": {
    "id": "LzaCjs8kL2ZF"
   },
   "source": [
    "Se puede eliminar items desde el diccionario utilizando la sentencia **del** como: ```del diccionario[<llave>]```."
   ]
  },
  {
   "cell_type": "code",
   "execution_count": null,
   "metadata": {
    "id": "dErB2bRrL5Ds"
   },
   "outputs": [],
   "source": [
    "del perros['te']\n",
    "print(perros)"
   ]
  },
  {
   "cell_type": "markdown",
   "metadata": {
    "id": "E6mXgrhWL8-O"
   },
   "source": [
    "Para comprobar la existencia de una llave en el diccionario se puede utilizar la sentencia `in`. El comportamiento por defecto al utilizar sentencias sobre el diccionario es operar sobre los valores de las llaves. En el caso de in devuelve True si la llave requerida existe dentro de las llaves en el diccionario"
   ]
  },
  {
   "cell_type": "code",
   "execution_count": null,
   "metadata": {
    "id": "3MeM7oMbL_qX"
   },
   "outputs": [],
   "source": [
    "print('pg' in perros)\n",
    "print('te' in perros)"
   ]
  },
  {
   "cell_type": "markdown",
   "metadata": {
    "id": "9ysPMta6MB8u"
   },
   "source": [
    "Otra forma consiste en utilizar el método get que posee la clase diccionario. Este método require dos parámetros: la llave buscada y un valor en caso que la llave no exista."
   ]
  },
  {
   "cell_type": "code",
   "execution_count": null,
   "metadata": {
    "id": "GjjtlrKhMC2D"
   },
   "outputs": [],
   "source": [
    "print(perros.get('pg', False))\n",
    "print(perros.get('te', False))\n",
    "print(perros.get('te', 'No existe el perro'))"
   ]
  },
  {
   "cell_type": "markdown",
   "metadata": {
    "id": "mXxJjxavMEre"
   },
   "source": [
    "Una aplicación típica de esto es el llenado de diccionarios vacíos, como por ejemplo contando letras, debido a que en principio es difícil saber que letras aparecerán y cuántas."
   ]
  },
  {
   "cell_type": "code",
   "execution_count": null,
   "metadata": {
    "id": "zjmYKnnDMGnd"
   },
   "outputs": [],
   "source": [
    "msg = 'supercalifragilisticoespialidoso'\n",
    "vocales = dict() # Crea un diccionario vacío para contabilizar las letras\n",
    "\n",
    "for v in msg:\n",
    "    if v not in 'aeiou': # Revisa si v es una vocal\n",
    "        continue\n",
    "        \n",
    "    if v not in vocales: # Revisa si v existe en el diccionario, si no la crea en 0\n",
    "        vocales[v] = 0\n",
    "\n",
    "    vocales[v] += 1 # si ya existe, agrega una cuenta mas\n",
    "\n",
    "print(vocales)"
   ]
  },
  {
   "cell_type": "markdown",
   "metadata": {
    "id": "kMu9crhqMK-6"
   },
   "source": [
    "Tres métodos útiles que existen en los diccionarios son: ```keys()```, ```values()```, y ```items()```. Estos permiten obtener elementos del diccionario a distintos niveles. El resultado de cada uno de estos métodos es una lista con los elementos solicitados."
   ]
  },
  {
   "cell_type": "code",
   "execution_count": null,
   "metadata": {
    "id": "sInsA3JpMLoD"
   },
   "outputs": [],
   "source": [
    "monedas = {'chile':'peso', 'brasil':'real', 'peru':'sol','españa':'euro','italia':'euro'}\n",
    "\n",
    "print(monedas.keys()) # una lista con todas las llaves\n",
    "print(monedas.values()) # una lista con todos los valores\n",
    "print(monedas.items()) # una lista con tuplas de pares llave-valor"
   ]
  },
  {
   "cell_type": "markdown",
   "metadata": {
    "id": "6v2zdrvLMTTG"
   },
   "source": [
    "Estos métodos son prácticos y útiles durante la iteración sobre diccionarios."
   ]
  },
  {
   "cell_type": "code",
   "execution_count": null,
   "metadata": {
    "id": "QcBs57NWMT-8"
   },
   "outputs": [],
   "source": [
    "print('Las llaves en el diccionario son las siguientes:')\n",
    "\n",
    "for m in monedas.keys():\n",
    "    print('{0}'.format(m))\n",
    "\n",
    "print()\n",
    "for m in monedas: # por defecto recorremos las llaves\n",
    "    print('{0}'.format(m))"
   ]
  },
  {
   "cell_type": "code",
   "execution_count": null,
   "metadata": {
    "id": "zzujM7ThMVgN"
   },
   "outputs": [],
   "source": [
    "print('Los valores en el diccionario:')\n",
    "for v in monedas.values():\n",
    "    print('{0}'.format(v))"
   ]
  },
  {
   "cell_type": "code",
   "execution_count": null,
   "metadata": {
    "id": "nOoKHlpRMXv0"
   },
   "outputs": [],
   "source": [
    "print('Los pares en el diccionario:')\n",
    "for k, v in monedas.items():\n",
    "    print('la moneda de {0} es {1}'.format(k,v))"
   ]
  },
  {
   "cell_type": "markdown",
   "metadata": {
    "id": "bylgOTh3i6jU"
   },
   "source": [
    "## **Repaso extra**: Introducción a las librerías *numpy* y *pandas*"
   ]
  },
  {
   "cell_type": "markdown",
   "metadata": {
    "id": "XVC_iRqnjMqx"
   },
   "source": [
    "Si bien las listas y diccionarios son objetos útiles para ciertas tareas, hay otros objetos similares que resultan ser más eficientes (en tiempo y en funcionalidad) a la hora de trabajar y manipular datos. Por ejemplo, usando la librería ```pandas``` podemos importar archivos del tipo ```.csv``` ó ```.xlsx```.\n",
    "\n",
    "A continuación se presenta un código que importa una tabla de extensión ```.csv``` que se halla en la web, que corresponde a la inflación anualizada de Chile, en frecuencia mensual:"
   ]
  },
  {
   "cell_type": "code",
   "execution_count": null,
   "metadata": {
    "id": "0-jEFeESlzV4"
   },
   "outputs": [],
   "source": [
    "import pandas as pd\n",
    "\n",
    "inflacion = pd.read_csv(\n",
    "    'https://raw.githubusercontent.com/AAVP/nn_chile_inflation/main/univariate_models/data/chile_inflation.csv',\n",
    "    sep=';'\n",
    "  )\n",
    "inflacion.tail(10)"
   ]
  },
  {
   "cell_type": "markdown",
   "metadata": {
    "id": "1EpWaXq1nSHv"
   },
   "source": [
    "Veamos el tipo de objeto que es la variable ```inflacion```:"
   ]
  },
  {
   "cell_type": "code",
   "execution_count": null,
   "metadata": {
    "id": "SgIw2S6fnRkX"
   },
   "outputs": [],
   "source": [
    "## inflacion es del tipo DataFrame\n",
    "type(inflacion)"
   ]
  },
  {
   "cell_type": "markdown",
   "metadata": {
    "id": "0z8X6LLingLX"
   },
   "source": [
    "Una vez importados los datos podemos manipularlos, transformarlos, y modificar la tabla:"
   ]
  },
  {
   "cell_type": "code",
   "execution_count": null,
   "metadata": {
    "id": "HLog14bDokTE"
   },
   "outputs": [],
   "source": [
    "## Ejemplo 1: podemos eliminar observaciones\n",
    "inflacion = inflacion[ inflacion['date'] >= '2000m1'].copy()\n",
    "\n",
    "## Ejemplo 2: podemos obtener el promedio de la inflación\n",
    "promedio_inflacion = inflacion['inflation'].mean()\n",
    "\n",
    "## Ejemplo 3: podemos agregar una nueva columna (promedio de inflación)\n",
    "inflacion['promedio_inflacion'] = promedio_inflacion\n",
    "\n",
    "## Ejemplo 4: transformar variable date a formato fecha\n",
    "inflacion['date'] = pd.to_datetime( inflacion.date, format='%Ym%m')\n",
    "inflacion.tail()"
   ]
  },
  {
   "cell_type": "markdown",
   "metadata": {
    "id": "ynfKcIiW6R2v"
   },
   "source": [
    "Ahora, si quisiéramos imprimir los datos, podemos hacerlo a través de la librería ```matplotlib```!"
   ]
  },
  {
   "cell_type": "code",
   "execution_count": null,
   "metadata": {
    "id": "DvXedMY9qOWg"
   },
   "outputs": [],
   "source": [
    "import matplotlib.pyplot as plt\n",
    "\n",
    "#inflation = np.array(inflation)\n",
    "#infl_period = np.array(infl_period)\n",
    "plt.figure(figsize=(10, 6))\n",
    "plt.plot(inflacion['date'], inflacion['inflation'], label='Inflación')\n",
    "plt.plot(inflacion['date'], inflacion['promedio_inflacion'], label='Inflación promedio')\n",
    "plt.ylabel('Inflación (%)')\n",
    "plt.title('Evolución de la inflación en Chile')\n",
    "plt.legend()\n",
    "plt.grid(True)"
   ]
  },
  {
   "cell_type": "markdown",
   "metadata": {
    "id": "S31rreiZt8mw"
   },
   "source": [
    "También, la librería ```numpy``` nos provee herramientas extra para trabajar con matrices (para lo cual las listas es objetos limitados):"
   ]
  },
  {
   "cell_type": "code",
   "execution_count": null,
   "metadata": {
    "id": "3HkD7lzhxhH-"
   },
   "outputs": [],
   "source": [
    "import numpy as np\n",
    "\n",
    "a = np.arange(15) # Un array (arreglo en español) es parecida a una lista\n",
    "a"
   ]
  },
  {
   "cell_type": "code",
   "execution_count": null,
   "metadata": {
    "id": "q4tBUOdGxpTr"
   },
   "outputs": [],
   "source": [
    "a = a.reshape(3, 5) # Podemos cambiar las dimensiones del array a una matriz de 3x5\n",
    "a"
   ]
  },
  {
   "cell_type": "code",
   "execution_count": null,
   "metadata": {
    "id": "iIhcr3bHx0of"
   },
   "outputs": [],
   "source": [
    "a.shape"
   ]
  },
  {
   "cell_type": "code",
   "execution_count": null,
   "metadata": {
    "id": "QGIfXmzryAQF"
   },
   "outputs": [],
   "source": [
    "a.ndim # Número de dimensiones (debería imprimir 2 porque es una matriz de dos dimensiones)"
   ]
  },
  {
   "cell_type": "code",
   "execution_count": null,
   "metadata": {
    "id": "2rl6NznYyNbH"
   },
   "outputs": [],
   "source": [
    "type(a)\n"
   ]
  },
  {
   "cell_type": "markdown",
   "metadata": {
    "id": "EpFFEWulMkap"
   },
   "source": [
    "## **TAREA 4 (1.5 puntos)**"
   ]
  },
  {
   "cell_type": "markdown",
   "metadata": {
    "id": "S75ygYJrM3tr"
   },
   "source": [
    "**TAREA 4.1** (1 punto): Debajo de este enunciado se halla un código con una lista de cuatro estudiantes de un curso de la facultad, y una lista con sus notas a lo largo de su semestre (La lista ```notas``` contiene cuatro listas, las que corresponden a las notas de los respectivos estudiantes).\n",
    "\n",
    "Se pide que usted desarrolle un programa que le indique si un estudiante pasa o no pasa el curso. Para ello, suponga que:\n",
    "- Todas las notas tienen la misma ponderación al momento de calcular la nota final, es decir, en pocas palabras, la nota final de un alumno es el promedio aritmético de sus notas.\n",
    "- Para aprobar, un estudiante debe tener un promedio igual o mayor a 4.\n",
    "- Para simplificar, no se requiere que aproxime la nota, por lo que una nota 3.98 no es suficiente para aprobar el curso.\n",
    "\n",
    "Su programa debe imprimir tanto la nota final de **cada** estudiante, como también si aprobó o no el curso (i.e. \"Nota final Valentina: X. Aprueba!\")\n",
    "\n",
    "Recuerde que, al igual que en todas las tareas de este laboratorio, se espera que su código pueda ser \"a prueba de cambios\" en los parámetros del problema, es decir, su programa debe funcionar aún cuando cambien los nombres o las notas entregadas en este enunciado, por lo que una resolución manual (lo contrario a un desarrollo automatizado) no tiene puntaje."
   ]
  },
  {
   "cell_type": "code",
   "execution_count": null,
   "metadata": {
    "id": "ybRPtr2gNB8s"
   },
   "outputs": [],
   "source": [
    "alumnos = ['Valentina', 'Eduardo', 'Rocío', 'Andrés']\n",
    "notas = [[4.7, 6.0, 5.1, 3.9], [5.2, 5.5, 3.3, 6.2], [4.4, 6.4, 5.6, 5.0], [3.1, 4.2, 4.1, 3.2]]\n",
    "# Asuma que Valentina tiene las notas [4.7, 6.0, 5.1, 3.9], Eduardo tiene\n",
    "# las notas [5.2, 5.5, 3.3, 6.2] ...\n",
    "\n",
    "## Aquí escribe tu código"
   ]
  },
  {
   "cell_type": "markdown",
   "metadata": {
    "id": "Zn5j-FE9SvpV"
   },
   "source": [
    "**TAREA 4.2** (0.5 puntos): A continuación se pide que replique el mismo problema de la tarea 4.1, pero ahora haciendo uso de los diccionarios de Python."
   ]
  },
  {
   "cell_type": "code",
   "execution_count": null,
   "metadata": {
    "id": "Q9SHyejHTNPi"
   },
   "outputs": [],
   "source": [
    "notas_curso = {\n",
    "    'Valentina': [4.7, 6.0, 5.1, 3.9],\n",
    "    'Eduardo': [5.2, 5.5, 3.3, 6.2],\n",
    "    'Rocío': [4.4, 6.4, 5.6, 5.0],\n",
    "    'Andrés': [3.1, 4.2, 4.1, 3.2]\n",
    "}\n",
    "\n",
    "## Aquí escribe tu código"
   ]
  },
  {
   "cell_type": "markdown",
   "metadata": {
    "id": "Alr9csMWdFqY"
   },
   "source": [
    "## **Repaso 5**: Funciones y recursión"
   ]
  },
  {
   "cell_type": "markdown",
   "metadata": {
    "id": "8nBJnTjvon-h"
   },
   "source": [
    "Una función es un objeto que permite tomar un *input*, procesarlo, y entregarnos un *output* y/o realizar una tarea específica. Tras definir una función, ésta puede ser llamada multiples veces, cuando se necesite, siendo posible así su reutilización dentro de un mismo programa, o en otros programas.\n",
    "\n",
    "La sintaxis para una definición de función en Python es:\n",
    "\n",
    "```\n",
    "def nombre_funcion(LISTA_DE_PARAMETROS):\n",
    "    \"\"\"\n",
    "    Documentación de la función\n",
    "    \"\"\"\n",
    "    \n",
    "    SENTENCIAS\n",
    "    \n",
    "    return [EXPRESION]\n",
    "```"
   ]
  },
  {
   "cell_type": "markdown",
   "metadata": {
    "id": "Z8admMmmovh1"
   },
   "source": [
    "#### Ejemplo 1:\n",
    "Escriba una función que dado un número entero *a*, determine si éste es primo o no."
   ]
  },
  {
   "cell_type": "code",
   "execution_count": null,
   "metadata": {
    "id": "j1-xIbBlozO8"
   },
   "outputs": [],
   "source": [
    "def es_primo(a):\n",
    "    '''\n",
    "    Esta función determina si el número \"a\" es primo o no\n",
    "    \n",
    "    Input: \"a\", un número int\n",
    "    \n",
    "    Output: True (primo) or False (no primo)\n",
    "    '''\n",
    "    \n",
    "    for deno in range(2, a):\n",
    "        if a % deno == 0:\n",
    "            print('{} no es primo'.format(a))\n",
    "            return False\n",
    "    print('{} es primo'.format(a))\n",
    "    return True"
   ]
  },
  {
   "cell_type": "code",
   "execution_count": null,
   "metadata": {
    "id": "knHad7Gpo3ap"
   },
   "outputs": [],
   "source": [
    "num = int(input(\"Por favor escriba un número entero:\").strip())\n",
    "\n",
    "resultado = es_primo(num)"
   ]
  },
  {
   "cell_type": "markdown",
   "metadata": {
    "id": "fqavf2t_o4S8"
   },
   "source": [
    "Al documentar una función, ayudamos a otros usuarios a entender su uso:"
   ]
  },
  {
   "cell_type": "code",
   "execution_count": null,
   "metadata": {
    "id": "INbVXEFko69Q"
   },
   "outputs": [],
   "source": [
    "help(es_primo)"
   ]
  },
  {
   "cell_type": "markdown",
   "metadata": {
    "id": "ol8huNDZpAxK"
   },
   "source": [
    "#### Ejemplo 2:\n",
    "Escriba una función que calcule la raíz de un rango de números entregado.\n",
    "\n",
    "Posteriormente realice un gráfico con los resultados."
   ]
  },
  {
   "cell_type": "code",
   "execution_count": null,
   "metadata": {
    "id": "WD76MXlcpCRj"
   },
   "outputs": [],
   "source": [
    "def rango_sqrt(inferior, superior):\n",
    "    '''\n",
    "    Esta funcion toma dos valores (inferior y superior)\n",
    "    y aplica la función \"raiz\" a los valores en dicho rango.\n",
    "    \n",
    "    Input: - inferior: valor del rango inferior (int)\n",
    "           - superior: valor del rango superior (int)\n",
    "    \n",
    "    Output: lista con valores, tras aplicar funcion \"raiz\"\n",
    "    '''\n",
    "    \n",
    "    valores = []\n",
    "    for x in range(inferior, superior):\n",
    "        valores.append(x ** 0.5)\n",
    "    \n",
    "    return valores"
   ]
  },
  {
   "cell_type": "markdown",
   "metadata": {
    "id": "eggGwkNBpH6j"
   },
   "source": [
    "Una forma de hacer gráficos en Python es usar la librería \"matplotlib\"."
   ]
  },
  {
   "cell_type": "code",
   "execution_count": null,
   "metadata": {
    "id": "ybrttfcEpJA4"
   },
   "outputs": [],
   "source": [
    "import matplotlib.pyplot as plt\n",
    "\n",
    "inferior = 1\n",
    "superior = 3000\n",
    "\n",
    "x = range(inferior, superior)\n",
    "\n",
    "y = rango_sqrt(inferior, superior)\n",
    "\n",
    "\n",
    "# Graficamos nuestro resultado\n",
    "plt.plot(x, y)\n",
    "plt.xlabel(\"x\")\n",
    "plt.ylabel(\"y\")\n",
    "plt.title(\"Raíz de x\")\n",
    "plt.show()\n",
    "\n"
   ]
  },
  {
   "cell_type": "markdown",
   "metadata": {
    "id": "im0YhUovpRFB"
   },
   "source": [
    "Si queremos determinar que nuestra opción contenga parámetros opcionales, se hace de esta forma:"
   ]
  },
  {
   "cell_type": "markdown",
   "metadata": {
    "id": "ZoqYe7VQpTRG"
   },
   "source": [
    "#### Ejemplo 3\n",
    "Escriba una función que le permita anualizar una tasa de interés, usando interés compuesto o interés simple. Por defecto, esta función debe usar interés compuesto."
   ]
  },
  {
   "cell_type": "code",
   "execution_count": null,
   "metadata": {
    "id": "Z2myw8HZpVeh"
   },
   "outputs": [],
   "source": [
    "def tasa_anual(tasa_mensual, tipo_interes=\"compuesto\"):\n",
    "    if tipo_interes == \"compuesto\":\n",
    "        tasa_anualizada = (1+tasa_mensual)**12 - 1\n",
    "    elif tipo_interes == \"simple\":\n",
    "        tasa_anualizada = tasa_mensual*12\n",
    "    \n",
    "    return tasa_anualizada\n",
    "\n",
    "print(tasa_anual(0.01))\n",
    "print(tasa_anual(0.01, \"simple\"))"
   ]
  },
  {
   "cell_type": "markdown",
   "metadata": {
    "id": "t1KtXIEOitBF"
   },
   "source": [
    "## **TAREA 5 (1 punto)**"
   ]
  },
  {
   "cell_type": "markdown",
   "metadata": {
    "id": "WNJ5hIO7i10a"
   },
   "source": [
    "**TAREA 5.1** (1 punto): Construya un programa que use una función tal que se pueda obtener el $n$-ésimo término de la siguiente serie:\n",
    "$$x_n = x_{n-1} + x_{n-2}$$\n",
    "con $x_1 = x_2 = 1$\n",
    "\n",
    "Por simplicidad, asuma que el usuario siempre ingresará un número $n$ tal que $n >= 3$.\n",
    "\n",
    "**Hint**: Se recomienda evaluar su función para diferentes n."
   ]
  },
  {
   "cell_type": "code",
   "execution_count": null,
   "metadata": {
    "id": "27ZtV68pizxz"
   },
   "outputs": [],
   "source": [
    "# Defina aquí la función. Hint: tu función debe recibir la variable numero\n",
    "\n",
    "numero = int(input('Ingrese el n-ésimo término de la serie que desee conocer:\\n'))\n",
    "# Imprima aquí el resultado de su función"
   ]
  },
  {
   "cell_type": "markdown",
   "metadata": {
    "id": "mxi6CYh2pg6Z"
   },
   "source": [
    "---\n",
    "\n",
    "## Fin del Laboratorio\n",
    "\n"
   ]
  }
 ],
 "metadata": {
  "colab": {
   "collapsed_sections": [
    "YLyF1A53cN_1",
    "gTbNjl18iDqE",
    "6G9L9fhIekFt",
    "jdoFud6wc_Jo",
    "F62koD0tXHVh",
    "Sc6vtV2vXTlO",
    "qmT2dZl9ZP_h",
    "1lsoZ8Tmcdet",
    "ol8huNDZpAxK",
    "ZoqYe7VQpTRG",
    "mxi6CYh2pg6Z"
   ],
   "name": "Laboratorio 1 - EAE253B202202.ipynb",
   "provenance": []
  },
  "kernelspec": {
   "display_name": "Python 3 (ipykernel)",
   "language": "python",
   "name": "python3"
  },
  "language_info": {
   "codemirror_mode": {
    "name": "ipython",
    "version": 3
   },
   "file_extension": ".py",
   "mimetype": "text/x-python",
   "name": "python",
   "nbconvert_exporter": "python",
   "pygments_lexer": "ipython3",
   "version": "3.9.17"
  }
 },
 "nbformat": 4,
 "nbformat_minor": 1
}
