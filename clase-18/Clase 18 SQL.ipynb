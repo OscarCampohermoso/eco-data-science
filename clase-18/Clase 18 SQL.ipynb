{
 "cells": [
  {
   "cell_type": "markdown",
   "id": "524cf65b",
   "metadata": {},
   "source": [
    "#  Clase 18 - SQL\n",
    "\n",
    "### Anuncios\n",
    "\n",
    "- Jueves no hay clases\n",
    "\n",
    "### Hoy\n",
    "\n",
    "- Conexion directa vs indirecta\n",
    "- Uso de JOIN\n",
    "- Uso de funcion “CASE”"
   ]
  },
  {
   "cell_type": "markdown",
   "id": "386e9071",
   "metadata": {},
   "source": [
    "#### Opciones de consulta de datos: Método \"directo\""
   ]
  },
  {
   "cell_type": "code",
   "execution_count": 36,
   "id": "d43071ff",
   "metadata": {},
   "outputs": [
    {
     "data": {
      "text/plain": [
       "<sqlite3.Connection at 0x117779990>"
      ]
     },
     "execution_count": 36,
     "metadata": {},
     "output_type": "execute_result"
    }
   ],
   "source": [
    "import sqlite3\n",
    "\n",
    "conn = sqlite3.connect('notes.db')\n",
    "\n",
    "conn"
   ]
  },
  {
   "cell_type": "code",
   "execution_count": 37,
   "id": "de537cb4",
   "metadata": {},
   "outputs": [
    {
     "data": {
      "text/plain": [
       "<sqlite3.Cursor at 0x11777bdc0>"
      ]
     },
     "execution_count": 37,
     "metadata": {},
     "output_type": "execute_result"
    }
   ],
   "source": [
    "cursor = conn.cursor()\n",
    "cursor"
   ]
  },
  {
   "cell_type": "markdown",
   "id": "eef71227",
   "metadata": {},
   "source": [
    "Un cursor es un objeto que permite recorrer los registros de una tabla. Se puede recorrer de forma secuencial o aleatoria. En este caso, se recorre de forma secuencial."
   ]
  },
  {
   "cell_type": "code",
   "execution_count": 38,
   "id": "cbd693ff",
   "metadata": {},
   "outputs": [
    {
     "data": {
      "text/plain": [
       "<sqlite3.Cursor at 0x11777bdc0>"
      ]
     },
     "execution_count": 38,
     "metadata": {},
     "output_type": "execute_result"
    }
   ],
   "source": [
    "query = 'SELECT * FROM NOTAS'\n",
    "\n",
    "response = cursor.execute(query)\n",
    "\n",
    "response"
   ]
  },
  {
   "cell_type": "code",
   "execution_count": 39,
   "id": "f421ec81",
   "metadata": {},
   "outputs": [],
   "source": [
    "# data = response.fetchone()\n",
    "# data"
   ]
  },
  {
   "cell_type": "code",
   "execution_count": 40,
   "id": "97608732",
   "metadata": {},
   "outputs": [
    {
     "data": {
      "text/plain": [
       "[(0, 'A', 'c1', 0.1, 6.0),\n",
       " (1, 'A', 'p1', 0.2, 5.0),\n",
       " (2, 'A', 'p2', 0.4, 7.0),\n",
       " (3, 'B', 'c1', 0.05, 4.0),\n",
       " (4, 'B', 'p1', 0.3, 5.0),\n",
       " (5, 'B', 'c2', 0.05, 6.0),\n",
       " (6, 'C', 'p1', 0.25, 4.0),\n",
       " (7, 'C', 'p2', 0.25, 5.0),\n",
       " (8, 'D', 'p1', 0.3, 6.5)]"
      ]
     },
     "execution_count": 40,
     "metadata": {},
     "output_type": "execute_result"
    }
   ],
   "source": [
    "data = response.fetchall()\n",
    "data"
   ]
  },
  {
   "cell_type": "code",
   "execution_count": 41,
   "id": "6fd09211",
   "metadata": {},
   "outputs": [
    {
     "data": {
      "text/plain": [
       "list"
      ]
     },
     "execution_count": 41,
     "metadata": {},
     "output_type": "execute_result"
    }
   ],
   "source": [
    "type(data)"
   ]
  },
  {
   "cell_type": "markdown",
   "id": "9e2c2f92",
   "metadata": {},
   "source": [
    "#### Opciones de consulta de datos: Método \"indirecto\""
   ]
  },
  {
   "cell_type": "code",
   "execution_count": 42,
   "id": "beeda213",
   "metadata": {},
   "outputs": [
    {
     "data": {
      "text/html": [
       "<div>\n",
       "<style scoped>\n",
       "    .dataframe tbody tr th:only-of-type {\n",
       "        vertical-align: middle;\n",
       "    }\n",
       "\n",
       "    .dataframe tbody tr th {\n",
       "        vertical-align: top;\n",
       "    }\n",
       "\n",
       "    .dataframe thead th {\n",
       "        text-align: right;\n",
       "    }\n",
       "</style>\n",
       "<table border=\"1\" class=\"dataframe\">\n",
       "  <thead>\n",
       "    <tr style=\"text-align: right;\">\n",
       "      <th></th>\n",
       "      <th>index</th>\n",
       "      <th>Curso</th>\n",
       "      <th>Evaluacion</th>\n",
       "      <th>Ponderacion</th>\n",
       "      <th>Nota</th>\n",
       "    </tr>\n",
       "  </thead>\n",
       "  <tbody>\n",
       "    <tr>\n",
       "      <th>0</th>\n",
       "      <td>0</td>\n",
       "      <td>A</td>\n",
       "      <td>c1</td>\n",
       "      <td>0.10</td>\n",
       "      <td>6.0</td>\n",
       "    </tr>\n",
       "    <tr>\n",
       "      <th>1</th>\n",
       "      <td>1</td>\n",
       "      <td>A</td>\n",
       "      <td>p1</td>\n",
       "      <td>0.20</td>\n",
       "      <td>5.0</td>\n",
       "    </tr>\n",
       "    <tr>\n",
       "      <th>2</th>\n",
       "      <td>2</td>\n",
       "      <td>A</td>\n",
       "      <td>p2</td>\n",
       "      <td>0.40</td>\n",
       "      <td>7.0</td>\n",
       "    </tr>\n",
       "    <tr>\n",
       "      <th>3</th>\n",
       "      <td>3</td>\n",
       "      <td>B</td>\n",
       "      <td>c1</td>\n",
       "      <td>0.05</td>\n",
       "      <td>4.0</td>\n",
       "    </tr>\n",
       "    <tr>\n",
       "      <th>4</th>\n",
       "      <td>4</td>\n",
       "      <td>B</td>\n",
       "      <td>p1</td>\n",
       "      <td>0.30</td>\n",
       "      <td>5.0</td>\n",
       "    </tr>\n",
       "    <tr>\n",
       "      <th>5</th>\n",
       "      <td>5</td>\n",
       "      <td>B</td>\n",
       "      <td>c2</td>\n",
       "      <td>0.05</td>\n",
       "      <td>6.0</td>\n",
       "    </tr>\n",
       "    <tr>\n",
       "      <th>6</th>\n",
       "      <td>6</td>\n",
       "      <td>C</td>\n",
       "      <td>p1</td>\n",
       "      <td>0.25</td>\n",
       "      <td>4.0</td>\n",
       "    </tr>\n",
       "    <tr>\n",
       "      <th>7</th>\n",
       "      <td>7</td>\n",
       "      <td>C</td>\n",
       "      <td>p2</td>\n",
       "      <td>0.25</td>\n",
       "      <td>5.0</td>\n",
       "    </tr>\n",
       "    <tr>\n",
       "      <th>8</th>\n",
       "      <td>8</td>\n",
       "      <td>D</td>\n",
       "      <td>p1</td>\n",
       "      <td>0.30</td>\n",
       "      <td>6.5</td>\n",
       "    </tr>\n",
       "  </tbody>\n",
       "</table>\n",
       "</div>"
      ],
      "text/plain": [
       "   index Curso Evaluacion  Ponderacion  Nota\n",
       "0      0     A         c1         0.10   6.0\n",
       "1      1     A         p1         0.20   5.0\n",
       "2      2     A         p2         0.40   7.0\n",
       "3      3     B         c1         0.05   4.0\n",
       "4      4     B         p1         0.30   5.0\n",
       "5      5     B         c2         0.05   6.0\n",
       "6      6     C         p1         0.25   4.0\n",
       "7      7     C         p2         0.25   5.0\n",
       "8      8     D         p1         0.30   6.5"
      ]
     },
     "execution_count": 42,
     "metadata": {},
     "output_type": "execute_result"
    }
   ],
   "source": [
    "import pandas as pd\n",
    "import sqlite3\n",
    "\n",
    "conn = sqlite3.connect('notes.db')\n",
    "\n",
    "query = 'SELECT * FROM NOTAS'\n",
    "\n",
    "df = pd.read_sql(query, conn)\n",
    "\n",
    "df\n",
    "\n"
   ]
  },
  {
   "cell_type": "code",
   "execution_count": null,
   "id": "9c2924f7",
   "metadata": {},
   "outputs": [],
   "source": []
  },
  {
   "cell_type": "code",
   "execution_count": 43,
   "id": "080d69bf",
   "metadata": {},
   "outputs": [
    {
     "data": {
      "text/plain": [
       "<sqlite3.Connection at 0x1176feb70>"
      ]
     },
     "execution_count": 43,
     "metadata": {},
     "output_type": "execute_result"
    }
   ],
   "source": [
    "import sqlite3\n",
    "import pandas\n",
    "\n",
    "#metodo indirecto, usando pandas\n",
    "\n",
    "conn = sqlite3.connect('data_bb.db')\n",
    "\n",
    "conn"
   ]
  },
  {
   "cell_type": "code",
   "execution_count": null,
   "id": "345e2b65",
   "metadata": {},
   "outputs": [],
   "source": []
  },
  {
   "cell_type": "code",
   "execution_count": 44,
   "id": "556ea8d0",
   "metadata": {},
   "outputs": [
    {
     "ename": "DatabaseError",
     "evalue": "Execution failed on sql '\n    SELECT TICKER, COUNT(VALOR) AS N_FECHAS\n    FROM PRECIOS\n    GROUP BY TICKER\n    ORDER BY N_FECHAS\n': no such table: PRECIOS",
     "output_type": "error",
     "traceback": [
      "\u001b[0;31m---------------------------------------------------------------------------\u001b[0m",
      "\u001b[0;31mOperationalError\u001b[0m                          Traceback (most recent call last)",
      "File \u001b[0;32m~/.local/share/virtualenvs/economía-y-ciencia-de-datos-etUShWn_/lib/python3.9/site-packages/pandas/io/sql.py:2264\u001b[0m, in \u001b[0;36mSQLiteDatabase.execute\u001b[0;34m(self, sql, params)\u001b[0m\n\u001b[1;32m   2263\u001b[0m \u001b[39mtry\u001b[39;00m:\n\u001b[0;32m-> 2264\u001b[0m     cur\u001b[39m.\u001b[39;49mexecute(sql, \u001b[39m*\u001b[39;49margs)\n\u001b[1;32m   2265\u001b[0m     \u001b[39mreturn\u001b[39;00m cur\n",
      "\u001b[0;31mOperationalError\u001b[0m: no such table: PRECIOS",
      "\nThe above exception was the direct cause of the following exception:\n",
      "\u001b[0;31mDatabaseError\u001b[0m                             Traceback (most recent call last)",
      "\u001b[1;32m/Users/oscarcampohermoso/development/julia_and_python_practica/economía-y-ciencia-de-datos/clase-18/Clase 18 SQL.ipynb Celda 15\u001b[0m line \u001b[0;36m8\n\u001b[1;32m      <a href='vscode-notebook-cell:/Users/oscarcampohermoso/development/julia_and_python_practica/economi%CC%81a-y-ciencia-de-datos/clase-18/Clase%2018%20SQL.ipynb#X15sZmlsZQ%3D%3D?line=0'>1</a>\u001b[0m query \u001b[39m=\u001b[39m \u001b[39m'''\u001b[39m\n\u001b[1;32m      <a href='vscode-notebook-cell:/Users/oscarcampohermoso/development/julia_and_python_practica/economi%CC%81a-y-ciencia-de-datos/clase-18/Clase%2018%20SQL.ipynb#X15sZmlsZQ%3D%3D?line=1'>2</a>\u001b[0m \u001b[39m    SELECT TICKER, COUNT(VALOR) AS N_FECHAS\u001b[39m\n\u001b[1;32m      <a href='vscode-notebook-cell:/Users/oscarcampohermoso/development/julia_and_python_practica/economi%CC%81a-y-ciencia-de-datos/clase-18/Clase%2018%20SQL.ipynb#X15sZmlsZQ%3D%3D?line=2'>3</a>\u001b[0m \u001b[39m    FROM PRECIOS\u001b[39m\n\u001b[1;32m      <a href='vscode-notebook-cell:/Users/oscarcampohermoso/development/julia_and_python_practica/economi%CC%81a-y-ciencia-de-datos/clase-18/Clase%2018%20SQL.ipynb#X15sZmlsZQ%3D%3D?line=3'>4</a>\u001b[0m \u001b[39m    GROUP BY TICKER\u001b[39m\n\u001b[1;32m      <a href='vscode-notebook-cell:/Users/oscarcampohermoso/development/julia_and_python_practica/economi%CC%81a-y-ciencia-de-datos/clase-18/Clase%2018%20SQL.ipynb#X15sZmlsZQ%3D%3D?line=4'>5</a>\u001b[0m \u001b[39m    ORDER BY N_FECHAS\u001b[39m\n\u001b[1;32m      <a href='vscode-notebook-cell:/Users/oscarcampohermoso/development/julia_and_python_practica/economi%CC%81a-y-ciencia-de-datos/clase-18/Clase%2018%20SQL.ipynb#X15sZmlsZQ%3D%3D?line=5'>6</a>\u001b[0m \u001b[39m'''\u001b[39m\n\u001b[0;32m----> <a href='vscode-notebook-cell:/Users/oscarcampohermoso/development/julia_and_python_practica/economi%CC%81a-y-ciencia-de-datos/clase-18/Clase%2018%20SQL.ipynb#X15sZmlsZQ%3D%3D?line=7'>8</a>\u001b[0m df \u001b[39m=\u001b[39m pandas\u001b[39m.\u001b[39;49mread_sql(query, conn)\n\u001b[1;32m     <a href='vscode-notebook-cell:/Users/oscarcampohermoso/development/julia_and_python_practica/economi%CC%81a-y-ciencia-de-datos/clase-18/Clase%2018%20SQL.ipynb#X15sZmlsZQ%3D%3D?line=9'>10</a>\u001b[0m df\n",
      "File \u001b[0;32m~/.local/share/virtualenvs/economía-y-ciencia-de-datos-etUShWn_/lib/python3.9/site-packages/pandas/io/sql.py:654\u001b[0m, in \u001b[0;36mread_sql\u001b[0;34m(sql, con, index_col, coerce_float, params, parse_dates, columns, chunksize, dtype_backend, dtype)\u001b[0m\n\u001b[1;32m    652\u001b[0m \u001b[39mwith\u001b[39;00m pandasSQL_builder(con) \u001b[39mas\u001b[39;00m pandas_sql:\n\u001b[1;32m    653\u001b[0m     \u001b[39mif\u001b[39;00m \u001b[39misinstance\u001b[39m(pandas_sql, SQLiteDatabase):\n\u001b[0;32m--> 654\u001b[0m         \u001b[39mreturn\u001b[39;00m pandas_sql\u001b[39m.\u001b[39;49mread_query(\n\u001b[1;32m    655\u001b[0m             sql,\n\u001b[1;32m    656\u001b[0m             index_col\u001b[39m=\u001b[39;49mindex_col,\n\u001b[1;32m    657\u001b[0m             params\u001b[39m=\u001b[39;49mparams,\n\u001b[1;32m    658\u001b[0m             coerce_float\u001b[39m=\u001b[39;49mcoerce_float,\n\u001b[1;32m    659\u001b[0m             parse_dates\u001b[39m=\u001b[39;49mparse_dates,\n\u001b[1;32m    660\u001b[0m             chunksize\u001b[39m=\u001b[39;49mchunksize,\n\u001b[1;32m    661\u001b[0m             dtype_backend\u001b[39m=\u001b[39;49mdtype_backend,\n\u001b[1;32m    662\u001b[0m             dtype\u001b[39m=\u001b[39;49mdtype,\n\u001b[1;32m    663\u001b[0m         )\n\u001b[1;32m    665\u001b[0m     \u001b[39mtry\u001b[39;00m:\n\u001b[1;32m    666\u001b[0m         _is_table_name \u001b[39m=\u001b[39m pandas_sql\u001b[39m.\u001b[39mhas_table(sql)\n",
      "File \u001b[0;32m~/.local/share/virtualenvs/economía-y-ciencia-de-datos-etUShWn_/lib/python3.9/site-packages/pandas/io/sql.py:2328\u001b[0m, in \u001b[0;36mSQLiteDatabase.read_query\u001b[0;34m(self, sql, index_col, coerce_float, parse_dates, params, chunksize, dtype, dtype_backend)\u001b[0m\n\u001b[1;32m   2317\u001b[0m \u001b[39mdef\u001b[39;00m \u001b[39mread_query\u001b[39m(\n\u001b[1;32m   2318\u001b[0m     \u001b[39mself\u001b[39m,\n\u001b[1;32m   2319\u001b[0m     sql,\n\u001b[0;32m   (...)\u001b[0m\n\u001b[1;32m   2326\u001b[0m     dtype_backend: DtypeBackend \u001b[39m|\u001b[39m Literal[\u001b[39m\"\u001b[39m\u001b[39mnumpy\u001b[39m\u001b[39m\"\u001b[39m] \u001b[39m=\u001b[39m \u001b[39m\"\u001b[39m\u001b[39mnumpy\u001b[39m\u001b[39m\"\u001b[39m,\n\u001b[1;32m   2327\u001b[0m ) \u001b[39m-\u001b[39m\u001b[39m>\u001b[39m DataFrame \u001b[39m|\u001b[39m Iterator[DataFrame]:\n\u001b[0;32m-> 2328\u001b[0m     cursor \u001b[39m=\u001b[39m \u001b[39mself\u001b[39;49m\u001b[39m.\u001b[39;49mexecute(sql, params)\n\u001b[1;32m   2329\u001b[0m     columns \u001b[39m=\u001b[39m [col_desc[\u001b[39m0\u001b[39m] \u001b[39mfor\u001b[39;00m col_desc \u001b[39min\u001b[39;00m cursor\u001b[39m.\u001b[39mdescription]\n\u001b[1;32m   2331\u001b[0m     \u001b[39mif\u001b[39;00m chunksize \u001b[39mis\u001b[39;00m \u001b[39mnot\u001b[39;00m \u001b[39mNone\u001b[39;00m:\n",
      "File \u001b[0;32m~/.local/share/virtualenvs/economía-y-ciencia-de-datos-etUShWn_/lib/python3.9/site-packages/pandas/io/sql.py:2276\u001b[0m, in \u001b[0;36mSQLiteDatabase.execute\u001b[0;34m(self, sql, params)\u001b[0m\n\u001b[1;32m   2273\u001b[0m     \u001b[39mraise\u001b[39;00m ex \u001b[39mfrom\u001b[39;00m \u001b[39minner_exc\u001b[39;00m\n\u001b[1;32m   2275\u001b[0m ex \u001b[39m=\u001b[39m DatabaseError(\u001b[39mf\u001b[39m\u001b[39m\"\u001b[39m\u001b[39mExecution failed on sql \u001b[39m\u001b[39m'\u001b[39m\u001b[39m{\u001b[39;00msql\u001b[39m}\u001b[39;00m\u001b[39m'\u001b[39m\u001b[39m: \u001b[39m\u001b[39m{\u001b[39;00mexc\u001b[39m}\u001b[39;00m\u001b[39m\"\u001b[39m)\n\u001b[0;32m-> 2276\u001b[0m \u001b[39mraise\u001b[39;00m ex \u001b[39mfrom\u001b[39;00m \u001b[39mexc\u001b[39;00m\n",
      "\u001b[0;31mDatabaseError\u001b[0m: Execution failed on sql '\n    SELECT TICKER, COUNT(VALOR) AS N_FECHAS\n    FROM PRECIOS\n    GROUP BY TICKER\n    ORDER BY N_FECHAS\n': no such table: PRECIOS"
     ]
    }
   ],
   "source": [
    "query = '''\n",
    "    SELECT TICKER, COUNT(VALOR) AS N_FECHAS\n",
    "    FROM PRECIOS\n",
    "    GROUP BY TICKER\n",
    "    ORDER BY N_FECHAS\n",
    "'''\n",
    "\n",
    "df = pandas.read_sql(query, conn)\n",
    "\n",
    "df"
   ]
  },
  {
   "cell_type": "markdown",
   "id": "b7cec6fe",
   "metadata": {},
   "source": [
    "### VEAMOS SI VALOR TIENE VALORES NULOS"
   ]
  },
  {
   "cell_type": "code",
   "execution_count": null,
   "id": "80499500",
   "metadata": {},
   "outputs": [
    {
     "data": {
      "text/html": [
       "<div>\n",
       "<style scoped>\n",
       "    .dataframe tbody tr th:only-of-type {\n",
       "        vertical-align: middle;\n",
       "    }\n",
       "\n",
       "    .dataframe tbody tr th {\n",
       "        vertical-align: top;\n",
       "    }\n",
       "\n",
       "    .dataframe thead th {\n",
       "        text-align: right;\n",
       "    }\n",
       "</style>\n",
       "<table border=\"1\" class=\"dataframe\">\n",
       "  <thead>\n",
       "    <tr style=\"text-align: right;\">\n",
       "      <th></th>\n",
       "      <th>index</th>\n",
       "      <th>fecha</th>\n",
       "      <th>valor</th>\n",
       "      <th>ticker</th>\n",
       "    </tr>\n",
       "  </thead>\n",
       "  <tbody>\n",
       "  </tbody>\n",
       "</table>\n",
       "</div>"
      ],
      "text/plain": [
       "Empty DataFrame\n",
       "Columns: [index, fecha, valor, ticker]\n",
       "Index: []"
      ]
     },
     "execution_count": 34,
     "metadata": {},
     "output_type": "execute_result"
    }
   ],
   "source": [
    "query = '''\n",
    "    SELECT *\n",
    "    FROM PRECIOS\n",
    "    WHERE VALOR IS NULL\n",
    "'''\n",
    "\n",
    "df = pandas.read_sql(query, conn)\n",
    "\n",
    "df"
   ]
  },
  {
   "cell_type": "markdown",
   "id": "faf0fe8e",
   "metadata": {},
   "source": [
    "#### BUSQUEMOS EN QUE FECHAS EL IPSA NO TIENE PRECIOS"
   ]
  },
  {
   "cell_type": "code",
   "execution_count": null,
   "id": "896406bd",
   "metadata": {},
   "outputs": [
    {
     "data": {
      "text/html": [
       "<div>\n",
       "<style scoped>\n",
       "    .dataframe tbody tr th:only-of-type {\n",
       "        vertical-align: middle;\n",
       "    }\n",
       "\n",
       "    .dataframe tbody tr th {\n",
       "        vertical-align: top;\n",
       "    }\n",
       "\n",
       "    .dataframe thead th {\n",
       "        text-align: right;\n",
       "    }\n",
       "</style>\n",
       "<table border=\"1\" class=\"dataframe\">\n",
       "  <thead>\n",
       "    <tr style=\"text-align: right;\">\n",
       "      <th></th>\n",
       "      <th>FECHA</th>\n",
       "      <th>index</th>\n",
       "      <th>valor</th>\n",
       "      <th>ticker</th>\n",
       "    </tr>\n",
       "  </thead>\n",
       "  <tbody>\n",
       "    <tr>\n",
       "      <th>0</th>\n",
       "      <td>2011-04-22</td>\n",
       "      <td>None</td>\n",
       "      <td>None</td>\n",
       "      <td>None</td>\n",
       "    </tr>\n",
       "    <tr>\n",
       "      <th>1</th>\n",
       "      <td>2011-08-15</td>\n",
       "      <td>None</td>\n",
       "      <td>None</td>\n",
       "      <td>None</td>\n",
       "    </tr>\n",
       "    <tr>\n",
       "      <th>2</th>\n",
       "      <td>2012-08-15</td>\n",
       "      <td>None</td>\n",
       "      <td>None</td>\n",
       "      <td>None</td>\n",
       "    </tr>\n",
       "  </tbody>\n",
       "</table>\n",
       "</div>"
      ],
      "text/plain": [
       "        FECHA index valor ticker\n",
       "0  2011-04-22  None  None   None\n",
       "1  2011-08-15  None  None   None\n",
       "2  2012-08-15  None  None   None"
      ]
     },
     "execution_count": 43,
     "metadata": {},
     "output_type": "execute_result"
    }
   ],
   "source": [
    "query = '''\n",
    "    WITH FECHAS AS (\n",
    "    SELECT DISTINCT FECHA\n",
    "    FROM PRECIOS\n",
    "    ),\n",
    "    PRECIOS_IPSA AS (\n",
    "    SELECT *\n",
    "    FROM PRECIOS\n",
    "    WHERE TICKER = 'IPSA Index'\n",
    "    )\n",
    "    \n",
    "    SELECT *\n",
    "    FROM FECHAS LEFT JOIN PRECIOS_IPSA USING (FECHA)\n",
    "    WHERE VALOR IS NULL\n",
    "'''\n",
    "\n",
    "df = pandas.read_sql(query, conn)\n",
    "\n",
    "df"
   ]
  },
  {
   "cell_type": "code",
   "execution_count": null,
   "id": "6be12551",
   "metadata": {},
   "outputs": [
    {
     "data": {
      "text/html": [
       "<div>\n",
       "<style scoped>\n",
       "    .dataframe tbody tr th:only-of-type {\n",
       "        vertical-align: middle;\n",
       "    }\n",
       "\n",
       "    .dataframe tbody tr th {\n",
       "        vertical-align: top;\n",
       "    }\n",
       "\n",
       "    .dataframe thead th {\n",
       "        text-align: right;\n",
       "    }\n",
       "</style>\n",
       "<table border=\"1\" class=\"dataframe\">\n",
       "  <thead>\n",
       "    <tr style=\"text-align: right;\">\n",
       "      <th></th>\n",
       "      <th>index</th>\n",
       "      <th>fecha</th>\n",
       "      <th>valor</th>\n",
       "      <th>ticker</th>\n",
       "    </tr>\n",
       "  </thead>\n",
       "  <tbody>\n",
       "    <tr>\n",
       "      <th>0</th>\n",
       "      <td>2</td>\n",
       "      <td>2010-01-04</td>\n",
       "      <td>3620.70</td>\n",
       "      <td>IPSA Index</td>\n",
       "    </tr>\n",
       "    <tr>\n",
       "      <th>1</th>\n",
       "      <td>3</td>\n",
       "      <td>2010-01-05</td>\n",
       "      <td>3624.10</td>\n",
       "      <td>IPSA Index</td>\n",
       "    </tr>\n",
       "    <tr>\n",
       "      <th>2</th>\n",
       "      <td>4</td>\n",
       "      <td>2010-01-06</td>\n",
       "      <td>3639.96</td>\n",
       "      <td>IPSA Index</td>\n",
       "    </tr>\n",
       "    <tr>\n",
       "      <th>3</th>\n",
       "      <td>5</td>\n",
       "      <td>2010-01-07</td>\n",
       "      <td>3681.06</td>\n",
       "      <td>IPSA Index</td>\n",
       "    </tr>\n",
       "    <tr>\n",
       "      <th>4</th>\n",
       "      <td>6</td>\n",
       "      <td>2010-01-08</td>\n",
       "      <td>3726.50</td>\n",
       "      <td>IPSA Index</td>\n",
       "    </tr>\n",
       "    <tr>\n",
       "      <th>...</th>\n",
       "      <td>...</td>\n",
       "      <td>...</td>\n",
       "      <td>...</td>\n",
       "      <td>...</td>\n",
       "    </tr>\n",
       "    <tr>\n",
       "      <th>3436</th>\n",
       "      <td>3438</td>\n",
       "      <td>2023-10-17</td>\n",
       "      <td>5890.74</td>\n",
       "      <td>IPSA Index</td>\n",
       "    </tr>\n",
       "    <tr>\n",
       "      <th>3437</th>\n",
       "      <td>3439</td>\n",
       "      <td>2023-10-18</td>\n",
       "      <td>5796.44</td>\n",
       "      <td>IPSA Index</td>\n",
       "    </tr>\n",
       "    <tr>\n",
       "      <th>3438</th>\n",
       "      <td>3440</td>\n",
       "      <td>2023-10-19</td>\n",
       "      <td>5713.44</td>\n",
       "      <td>IPSA Index</td>\n",
       "    </tr>\n",
       "    <tr>\n",
       "      <th>3439</th>\n",
       "      <td>3441</td>\n",
       "      <td>2023-10-20</td>\n",
       "      <td>5631.33</td>\n",
       "      <td>IPSA Index</td>\n",
       "    </tr>\n",
       "    <tr>\n",
       "      <th>3440</th>\n",
       "      <td>3442</td>\n",
       "      <td>2023-10-23</td>\n",
       "      <td>5526.26</td>\n",
       "      <td>IPSA Index</td>\n",
       "    </tr>\n",
       "  </tbody>\n",
       "</table>\n",
       "<p>3441 rows × 4 columns</p>\n",
       "</div>"
      ],
      "text/plain": [
       "      index       fecha    valor      ticker\n",
       "0         2  2010-01-04  3620.70  IPSA Index\n",
       "1         3  2010-01-05  3624.10  IPSA Index\n",
       "2         4  2010-01-06  3639.96  IPSA Index\n",
       "3         5  2010-01-07  3681.06  IPSA Index\n",
       "4         6  2010-01-08  3726.50  IPSA Index\n",
       "...     ...         ...      ...         ...\n",
       "3436   3438  2023-10-17  5890.74  IPSA Index\n",
       "3437   3439  2023-10-18  5796.44  IPSA Index\n",
       "3438   3440  2023-10-19  5713.44  IPSA Index\n",
       "3439   3441  2023-10-20  5631.33  IPSA Index\n",
       "3440   3442  2023-10-23  5526.26  IPSA Index\n",
       "\n",
       "[3441 rows x 4 columns]"
      ]
     },
     "execution_count": 37,
     "metadata": {},
     "output_type": "execute_result"
    }
   ],
   "source": [
    "query = '''\n",
    "    SELECT *\n",
    "    FROM PRECIOS\n",
    "    WHERE TICKER = 'IPSA Index'\n",
    "'''\n",
    "\n",
    "df = pandas.read_sql(query, conn)\n",
    "\n",
    "df"
   ]
  },
  {
   "cell_type": "code",
   "execution_count": null,
   "id": "3ca4e027",
   "metadata": {},
   "outputs": [],
   "source": []
  },
  {
   "cell_type": "code",
   "execution_count": null,
   "id": "cfabef4b",
   "metadata": {},
   "outputs": [],
   "source": []
  },
  {
   "cell_type": "markdown",
   "id": "2709c9c0",
   "metadata": {},
   "source": [
    "### ejemplo clase pasada"
   ]
  },
  {
   "cell_type": "code",
   "execution_count": null,
   "id": "27619b3b",
   "metadata": {},
   "outputs": [
    {
     "data": {
      "text/html": [
       "<div>\n",
       "<style scoped>\n",
       "    .dataframe tbody tr th:only-of-type {\n",
       "        vertical-align: middle;\n",
       "    }\n",
       "\n",
       "    .dataframe tbody tr th {\n",
       "        vertical-align: top;\n",
       "    }\n",
       "\n",
       "    .dataframe thead th {\n",
       "        text-align: right;\n",
       "    }\n",
       "</style>\n",
       "<table border=\"1\" class=\"dataframe\">\n",
       "  <thead>\n",
       "    <tr style=\"text-align: right;\">\n",
       "      <th></th>\n",
       "      <th>CURSO</th>\n",
       "      <th>NOTA_ACTUAL</th>\n",
       "      <th>PORC_ACUM</th>\n",
       "      <th>NECESARIA</th>\n",
       "    </tr>\n",
       "  </thead>\n",
       "  <tbody>\n",
       "    <tr>\n",
       "      <th>0</th>\n",
       "      <td>A</td>\n",
       "      <td>6.285714</td>\n",
       "      <td>0.7</td>\n",
       "      <td>5.333333</td>\n",
       "    </tr>\n",
       "    <tr>\n",
       "      <th>1</th>\n",
       "      <td>B</td>\n",
       "      <td>5.000000</td>\n",
       "      <td>0.4</td>\n",
       "      <td>6.666667</td>\n",
       "    </tr>\n",
       "    <tr>\n",
       "      <th>2</th>\n",
       "      <td>C</td>\n",
       "      <td>4.500000</td>\n",
       "      <td>0.5</td>\n",
       "      <td>7.500000</td>\n",
       "    </tr>\n",
       "    <tr>\n",
       "      <th>3</th>\n",
       "      <td>D</td>\n",
       "      <td>6.500000</td>\n",
       "      <td>0.3</td>\n",
       "      <td>5.785714</td>\n",
       "    </tr>\n",
       "  </tbody>\n",
       "</table>\n",
       "</div>"
      ],
      "text/plain": [
       "  CURSO  NOTA_ACTUAL  PORC_ACUM  NECESARIA\n",
       "0     A     6.285714        0.7   5.333333\n",
       "1     B     5.000000        0.4   6.666667\n",
       "2     C     4.500000        0.5   7.500000\n",
       "3     D     6.500000        0.3   5.785714"
      ]
     },
     "execution_count": 4,
     "metadata": {},
     "output_type": "execute_result"
    }
   ],
   "source": [
    "import pandas as pd\n",
    "import sqlite3\n",
    "\n",
    "conn = sqlite3.connect('notas.db')\n",
    "\n",
    "#en pandas no es necesario crear un objeto cursor\n",
    "\n",
    "query = '''\n",
    "    -- AGREGAMOS MAXIMO\n",
    "    WITH INTERMEDIA AS ( \n",
    "        SELECT CURSO, \n",
    "            SUM(NOTA*PONDERACION)/SUM(PONDERACION) AS NOTA_ACTUAL,\n",
    "            SUM(PONDERACION) AS PORC_ACUM\n",
    "        FROM NOTAS \n",
    "        GROUP BY CURSO\n",
    "    )\n",
    "    SELECT CURSO, NOTA_ACTUAL, PORC_ACUM,\n",
    "        MAX((? - NOTA_ACTUAL*PORC_ACUM) / (1-PORC_ACUM), 1) AS NECESARIA\n",
    "    FROM INTERMEDIA\n",
    "'''\n",
    "\n",
    "df = pd.read_sql(query, conn, params=(6,))\n",
    "\n",
    "df"
   ]
  }
 ],
 "metadata": {
  "kernelspec": {
   "display_name": "economía-y-ciencia-de-datos-etUShWn_",
   "language": "python",
   "name": "python3"
  },
  "language_info": {
   "codemirror_mode": {
    "name": "ipython",
    "version": 3
   },
   "file_extension": ".py",
   "mimetype": "text/x-python",
   "name": "python",
   "nbconvert_exporter": "python",
   "pygments_lexer": "ipython3",
   "version": "3.9.7"
  }
 },
 "nbformat": 4,
 "nbformat_minor": 5
}
