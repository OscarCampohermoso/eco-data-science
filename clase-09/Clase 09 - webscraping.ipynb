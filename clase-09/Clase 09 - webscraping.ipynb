{
 "cells": [
  {
   "cell_type": "markdown",
   "metadata": {
    "colab_type": "text",
    "id": "09w5GvIEINrs",
    "nbpresent": {
     "id": "a81bcfc3-ca3a-4e94-8520-4ab3ed099826"
    }
   },
   "source": [
    "# Clase 09 - Web scraping\n",
    "\n",
    "#### Administrativos:\n",
    "- Recordatorio: req #2 se entrega el viernes 22 de septiembre\n",
    "\n",
    "#### Hoy:\n",
    "\n",
    "- Entendiendo web scraping\n",
    "    - ¿Cómo funciona internet? Paradigma Cliente-Servidor\n",
    "    - Estructura de archivos HTML\n",
    "    - Web scraping con Beautiful Soup\n",
    "\n",
    "- Alternativas más avanzadas:\n",
    "    - Selenium (permite simular la navegación en la web como si fuera un humano)\n",
    "\n",
    "--- \n",
    "\n",
    "\n"
   ]
  },
  {
   "cell_type": "markdown",
   "metadata": {},
   "source": [
    "#### Lectura de textos especiales: páginas web\n",
    "\n",
    "Leer información de una página web es muy similar a leer textos plano. \n",
    "\n",
    "Los archivos HTML son textos planos que son interpretados por el navegador de internet para mostrarse de alguna manera específica en nuestra pantalla.\n",
    "\n",
    "Para leer los archivos HTML que se generan al consultar una página web determinada, usaremos la librería \"**requests**\"\n",
    "\n",
    "(Nota: **requests** permite operaciones mucho más avanzadas que sólo leer HTML plano. Documentación y ejemplos aquí: https://requests.readthedocs.io/en/master/)"
   ]
  },
  {
   "cell_type": "code",
   "execution_count": 1,
   "metadata": {},
   "outputs": [],
   "source": [
    "import requests"
   ]
  },
  {
   "cell_type": "code",
   "execution_count": 2,
   "metadata": {},
   "outputs": [
    {
     "data": {
      "text/plain": [
       "<Response [200]>"
      ]
     },
     "execution_count": 2,
     "metadata": {},
     "output_type": "execute_result"
    }
   ],
   "source": [
    "response = requests.get('https://www.google.com')\n",
    "\n",
    "response"
   ]
  },
  {
   "cell_type": "code",
   "execution_count": 3,
   "metadata": {},
   "outputs": [
    {
     "data": {
      "text/plain": [
       "'<!doctype html><html itemscope=\"\" itemtype=\"http://schema.org/WebPage\" lang=\"es-419\"><head><meta content=\"text/html; charset=UTF-8\" http-equiv=\"Content-Type\"><meta content=\"/images/branding/googleg/1x/googleg_standard_color_128dp.png\" itemprop=\"image\"><title>Google</title><script nonce=\"fhN6YPB4qYXZD2GoVxZwMw\">(function(){var _g={kEI:\\'vmwGZZy_I6zT1sQP9Ie1uAw\\',kEXPI:\\'0,1365468,206,4804,2316,383,246,5,1129120,1197779,380711,16115,28684,22431,1361,12313,17586,4998,17075,6884,31560,889,1983,2891,8349,3405,606,30668,19390,10631,16336,20583,4,45959,11442,2216,4437,22586,6651,7596,1,11943,30211,2,39761,5679,1020,25049,6074,4568,6252,23424,1252,33064,2,2,1,26632,8155,23350,873,19633,8,1922,46064,6174,20198,5797,3,14337,14,82,20206,8377,18960,2305,3098,3030,15816,1804,13806,19291,2171,5253,6561,340,1292,9711,5278,11713,4658,2,3254,12742,3,9,5400,5213019,712,2,195,5994770,96,2798528,4590,3311,141,795,19735,2,346,8474,96,51,4,2,268,84,6,7,9,23941483,397,182,4043528,16672,39284,3383,1907,271,1395095,346161,46476,23366633,3326,3544,2,5927,8408,2879,6021,5559,240,1396,2,568,3165,2840,2014,2679,434,1894,1,476,879,1568,1501,337,539,3,1395,1826,486,1254,1294,254,3188,3999,1814,65,849,2387,302,42,661,832,1283,2,2899,2555,805,92,794,776,103,712,710,123,156,156,3930,111,99,704,775,2,120,845,146,2128,1,1051,302,5,914,22,976,787,981,529,523,617,1109,738,8,265,560,501,499,75,78,1103,560,835,117,58,19,125,753,602,3,240,339,1109,348,317,97,167,37,1,257,117,106,48,1531,34,7,1,8,698,550,1919,969,197,292,200,4,165,75,4,6,5,15,415,35,148,4,877,482,7,1,8,707,85,456,13,226,4,82,1627,36,25,42,14,6,3,735,202,4,903,444,323,2,7,1,413,8\\',kBL:\\'XYQP\\',kOPI:89978449};(function(){var a;(null==(a=window.google)?0:a.stvsc)?google.kEI=_g.kEI:window.google=_g;}).call(this);})();(function(){google.sn=\\'webhp\\';google.kHL=\\'es-419\\';})();(function(){\\nvar h=this||self;function l(){return void 0!==window.google&&void 0!==window.google.kOPI&&0!==window.google.kOPI?window.google.kOPI:null};var m,n=[];function p(a){for(var b;a&&(!a.getAttribute||!(b=a.getAttribute(\"eid\")));)a=a.parentNode;return b||m}function q(a){for(var b=null;a&&(!a.getAttribute||!(b=a.getAttribute(\"leid\")));)a=a.parentNode;return b}function r(a){/^http:/i.test(a)&&\"https:\"===window.location.protocol&&(google.ml&&google.ml(Error(\"a\"),!1,{src:a,glmm:1}),a=\"\");return a}\\nfunction t(a,b,c,d,k){var e=\"\";-1===b.search(\"&ei=\")&&(e=\"&ei=\"+p(d),-1===b.search(\"&lei=\")&&(d=q(d))&&(e+=\"&lei=\"+d));d=\"\";var g=-1===b.search(\"&cshid=\")&&\"slh\"!==a,f=[];f.push([\"zx\",Date.now().toString()]);h._cshid&&g&&f.push([\"cshid\",h._cshid]);c=c();null!=c&&f.push([\"opi\",c.toString()]);for(c=0;c<f.length;c++){if(0===c||0<c)d+=\"&\";d+=f[c][0]+\"=\"+f[c][1]}return\"/\"+(k||\"gen_204\")+\"?atyp=i&ct=\"+String(a)+\"&cad=\"+(b+e+d)};m=google.kEI;google.getEI=p;google.getLEI=q;google.ml=function(){return null};google.log=function(a,b,c,d,k,e){e=void 0===e?l:e;c||(c=t(a,b,e,d,k));if(c=r(c)){a=new Image;var g=n.length;n[g]=a;a.onerror=a.onload=a.onabort=function(){delete n[g]};a.src=c}};google.logUrl=function(a,b){b=void 0===b?l:b;return t(\"\",a,b)};}).call(this);(function(){google.y={};google.sy=[];google.x=function(a,b){if(a)var c=a.id;else{do c=Math.random();while(google.y[c])}google.y[c]=[a,b];return!1};google.sx=function(a){google.sy.push(a)};google.lm=[];google.plm=function(a){google.lm.push.apply(google.lm,a)};google.lq=[];google.load=function(a,b,c){google.lq.push([[a],b,c])};google.loadAll=function(a,b){google.lq.push([a,b])};google.bx=!1;google.lx=function(){};var d=[];google.fce=function(a,b,c,e){d.push([a,b,c,e])};google.qce=d;}).call(this);google.f={};(function(){\\ndocument.documentElement.addEventListener(\"submit\",function(b){var a;if(a=b.target){var c=a.getAttribute(\"data-submitfalse\");a=\"1\"===c||\"q\"===c&&!a.elements.q.value?!0:!1}else a=!1;a&&(b.preventDefault(),b.stopPropagation())},!0);document.documentElement.addEventListener(\"click\",function(b){var a;a:{for(a=b.target;a&&a!==document.documentElement;a=a.parentElement)if(\"A\"===a.tagName){a=\"1\"===a.getAttribute(\"data-nohref\");break a}a=!1}a&&b.preventDefault()},!0);}).call(this);</script><style>#gbar,#guser{font-size:13px;padding-top:1px !important;}#gbar{height:22px}#guser{padding-bottom:7px !important;text-align:right}.gbh,.gbd{border-top:1px solid #c9d7f1;font-size:1px}.gbh{height:0;position:absolute;top:24px;width:100%}@media all{.gb1{height:22px;margin-right:.5em;vertical-align:top}#gbar{float:left}}a.gb1,a.gb4{text-decoration:underline !important}a.gb1,a.gb4{color:#00c !important}.gbi .gb4{color:#dd8e27 !important}.gbf .gb4{color:#900 !important}\\n</style><style>body,td,a,p,.h{font-family:arial,sans-serif}body{margin:0;overflow-y:scroll}#gog{padding:3px 8px 0}td{line-height:.8em}.gac_m td{line-height:17px}form{margin-bottom:20px}.h{color:#1967d2}em{font-weight:bold;font-style:normal}.lst{height:25px;width:496px}.gsfi,.lst{font:18px arial,sans-serif}.gsfs{font:17px arial,sans-serif}.ds{display:inline-box;display:inline-block;margin:3px 0 4px;margin-left:4px}input{font-family:inherit}body{background:#fff;color:#000}a{color:#681da8;text-decoration:none}a:hover,a:active{text-decoration:underline}.fl a{color:#1967d2}a:visited{color:#681da8}.sblc{padding-top:5px}.sblc a{display:block;margin:2px 0;margin-left:13px;font-size:11px}.lsbb{background:#f8f9fa;border:solid 1px;border-color:#dadce0 #70757a #70757a #dadce0;height:30px}.lsbb{display:block}#WqQANb a{display:inline-block;margin:0 12px}.lsb{background:url(/images/nav_logo229.png) 0 -261px repeat-x;color:#000;border:none;cursor:pointer;height:30px;margin:0;outline:0;font:15px arial,sans-serif;vertical-align:top}.lsb:active{background:#dadce0}.lst:focus{outline:none}</style><script nonce=\"fhN6YPB4qYXZD2GoVxZwMw\">(function(){window.google.erd={jsr:1,bv:1867,de:true};\\nvar h=this||self;var k,l=null!=(k=h.mei)?k:1,n,p=null!=(n=h.sdo)?n:!0,q=0,r,t=google.erd,v=t.jsr;google.ml=function(a,b,d,m,e){e=void 0===e?2:e;b&&(r=a&&a.message);void 0===d&&(d={});d.cad=\"ple_\"+google.ple+\".aple_\"+google.aple;if(google.dl)return google.dl(a,e,d),null;if(0>v){window.console&&console.error(a,d);if(-2===v)throw a;b=!1}else b=!a||!a.message||\"Error loading script\"===a.message||q>=l&&!m?!1:!0;if(!b)return null;q++;d=d||{};b=encodeURIComponent;var c=\"/gen_204?atyp=i&ei=\"+b(google.kEI);google.kEXPI&&(c+=\"&jexpid=\"+b(google.kEXPI));c+=\"&srcpg=\"+b(google.sn)+\"&jsr=\"+b(t.jsr)+\"&bver=\"+\\nb(t.bv);var f=a.lineNumber;void 0!==f&&(c+=\"&line=\"+f);var g=a.fileName;g&&(0<g.indexOf(\"-extension:/\")&&(e=3),c+=\"&script=\"+b(g),f&&g===window.location.href&&(f=document.documentElement.outerHTML.split(\"\\\\n\")[f],c+=\"&cad=\"+b(f?f.substring(0,300):\"No script found.\")));google.ple&&1===google.ple&&(e=2);c+=\"&jsel=\"+e;for(var u in d)c+=\"&\",c+=b(u),c+=\"=\",c+=b(d[u]);c=c+\"&emsg=\"+b(a.name+\": \"+a.message);c=c+\"&jsst=\"+b(a.stack||\"N/A\");12288<=c.length&&(c=c.substr(0,12288));a=c;m||google.log(0,\"\",a);return a};window.onerror=function(a,b,d,m,e){r!==a&&(a=e instanceof Error?e:Error(a),void 0===d||\"lineNumber\"in a||(a.lineNumber=d),void 0===b||\"fileName\"in a||(a.fileName=b),google.ml(a,!1,void 0,!1,\"SyntaxError\"===a.name||\"SyntaxError\"===a.message.substring(0,11)||-1!==a.message.indexOf(\"Script error\")?3:0));r=null;p&&q>=l&&(window.onerror=null)};})();</script></head><body bgcolor=\"#fff\"><script nonce=\"fhN6YPB4qYXZD2GoVxZwMw\">(function(){var src=\\'/images/nav_logo229.png\\';var iesg=false;document.body.onload = function(){window.n && window.n();if (document.images){new Image().src=src;}\\nif (!iesg){document.f&&document.f.q.focus();document.gbqf&&document.gbqf.q.focus();}\\n}\\n})();</script><div id=\"mngb\"><div id=gbar><nobr><b class=gb1>Búsqueda</b> <a class=gb1 href=\"https://www.google.com/imghp?hl=es-419&tab=wi\">Imágenes</a> <a class=gb1 href=\"https://maps.google.cl/maps?hl=es-419&tab=wl\">Maps</a> <a class=gb1 href=\"https://play.google.com/?hl=es-419&tab=w8\">Play</a> <a class=gb1 href=\"https://www.youtube.com/?tab=w1\">YouTube</a> <a class=gb1 href=\"https://news.google.com/?tab=wn\">Noticias</a> <a class=gb1 href=\"https://mail.google.com/mail/?tab=wm\">Gmail</a> <a class=gb1 href=\"https://drive.google.com/?tab=wo\">Drive</a> <a class=gb1 style=\"text-decoration:none\" href=\"https://www.google.cl/intl/es-419/about/products?tab=wh\"><u>Más</u> &raquo;</a></nobr></div><div id=guser width=100%><nobr><span id=gbn class=gbi></span><span id=gbf class=gbf></span><span id=gbe></span><a href=\"http://www.google.cl/history/optout?hl=es-419\" class=gb4>Historial web</a> | <a  href=\"/preferences?hl=es-419\" class=gb4>Preferencias</a> | <a target=_top id=gb_70 href=\"https://accounts.google.com/ServiceLogin?hl=es-419&passive=true&continue=https://www.google.com/&ec=GAZAAQ\" class=gb4>Acceder</a></nobr></div><div class=gbh style=left:0></div><div class=gbh style=right:0></div></div><center><br clear=\"all\" id=\"lgpd\"><div id=\"lga\"><img alt=\"Google\" height=\"92\" src=\"/images/branding/googlelogo/1x/googlelogo_white_background_color_272x92dp.png\" style=\"padding:28px 0 14px\" width=\"272\" id=\"hplogo\"><br><br></div><form action=\"/search\" name=\"f\"><table cellpadding=\"0\" cellspacing=\"0\"><tr valign=\"top\"><td width=\"25%\">&nbsp;</td><td align=\"center\" nowrap=\"\"><input name=\"ie\" value=\"ISO-8859-1\" type=\"hidden\"><input value=\"es-419\" name=\"hl\" type=\"hidden\"><input name=\"source\" type=\"hidden\" value=\"hp\"><input name=\"biw\" type=\"hidden\"><input name=\"bih\" type=\"hidden\"><div class=\"ds\" style=\"height:32px;margin:4px 0\"><input class=\"lst\" style=\"margin:0;padding:5px 8px 0 6px;vertical-align:top;color:#000\" autocomplete=\"off\" value=\"\" title=\"Buscar con Google\" maxlength=\"2048\" name=\"q\" size=\"57\"></div><br style=\"line-height:0\"><span class=\"ds\"><span class=\"lsbb\"><input class=\"lsb\" value=\"Buscar con Google\" name=\"btnG\" type=\"submit\"></span></span><span class=\"ds\"><span class=\"lsbb\"><input class=\"lsb\" id=\"tsuid_1\" value=\"Voy a tener suerte\" name=\"btnI\" type=\"submit\"><script nonce=\"fhN6YPB4qYXZD2GoVxZwMw\">(function(){var id=\\'tsuid_1\\';document.getElementById(id).onclick = function(){if (this.form.q.value){this.checked = 1;if (this.form.iflsig)this.form.iflsig.disabled = false;}\\nelse top.location=\\'/doodles/\\';};})();</script><input value=\"AO6bgOgAAAAAZQZ6zmgRHdLwOUT2H3kLhP33hAIZ8NOJ\" name=\"iflsig\" type=\"hidden\"></span></span></td><td class=\"fl sblc\" align=\"left\" nowrap=\"\" width=\"25%\"><a href=\"/advanced_search?hl=es-419&amp;authuser=0\">Búsqueda avanzada</a></td></tr></table><input id=\"gbv\" name=\"gbv\" type=\"hidden\" value=\"1\"><script nonce=\"fhN6YPB4qYXZD2GoVxZwMw\">(function(){var a,b=\"1\";if(document&&document.getElementById)if(\"undefined\"!=typeof XMLHttpRequest)b=\"2\";else if(\"undefined\"!=typeof ActiveXObject){var c,d,e=[\"MSXML2.XMLHTTP.6.0\",\"MSXML2.XMLHTTP.3.0\",\"MSXML2.XMLHTTP\",\"Microsoft.XMLHTTP\"];for(c=0;d=e[c++];)try{new ActiveXObject(d),b=\"2\"}catch(h){}}a=b;if(\"2\"==a&&-1==location.search.indexOf(\"&gbv=2\")){var f=google.gbvu,g=document.getElementById(\"gbv\");g&&(g.value=a);f&&window.setTimeout(function(){location.href=f},0)};}).call(this);</script></form><div id=\"gac_scont\"></div><div style=\"font-size:83%;min-height:3.5em\"><br></div><span id=\"footer\"><div style=\"font-size:10pt\"><div style=\"margin:19px auto;text-align:center\" id=\"WqQANb\"><a href=\"/intl/es-419/ads/\">Publicidad</a><a href=\"/services/\">Soluciones Empresariales</a><a href=\"/intl/es-419/about.html\">Todo acerca de Google</a><a href=\"https://www.google.com/setprefdomain?prefdom=CL&amp;prev=https://www.google.cl/&amp;sig=K_QydLY7tklplYeQAO5URSKMlVRQU%3D\">Google.cl</a></div></div><p style=\"font-size:8pt;color:#70757a\">&copy; 2023 - <a href=\"/intl/es-419/policies/privacy/\">Privacidad</a> - <a href=\"/intl/es-419/policies/terms/\">Condiciones</a></p></span></center><script nonce=\"fhN6YPB4qYXZD2GoVxZwMw\">(function(){window.google.cdo={height:757,width:1440};(function(){var a=window.innerWidth,b=window.innerHeight;if(!a||!b){var c=window.document,d=\"CSS1Compat\"==c.compatMode?c.documentElement:c.body;a=d.clientWidth;b=d.clientHeight}\\nif(a&&b&&(a!=google.cdo.width||b!=google.cdo.height)){var e=google,f=e.log,g=\"/client_204?&atyp=i&biw=\"+a+\"&bih=\"+b+\"&ei=\"+google.kEI,h=\"\",k=[],l=void 0!==window.google&&void 0!==window.google.kOPI&&0!==window.google.kOPI?window.google.kOPI:null;null!=l&&k.push([\"opi\",l.toString()]);for(var m=0;m<k.length;m++){if(0===m||0<m)h+=\"&\";h+=k[m][0]+\"=\"+k[m][1]}f.call(e,\"\",\"\",g+h)};}).call(this);})();</script> <script nonce=\"fhN6YPB4qYXZD2GoVxZwMw\">(function(){google.xjs={ck:\\'xjs.hp.rfdyOQKi4t4.L.X.O\\',cs:\\'ACT90oGjVv05A8TIcdFkS06f8hbhHk5HWg\\',cssopt:false,csss:\\'ACT90oFtT-HrMPVi6_Cq6kvWf73ksxJDAg\\',excm:[],sepcss:false};})();</script>     <script nonce=\"fhN6YPB4qYXZD2GoVxZwMw\">(function(){var u=\\'/xjs/_/js/k\\\\x3dxjs.hp.en.P06Lfb3mjYc.O/am\\\\x3dAAAAAAAAAAAAAAAgAAAAAAAQABAQAAAAAAAAkAAAdAQAwAIAXA/d\\\\x3d1/ed\\\\x3d1/rs\\\\x3dACT90oE48hKDKw8FtdmIWzvN4jXA6NCN2g/m\\\\x3dsb_he,d,cEt90b,SNUn3,qddgKe,sTsDMc,dtl0hd,eHDfl\\';var amd=0;\\nvar e=this||self,f=function(a){return a};var g;var h=function(a){this.g=a};h.prototype.toString=function(){return this.g+\"\"};var k={};var l=function(){var a=document;var b=\"SCRIPT\";\"application/xhtml+xml\"===a.contentType&&(b=b.toLowerCase());return a.createElement(b)};\\nfunction m(a,b){a.src=b instanceof h&&b.constructor===h?b.g:\"type_error:TrustedResourceUrl\";var c,d;(c=(b=null==(d=(c=(a.ownerDocument&&a.ownerDocument.defaultView||window).document).querySelector)?void 0:d.call(c,\"script[nonce]\"))?b.nonce||b.getAttribute(\"nonce\")||\"\":\"\")&&a.setAttribute(\"nonce\",c)};function n(a){a=null===a?\"null\":void 0===a?\"undefined\":a;if(void 0===g){var b=null;var c=e.trustedTypes;if(c&&c.createPolicy){try{b=c.createPolicy(\"goog#html\",{createHTML:f,createScript:f,createScriptURL:f})}catch(d){e.console&&e.console.error(d.message)}g=b}else g=b}a=(b=g)?b.createScriptURL(a):a;return new h(a,k)};void 0===google.ps&&(google.ps=[]);function p(){var a=u,b=function(){};google.lx=google.stvsc?b:function(){q(a);google.lx=b};google.bx||google.lx()}function r(a,b){b&&m(a,n(b));var c=a.onload;a.onload=function(d){c&&c(d);google.ps=google.ps.filter(function(t){return a!==t})};google.ps.push(a);document.body.appendChild(a)}google.as=r;function q(a){google.timers&&google.timers.load&&google.tick&&google.tick(\"load\",\"xjsls\");var b=l();b.onerror=function(){google.ple=1};b.onload=function(){google.ple=0};google.xjsus=void 0;r(b,a);google.aple=-1;google.psa=!0};google.xjsu=u;e._F_jsUrl=u;setTimeout(function(){0<amd?google.caft(function(){return p()},amd):p()},0);})();window._ = window._ || {};window._DumpException = _._DumpException = function(e){throw e;};window._s = window._s || {};_s._DumpException = _._DumpException;window._qs = window._qs || {};_qs._DumpException = _._DumpException;(function(){window._F_toggles=[1,0,0,8,1048577,16448,0,9216,1140,24117259];})();function _F_installCss(c){}\\n(function(){google.jl={blt:\\'none\\',chnk:0,dw:false,dwu:true,emtn:0,end:0,ico:false,ikb:0,ine:false,injs:\\'none\\',injt:0,injth:0,injv2:false,lls:\\'default\\',pdt:0,rep:0,snet:true,strt:0,ubm:false,uwp:true};})();(function(){var pmc=\\'{\\\\x22d\\\\x22:{},\\\\x22sb_he\\\\x22:{\\\\x22agen\\\\x22:true,\\\\x22cgen\\\\x22:true,\\\\x22client\\\\x22:\\\\x22heirloom-hp\\\\x22,\\\\x22dh\\\\x22:true,\\\\x22ds\\\\x22:\\\\x22\\\\x22,\\\\x22fl\\\\x22:true,\\\\x22host\\\\x22:\\\\x22google.com\\\\x22,\\\\x22jsonp\\\\x22:true,\\\\x22msgs\\\\x22:{\\\\x22cibl\\\\x22:\\\\x22Borrar b\\\\\\\\u00fasqueda\\\\x22,\\\\x22dym\\\\x22:\\\\x22Quiz\\\\\\\\u00e1s quisiste decir:\\\\x22,\\\\x22lcky\\\\x22:\\\\x22Voy a tener suerte\\\\x22,\\\\x22lml\\\\x22:\\\\x22M\\\\\\\\u00e1s informaci\\\\\\\\u00f3n\\\\x22,\\\\x22psrc\\\\x22:\\\\x22Se ha eliminado esta b\\\\\\\\u00fasqueda de tu \\\\\\\\u003Ca href\\\\x3d\\\\\\\\\\\\x22/history\\\\\\\\\\\\x22\\\\\\\\u003EHistorial web\\\\\\\\u003C/a\\\\\\\\u003E\\\\x22,\\\\x22psrl\\\\x22:\\\\x22Eliminar\\\\x22,\\\\x22sbit\\\\x22:\\\\x22Buscar por im\\\\\\\\u00e1genes\\\\x22,\\\\x22srch\\\\x22:\\\\x22Buscar con Google\\\\x22},\\\\x22ovr\\\\x22:{},\\\\x22pq\\\\x22:\\\\x22\\\\x22,\\\\x22rfs\\\\x22:[],\\\\x22sbas\\\\x22:\\\\x220 3px 8px 0 rgba(0,0,0,0.2),0 0 0 1px rgba(0,0,0,0.08)\\\\x22,\\\\x22stok\\\\x22:\\\\x223pQEb1phUpSL3BmFFkkDcSKFwSE\\\\x22}}\\';google.pmc=JSON.parse(pmc);})();(function(){var b=function(a){var c=0;return function(){return c<a.length?{done:!1,value:a[c++]}:{done:!0}}};\\nvar e=this||self;var g,h;a:{for(var k=[\"CLOSURE_FLAGS\"],l=e,n=0;n<k.length;n++)if(l=l[k[n]],null==l){h=null;break a}h=l}var p=h&&h[610401301];g=null!=p?p:!1;var q,r=e.navigator;q=r?r.userAgentData||null:null;function t(a){return g?q?q.brands.some(function(c){return(c=c.brand)&&-1!=c.indexOf(a)}):!1:!1}function u(a){var c;a:{if(c=e.navigator)if(c=c.userAgent)break a;c=\"\"}return-1!=c.indexOf(a)};function v(){return g?!!q&&0<q.brands.length:!1}function w(){return u(\"Safari\")&&!(x()||(v()?0:u(\"Coast\"))||(v()?0:u(\"Opera\"))||(v()?0:u(\"Edge\"))||(v()?t(\"Microsoft Edge\"):u(\"Edg/\"))||(v()?t(\"Opera\"):u(\"OPR\"))||u(\"Firefox\")||u(\"FxiOS\")||u(\"Silk\")||u(\"Android\"))}function x(){return v()?t(\"Chromium\"):(u(\"Chrome\")||u(\"CriOS\"))&&!(v()?0:u(\"Edge\"))||u(\"Silk\")}function y(){return u(\"Android\")&&!(x()||u(\"Firefox\")||u(\"FxiOS\")||(v()?0:u(\"Opera\"))||u(\"Silk\"))};var z=v()?!1:u(\"Trident\")||u(\"MSIE\");y();x();w();var A=!z&&!w(),D=function(a){if(/-[a-z]/.test(\"ved\"))return null;if(A&&a.dataset){if(y()&&!(\"ved\"in a.dataset))return null;a=a.dataset.ved;return void 0===a?null:a}return a.getAttribute(\"data-\"+\"ved\".replace(/([A-Z])/g,\"-$1\").toLowerCase())};var E=[],F=null;function G(a){a=a.target;var c=performance.now(),f=[],H=f.concat,d=E;if(!(d instanceof Array)){var m=\"undefined\"!=typeof Symbol&&Symbol.iterator&&d[Symbol.iterator];if(m)d=m.call(d);else if(\"number\"==typeof d.length)d={next:b(d)};else throw Error(\"a`\"+String(d));for(var B=[];!(m=d.next()).done;)B.push(m.value);d=B}E=H.call(f,d,[c]);if(a&&a instanceof HTMLElement)if(a===F){if(c=4<=E.length)c=5>(E[E.length-1]-E[E.length-4])/1E3;if(c){c=google.getEI(a);a.hasAttribute(\"data-ved\")?f=a?D(a)||\"\":\"\":f=(f=\\na.closest(\"[data-ved]\"))?D(f)||\"\":\"\";f=f||\"\";if(a.hasAttribute(\"jsname\"))a=a.getAttribute(\"jsname\");else{var C;a=null==(C=a.closest(\"[jsname]\"))?void 0:C.getAttribute(\"jsname\")}google.log(\"rcm\",\"&ei=\"+c+\"&ved=\"+f+\"&jsname=\"+(a||\"\"))}}else F=a,E=[c]}window.document.addEventListener(\"DOMContentLoaded\",function(){document.body.addEventListener(\"click\",G)});}).call(this);</script></body></html>'"
      ]
     },
     "execution_count": 3,
     "metadata": {},
     "output_type": "execute_result"
    }
   ],
   "source": [
    "response.text"
   ]
  },
  {
   "cell_type": "markdown",
   "metadata": {},
   "source": [
    "#### Ejercicio: Usando web scraping, arme una base de datos con los santos del año\n",
    "\n",
    "(Ayuda: Use el sitio http://www.lasegunda.com/Especiales/santoral/agosto.html)"
   ]
  },
  {
   "cell_type": "code",
   "execution_count": 4,
   "metadata": {},
   "outputs": [
    {
     "data": {
      "text/plain": [
       "<Response [200]>"
      ]
     },
     "execution_count": 4,
     "metadata": {},
     "output_type": "execute_result"
    }
   ],
   "source": [
    "import requests\n",
    "\n",
    "response = requests.get('http://www.lasegunda.com/Especiales/santoral/septiembre.html')\n",
    "\n",
    "response"
   ]
  },
  {
   "cell_type": "code",
   "execution_count": 5,
   "metadata": {},
   "outputs": [
    {
     "data": {
      "text/plain": [
       "'ISO-8859-1'"
      ]
     },
     "execution_count": 5,
     "metadata": {},
     "output_type": "execute_result"
    }
   ],
   "source": [
    "response.encoding"
   ]
  },
  {
   "cell_type": "code",
   "execution_count": 6,
   "metadata": {},
   "outputs": [
    {
     "data": {
      "text/plain": [
       "'<!DOCTYPE html PUBLIC \"-//W3C//DTD XHTML 1.0 Transitional//EN\" \"http://www.w3.org/TR/xhtml1/DTD/xhtml1-transitional.dtd\">\\r\\n<html xmlns=\"http://www.w3.org/1999/xhtml\">\\r\\n<head>\\r\\n<meta http-equiv=\"Content-Type\" content=\"text/html; charset=utf-8\" />\\r\\n<title>Santoral | La Segunda</title>\\r\\n<style type=\"text/css\">\\r\\n<!--\\r\\n.normal {\\r\\n\\tfont-family: Arial, Helvetica, sans-serif;\\r\\n\\tfont-size: 12px;\\r\\n\\tfont-weight: normal;\\r\\n}\\r\\n\\r\\n-->\\r\\n</style>\\r\\n<link href=\"css.css\" rel=\"stylesheet\" type=\"text/css\" />\\r\\n<style type=\"text/css\">\\r\\nbody {\\r\\n\\tbackground-color: #e3e2ec;\\r\\n}\\r\\n.fecha {\\r\\n\\tfloat: left;\\r\\n\\twidth: 39px;\\r\\n\\tmargin-right: 19px;\\r\\n}\\r\\n.texto {\\r\\n\\tfloat: right;\\r\\n\\twidth: 655px;\\r\\n}\\r\\n.mes {\\r\\n\\tfont-family: Arial, Helvetica, sans-serif;\\r\\n\\tfont-size: 18px;\\r\\n\\tfont-weight: bold;\\r\\n}\\r\\n.mes2 {\\r\\n\\tfont-family: Arial, Helvetica, sans-serif;\\r\\n\\tfont-size: 18px;\\r\\n\\tfont-weight: bold;\\r\\n\\tcolor: #FF0000;\\r\\n}\\r\\n.numero {\\r\\n\\tfont-family: Arial, Helvetica, sans-serif;\\r\\n\\tfont-size: 34px;\\r\\n\\tfont-weight: bold;\\r\\n\\tline-height:29px;\\r\\n}\\r\\np {\\r\\n\\tmargin: 0px;\\r\\n\\tpadding: 0px;\\r\\n}\\r\\n.santo {\\r\\nborder-bottom:thin solid grey;\\r\\nheight:50px;\\r\\nmargin-bottom:10px;\\r\\npadding-bottom:10px;\\r\\n}\\r\\n.fondo_barra {\\r\\n\\theight: 18px;\\r\\n\\twidth: 996px;\\r\\n\\tborder-right-width: 1px;\\r\\n\\tborder-bottom-width: 1px;\\r\\n\\tborder-left-width: 1px;\\r\\n\\tborder-top-style: solid;\\r\\n\\tborder-right-style: solid;\\r\\n\\tborder-bottom-style: solid;\\r\\n\\tborder-left-style: solid;\\r\\n\\tborder-right-color: #b1b1b1;\\r\\n\\tborder-bottom-color: #b1b1b1;\\r\\n\\tborder-left-color: #b1b1b1;\\r\\n\\tbackground-color: #f5f5f5;\\r\\n\\tborder-top-width: 0px;\\r\\n\\ttext-align:left;\\r\\n\\tmargin-top: 0;\\r\\n\\tmargin-right: auto;\\r\\n\\tmargin-bottom: 0;\\r\\n\\tmargin-left: auto;\\r\\n}\\r\\nbody {\\r\\n\\ttext-align:center;\\r\\n\\tmargin-top:0px;\\r\\n}\\r\\n.cajas_barra {\\r\\n\\tborder-right:1px solid #B1B1B1;\\r\\n\\theight: 16px;\\r\\n\\tpadding-right: 13px;\\r\\n\\tpadding-top:2px;\\r\\n\\tmargin-left: 13px;\\r\\n\\tfloat: left;\\r\\n}\\r\\n.texto_barra {\\r\\n\\tfont-family: Arial, Helvetica, sans-serif;\\r\\n\\tfont-size: 11px;\\r\\n}\\r\\n.texto_barra:link, .texto_barra:visited, .texto_barra:hover {\\r\\n\\ttext-decoration: none;\\r\\n\\tcolor: #000000;\\r\\n}\\r\\np {\\r\\n\\tmargin: 0px;\\r\\n\\tpadding: 0px;\\r\\n}\\r\\n</style>\\r\\n</head>\\r\\n\\r\\n<body>\\r\\n<div class=\"fondo_barra\">\\r\\n\\t<div class=\"cajas_barra\" style=\"width:34px\"><a href=\"http://www.emol.com/\" target=\"_blank\"><img src=\"emol.jpg\" width=\"32\" height=\"11\" border=\"0\" /></a></div>\\r\\n  <div class=\"cajas_barra\" style=\"width:57px\"><p class=\"texto_barra\"><a href=\"http://diario.elmercurio.com/2010/12/14/_portada/index.htm\" target=\"_blank\" class=\"texto_barra\">El Mercurio</a></p>\\r\\n  </div>\\r\\n    <div class=\"cajas_barra\" style=\"width:100px\"><p><a href=\"http://www.lun.com/\" target=\"_blank\" class=\"texto_barra\">Las Ã\\x9altimas Noticias</a></p>\\r\\n  </div>\\r\\n\\t<div class=\"cajas_barra\" style=\"width:62px\"><p><a href=\"http://www.lasegunda.com/\" target=\"_blank\" class=\"texto_barra\">La Segunda</a></p>\\r\\n  </div>\\r\\n\\t<div class=\"cajas_barra\" style=\"width:93px\"><p><a href=\"http://www.mediosregionales.cl/prontus_mediosregionales/site/edic/base/port/inicio.html\" target=\"_blank\" class=\"texto_barra\">Diarios Regionales</a></p>\\r\\n  </div>\\r\\n  <div class=\"cajas_barra\" style=\"width:99px\"><p class=\"texto_barra\"><a href=\"http://clasificados.elmercurio.com/\" target=\"_blank\" class=\"texto_barra\">Avisos EconÃ³micos</a></p>\\r\\n  </div>\\r\\n\\r\\n</div>\\r\\n<div id=\"todo\">\\r\\n\\r\\n\\r\\n<div class=\"top\">\\r\\n    \\t<div class=\"volver\">\\r\\n        \\t<a href=\"http://www.lasegunda.com\" class=\"volver\">â\\x97\\x84 Volver a la <strong>Segunda Online</strong></a></div>\\r\\n</div>\\r\\n    \\r\\n\\t<div class=\"izquierda\">\\r\\n        \\t<div class=\"tabla\">\\r\\n        \\t<div class=\"gris\"><a href=\"enero.html\" target=\"FRAME1\" class=\"gris\">Enero</a></div>\\r\\n          <div class=\"blanco\"><a href=\"febrero.html\" class=\"blanco\">Febrero</a></div>\\r\\n            <div class=\"gris\"><a href=\"marzo.html\" class=\"gris\">Marzo</a></div>\\r\\n          <div class=\"blanco\"><a href=\"abril.html\" class=\"blanco\">Abril</a></div>\\r\\n        \\t<div class=\"gris\"><a href=\"mayo.html\" class=\"gris\">Mayo</a></div>\\r\\n          <div class=\"blanco\"><a href=\"junio.html\" class=\"blanco\">Junio</a></div>\\r\\n            <div class=\"gris\"><a href=\"julio.html\" class=\"gris\">Julio</a></div>\\r\\n          <div class=\"blanco\"><a href=\"agosto.html\" class=\"blanco\">Agosto</a></div>\\r\\n            <div class=\"gris\"><a href=\"septiembre.html\" class=\"gris\">Septiembre</a></div>\\r\\n          <div class=\"blanco\"><a href=\"octubre.html\" class=\"blanco\">Octubre</a></div>\\r\\n            <div class=\"gris\"><a href=\"noviembre.html\" class=\"gris\">Noviembre</a></div>\\r\\n          <div class=\"blanco\"><a href=\"diciembre.html\" class=\"blanco\">Diciembre</a></div>\\r\\n      </div>\\r\\n    </div>\\r\\n    <div class=\"derecha\">\\r\\n    \\t\\t<div class=\"breadcrumb\">\\r\\n    \\t\\t  <p><a href=\"http://www.lasegunda.com\">Inicio</a> Â» \\r\\n              <a href=\"/Especiales/santoral/index.html\">Santoral</a><br />\\r\\n  \\t\\t      </p>\\r\\n    \\t\\t  </div>\\r\\n<div class=\"contenido\">\\r\\n            \\t<div class=\"\">\\r\\n            \\t  <div class=\"signo_individual\">\\r\\n            \\t    <div align=\"left\">\\r\\n                    <div class=\"arriba_signo\">\\r\\n            \\t      <div class=\"nombre_signo\"><img src=\"img/septiembre.gif\" width=\"304\" height=\"36\" /></div>\\r\\n                      </div>\\r\\n                    <div class=\"texto_signo\">\\r\\n                      <p>1 Arturo <br />\\r\\n2 MoisÃ©s <br />\\r\\n3 Gregorio Magno <br />\\r\\n4 Irma <br />\\r\\n5 Victorino <br />\\r\\n6 Eva, Evelyne <br />\\r\\n7 Regina <br />\\r\\n8 Natividad de la Virgen <br />\\r\\n9 Sergio y Omar <br />\\r\\n10 NicolÃ¡s de Tolentino, Adalberto <br />\\r\\n11 Orlando, Rolando<br />\\r\\n12 MarÃ\\xada<br />\\r\\n13 Juan CrisÃ³stomo<br />\\r\\n14 Imelda<br />\\r\\n15 N.Sra.de Dolores<br />\\r\\n16 Cornelio, Cipriano <br />\\r\\n17 Roberto Belarmino <br />\\r\\n18 JosÃ© de Cupertino <br />\\r\\n19 Jenaro <br />\\r\\n20 Amelia, AndrÃ©s Kim y Pablo Tung <br />\\r\\n21 Mateo <br />\\r\\n22 Mauricio <br />\\r\\n23 Lino y Tecla <br />\\r\\n24 N.Sra.del Carmen <br />\\r\\n25 Aurelio <br />\\r\\n26 Cosme y DamiÃ¡n <br />\\r\\n27 Vicente de Paul <br />\\r\\n28 Wenceslao <br />\\r\\n29 Miguel, Gabriel y Rafael <br />\\r\\n30 JerÃ³nimo<br />\\r\\n                      </p>\\r\\n                      </div>\\r\\n            \\t    </div>\\r\\n            \\t  </div>\\r\\n           \\t  </div>\\r\\n    </div>\\r\\n</div>\\r\\n    <div class=\"footer\"><a href=\"http://www.lasegunda.com/Especiales/terminos-y-condiciones/index.asp\" class=\"footer\">TÃ©rminos y Condiciones de la informaciÃ³n @Empresa El Mercurio S.A.P., editor del diario La Segunda. </a></div>\\r\\n\\r\\n</body>\\r\\n</html>\\r\\n'"
      ]
     },
     "execution_count": 6,
     "metadata": {},
     "output_type": "execute_result"
    }
   ],
   "source": [
    "texto_web = response.text\n",
    "texto_web"
   ]
  },
  {
   "cell_type": "markdown",
   "metadata": {},
   "source": [
    "Podemos cambiar el encoding si vemos algún problema..."
   ]
  },
  {
   "cell_type": "code",
   "execution_count": 7,
   "metadata": {},
   "outputs": [],
   "source": [
    "response.encoding = 'utf-8'"
   ]
  },
  {
   "cell_type": "code",
   "execution_count": 8,
   "metadata": {},
   "outputs": [
    {
     "data": {
      "text/plain": [
       "'<!DOCTYPE html PUBLIC \"-//W3C//DTD XHTML 1.0 Transitional//EN\" \"http://www.w3.org/TR/xhtml1/DTD/xhtml1-transitional.dtd\">\\r\\n<html xmlns=\"http://www.w3.org/1999/xhtml\">\\r\\n<head>\\r\\n<meta http-equiv=\"Content-Type\" content=\"text/html; charset=utf-8\" />\\r\\n<title>Santoral | La Segunda</title>\\r\\n<style type=\"text/css\">\\r\\n<!--\\r\\n.normal {\\r\\n\\tfont-family: Arial, Helvetica, sans-serif;\\r\\n\\tfont-size: 12px;\\r\\n\\tfont-weight: normal;\\r\\n}\\r\\n\\r\\n-->\\r\\n</style>\\r\\n<link href=\"css.css\" rel=\"stylesheet\" type=\"text/css\" />\\r\\n<style type=\"text/css\">\\r\\nbody {\\r\\n\\tbackground-color: #e3e2ec;\\r\\n}\\r\\n.fecha {\\r\\n\\tfloat: left;\\r\\n\\twidth: 39px;\\r\\n\\tmargin-right: 19px;\\r\\n}\\r\\n.texto {\\r\\n\\tfloat: right;\\r\\n\\twidth: 655px;\\r\\n}\\r\\n.mes {\\r\\n\\tfont-family: Arial, Helvetica, sans-serif;\\r\\n\\tfont-size: 18px;\\r\\n\\tfont-weight: bold;\\r\\n}\\r\\n.mes2 {\\r\\n\\tfont-family: Arial, Helvetica, sans-serif;\\r\\n\\tfont-size: 18px;\\r\\n\\tfont-weight: bold;\\r\\n\\tcolor: #FF0000;\\r\\n}\\r\\n.numero {\\r\\n\\tfont-family: Arial, Helvetica, sans-serif;\\r\\n\\tfont-size: 34px;\\r\\n\\tfont-weight: bold;\\r\\n\\tline-height:29px;\\r\\n}\\r\\np {\\r\\n\\tmargin: 0px;\\r\\n\\tpadding: 0px;\\r\\n}\\r\\n.santo {\\r\\nborder-bottom:thin solid grey;\\r\\nheight:50px;\\r\\nmargin-bottom:10px;\\r\\npadding-bottom:10px;\\r\\n}\\r\\n.fondo_barra {\\r\\n\\theight: 18px;\\r\\n\\twidth: 996px;\\r\\n\\tborder-right-width: 1px;\\r\\n\\tborder-bottom-width: 1px;\\r\\n\\tborder-left-width: 1px;\\r\\n\\tborder-top-style: solid;\\r\\n\\tborder-right-style: solid;\\r\\n\\tborder-bottom-style: solid;\\r\\n\\tborder-left-style: solid;\\r\\n\\tborder-right-color: #b1b1b1;\\r\\n\\tborder-bottom-color: #b1b1b1;\\r\\n\\tborder-left-color: #b1b1b1;\\r\\n\\tbackground-color: #f5f5f5;\\r\\n\\tborder-top-width: 0px;\\r\\n\\ttext-align:left;\\r\\n\\tmargin-top: 0;\\r\\n\\tmargin-right: auto;\\r\\n\\tmargin-bottom: 0;\\r\\n\\tmargin-left: auto;\\r\\n}\\r\\nbody {\\r\\n\\ttext-align:center;\\r\\n\\tmargin-top:0px;\\r\\n}\\r\\n.cajas_barra {\\r\\n\\tborder-right:1px solid #B1B1B1;\\r\\n\\theight: 16px;\\r\\n\\tpadding-right: 13px;\\r\\n\\tpadding-top:2px;\\r\\n\\tmargin-left: 13px;\\r\\n\\tfloat: left;\\r\\n}\\r\\n.texto_barra {\\r\\n\\tfont-family: Arial, Helvetica, sans-serif;\\r\\n\\tfont-size: 11px;\\r\\n}\\r\\n.texto_barra:link, .texto_barra:visited, .texto_barra:hover {\\r\\n\\ttext-decoration: none;\\r\\n\\tcolor: #000000;\\r\\n}\\r\\np {\\r\\n\\tmargin: 0px;\\r\\n\\tpadding: 0px;\\r\\n}\\r\\n</style>\\r\\n</head>\\r\\n\\r\\n<body>\\r\\n<div class=\"fondo_barra\">\\r\\n\\t<div class=\"cajas_barra\" style=\"width:34px\"><a href=\"http://www.emol.com/\" target=\"_blank\"><img src=\"emol.jpg\" width=\"32\" height=\"11\" border=\"0\" /></a></div>\\r\\n  <div class=\"cajas_barra\" style=\"width:57px\"><p class=\"texto_barra\"><a href=\"http://diario.elmercurio.com/2010/12/14/_portada/index.htm\" target=\"_blank\" class=\"texto_barra\">El Mercurio</a></p>\\r\\n  </div>\\r\\n    <div class=\"cajas_barra\" style=\"width:100px\"><p><a href=\"http://www.lun.com/\" target=\"_blank\" class=\"texto_barra\">Las Últimas Noticias</a></p>\\r\\n  </div>\\r\\n\\t<div class=\"cajas_barra\" style=\"width:62px\"><p><a href=\"http://www.lasegunda.com/\" target=\"_blank\" class=\"texto_barra\">La Segunda</a></p>\\r\\n  </div>\\r\\n\\t<div class=\"cajas_barra\" style=\"width:93px\"><p><a href=\"http://www.mediosregionales.cl/prontus_mediosregionales/site/edic/base/port/inicio.html\" target=\"_blank\" class=\"texto_barra\">Diarios Regionales</a></p>\\r\\n  </div>\\r\\n  <div class=\"cajas_barra\" style=\"width:99px\"><p class=\"texto_barra\"><a href=\"http://clasificados.elmercurio.com/\" target=\"_blank\" class=\"texto_barra\">Avisos Económicos</a></p>\\r\\n  </div>\\r\\n\\r\\n</div>\\r\\n<div id=\"todo\">\\r\\n\\r\\n\\r\\n<div class=\"top\">\\r\\n    \\t<div class=\"volver\">\\r\\n        \\t<a href=\"http://www.lasegunda.com\" class=\"volver\">◄ Volver a la <strong>Segunda Online</strong></a></div>\\r\\n</div>\\r\\n    \\r\\n\\t<div class=\"izquierda\">\\r\\n        \\t<div class=\"tabla\">\\r\\n        \\t<div class=\"gris\"><a href=\"enero.html\" target=\"FRAME1\" class=\"gris\">Enero</a></div>\\r\\n          <div class=\"blanco\"><a href=\"febrero.html\" class=\"blanco\">Febrero</a></div>\\r\\n            <div class=\"gris\"><a href=\"marzo.html\" class=\"gris\">Marzo</a></div>\\r\\n          <div class=\"blanco\"><a href=\"abril.html\" class=\"blanco\">Abril</a></div>\\r\\n        \\t<div class=\"gris\"><a href=\"mayo.html\" class=\"gris\">Mayo</a></div>\\r\\n          <div class=\"blanco\"><a href=\"junio.html\" class=\"blanco\">Junio</a></div>\\r\\n            <div class=\"gris\"><a href=\"julio.html\" class=\"gris\">Julio</a></div>\\r\\n          <div class=\"blanco\"><a href=\"agosto.html\" class=\"blanco\">Agosto</a></div>\\r\\n            <div class=\"gris\"><a href=\"septiembre.html\" class=\"gris\">Septiembre</a></div>\\r\\n          <div class=\"blanco\"><a href=\"octubre.html\" class=\"blanco\">Octubre</a></div>\\r\\n            <div class=\"gris\"><a href=\"noviembre.html\" class=\"gris\">Noviembre</a></div>\\r\\n          <div class=\"blanco\"><a href=\"diciembre.html\" class=\"blanco\">Diciembre</a></div>\\r\\n      </div>\\r\\n    </div>\\r\\n    <div class=\"derecha\">\\r\\n    \\t\\t<div class=\"breadcrumb\">\\r\\n    \\t\\t  <p><a href=\"http://www.lasegunda.com\">Inicio</a> » \\r\\n              <a href=\"/Especiales/santoral/index.html\">Santoral</a><br />\\r\\n  \\t\\t      </p>\\r\\n    \\t\\t  </div>\\r\\n<div class=\"contenido\">\\r\\n            \\t<div class=\"\">\\r\\n            \\t  <div class=\"signo_individual\">\\r\\n            \\t    <div align=\"left\">\\r\\n                    <div class=\"arriba_signo\">\\r\\n            \\t      <div class=\"nombre_signo\"><img src=\"img/septiembre.gif\" width=\"304\" height=\"36\" /></div>\\r\\n                      </div>\\r\\n                    <div class=\"texto_signo\">\\r\\n                      <p>1 Arturo <br />\\r\\n2 Moisés <br />\\r\\n3 Gregorio Magno <br />\\r\\n4 Irma <br />\\r\\n5 Victorino <br />\\r\\n6 Eva, Evelyne <br />\\r\\n7 Regina <br />\\r\\n8 Natividad de la Virgen <br />\\r\\n9 Sergio y Omar <br />\\r\\n10 Nicolás de Tolentino, Adalberto <br />\\r\\n11 Orlando, Rolando<br />\\r\\n12 María<br />\\r\\n13 Juan Crisóstomo<br />\\r\\n14 Imelda<br />\\r\\n15 N.Sra.de Dolores<br />\\r\\n16 Cornelio, Cipriano <br />\\r\\n17 Roberto Belarmino <br />\\r\\n18 José de Cupertino <br />\\r\\n19 Jenaro <br />\\r\\n20 Amelia, Andrés Kim y Pablo Tung <br />\\r\\n21 Mateo <br />\\r\\n22 Mauricio <br />\\r\\n23 Lino y Tecla <br />\\r\\n24 N.Sra.del Carmen <br />\\r\\n25 Aurelio <br />\\r\\n26 Cosme y Damián <br />\\r\\n27 Vicente de Paul <br />\\r\\n28 Wenceslao <br />\\r\\n29 Miguel, Gabriel y Rafael <br />\\r\\n30 Jerónimo<br />\\r\\n                      </p>\\r\\n                      </div>\\r\\n            \\t    </div>\\r\\n            \\t  </div>\\r\\n           \\t  </div>\\r\\n    </div>\\r\\n</div>\\r\\n    <div class=\"footer\"><a href=\"http://www.lasegunda.com/Especiales/terminos-y-condiciones/index.asp\" class=\"footer\">Términos y Condiciones de la información @Empresa El Mercurio S.A.P., editor del diario La Segunda. </a></div>\\r\\n\\r\\n</body>\\r\\n</html>\\r\\n'"
      ]
     },
     "execution_count": 8,
     "metadata": {},
     "output_type": "execute_result"
    }
   ],
   "source": [
    "texto_web = response.text\n",
    "texto_web"
   ]
  },
  {
   "cell_type": "markdown",
   "metadata": {},
   "source": [
    "### ¿cómo extraemos la información?\n",
    "\n",
    "Afortunadamente, Python cuenta con librerias para poder navegar en estos textos. Una de ellas se llama \"Beautiful Soup\" (bs4)\n",
    "\n",
    "(Tutorial básico: https://j2logo.com/python/web-scraping-con-python-guia-inicio-beautifulsoup/)  \n",
    "(Tutorial avanzado: https://www.pluralsight.com/guides/web-scraping-with-beautiful-soup)"
   ]
  },
  {
   "cell_type": "code",
   "execution_count": 9,
   "metadata": {},
   "outputs": [
    {
     "data": {
      "text/plain": [
       "<!DOCTYPE html PUBLIC \"-//W3C//DTD XHTML 1.0 Transitional//EN\" \"http://www.w3.org/TR/xhtml1/DTD/xhtml1-transitional.dtd\">\n",
       "<html xmlns=\"http://www.w3.org/1999/xhtml\">\n",
       "<head>\n",
       "<meta content=\"text/html; charset=utf-8\" http-equiv=\"Content-Type\"/>\n",
       "<title>Santoral | La Segunda</title>\n",
       "<style type=\"text/css\">\n",
       "<!--\n",
       ".normal {\n",
       "\tfont-family: Arial, Helvetica, sans-serif;\n",
       "\tfont-size: 12px;\n",
       "\tfont-weight: normal;\n",
       "}\n",
       "\n",
       "-->\n",
       "</style>\n",
       "<link href=\"css.css\" rel=\"stylesheet\" type=\"text/css\"/>\n",
       "<style type=\"text/css\">\n",
       "body {\n",
       "\tbackground-color: #e3e2ec;\n",
       "}\n",
       ".fecha {\n",
       "\tfloat: left;\n",
       "\twidth: 39px;\n",
       "\tmargin-right: 19px;\n",
       "}\n",
       ".texto {\n",
       "\tfloat: right;\n",
       "\twidth: 655px;\n",
       "}\n",
       ".mes {\n",
       "\tfont-family: Arial, Helvetica, sans-serif;\n",
       "\tfont-size: 18px;\n",
       "\tfont-weight: bold;\n",
       "}\n",
       ".mes2 {\n",
       "\tfont-family: Arial, Helvetica, sans-serif;\n",
       "\tfont-size: 18px;\n",
       "\tfont-weight: bold;\n",
       "\tcolor: #FF0000;\n",
       "}\n",
       ".numero {\n",
       "\tfont-family: Arial, Helvetica, sans-serif;\n",
       "\tfont-size: 34px;\n",
       "\tfont-weight: bold;\n",
       "\tline-height:29px;\n",
       "}\n",
       "p {\n",
       "\tmargin: 0px;\n",
       "\tpadding: 0px;\n",
       "}\n",
       ".santo {\n",
       "border-bottom:thin solid grey;\n",
       "height:50px;\n",
       "margin-bottom:10px;\n",
       "padding-bottom:10px;\n",
       "}\n",
       ".fondo_barra {\n",
       "\theight: 18px;\n",
       "\twidth: 996px;\n",
       "\tborder-right-width: 1px;\n",
       "\tborder-bottom-width: 1px;\n",
       "\tborder-left-width: 1px;\n",
       "\tborder-top-style: solid;\n",
       "\tborder-right-style: solid;\n",
       "\tborder-bottom-style: solid;\n",
       "\tborder-left-style: solid;\n",
       "\tborder-right-color: #b1b1b1;\n",
       "\tborder-bottom-color: #b1b1b1;\n",
       "\tborder-left-color: #b1b1b1;\n",
       "\tbackground-color: #f5f5f5;\n",
       "\tborder-top-width: 0px;\n",
       "\ttext-align:left;\n",
       "\tmargin-top: 0;\n",
       "\tmargin-right: auto;\n",
       "\tmargin-bottom: 0;\n",
       "\tmargin-left: auto;\n",
       "}\n",
       "body {\n",
       "\ttext-align:center;\n",
       "\tmargin-top:0px;\n",
       "}\n",
       ".cajas_barra {\n",
       "\tborder-right:1px solid #B1B1B1;\n",
       "\theight: 16px;\n",
       "\tpadding-right: 13px;\n",
       "\tpadding-top:2px;\n",
       "\tmargin-left: 13px;\n",
       "\tfloat: left;\n",
       "}\n",
       ".texto_barra {\n",
       "\tfont-family: Arial, Helvetica, sans-serif;\n",
       "\tfont-size: 11px;\n",
       "}\n",
       ".texto_barra:link, .texto_barra:visited, .texto_barra:hover {\n",
       "\ttext-decoration: none;\n",
       "\tcolor: #000000;\n",
       "}\n",
       "p {\n",
       "\tmargin: 0px;\n",
       "\tpadding: 0px;\n",
       "}\n",
       "</style>\n",
       "</head>\n",
       "<body>\n",
       "<div class=\"fondo_barra\">\n",
       "<div class=\"cajas_barra\" style=\"width:34px\"><a href=\"http://www.emol.com/\" target=\"_blank\"><img border=\"0\" height=\"11\" src=\"emol.jpg\" width=\"32\"/></a></div>\n",
       "<div class=\"cajas_barra\" style=\"width:57px\"><p class=\"texto_barra\"><a class=\"texto_barra\" href=\"http://diario.elmercurio.com/2010/12/14/_portada/index.htm\" target=\"_blank\">El Mercurio</a></p>\n",
       "</div>\n",
       "<div class=\"cajas_barra\" style=\"width:100px\"><p><a class=\"texto_barra\" href=\"http://www.lun.com/\" target=\"_blank\">Las Últimas Noticias</a></p>\n",
       "</div>\n",
       "<div class=\"cajas_barra\" style=\"width:62px\"><p><a class=\"texto_barra\" href=\"http://www.lasegunda.com/\" target=\"_blank\">La Segunda</a></p>\n",
       "</div>\n",
       "<div class=\"cajas_barra\" style=\"width:93px\"><p><a class=\"texto_barra\" href=\"http://www.mediosregionales.cl/prontus_mediosregionales/site/edic/base/port/inicio.html\" target=\"_blank\">Diarios Regionales</a></p>\n",
       "</div>\n",
       "<div class=\"cajas_barra\" style=\"width:99px\"><p class=\"texto_barra\"><a class=\"texto_barra\" href=\"http://clasificados.elmercurio.com/\" target=\"_blank\">Avisos Económicos</a></p>\n",
       "</div>\n",
       "</div>\n",
       "<div id=\"todo\">\n",
       "<div class=\"top\">\n",
       "<div class=\"volver\">\n",
       "<a class=\"volver\" href=\"http://www.lasegunda.com\">◄ Volver a la <strong>Segunda Online</strong></a></div>\n",
       "</div>\n",
       "<div class=\"izquierda\">\n",
       "<div class=\"tabla\">\n",
       "<div class=\"gris\"><a class=\"gris\" href=\"enero.html\" target=\"FRAME1\">Enero</a></div>\n",
       "<div class=\"blanco\"><a class=\"blanco\" href=\"febrero.html\">Febrero</a></div>\n",
       "<div class=\"gris\"><a class=\"gris\" href=\"marzo.html\">Marzo</a></div>\n",
       "<div class=\"blanco\"><a class=\"blanco\" href=\"abril.html\">Abril</a></div>\n",
       "<div class=\"gris\"><a class=\"gris\" href=\"mayo.html\">Mayo</a></div>\n",
       "<div class=\"blanco\"><a class=\"blanco\" href=\"junio.html\">Junio</a></div>\n",
       "<div class=\"gris\"><a class=\"gris\" href=\"julio.html\">Julio</a></div>\n",
       "<div class=\"blanco\"><a class=\"blanco\" href=\"agosto.html\">Agosto</a></div>\n",
       "<div class=\"gris\"><a class=\"gris\" href=\"septiembre.html\">Septiembre</a></div>\n",
       "<div class=\"blanco\"><a class=\"blanco\" href=\"octubre.html\">Octubre</a></div>\n",
       "<div class=\"gris\"><a class=\"gris\" href=\"noviembre.html\">Noviembre</a></div>\n",
       "<div class=\"blanco\"><a class=\"blanco\" href=\"diciembre.html\">Diciembre</a></div>\n",
       "</div>\n",
       "</div>\n",
       "<div class=\"derecha\">\n",
       "<div class=\"breadcrumb\">\n",
       "<p><a href=\"http://www.lasegunda.com\">Inicio</a> » \n",
       "              <a href=\"/Especiales/santoral/index.html\">Santoral</a><br/>\n",
       "</p>\n",
       "</div>\n",
       "<div class=\"contenido\">\n",
       "<div class=\"\">\n",
       "<div class=\"signo_individual\">\n",
       "<div align=\"left\">\n",
       "<div class=\"arriba_signo\">\n",
       "<div class=\"nombre_signo\"><img height=\"36\" src=\"img/septiembre.gif\" width=\"304\"/></div>\n",
       "</div>\n",
       "<div class=\"texto_signo\">\n",
       "<p>1 Arturo <br/>\n",
       "2 Moisés <br/>\n",
       "3 Gregorio Magno <br/>\n",
       "4 Irma <br/>\n",
       "5 Victorino <br/>\n",
       "6 Eva, Evelyne <br/>\n",
       "7 Regina <br/>\n",
       "8 Natividad de la Virgen <br/>\n",
       "9 Sergio y Omar <br/>\n",
       "10 Nicolás de Tolentino, Adalberto <br/>\n",
       "11 Orlando, Rolando<br/>\n",
       "12 María<br/>\n",
       "13 Juan Crisóstomo<br/>\n",
       "14 Imelda<br/>\n",
       "15 N.Sra.de Dolores<br/>\n",
       "16 Cornelio, Cipriano <br/>\n",
       "17 Roberto Belarmino <br/>\n",
       "18 José de Cupertino <br/>\n",
       "19 Jenaro <br/>\n",
       "20 Amelia, Andrés Kim y Pablo Tung <br/>\n",
       "21 Mateo <br/>\n",
       "22 Mauricio <br/>\n",
       "23 Lino y Tecla <br/>\n",
       "24 N.Sra.del Carmen <br/>\n",
       "25 Aurelio <br/>\n",
       "26 Cosme y Damián <br/>\n",
       "27 Vicente de Paul <br/>\n",
       "28 Wenceslao <br/>\n",
       "29 Miguel, Gabriel y Rafael <br/>\n",
       "30 Jerónimo<br/>\n",
       "</p>\n",
       "</div>\n",
       "</div>\n",
       "</div>\n",
       "</div>\n",
       "</div>\n",
       "</div>\n",
       "<div class=\"footer\"><a class=\"footer\" href=\"http://www.lasegunda.com/Especiales/terminos-y-condiciones/index.asp\">Términos y Condiciones de la información @Empresa El Mercurio S.A.P., editor del diario La Segunda. </a></div>\n",
       "</div></body>\n",
       "</html>"
      ]
     },
     "execution_count": 9,
     "metadata": {},
     "output_type": "execute_result"
    }
   ],
   "source": [
    "import bs4\n",
    "\n",
    "soup = bs4.BeautifulSoup(texto_web)\n",
    "\n",
    "soup"
   ]
  },
  {
   "cell_type": "markdown",
   "metadata": {},
   "source": [
    "Con BS4, podemos buscar todas las etiquetas de algún tipo. Por ejemplo:"
   ]
  },
  {
   "cell_type": "code",
   "execution_count": 10,
   "metadata": {},
   "outputs": [
    {
     "data": {
      "text/plain": [
       "[<head>\n",
       " <meta content=\"text/html; charset=utf-8\" http-equiv=\"Content-Type\"/>\n",
       " <title>Santoral | La Segunda</title>\n",
       " <style type=\"text/css\">\n",
       " <!--\n",
       " .normal {\n",
       " \tfont-family: Arial, Helvetica, sans-serif;\n",
       " \tfont-size: 12px;\n",
       " \tfont-weight: normal;\n",
       " }\n",
       " \n",
       " -->\n",
       " </style>\n",
       " <link href=\"css.css\" rel=\"stylesheet\" type=\"text/css\"/>\n",
       " <style type=\"text/css\">\n",
       " body {\n",
       " \tbackground-color: #e3e2ec;\n",
       " }\n",
       " .fecha {\n",
       " \tfloat: left;\n",
       " \twidth: 39px;\n",
       " \tmargin-right: 19px;\n",
       " }\n",
       " .texto {\n",
       " \tfloat: right;\n",
       " \twidth: 655px;\n",
       " }\n",
       " .mes {\n",
       " \tfont-family: Arial, Helvetica, sans-serif;\n",
       " \tfont-size: 18px;\n",
       " \tfont-weight: bold;\n",
       " }\n",
       " .mes2 {\n",
       " \tfont-family: Arial, Helvetica, sans-serif;\n",
       " \tfont-size: 18px;\n",
       " \tfont-weight: bold;\n",
       " \tcolor: #FF0000;\n",
       " }\n",
       " .numero {\n",
       " \tfont-family: Arial, Helvetica, sans-serif;\n",
       " \tfont-size: 34px;\n",
       " \tfont-weight: bold;\n",
       " \tline-height:29px;\n",
       " }\n",
       " p {\n",
       " \tmargin: 0px;\n",
       " \tpadding: 0px;\n",
       " }\n",
       " .santo {\n",
       " border-bottom:thin solid grey;\n",
       " height:50px;\n",
       " margin-bottom:10px;\n",
       " padding-bottom:10px;\n",
       " }\n",
       " .fondo_barra {\n",
       " \theight: 18px;\n",
       " \twidth: 996px;\n",
       " \tborder-right-width: 1px;\n",
       " \tborder-bottom-width: 1px;\n",
       " \tborder-left-width: 1px;\n",
       " \tborder-top-style: solid;\n",
       " \tborder-right-style: solid;\n",
       " \tborder-bottom-style: solid;\n",
       " \tborder-left-style: solid;\n",
       " \tborder-right-color: #b1b1b1;\n",
       " \tborder-bottom-color: #b1b1b1;\n",
       " \tborder-left-color: #b1b1b1;\n",
       " \tbackground-color: #f5f5f5;\n",
       " \tborder-top-width: 0px;\n",
       " \ttext-align:left;\n",
       " \tmargin-top: 0;\n",
       " \tmargin-right: auto;\n",
       " \tmargin-bottom: 0;\n",
       " \tmargin-left: auto;\n",
       " }\n",
       " body {\n",
       " \ttext-align:center;\n",
       " \tmargin-top:0px;\n",
       " }\n",
       " .cajas_barra {\n",
       " \tborder-right:1px solid #B1B1B1;\n",
       " \theight: 16px;\n",
       " \tpadding-right: 13px;\n",
       " \tpadding-top:2px;\n",
       " \tmargin-left: 13px;\n",
       " \tfloat: left;\n",
       " }\n",
       " .texto_barra {\n",
       " \tfont-family: Arial, Helvetica, sans-serif;\n",
       " \tfont-size: 11px;\n",
       " }\n",
       " .texto_barra:link, .texto_barra:visited, .texto_barra:hover {\n",
       " \ttext-decoration: none;\n",
       " \tcolor: #000000;\n",
       " }\n",
       " p {\n",
       " \tmargin: 0px;\n",
       " \tpadding: 0px;\n",
       " }\n",
       " </style>\n",
       " </head>]"
      ]
     },
     "execution_count": 10,
     "metadata": {},
     "output_type": "execute_result"
    }
   ],
   "source": [
    "tags = soup.find_all(\"head\")\n",
    "tags"
   ]
  },
  {
   "cell_type": "code",
   "execution_count": 11,
   "metadata": {},
   "outputs": [
    {
     "data": {
      "text/plain": [
       "1"
      ]
     },
     "execution_count": 11,
     "metadata": {},
     "output_type": "execute_result"
    }
   ],
   "source": [
    "len(tags)"
   ]
  },
  {
   "cell_type": "markdown",
   "metadata": {},
   "source": [
    "Cuando hay muchas etiquetas de un mismo tipo, resulta problemático encontrar la información..."
   ]
  },
  {
   "cell_type": "code",
   "execution_count": 12,
   "metadata": {},
   "outputs": [
    {
     "data": {
      "text/plain": [
       "[<div class=\"fondo_barra\">\n",
       " <div class=\"cajas_barra\" style=\"width:34px\"><a href=\"http://www.emol.com/\" target=\"_blank\"><img border=\"0\" height=\"11\" src=\"emol.jpg\" width=\"32\"/></a></div>\n",
       " <div class=\"cajas_barra\" style=\"width:57px\"><p class=\"texto_barra\"><a class=\"texto_barra\" href=\"http://diario.elmercurio.com/2010/12/14/_portada/index.htm\" target=\"_blank\">El Mercurio</a></p>\n",
       " </div>\n",
       " <div class=\"cajas_barra\" style=\"width:100px\"><p><a class=\"texto_barra\" href=\"http://www.lun.com/\" target=\"_blank\">Las Últimas Noticias</a></p>\n",
       " </div>\n",
       " <div class=\"cajas_barra\" style=\"width:62px\"><p><a class=\"texto_barra\" href=\"http://www.lasegunda.com/\" target=\"_blank\">La Segunda</a></p>\n",
       " </div>\n",
       " <div class=\"cajas_barra\" style=\"width:93px\"><p><a class=\"texto_barra\" href=\"http://www.mediosregionales.cl/prontus_mediosregionales/site/edic/base/port/inicio.html\" target=\"_blank\">Diarios Regionales</a></p>\n",
       " </div>\n",
       " <div class=\"cajas_barra\" style=\"width:99px\"><p class=\"texto_barra\"><a class=\"texto_barra\" href=\"http://clasificados.elmercurio.com/\" target=\"_blank\">Avisos Económicos</a></p>\n",
       " </div>\n",
       " </div>,\n",
       " <div class=\"cajas_barra\" style=\"width:34px\"><a href=\"http://www.emol.com/\" target=\"_blank\"><img border=\"0\" height=\"11\" src=\"emol.jpg\" width=\"32\"/></a></div>,\n",
       " <div class=\"cajas_barra\" style=\"width:57px\"><p class=\"texto_barra\"><a class=\"texto_barra\" href=\"http://diario.elmercurio.com/2010/12/14/_portada/index.htm\" target=\"_blank\">El Mercurio</a></p>\n",
       " </div>,\n",
       " <div class=\"cajas_barra\" style=\"width:100px\"><p><a class=\"texto_barra\" href=\"http://www.lun.com/\" target=\"_blank\">Las Últimas Noticias</a></p>\n",
       " </div>,\n",
       " <div class=\"cajas_barra\" style=\"width:62px\"><p><a class=\"texto_barra\" href=\"http://www.lasegunda.com/\" target=\"_blank\">La Segunda</a></p>\n",
       " </div>,\n",
       " <div class=\"cajas_barra\" style=\"width:93px\"><p><a class=\"texto_barra\" href=\"http://www.mediosregionales.cl/prontus_mediosregionales/site/edic/base/port/inicio.html\" target=\"_blank\">Diarios Regionales</a></p>\n",
       " </div>,\n",
       " <div class=\"cajas_barra\" style=\"width:99px\"><p class=\"texto_barra\"><a class=\"texto_barra\" href=\"http://clasificados.elmercurio.com/\" target=\"_blank\">Avisos Económicos</a></p>\n",
       " </div>,\n",
       " <div id=\"todo\">\n",
       " <div class=\"top\">\n",
       " <div class=\"volver\">\n",
       " <a class=\"volver\" href=\"http://www.lasegunda.com\">◄ Volver a la <strong>Segunda Online</strong></a></div>\n",
       " </div>\n",
       " <div class=\"izquierda\">\n",
       " <div class=\"tabla\">\n",
       " <div class=\"gris\"><a class=\"gris\" href=\"enero.html\" target=\"FRAME1\">Enero</a></div>\n",
       " <div class=\"blanco\"><a class=\"blanco\" href=\"febrero.html\">Febrero</a></div>\n",
       " <div class=\"gris\"><a class=\"gris\" href=\"marzo.html\">Marzo</a></div>\n",
       " <div class=\"blanco\"><a class=\"blanco\" href=\"abril.html\">Abril</a></div>\n",
       " <div class=\"gris\"><a class=\"gris\" href=\"mayo.html\">Mayo</a></div>\n",
       " <div class=\"blanco\"><a class=\"blanco\" href=\"junio.html\">Junio</a></div>\n",
       " <div class=\"gris\"><a class=\"gris\" href=\"julio.html\">Julio</a></div>\n",
       " <div class=\"blanco\"><a class=\"blanco\" href=\"agosto.html\">Agosto</a></div>\n",
       " <div class=\"gris\"><a class=\"gris\" href=\"septiembre.html\">Septiembre</a></div>\n",
       " <div class=\"blanco\"><a class=\"blanco\" href=\"octubre.html\">Octubre</a></div>\n",
       " <div class=\"gris\"><a class=\"gris\" href=\"noviembre.html\">Noviembre</a></div>\n",
       " <div class=\"blanco\"><a class=\"blanco\" href=\"diciembre.html\">Diciembre</a></div>\n",
       " </div>\n",
       " </div>\n",
       " <div class=\"derecha\">\n",
       " <div class=\"breadcrumb\">\n",
       " <p><a href=\"http://www.lasegunda.com\">Inicio</a> » \n",
       "               <a href=\"/Especiales/santoral/index.html\">Santoral</a><br/>\n",
       " </p>\n",
       " </div>\n",
       " <div class=\"contenido\">\n",
       " <div class=\"\">\n",
       " <div class=\"signo_individual\">\n",
       " <div align=\"left\">\n",
       " <div class=\"arriba_signo\">\n",
       " <div class=\"nombre_signo\"><img height=\"36\" src=\"img/septiembre.gif\" width=\"304\"/></div>\n",
       " </div>\n",
       " <div class=\"texto_signo\">\n",
       " <p>1 Arturo <br/>\n",
       " 2 Moisés <br/>\n",
       " 3 Gregorio Magno <br/>\n",
       " 4 Irma <br/>\n",
       " 5 Victorino <br/>\n",
       " 6 Eva, Evelyne <br/>\n",
       " 7 Regina <br/>\n",
       " 8 Natividad de la Virgen <br/>\n",
       " 9 Sergio y Omar <br/>\n",
       " 10 Nicolás de Tolentino, Adalberto <br/>\n",
       " 11 Orlando, Rolando<br/>\n",
       " 12 María<br/>\n",
       " 13 Juan Crisóstomo<br/>\n",
       " 14 Imelda<br/>\n",
       " 15 N.Sra.de Dolores<br/>\n",
       " 16 Cornelio, Cipriano <br/>\n",
       " 17 Roberto Belarmino <br/>\n",
       " 18 José de Cupertino <br/>\n",
       " 19 Jenaro <br/>\n",
       " 20 Amelia, Andrés Kim y Pablo Tung <br/>\n",
       " 21 Mateo <br/>\n",
       " 22 Mauricio <br/>\n",
       " 23 Lino y Tecla <br/>\n",
       " 24 N.Sra.del Carmen <br/>\n",
       " 25 Aurelio <br/>\n",
       " 26 Cosme y Damián <br/>\n",
       " 27 Vicente de Paul <br/>\n",
       " 28 Wenceslao <br/>\n",
       " 29 Miguel, Gabriel y Rafael <br/>\n",
       " 30 Jerónimo<br/>\n",
       " </p>\n",
       " </div>\n",
       " </div>\n",
       " </div>\n",
       " </div>\n",
       " </div>\n",
       " </div>\n",
       " <div class=\"footer\"><a class=\"footer\" href=\"http://www.lasegunda.com/Especiales/terminos-y-condiciones/index.asp\">Términos y Condiciones de la información @Empresa El Mercurio S.A.P., editor del diario La Segunda. </a></div>\n",
       " </div>,\n",
       " <div class=\"top\">\n",
       " <div class=\"volver\">\n",
       " <a class=\"volver\" href=\"http://www.lasegunda.com\">◄ Volver a la <strong>Segunda Online</strong></a></div>\n",
       " </div>,\n",
       " <div class=\"volver\">\n",
       " <a class=\"volver\" href=\"http://www.lasegunda.com\">◄ Volver a la <strong>Segunda Online</strong></a></div>,\n",
       " <div class=\"izquierda\">\n",
       " <div class=\"tabla\">\n",
       " <div class=\"gris\"><a class=\"gris\" href=\"enero.html\" target=\"FRAME1\">Enero</a></div>\n",
       " <div class=\"blanco\"><a class=\"blanco\" href=\"febrero.html\">Febrero</a></div>\n",
       " <div class=\"gris\"><a class=\"gris\" href=\"marzo.html\">Marzo</a></div>\n",
       " <div class=\"blanco\"><a class=\"blanco\" href=\"abril.html\">Abril</a></div>\n",
       " <div class=\"gris\"><a class=\"gris\" href=\"mayo.html\">Mayo</a></div>\n",
       " <div class=\"blanco\"><a class=\"blanco\" href=\"junio.html\">Junio</a></div>\n",
       " <div class=\"gris\"><a class=\"gris\" href=\"julio.html\">Julio</a></div>\n",
       " <div class=\"blanco\"><a class=\"blanco\" href=\"agosto.html\">Agosto</a></div>\n",
       " <div class=\"gris\"><a class=\"gris\" href=\"septiembre.html\">Septiembre</a></div>\n",
       " <div class=\"blanco\"><a class=\"blanco\" href=\"octubre.html\">Octubre</a></div>\n",
       " <div class=\"gris\"><a class=\"gris\" href=\"noviembre.html\">Noviembre</a></div>\n",
       " <div class=\"blanco\"><a class=\"blanco\" href=\"diciembre.html\">Diciembre</a></div>\n",
       " </div>\n",
       " </div>,\n",
       " <div class=\"tabla\">\n",
       " <div class=\"gris\"><a class=\"gris\" href=\"enero.html\" target=\"FRAME1\">Enero</a></div>\n",
       " <div class=\"blanco\"><a class=\"blanco\" href=\"febrero.html\">Febrero</a></div>\n",
       " <div class=\"gris\"><a class=\"gris\" href=\"marzo.html\">Marzo</a></div>\n",
       " <div class=\"blanco\"><a class=\"blanco\" href=\"abril.html\">Abril</a></div>\n",
       " <div class=\"gris\"><a class=\"gris\" href=\"mayo.html\">Mayo</a></div>\n",
       " <div class=\"blanco\"><a class=\"blanco\" href=\"junio.html\">Junio</a></div>\n",
       " <div class=\"gris\"><a class=\"gris\" href=\"julio.html\">Julio</a></div>\n",
       " <div class=\"blanco\"><a class=\"blanco\" href=\"agosto.html\">Agosto</a></div>\n",
       " <div class=\"gris\"><a class=\"gris\" href=\"septiembre.html\">Septiembre</a></div>\n",
       " <div class=\"blanco\"><a class=\"blanco\" href=\"octubre.html\">Octubre</a></div>\n",
       " <div class=\"gris\"><a class=\"gris\" href=\"noviembre.html\">Noviembre</a></div>\n",
       " <div class=\"blanco\"><a class=\"blanco\" href=\"diciembre.html\">Diciembre</a></div>\n",
       " </div>,\n",
       " <div class=\"gris\"><a class=\"gris\" href=\"enero.html\" target=\"FRAME1\">Enero</a></div>,\n",
       " <div class=\"blanco\"><a class=\"blanco\" href=\"febrero.html\">Febrero</a></div>,\n",
       " <div class=\"gris\"><a class=\"gris\" href=\"marzo.html\">Marzo</a></div>,\n",
       " <div class=\"blanco\"><a class=\"blanco\" href=\"abril.html\">Abril</a></div>,\n",
       " <div class=\"gris\"><a class=\"gris\" href=\"mayo.html\">Mayo</a></div>,\n",
       " <div class=\"blanco\"><a class=\"blanco\" href=\"junio.html\">Junio</a></div>,\n",
       " <div class=\"gris\"><a class=\"gris\" href=\"julio.html\">Julio</a></div>,\n",
       " <div class=\"blanco\"><a class=\"blanco\" href=\"agosto.html\">Agosto</a></div>,\n",
       " <div class=\"gris\"><a class=\"gris\" href=\"septiembre.html\">Septiembre</a></div>,\n",
       " <div class=\"blanco\"><a class=\"blanco\" href=\"octubre.html\">Octubre</a></div>,\n",
       " <div class=\"gris\"><a class=\"gris\" href=\"noviembre.html\">Noviembre</a></div>,\n",
       " <div class=\"blanco\"><a class=\"blanco\" href=\"diciembre.html\">Diciembre</a></div>,\n",
       " <div class=\"derecha\">\n",
       " <div class=\"breadcrumb\">\n",
       " <p><a href=\"http://www.lasegunda.com\">Inicio</a> » \n",
       "               <a href=\"/Especiales/santoral/index.html\">Santoral</a><br/>\n",
       " </p>\n",
       " </div>\n",
       " <div class=\"contenido\">\n",
       " <div class=\"\">\n",
       " <div class=\"signo_individual\">\n",
       " <div align=\"left\">\n",
       " <div class=\"arriba_signo\">\n",
       " <div class=\"nombre_signo\"><img height=\"36\" src=\"img/septiembre.gif\" width=\"304\"/></div>\n",
       " </div>\n",
       " <div class=\"texto_signo\">\n",
       " <p>1 Arturo <br/>\n",
       " 2 Moisés <br/>\n",
       " 3 Gregorio Magno <br/>\n",
       " 4 Irma <br/>\n",
       " 5 Victorino <br/>\n",
       " 6 Eva, Evelyne <br/>\n",
       " 7 Regina <br/>\n",
       " 8 Natividad de la Virgen <br/>\n",
       " 9 Sergio y Omar <br/>\n",
       " 10 Nicolás de Tolentino, Adalberto <br/>\n",
       " 11 Orlando, Rolando<br/>\n",
       " 12 María<br/>\n",
       " 13 Juan Crisóstomo<br/>\n",
       " 14 Imelda<br/>\n",
       " 15 N.Sra.de Dolores<br/>\n",
       " 16 Cornelio, Cipriano <br/>\n",
       " 17 Roberto Belarmino <br/>\n",
       " 18 José de Cupertino <br/>\n",
       " 19 Jenaro <br/>\n",
       " 20 Amelia, Andrés Kim y Pablo Tung <br/>\n",
       " 21 Mateo <br/>\n",
       " 22 Mauricio <br/>\n",
       " 23 Lino y Tecla <br/>\n",
       " 24 N.Sra.del Carmen <br/>\n",
       " 25 Aurelio <br/>\n",
       " 26 Cosme y Damián <br/>\n",
       " 27 Vicente de Paul <br/>\n",
       " 28 Wenceslao <br/>\n",
       " 29 Miguel, Gabriel y Rafael <br/>\n",
       " 30 Jerónimo<br/>\n",
       " </p>\n",
       " </div>\n",
       " </div>\n",
       " </div>\n",
       " </div>\n",
       " </div>\n",
       " </div>,\n",
       " <div class=\"breadcrumb\">\n",
       " <p><a href=\"http://www.lasegunda.com\">Inicio</a> » \n",
       "               <a href=\"/Especiales/santoral/index.html\">Santoral</a><br/>\n",
       " </p>\n",
       " </div>,\n",
       " <div class=\"contenido\">\n",
       " <div class=\"\">\n",
       " <div class=\"signo_individual\">\n",
       " <div align=\"left\">\n",
       " <div class=\"arriba_signo\">\n",
       " <div class=\"nombre_signo\"><img height=\"36\" src=\"img/septiembre.gif\" width=\"304\"/></div>\n",
       " </div>\n",
       " <div class=\"texto_signo\">\n",
       " <p>1 Arturo <br/>\n",
       " 2 Moisés <br/>\n",
       " 3 Gregorio Magno <br/>\n",
       " 4 Irma <br/>\n",
       " 5 Victorino <br/>\n",
       " 6 Eva, Evelyne <br/>\n",
       " 7 Regina <br/>\n",
       " 8 Natividad de la Virgen <br/>\n",
       " 9 Sergio y Omar <br/>\n",
       " 10 Nicolás de Tolentino, Adalberto <br/>\n",
       " 11 Orlando, Rolando<br/>\n",
       " 12 María<br/>\n",
       " 13 Juan Crisóstomo<br/>\n",
       " 14 Imelda<br/>\n",
       " 15 N.Sra.de Dolores<br/>\n",
       " 16 Cornelio, Cipriano <br/>\n",
       " 17 Roberto Belarmino <br/>\n",
       " 18 José de Cupertino <br/>\n",
       " 19 Jenaro <br/>\n",
       " 20 Amelia, Andrés Kim y Pablo Tung <br/>\n",
       " 21 Mateo <br/>\n",
       " 22 Mauricio <br/>\n",
       " 23 Lino y Tecla <br/>\n",
       " 24 N.Sra.del Carmen <br/>\n",
       " 25 Aurelio <br/>\n",
       " 26 Cosme y Damián <br/>\n",
       " 27 Vicente de Paul <br/>\n",
       " 28 Wenceslao <br/>\n",
       " 29 Miguel, Gabriel y Rafael <br/>\n",
       " 30 Jerónimo<br/>\n",
       " </p>\n",
       " </div>\n",
       " </div>\n",
       " </div>\n",
       " </div>\n",
       " </div>,\n",
       " <div class=\"\">\n",
       " <div class=\"signo_individual\">\n",
       " <div align=\"left\">\n",
       " <div class=\"arriba_signo\">\n",
       " <div class=\"nombre_signo\"><img height=\"36\" src=\"img/septiembre.gif\" width=\"304\"/></div>\n",
       " </div>\n",
       " <div class=\"texto_signo\">\n",
       " <p>1 Arturo <br/>\n",
       " 2 Moisés <br/>\n",
       " 3 Gregorio Magno <br/>\n",
       " 4 Irma <br/>\n",
       " 5 Victorino <br/>\n",
       " 6 Eva, Evelyne <br/>\n",
       " 7 Regina <br/>\n",
       " 8 Natividad de la Virgen <br/>\n",
       " 9 Sergio y Omar <br/>\n",
       " 10 Nicolás de Tolentino, Adalberto <br/>\n",
       " 11 Orlando, Rolando<br/>\n",
       " 12 María<br/>\n",
       " 13 Juan Crisóstomo<br/>\n",
       " 14 Imelda<br/>\n",
       " 15 N.Sra.de Dolores<br/>\n",
       " 16 Cornelio, Cipriano <br/>\n",
       " 17 Roberto Belarmino <br/>\n",
       " 18 José de Cupertino <br/>\n",
       " 19 Jenaro <br/>\n",
       " 20 Amelia, Andrés Kim y Pablo Tung <br/>\n",
       " 21 Mateo <br/>\n",
       " 22 Mauricio <br/>\n",
       " 23 Lino y Tecla <br/>\n",
       " 24 N.Sra.del Carmen <br/>\n",
       " 25 Aurelio <br/>\n",
       " 26 Cosme y Damián <br/>\n",
       " 27 Vicente de Paul <br/>\n",
       " 28 Wenceslao <br/>\n",
       " 29 Miguel, Gabriel y Rafael <br/>\n",
       " 30 Jerónimo<br/>\n",
       " </p>\n",
       " </div>\n",
       " </div>\n",
       " </div>\n",
       " </div>,\n",
       " <div class=\"signo_individual\">\n",
       " <div align=\"left\">\n",
       " <div class=\"arriba_signo\">\n",
       " <div class=\"nombre_signo\"><img height=\"36\" src=\"img/septiembre.gif\" width=\"304\"/></div>\n",
       " </div>\n",
       " <div class=\"texto_signo\">\n",
       " <p>1 Arturo <br/>\n",
       " 2 Moisés <br/>\n",
       " 3 Gregorio Magno <br/>\n",
       " 4 Irma <br/>\n",
       " 5 Victorino <br/>\n",
       " 6 Eva, Evelyne <br/>\n",
       " 7 Regina <br/>\n",
       " 8 Natividad de la Virgen <br/>\n",
       " 9 Sergio y Omar <br/>\n",
       " 10 Nicolás de Tolentino, Adalberto <br/>\n",
       " 11 Orlando, Rolando<br/>\n",
       " 12 María<br/>\n",
       " 13 Juan Crisóstomo<br/>\n",
       " 14 Imelda<br/>\n",
       " 15 N.Sra.de Dolores<br/>\n",
       " 16 Cornelio, Cipriano <br/>\n",
       " 17 Roberto Belarmino <br/>\n",
       " 18 José de Cupertino <br/>\n",
       " 19 Jenaro <br/>\n",
       " 20 Amelia, Andrés Kim y Pablo Tung <br/>\n",
       " 21 Mateo <br/>\n",
       " 22 Mauricio <br/>\n",
       " 23 Lino y Tecla <br/>\n",
       " 24 N.Sra.del Carmen <br/>\n",
       " 25 Aurelio <br/>\n",
       " 26 Cosme y Damián <br/>\n",
       " 27 Vicente de Paul <br/>\n",
       " 28 Wenceslao <br/>\n",
       " 29 Miguel, Gabriel y Rafael <br/>\n",
       " 30 Jerónimo<br/>\n",
       " </p>\n",
       " </div>\n",
       " </div>\n",
       " </div>,\n",
       " <div align=\"left\">\n",
       " <div class=\"arriba_signo\">\n",
       " <div class=\"nombre_signo\"><img height=\"36\" src=\"img/septiembre.gif\" width=\"304\"/></div>\n",
       " </div>\n",
       " <div class=\"texto_signo\">\n",
       " <p>1 Arturo <br/>\n",
       " 2 Moisés <br/>\n",
       " 3 Gregorio Magno <br/>\n",
       " 4 Irma <br/>\n",
       " 5 Victorino <br/>\n",
       " 6 Eva, Evelyne <br/>\n",
       " 7 Regina <br/>\n",
       " 8 Natividad de la Virgen <br/>\n",
       " 9 Sergio y Omar <br/>\n",
       " 10 Nicolás de Tolentino, Adalberto <br/>\n",
       " 11 Orlando, Rolando<br/>\n",
       " 12 María<br/>\n",
       " 13 Juan Crisóstomo<br/>\n",
       " 14 Imelda<br/>\n",
       " 15 N.Sra.de Dolores<br/>\n",
       " 16 Cornelio, Cipriano <br/>\n",
       " 17 Roberto Belarmino <br/>\n",
       " 18 José de Cupertino <br/>\n",
       " 19 Jenaro <br/>\n",
       " 20 Amelia, Andrés Kim y Pablo Tung <br/>\n",
       " 21 Mateo <br/>\n",
       " 22 Mauricio <br/>\n",
       " 23 Lino y Tecla <br/>\n",
       " 24 N.Sra.del Carmen <br/>\n",
       " 25 Aurelio <br/>\n",
       " 26 Cosme y Damián <br/>\n",
       " 27 Vicente de Paul <br/>\n",
       " 28 Wenceslao <br/>\n",
       " 29 Miguel, Gabriel y Rafael <br/>\n",
       " 30 Jerónimo<br/>\n",
       " </p>\n",
       " </div>\n",
       " </div>,\n",
       " <div class=\"arriba_signo\">\n",
       " <div class=\"nombre_signo\"><img height=\"36\" src=\"img/septiembre.gif\" width=\"304\"/></div>\n",
       " </div>,\n",
       " <div class=\"nombre_signo\"><img height=\"36\" src=\"img/septiembre.gif\" width=\"304\"/></div>,\n",
       " <div class=\"texto_signo\">\n",
       " <p>1 Arturo <br/>\n",
       " 2 Moisés <br/>\n",
       " 3 Gregorio Magno <br/>\n",
       " 4 Irma <br/>\n",
       " 5 Victorino <br/>\n",
       " 6 Eva, Evelyne <br/>\n",
       " 7 Regina <br/>\n",
       " 8 Natividad de la Virgen <br/>\n",
       " 9 Sergio y Omar <br/>\n",
       " 10 Nicolás de Tolentino, Adalberto <br/>\n",
       " 11 Orlando, Rolando<br/>\n",
       " 12 María<br/>\n",
       " 13 Juan Crisóstomo<br/>\n",
       " 14 Imelda<br/>\n",
       " 15 N.Sra.de Dolores<br/>\n",
       " 16 Cornelio, Cipriano <br/>\n",
       " 17 Roberto Belarmino <br/>\n",
       " 18 José de Cupertino <br/>\n",
       " 19 Jenaro <br/>\n",
       " 20 Amelia, Andrés Kim y Pablo Tung <br/>\n",
       " 21 Mateo <br/>\n",
       " 22 Mauricio <br/>\n",
       " 23 Lino y Tecla <br/>\n",
       " 24 N.Sra.del Carmen <br/>\n",
       " 25 Aurelio <br/>\n",
       " 26 Cosme y Damián <br/>\n",
       " 27 Vicente de Paul <br/>\n",
       " 28 Wenceslao <br/>\n",
       " 29 Miguel, Gabriel y Rafael <br/>\n",
       " 30 Jerónimo<br/>\n",
       " </p>\n",
       " </div>,\n",
       " <div class=\"footer\"><a class=\"footer\" href=\"http://www.lasegunda.com/Especiales/terminos-y-condiciones/index.asp\">Términos y Condiciones de la información @Empresa El Mercurio S.A.P., editor del diario La Segunda. </a></div>]"
      ]
     },
     "execution_count": 12,
     "metadata": {},
     "output_type": "execute_result"
    }
   ],
   "source": [
    "tags = soup.find_all('div')\n",
    "tags"
   ]
  },
  {
   "cell_type": "code",
   "execution_count": 13,
   "metadata": {},
   "outputs": [
    {
     "data": {
      "text/plain": [
       "34"
      ]
     },
     "execution_count": 13,
     "metadata": {},
     "output_type": "execute_result"
    }
   ],
   "source": [
    "len(tags)"
   ]
  },
  {
   "cell_type": "code",
   "execution_count": 14,
   "metadata": {},
   "outputs": [
    {
     "data": {
      "text/plain": [
       "<div class=\"fondo_barra\">\n",
       "<div class=\"cajas_barra\" style=\"width:34px\"><a href=\"http://www.emol.com/\" target=\"_blank\"><img border=\"0\" height=\"11\" src=\"emol.jpg\" width=\"32\"/></a></div>\n",
       "<div class=\"cajas_barra\" style=\"width:57px\"><p class=\"texto_barra\"><a class=\"texto_barra\" href=\"http://diario.elmercurio.com/2010/12/14/_portada/index.htm\" target=\"_blank\">El Mercurio</a></p>\n",
       "</div>\n",
       "<div class=\"cajas_barra\" style=\"width:100px\"><p><a class=\"texto_barra\" href=\"http://www.lun.com/\" target=\"_blank\">Las Últimas Noticias</a></p>\n",
       "</div>\n",
       "<div class=\"cajas_barra\" style=\"width:62px\"><p><a class=\"texto_barra\" href=\"http://www.lasegunda.com/\" target=\"_blank\">La Segunda</a></p>\n",
       "</div>\n",
       "<div class=\"cajas_barra\" style=\"width:93px\"><p><a class=\"texto_barra\" href=\"http://www.mediosregionales.cl/prontus_mediosregionales/site/edic/base/port/inicio.html\" target=\"_blank\">Diarios Regionales</a></p>\n",
       "</div>\n",
       "<div class=\"cajas_barra\" style=\"width:99px\"><p class=\"texto_barra\"><a class=\"texto_barra\" href=\"http://clasificados.elmercurio.com/\" target=\"_blank\">Avisos Económicos</a></p>\n",
       "</div>\n",
       "</div>"
      ]
     },
     "execution_count": 14,
     "metadata": {},
     "output_type": "execute_result"
    }
   ],
   "source": [
    "x = tags[0]\n",
    "x"
   ]
  },
  {
   "cell_type": "markdown",
   "metadata": {},
   "source": [
    "Afortunadamente, también podemos navegar usando otros parámetros, como la \"clase\" de la etiqueta o su ID:"
   ]
  },
  {
   "cell_type": "code",
   "execution_count": 15,
   "metadata": {},
   "outputs": [
    {
     "data": {
      "text/plain": [
       "[<div id=\"todo\">\n",
       " <div class=\"top\">\n",
       " <div class=\"volver\">\n",
       " <a class=\"volver\" href=\"http://www.lasegunda.com\">◄ Volver a la <strong>Segunda Online</strong></a></div>\n",
       " </div>\n",
       " <div class=\"izquierda\">\n",
       " <div class=\"tabla\">\n",
       " <div class=\"gris\"><a class=\"gris\" href=\"enero.html\" target=\"FRAME1\">Enero</a></div>\n",
       " <div class=\"blanco\"><a class=\"blanco\" href=\"febrero.html\">Febrero</a></div>\n",
       " <div class=\"gris\"><a class=\"gris\" href=\"marzo.html\">Marzo</a></div>\n",
       " <div class=\"blanco\"><a class=\"blanco\" href=\"abril.html\">Abril</a></div>\n",
       " <div class=\"gris\"><a class=\"gris\" href=\"mayo.html\">Mayo</a></div>\n",
       " <div class=\"blanco\"><a class=\"blanco\" href=\"junio.html\">Junio</a></div>\n",
       " <div class=\"gris\"><a class=\"gris\" href=\"julio.html\">Julio</a></div>\n",
       " <div class=\"blanco\"><a class=\"blanco\" href=\"agosto.html\">Agosto</a></div>\n",
       " <div class=\"gris\"><a class=\"gris\" href=\"septiembre.html\">Septiembre</a></div>\n",
       " <div class=\"blanco\"><a class=\"blanco\" href=\"octubre.html\">Octubre</a></div>\n",
       " <div class=\"gris\"><a class=\"gris\" href=\"noviembre.html\">Noviembre</a></div>\n",
       " <div class=\"blanco\"><a class=\"blanco\" href=\"diciembre.html\">Diciembre</a></div>\n",
       " </div>\n",
       " </div>\n",
       " <div class=\"derecha\">\n",
       " <div class=\"breadcrumb\">\n",
       " <p><a href=\"http://www.lasegunda.com\">Inicio</a> » \n",
       "               <a href=\"/Especiales/santoral/index.html\">Santoral</a><br/>\n",
       " </p>\n",
       " </div>\n",
       " <div class=\"contenido\">\n",
       " <div class=\"\">\n",
       " <div class=\"signo_individual\">\n",
       " <div align=\"left\">\n",
       " <div class=\"arriba_signo\">\n",
       " <div class=\"nombre_signo\"><img height=\"36\" src=\"img/septiembre.gif\" width=\"304\"/></div>\n",
       " </div>\n",
       " <div class=\"texto_signo\">\n",
       " <p>1 Arturo <br/>\n",
       " 2 Moisés <br/>\n",
       " 3 Gregorio Magno <br/>\n",
       " 4 Irma <br/>\n",
       " 5 Victorino <br/>\n",
       " 6 Eva, Evelyne <br/>\n",
       " 7 Regina <br/>\n",
       " 8 Natividad de la Virgen <br/>\n",
       " 9 Sergio y Omar <br/>\n",
       " 10 Nicolás de Tolentino, Adalberto <br/>\n",
       " 11 Orlando, Rolando<br/>\n",
       " 12 María<br/>\n",
       " 13 Juan Crisóstomo<br/>\n",
       " 14 Imelda<br/>\n",
       " 15 N.Sra.de Dolores<br/>\n",
       " 16 Cornelio, Cipriano <br/>\n",
       " 17 Roberto Belarmino <br/>\n",
       " 18 José de Cupertino <br/>\n",
       " 19 Jenaro <br/>\n",
       " 20 Amelia, Andrés Kim y Pablo Tung <br/>\n",
       " 21 Mateo <br/>\n",
       " 22 Mauricio <br/>\n",
       " 23 Lino y Tecla <br/>\n",
       " 24 N.Sra.del Carmen <br/>\n",
       " 25 Aurelio <br/>\n",
       " 26 Cosme y Damián <br/>\n",
       " 27 Vicente de Paul <br/>\n",
       " 28 Wenceslao <br/>\n",
       " 29 Miguel, Gabriel y Rafael <br/>\n",
       " 30 Jerónimo<br/>\n",
       " </p>\n",
       " </div>\n",
       " </div>\n",
       " </div>\n",
       " </div>\n",
       " </div>\n",
       " </div>\n",
       " <div class=\"footer\"><a class=\"footer\" href=\"http://www.lasegunda.com/Especiales/terminos-y-condiciones/index.asp\">Términos y Condiciones de la información @Empresa El Mercurio S.A.P., editor del diario La Segunda. </a></div>\n",
       " </div>]"
      ]
     },
     "execution_count": 15,
     "metadata": {},
     "output_type": "execute_result"
    }
   ],
   "source": [
    "tags = soup.find_all(id=\"todo\")\n",
    "tags"
   ]
  },
  {
   "cell_type": "code",
   "execution_count": 16,
   "metadata": {},
   "outputs": [
    {
     "data": {
      "text/plain": [
       "1"
      ]
     },
     "execution_count": 16,
     "metadata": {},
     "output_type": "execute_result"
    }
   ],
   "source": [
    "len(tags)"
   ]
  },
  {
   "cell_type": "code",
   "execution_count": 17,
   "metadata": {},
   "outputs": [
    {
     "data": {
      "text/plain": [
       "[<div class=\"gris\"><a class=\"gris\" href=\"enero.html\" target=\"FRAME1\">Enero</a></div>,\n",
       " <a class=\"gris\" href=\"enero.html\" target=\"FRAME1\">Enero</a>,\n",
       " <div class=\"gris\"><a class=\"gris\" href=\"marzo.html\">Marzo</a></div>,\n",
       " <a class=\"gris\" href=\"marzo.html\">Marzo</a>,\n",
       " <div class=\"gris\"><a class=\"gris\" href=\"mayo.html\">Mayo</a></div>,\n",
       " <a class=\"gris\" href=\"mayo.html\">Mayo</a>,\n",
       " <div class=\"gris\"><a class=\"gris\" href=\"julio.html\">Julio</a></div>,\n",
       " <a class=\"gris\" href=\"julio.html\">Julio</a>,\n",
       " <div class=\"gris\"><a class=\"gris\" href=\"septiembre.html\">Septiembre</a></div>,\n",
       " <a class=\"gris\" href=\"septiembre.html\">Septiembre</a>,\n",
       " <div class=\"gris\"><a class=\"gris\" href=\"noviembre.html\">Noviembre</a></div>,\n",
       " <a class=\"gris\" href=\"noviembre.html\">Noviembre</a>]"
      ]
     },
     "execution_count": 17,
     "metadata": {},
     "output_type": "execute_result"
    }
   ],
   "source": [
    "tags = soup.find_all(class_=\"gris\")\n",
    "tags"
   ]
  },
  {
   "cell_type": "code",
   "execution_count": 18,
   "metadata": {},
   "outputs": [
    {
     "data": {
      "text/plain": [
       "12"
      ]
     },
     "execution_count": 18,
     "metadata": {},
     "output_type": "execute_result"
    }
   ],
   "source": [
    "len(tags)"
   ]
  },
  {
   "cell_type": "markdown",
   "metadata": {},
   "source": [
    "Otra forma de buscar información es usando los selectores CSS.\n",
    "\n",
    "*(Avanzado: Más sobre CSS selectors aquí: https://facelessuser.github.io/soupsieve/)*"
   ]
  },
  {
   "cell_type": "code",
   "execution_count": 20,
   "metadata": {},
   "outputs": [
    {
     "data": {
      "text/plain": [
       "[<a href=\"http://www.emol.com/\" target=\"_blank\"><img border=\"0\" height=\"11\" src=\"emol.jpg\" width=\"32\"/></a>,\n",
       " <a class=\"volver\" href=\"http://www.lasegunda.com\">◄ Volver a la <strong>Segunda Online</strong></a>,\n",
       " <a class=\"gris\" href=\"enero.html\" target=\"FRAME1\">Enero</a>,\n",
       " <a class=\"blanco\" href=\"febrero.html\">Febrero</a>,\n",
       " <a class=\"gris\" href=\"marzo.html\">Marzo</a>,\n",
       " <a class=\"blanco\" href=\"abril.html\">Abril</a>,\n",
       " <a class=\"gris\" href=\"mayo.html\">Mayo</a>,\n",
       " <a class=\"blanco\" href=\"junio.html\">Junio</a>,\n",
       " <a class=\"gris\" href=\"julio.html\">Julio</a>,\n",
       " <a class=\"blanco\" href=\"agosto.html\">Agosto</a>,\n",
       " <a class=\"gris\" href=\"septiembre.html\">Septiembre</a>,\n",
       " <a class=\"blanco\" href=\"octubre.html\">Octubre</a>,\n",
       " <a class=\"gris\" href=\"noviembre.html\">Noviembre</a>,\n",
       " <a class=\"blanco\" href=\"diciembre.html\">Diciembre</a>,\n",
       " <a class=\"footer\" href=\"http://www.lasegunda.com/Especiales/terminos-y-condiciones/index.asp\">Términos y Condiciones de la información @Empresa El Mercurio S.A.P., editor del diario La Segunda. </a>]"
      ]
     },
     "execution_count": 20,
     "metadata": {},
     "output_type": "execute_result"
    }
   ],
   "source": [
    "tags = soup.select('div > a')\n",
    "tags"
   ]
  },
  {
   "cell_type": "markdown",
   "metadata": {},
   "source": [
    "Hmm... volvemos a tener el mismo problema. Pero podemos ser más específicos:"
   ]
  },
  {
   "cell_type": "markdown",
   "metadata": {},
   "source": [
    "Veamos dónde se encuentra la información que nos interesa:"
   ]
  },
  {
   "cell_type": "code",
   "execution_count": 21,
   "metadata": {},
   "outputs": [
    {
     "data": {
      "text/plain": [
       "[<div class=\"texto_signo\">\n",
       " <p>1 Arturo <br/>\n",
       " 2 Moisés <br/>\n",
       " 3 Gregorio Magno <br/>\n",
       " 4 Irma <br/>\n",
       " 5 Victorino <br/>\n",
       " 6 Eva, Evelyne <br/>\n",
       " 7 Regina <br/>\n",
       " 8 Natividad de la Virgen <br/>\n",
       " 9 Sergio y Omar <br/>\n",
       " 10 Nicolás de Tolentino, Adalberto <br/>\n",
       " 11 Orlando, Rolando<br/>\n",
       " 12 María<br/>\n",
       " 13 Juan Crisóstomo<br/>\n",
       " 14 Imelda<br/>\n",
       " 15 N.Sra.de Dolores<br/>\n",
       " 16 Cornelio, Cipriano <br/>\n",
       " 17 Roberto Belarmino <br/>\n",
       " 18 José de Cupertino <br/>\n",
       " 19 Jenaro <br/>\n",
       " 20 Amelia, Andrés Kim y Pablo Tung <br/>\n",
       " 21 Mateo <br/>\n",
       " 22 Mauricio <br/>\n",
       " 23 Lino y Tecla <br/>\n",
       " 24 N.Sra.del Carmen <br/>\n",
       " 25 Aurelio <br/>\n",
       " 26 Cosme y Damián <br/>\n",
       " 27 Vicente de Paul <br/>\n",
       " 28 Wenceslao <br/>\n",
       " 29 Miguel, Gabriel y Rafael <br/>\n",
       " 30 Jerónimo<br/>\n",
       " </p>\n",
       " </div>]"
      ]
     },
     "execution_count": 21,
     "metadata": {},
     "output_type": "execute_result"
    }
   ],
   "source": [
    "tags = soup.find_all(class_=\"texto_signo\")\n",
    "tags"
   ]
  },
  {
   "cell_type": "code",
   "execution_count": 22,
   "metadata": {},
   "outputs": [
    {
     "data": {
      "text/plain": [
       "1"
      ]
     },
     "execution_count": 22,
     "metadata": {},
     "output_type": "execute_result"
    }
   ],
   "source": [
    "len(tags)"
   ]
  },
  {
   "cell_type": "code",
   "execution_count": 23,
   "metadata": {},
   "outputs": [
    {
     "data": {
      "text/plain": [
       "'\\n1 Arturo \\r\\n2 Moisés \\r\\n3 Gregorio Magno \\r\\n4 Irma \\r\\n5 Victorino \\r\\n6 Eva, Evelyne \\r\\n7 Regina \\r\\n8 Natividad de la Virgen \\r\\n9 Sergio y Omar \\r\\n10 Nicolás de Tolentino, Adalberto \\r\\n11 Orlando, Rolando\\r\\n12 María\\r\\n13 Juan Crisóstomo\\r\\n14 Imelda\\r\\n15 N.Sra.de Dolores\\r\\n16 Cornelio, Cipriano \\r\\n17 Roberto Belarmino \\r\\n18 José de Cupertino \\r\\n19 Jenaro \\r\\n20 Amelia, Andrés Kim y Pablo Tung \\r\\n21 Mateo \\r\\n22 Mauricio \\r\\n23 Lino y Tecla \\r\\n24 N.Sra.del Carmen \\r\\n25 Aurelio \\r\\n26 Cosme y Damián \\r\\n27 Vicente de Paul \\r\\n28 Wenceslao \\r\\n29 Miguel, Gabriel y Rafael \\r\\n30 Jerónimo\\n\\n'"
      ]
     },
     "execution_count": 23,
     "metadata": {},
     "output_type": "execute_result"
    }
   ],
   "source": [
    "resultado_de_interes = tags[0]\n",
    "\n",
    "resultado_de_interes.text"
   ]
  },
  {
   "cell_type": "markdown",
   "metadata": {},
   "source": [
    "Podríamos refinar los resultados un poco más si quisieramos:"
   ]
  },
  {
   "cell_type": "code",
   "execution_count": 24,
   "metadata": {},
   "outputs": [
    {
     "data": {
      "text/plain": [
       "[<p>1 Arturo <br/>\n",
       " 2 Moisés <br/>\n",
       " 3 Gregorio Magno <br/>\n",
       " 4 Irma <br/>\n",
       " 5 Victorino <br/>\n",
       " 6 Eva, Evelyne <br/>\n",
       " 7 Regina <br/>\n",
       " 8 Natividad de la Virgen <br/>\n",
       " 9 Sergio y Omar <br/>\n",
       " 10 Nicolás de Tolentino, Adalberto <br/>\n",
       " 11 Orlando, Rolando<br/>\n",
       " 12 María<br/>\n",
       " 13 Juan Crisóstomo<br/>\n",
       " 14 Imelda<br/>\n",
       " 15 N.Sra.de Dolores<br/>\n",
       " 16 Cornelio, Cipriano <br/>\n",
       " 17 Roberto Belarmino <br/>\n",
       " 18 José de Cupertino <br/>\n",
       " 19 Jenaro <br/>\n",
       " 20 Amelia, Andrés Kim y Pablo Tung <br/>\n",
       " 21 Mateo <br/>\n",
       " 22 Mauricio <br/>\n",
       " 23 Lino y Tecla <br/>\n",
       " 24 N.Sra.del Carmen <br/>\n",
       " 25 Aurelio <br/>\n",
       " 26 Cosme y Damián <br/>\n",
       " 27 Vicente de Paul <br/>\n",
       " 28 Wenceslao <br/>\n",
       " 29 Miguel, Gabriel y Rafael <br/>\n",
       " 30 Jerónimo<br/>\n",
       " </p>]"
      ]
     },
     "execution_count": 24,
     "metadata": {},
     "output_type": "execute_result"
    }
   ],
   "source": [
    "resultado_refinado = resultado_de_interes.find_all('p')\n",
    "\n",
    "resultado_refinado"
   ]
  },
  {
   "cell_type": "markdown",
   "metadata": {},
   "source": [
    "¿cómo podemos extraer la información ahora?"
   ]
  },
  {
   "cell_type": "code",
   "execution_count": 25,
   "metadata": {},
   "outputs": [
    {
     "data": {
      "text/plain": [
       "'1 Arturo \\r\\n2 Moisés \\r\\n3 Gregorio Magno \\r\\n4 Irma \\r\\n5 Victorino \\r\\n6 Eva, Evelyne \\r\\n7 Regina \\r\\n8 Natividad de la Virgen \\r\\n9 Sergio y Omar \\r\\n10 Nicolás de Tolentino, Adalberto \\r\\n11 Orlando, Rolando\\r\\n12 María\\r\\n13 Juan Crisóstomo\\r\\n14 Imelda\\r\\n15 N.Sra.de Dolores\\r\\n16 Cornelio, Cipriano \\r\\n17 Roberto Belarmino \\r\\n18 José de Cupertino \\r\\n19 Jenaro \\r\\n20 Amelia, Andrés Kim y Pablo Tung \\r\\n21 Mateo \\r\\n22 Mauricio \\r\\n23 Lino y Tecla \\r\\n24 N.Sra.del Carmen \\r\\n25 Aurelio \\r\\n26 Cosme y Damián \\r\\n27 Vicente de Paul \\r\\n28 Wenceslao \\r\\n29 Miguel, Gabriel y Rafael \\r\\n30 Jerónimo'"
      ]
     },
     "execution_count": 25,
     "metadata": {},
     "output_type": "execute_result"
    }
   ],
   "source": [
    "info_bruta = resultado_de_interes.text.strip()\n",
    "info_bruta"
   ]
  },
  {
   "cell_type": "markdown",
   "metadata": {},
   "source": [
    "Usemos la función \"split()\" de los objetos *str*:"
   ]
  },
  {
   "cell_type": "code",
   "execution_count": 26,
   "metadata": {},
   "outputs": [
    {
     "data": {
      "text/plain": [
       "['1 Arturo \\r',\n",
       " '2 Moisés \\r',\n",
       " '3 Gregorio Magno \\r',\n",
       " '4 Irma \\r',\n",
       " '5 Victorino \\r',\n",
       " '6 Eva, Evelyne \\r',\n",
       " '7 Regina \\r',\n",
       " '8 Natividad de la Virgen \\r',\n",
       " '9 Sergio y Omar \\r',\n",
       " '10 Nicolás de Tolentino, Adalberto \\r',\n",
       " '11 Orlando, Rolando\\r',\n",
       " '12 María\\r',\n",
       " '13 Juan Crisóstomo\\r',\n",
       " '14 Imelda\\r',\n",
       " '15 N.Sra.de Dolores\\r',\n",
       " '16 Cornelio, Cipriano \\r',\n",
       " '17 Roberto Belarmino \\r',\n",
       " '18 José de Cupertino \\r',\n",
       " '19 Jenaro \\r',\n",
       " '20 Amelia, Andrés Kim y Pablo Tung \\r',\n",
       " '21 Mateo \\r',\n",
       " '22 Mauricio \\r',\n",
       " '23 Lino y Tecla \\r',\n",
       " '24 N.Sra.del Carmen \\r',\n",
       " '25 Aurelio \\r',\n",
       " '26 Cosme y Damián \\r',\n",
       " '27 Vicente de Paul \\r',\n",
       " '28 Wenceslao \\r',\n",
       " '29 Miguel, Gabriel y Rafael \\r',\n",
       " '30 Jerónimo']"
      ]
     },
     "execution_count": 26,
     "metadata": {},
     "output_type": "execute_result"
    }
   ],
   "source": [
    "lista_santos = info_bruta.split('\\n')\n",
    "lista_santos"
   ]
  },
  {
   "cell_type": "code",
   "execution_count": 27,
   "metadata": {},
   "outputs": [
    {
     "data": {
      "text/plain": [
       "[(1, 'Arturo'),\n",
       " (2, 'Moisés'),\n",
       " (3, 'Gregorio Magno'),\n",
       " (4, 'Irma'),\n",
       " (5, 'Victorino'),\n",
       " (6, 'Eva, Evelyne'),\n",
       " (7, 'Regina'),\n",
       " (8, 'Natividad de la Virgen'),\n",
       " (9, 'Sergio y Omar'),\n",
       " (10, 'Nicolás de Tolentino, Adalberto'),\n",
       " (11, 'Orlando, Rolando'),\n",
       " (12, 'María'),\n",
       " (13, 'Juan Crisóstomo'),\n",
       " (14, 'Imelda'),\n",
       " (15, 'N.Sra.de Dolores'),\n",
       " (16, 'Cornelio, Cipriano'),\n",
       " (17, 'Roberto Belarmino'),\n",
       " (18, 'José de Cupertino'),\n",
       " (19, 'Jenaro'),\n",
       " (20, 'Amelia, Andrés Kim y Pablo Tung'),\n",
       " (21, 'Mateo'),\n",
       " (22, 'Mauricio'),\n",
       " (23, 'Lino y Tecla'),\n",
       " (24, 'N.Sra.del Carmen'),\n",
       " (25, 'Aurelio'),\n",
       " (26, 'Cosme y Damián'),\n",
       " (27, 'Vicente de Paul'),\n",
       " (28, 'Wenceslao'),\n",
       " (29, 'Miguel, Gabriel y Rafael'),\n",
       " (30, 'Jerónimo')]"
      ]
     },
     "execution_count": 27,
     "metadata": {},
     "output_type": "execute_result"
    }
   ],
   "source": [
    "resultados = []\n",
    "for linea in lista_santos:\n",
    "    index = linea.index(' ')\n",
    "    #break\n",
    "    \n",
    "    dia = int(linea[0: index])\n",
    "    nombre = linea[index+1:].strip()\n",
    "    \n",
    "    resultados.append((dia, nombre))\n",
    "    #print(linea.split(' ', 1))\n",
    "\n",
    "resultados\n",
    "    "
   ]
  },
  {
   "cell_type": "markdown",
   "metadata": {},
   "source": [
    "Pongamos todo junto!"
   ]
  },
  {
   "cell_type": "code",
   "execution_count": 28,
   "metadata": {},
   "outputs": [
    {
     "data": {
      "text/plain": [
       "[(1, 'Alfonso María de Ligorio'),\n",
       " (2, 'Eusebio'),\n",
       " (3, 'Lydia'),\n",
       " (4, 'Juan María Vianney'),\n",
       " (5, 'Osvaldo, Nieves'),\n",
       " (6, '(Transfiguración)'),\n",
       " (7, 'Sixto, Cayetano'),\n",
       " (8, 'Domingo de Guzmán'),\n",
       " (9, 'Justo'),\n",
       " (10, 'Lorenzo'),\n",
       " (11, 'Clara de Asís'),\n",
       " (12, 'Laura'),\n",
       " (13, 'Víctor'),\n",
       " (14, 'Maximiliano Kolbe, Alfredo'),\n",
       " (15, 'Asunción'),\n",
       " (16, 'Esteban de Hungría, Roque'),\n",
       " (17, 'Jacinto'),\n",
       " (18, 'Alberto Hurtado, Elena, Nelly, Leticia'),\n",
       " (19, 'Mariano'),\n",
       " (20, 'Bernardo'),\n",
       " (21, 'Pío X, Graciela'),\n",
       " (22, 'María Reina'),\n",
       " (23, 'Donato'),\n",
       " (24, 'Bartolomé'),\n",
       " (25, 'Luís (rey), José Calasanz'),\n",
       " (26, 'Teresa de Jesús Jornet e Ibars, César'),\n",
       " (27, 'Mónica'),\n",
       " (28, 'Agustín'),\n",
       " (29, 'Juan Bautista, Sabina'),\n",
       " (30, 'Rosa de Lima'),\n",
       " (31, 'Ramón')]"
      ]
     },
     "execution_count": 28,
     "metadata": {},
     "output_type": "execute_result"
    }
   ],
   "source": [
    "import bs4\n",
    "\n",
    "import requests\n",
    "\n",
    "response = requests.get(f'http://www.lasegunda.com/Especiales/santoral/agosto.html')\n",
    "response.encoding = 'utf-8'\n",
    "\n",
    "texto_web = response.text\n",
    "\n",
    "soup = bs4.BeautifulSoup(texto_web)\n",
    "\n",
    "#busco seccion de interes\n",
    "tags = soup.find_all(class_=\"texto_signo\")\n",
    "\n",
    "resultado_de_interes = tags[0]\n",
    "\n",
    "#extraigo texto y elimino caracteres raros\n",
    "info_bruta = resultado_de_interes.text.strip()\n",
    "\n",
    "lista_santos = info_bruta.split('\\n')\n",
    "\n",
    "resultados = []\n",
    "for linea in lista_santos:\n",
    "    \n",
    "    index = linea.index(' ')\n",
    "    #break\n",
    "    \n",
    "    dia = int(linea[0: index])\n",
    "    nombre = linea[index+1:].strip()\n",
    "    \n",
    "    resultados.append((dia, nombre))\n",
    "    #print(linea.split(' ', 1))\n",
    "\n",
    "resultados"
   ]
  },
  {
   "cell_type": "code",
   "execution_count": 4,
   "metadata": {},
   "outputs": [
    {
     "data": {
      "text/plain": [
       "['1 María, Madre de Dios',\n",
       " '2 Basilio, Gregorio',\n",
       " '3 Genoveva',\n",
       " '4 Yolando, Rigoberto',\n",
       " '5 Emilia',\n",
       " '6 Wilma, Melanio',\n",
       " '7 Raimundo',\n",
       " '8 Luciano, Eladio',\n",
       " '9 Lucrecia',\n",
       " '10 Gonzalo',\n",
       " '11 Alejandro',\n",
       " '12 Julián',\n",
       " '13 Hilario',\n",
       " '14 Félix',\n",
       " '15 Raquel, Mauro',\n",
       " '16 Marcelo',\n",
       " '17 Antonio, Guido',\n",
       " '18 Prisca - Priscila',\n",
       " '19 Mario',\n",
       " '20 Sebastián, Fabián',\n",
       " '21 Inés',\n",
       " '22 Laura Vicuña, Vicente',\n",
       " '23 Virginia',\n",
       " '24 Francisco de Sales',\n",
       " '25 Elvira',\n",
       " '26 Timoteo, Tito, Paula - Paola',\n",
       " '27 Ángela Merici',\n",
       " '28 Tomás de Aquino',\n",
       " '29 Valerio\\r',\n",
       " '                          30 Martina',\n",
       " '31 Juan Bosco, Marcela']"
      ]
     },
     "execution_count": 4,
     "metadata": {},
     "output_type": "execute_result"
    }
   ],
   "source": [
    "lista_santos"
   ]
  },
  {
   "cell_type": "code",
   "execution_count": null,
   "metadata": {},
   "outputs": [],
   "source": []
  },
  {
   "cell_type": "code",
   "execution_count": null,
   "metadata": {},
   "outputs": [],
   "source": []
  }
 ],
 "metadata": {
  "anaconda-cloud": {},
  "colab": {
   "collapsed_sections": [],
   "name": "Clase 2019-03-14.ipynb",
   "provenance": [],
   "version": "0.3.2"
  },
  "kernelspec": {
   "display_name": "Python 3 (ipykernel)",
   "language": "python",
   "name": "python3"
  },
  "language_info": {
   "codemirror_mode": {
    "name": "ipython",
    "version": 3
   },
   "file_extension": ".py",
   "mimetype": "text/x-python",
   "name": "python",
   "nbconvert_exporter": "python",
   "pygments_lexer": "ipython3",
   "version": "3.9.7"
  },
  "nbpresent": {
   "slides": {
    "0052b82e-f7b1-4423-9d9e-a361f0766117": {
     "id": "0052b82e-f7b1-4423-9d9e-a361f0766117",
     "prev": "93d5894e-ebaa-4d85-9667-6a536a9f0038",
     "regions": {
      "83ca3a7f-2cdf-4dcc-8bce-436818cb134a": {
       "attrs": {
        "height": 0.8,
        "width": 0.8,
        "x": 0.1,
        "y": 0.1
       },
       "content": {
        "cell": "0c0cf793-6bd5-4923-a6c0-c407480356ae",
        "part": "whole"
       },
       "id": "83ca3a7f-2cdf-4dcc-8bce-436818cb134a"
      }
     }
    },
    "01771150-43e7-4f27-9601-a91311b04891": {
     "id": "01771150-43e7-4f27-9601-a91311b04891",
     "prev": "ea4f3f0d-b374-4483-9d63-2fe6e11bde26",
     "regions": {
      "ced23f1b-f7a8-482f-be4f-98c80ab047d8": {
       "attrs": {
        "height": 0.8,
        "width": 0.8,
        "x": 0.1,
        "y": 0.1
       },
       "content": {
        "cell": "2d46fe21-61d3-43ea-8409-634f74440ab6",
        "part": "whole"
       },
       "id": "ced23f1b-f7a8-482f-be4f-98c80ab047d8"
      }
     }
    },
    "01e3f498-92b2-4491-b919-f630dd4faa51": {
     "id": "01e3f498-92b2-4491-b919-f630dd4faa51",
     "prev": "a0cb7ed0-84ea-4341-a3bc-685ed84e841a",
     "regions": {
      "414cd6ea-f489-4139-a3f5-b527921e7b80": {
       "attrs": {
        "height": 0.8,
        "width": 0.8,
        "x": 0.1,
        "y": 0.1
       },
       "content": {
        "cell": "d7e755e7-f949-4d98-9796-54352677aa9a",
        "part": "whole"
       },
       "id": "414cd6ea-f489-4139-a3f5-b527921e7b80"
      }
     }
    },
    "02e7266d-f8e7-470b-87c6-3f7e68ad8ba6": {
     "id": "02e7266d-f8e7-470b-87c6-3f7e68ad8ba6",
     "prev": "fb95abd4-b6a5-4e12-b547-a2bbaca6556d",
     "regions": {
      "2c20a345-829c-4845-896d-ea575a357545": {
       "attrs": {
        "height": 0.8,
        "width": 0.8,
        "x": 0.1,
        "y": 0.1
       },
       "content": {
        "cell": "0a46173e-dbc8-40c4-b102-72b535fd0586",
        "part": "whole"
       },
       "id": "2c20a345-829c-4845-896d-ea575a357545"
      }
     }
    },
    "052c56da-d919-45fc-9d37-377879c9a307": {
     "id": "052c56da-d919-45fc-9d37-377879c9a307",
     "prev": "8b872348-35a3-4d50-aeb9-c2aa46018233",
     "regions": {
      "3ae4afd7-e934-4b31-9d33-b24ef04e3ce2": {
       "attrs": {
        "height": 0.8,
        "width": 0.8,
        "x": 0.1,
        "y": 0.1
       },
       "content": {
        "cell": "f5551457-9439-47da-9368-03827f6e2b88",
        "part": "whole"
       },
       "id": "3ae4afd7-e934-4b31-9d33-b24ef04e3ce2"
      }
     }
    },
    "05ae80f4-35d5-40ff-8a3c-783c9cd85754": {
     "id": "05ae80f4-35d5-40ff-8a3c-783c9cd85754",
     "prev": "1cb5a259-4573-485a-9e51-f3722663a52c",
     "regions": {
      "743700b1-313e-46bb-862a-021522d9d93b": {
       "attrs": {
        "height": 0.8,
        "width": 0.8,
        "x": 0.1,
        "y": 0.1
       },
       "content": {
        "cell": "5c3763b4-3c1c-42a8-b669-65fcee80b687",
        "part": "whole"
       },
       "id": "743700b1-313e-46bb-862a-021522d9d93b"
      }
     }
    },
    "07e3e7a8-990c-4b4b-9629-7fe49399068d": {
     "id": "07e3e7a8-990c-4b4b-9629-7fe49399068d",
     "prev": "22fe82c1-1191-4f95-984d-2c229fa13497",
     "regions": {
      "562b08f2-facd-40d8-8e33-a5f29d9c04f1": {
       "attrs": {
        "height": 0.8,
        "width": 0.8,
        "x": 0.1,
        "y": 0.1
       },
       "content": {
        "cell": "8ce68b02-a199-471b-b0b6-05bc5ce4ca7b",
        "part": "whole"
       },
       "id": "562b08f2-facd-40d8-8e33-a5f29d9c04f1"
      }
     }
    },
    "08823aaa-7669-4dc3-a4d9-544256ab8230": {
     "id": "08823aaa-7669-4dc3-a4d9-544256ab8230",
     "prev": "fbfc191f-1d18-484d-8bc6-1dbc7c44f5b4",
     "regions": {
      "e61df928-5944-4bcb-9032-e160df9eadc7": {
       "attrs": {
        "height": 0.8,
        "width": 0.8,
        "x": 0.1,
        "y": 0.1
       },
       "content": {
        "cell": "3248826a-3a89-4a52-b923-9e1c53b1bc0a",
        "part": "whole"
       },
       "id": "e61df928-5944-4bcb-9032-e160df9eadc7"
      }
     }
    },
    "0a5248b6-7d1c-4561-9eff-6246c7afc95e": {
     "id": "0a5248b6-7d1c-4561-9eff-6246c7afc95e",
     "prev": "1323b329-5fce-4b3b-9f12-325ee83f8426",
     "regions": {
      "0ed3420e-212a-436b-b9e5-124bb601e3e7": {
       "attrs": {
        "height": 0.8,
        "width": 0.8,
        "x": 0.1,
        "y": 0.1
       },
       "content": {
        "cell": "85f9bbb5-e62e-4f92-8bd0-f59f0acce59a",
        "part": "whole"
       },
       "id": "0ed3420e-212a-436b-b9e5-124bb601e3e7"
      }
     }
    },
    "0cf9e58d-70fc-4d9a-9c37-136227a96f1d": {
     "id": "0cf9e58d-70fc-4d9a-9c37-136227a96f1d",
     "prev": "bd088f8a-75a7-495a-a535-335c8b4a5de3",
     "regions": {
      "a907124a-34c8-4f78-81d1-ad9014ddcfac": {
       "attrs": {
        "height": 0.8,
        "width": 0.8,
        "x": 0.1,
        "y": 0.1
       },
       "content": {
        "cell": "34fa1736-e73a-48d4-a0f5-ea63f52ae18c",
        "part": "whole"
       },
       "id": "a907124a-34c8-4f78-81d1-ad9014ddcfac"
      }
     }
    },
    "0d7e1235-d5c1-42ab-b69b-7dde12ab1c24": {
     "id": "0d7e1235-d5c1-42ab-b69b-7dde12ab1c24",
     "prev": "bfb6600e-d137-4f15-b679-654c22e5c501",
     "regions": {
      "0cbb8df0-ba95-4162-8fb9-42a84066808f": {
       "attrs": {
        "height": 0.8,
        "width": 0.8,
        "x": 0.1,
        "y": 0.1
       },
       "content": {
        "cell": "5bd0b3b3-085c-491b-9f98-f9f70a80e030",
        "part": "whole"
       },
       "id": "0cbb8df0-ba95-4162-8fb9-42a84066808f"
      }
     }
    },
    "10a6e3e2-eeac-41c6-a948-7ba098e7ce51": {
     "id": "10a6e3e2-eeac-41c6-a948-7ba098e7ce51",
     "prev": "bfda3b75-eb73-403a-88c2-693dc3505bb3",
     "regions": {
      "f481a24d-3964-4ced-bc8a-d659b017bf93": {
       "attrs": {
        "height": 0.8,
        "width": 0.8,
        "x": 0.1,
        "y": 0.1
       },
       "content": {
        "cell": "493b921c-9a76-4315-8a1f-96f13124923c",
        "part": "whole"
       },
       "id": "f481a24d-3964-4ced-bc8a-d659b017bf93"
      }
     }
    },
    "120b97ca-1585-4560-89ce-b589e74ff92a": {
     "id": "120b97ca-1585-4560-89ce-b589e74ff92a",
     "prev": "01e3f498-92b2-4491-b919-f630dd4faa51",
     "regions": {
      "5db45825-e790-4c29-9475-57350f652df9": {
       "attrs": {
        "height": 0.8,
        "width": 0.8,
        "x": 0.1,
        "y": 0.1
       },
       "content": {
        "cell": "f7d398ec-9c2a-4331-8a43-3d98360af240",
        "part": "whole"
       },
       "id": "5db45825-e790-4c29-9475-57350f652df9"
      }
     }
    },
    "1323b329-5fce-4b3b-9f12-325ee83f8426": {
     "id": "1323b329-5fce-4b3b-9f12-325ee83f8426",
     "prev": "5b2a487f-1fe7-4e1b-9224-25ac06f848f9",
     "regions": {
      "fa97c0e3-75cc-4f95-97b7-9b18c6d4604d": {
       "attrs": {
        "height": 0.8,
        "width": 0.8,
        "x": 0.1,
        "y": 0.1
       },
       "content": {
        "cell": "683c65df-0bf0-4c06-acda-c38fe5c0bcfd",
        "part": "whole"
       },
       "id": "fa97c0e3-75cc-4f95-97b7-9b18c6d4604d"
      }
     }
    },
    "1cb5a259-4573-485a-9e51-f3722663a52c": {
     "id": "1cb5a259-4573-485a-9e51-f3722663a52c",
     "prev": "bd397fd9-4c4b-49ab-bebb-e6c1b34ed48b",
     "regions": {
      "6b1b1deb-d776-4029-962e-eaf657c22c70": {
       "attrs": {
        "height": 0.8,
        "width": 0.8,
        "x": 0.1,
        "y": 0.1
       },
       "content": {
        "cell": "66a9e450-668c-4c69-9028-b9deaeabd9d0",
        "part": "whole"
       },
       "id": "6b1b1deb-d776-4029-962e-eaf657c22c70"
      }
     }
    },
    "1ed9579d-9869-4393-86a9-ae914fb079fd": {
     "id": "1ed9579d-9869-4393-86a9-ae914fb079fd",
     "prev": "4264d8a7-ae20-463b-b616-3ba3dd591ded",
     "regions": {
      "38a4966a-d00a-42d0-99f3-bd6b041615f8": {
       "attrs": {
        "height": 0.8,
        "width": 0.8,
        "x": 0.1,
        "y": 0.1
       },
       "content": {
        "cell": "9f818851-ba46-44ca-9853-67e9353951ff",
        "part": "whole"
       },
       "id": "38a4966a-d00a-42d0-99f3-bd6b041615f8"
      }
     }
    },
    "1f6c1f60-464a-4418-b493-1373f4a95ded": {
     "id": "1f6c1f60-464a-4418-b493-1373f4a95ded",
     "prev": "ee71bee7-6fed-423f-b5d8-d801ee3c6279",
     "regions": {
      "10727614-9695-4931-9795-4ff75ad40dad": {
       "attrs": {
        "height": 0.8,
        "width": 0.8,
        "x": 0.1,
        "y": 0.1
       },
       "content": {
        "cell": "e01e3bb4-ae58-4460-b6a2-66774755304c",
        "part": "whole"
       },
       "id": "10727614-9695-4931-9795-4ff75ad40dad"
      }
     }
    },
    "22eebb25-915b-4767-be52-cfa3bc43e962": {
     "id": "22eebb25-915b-4767-be52-cfa3bc43e962",
     "prev": "353645bd-02fb-45c8-80d6-aaf2d7ef5c1a",
     "regions": {
      "1eae330e-4c7b-463b-9f0d-b97d70b12893": {
       "attrs": {
        "height": 0.8,
        "width": 0.8,
        "x": 0.1,
        "y": 0.1
       },
       "content": {
        "cell": "7106b27a-73d3-4ca1-b390-cdb38d21f6ce",
        "part": "whole"
       },
       "id": "1eae330e-4c7b-463b-9f0d-b97d70b12893"
      }
     }
    },
    "22fe82c1-1191-4f95-984d-2c229fa13497": {
     "id": "22fe82c1-1191-4f95-984d-2c229fa13497",
     "prev": "ebab35ee-d8bd-4bfe-bb97-4ea589fb2b4e",
     "regions": {
      "3d2ea673-4e67-4b0b-8d61-b8a455bb54f5": {
       "attrs": {
        "height": 0.8,
        "width": 0.8,
        "x": 0.1,
        "y": 0.1
       },
       "content": {
        "cell": "6c3f886a-f261-410a-b0b0-9195ab73bcf3",
        "part": "whole"
       },
       "id": "3d2ea673-4e67-4b0b-8d61-b8a455bb54f5"
      }
     }
    },
    "26e17f4f-5724-4aad-927e-8266d20946f8": {
     "id": "26e17f4f-5724-4aad-927e-8266d20946f8",
     "prev": "7e179fc1-1cf9-49fe-87ac-7d2860a63482",
     "regions": {
      "0c350398-56a9-4cf2-b6c1-01716868763e": {
       "attrs": {
        "height": 0.8,
        "width": 0.8,
        "x": 0.1,
        "y": 0.1
       },
       "content": {
        "cell": "67652974-0bad-466f-b732-ec2a76261fe7",
        "part": "whole"
       },
       "id": "0c350398-56a9-4cf2-b6c1-01716868763e"
      }
     }
    },
    "27ae6b2e-5756-41e7-9d06-9ddfd4937e04": {
     "id": "27ae6b2e-5756-41e7-9d06-9ddfd4937e04",
     "prev": "4eb8f21c-b235-40ed-a87d-fbb8abb075a3",
     "regions": {
      "2af1e3ae-5281-4633-83e0-54f5b8469432": {
       "attrs": {
        "height": 0.8,
        "width": 0.8,
        "x": 0.1,
        "y": 0.1
       },
       "content": {
        "cell": "854907cf-5d1a-447d-849c-25ef346a88a1",
        "part": "whole"
       },
       "id": "2af1e3ae-5281-4633-83e0-54f5b8469432"
      }
     }
    },
    "28285a33-49e4-4530-a023-65be1a709464": {
     "id": "28285a33-49e4-4530-a023-65be1a709464",
     "prev": "27ae6b2e-5756-41e7-9d06-9ddfd4937e04",
     "regions": {
      "08432854-6a60-4725-8c73-602b8fdff6a0": {
       "attrs": {
        "height": 0.8,
        "width": 0.8,
        "x": 0.1,
        "y": 0.1
       },
       "content": {
        "cell": "88268ca7-9aed-4ba3-90c0-2fa51b3016a3",
        "part": "whole"
       },
       "id": "08432854-6a60-4725-8c73-602b8fdff6a0"
      }
     }
    },
    "28fb309d-6d25-44ca-ab25-2ef31f2217f8": {
     "id": "28fb309d-6d25-44ca-ab25-2ef31f2217f8",
     "prev": "10a6e3e2-eeac-41c6-a948-7ba098e7ce51",
     "regions": {
      "0d11de71-5191-4d94-a80c-2cce35ce1cb8": {
       "attrs": {
        "height": 0.8,
        "width": 0.8,
        "x": 0.1,
        "y": 0.1
       },
       "content": {
        "cell": "392d9d30-0da5-4aad-b263-f9ff2de5bbb3",
        "part": "whole"
       },
       "id": "0d11de71-5191-4d94-a80c-2cce35ce1cb8"
      }
     }
    },
    "29dfd9be-feec-4b45-a5a6-e49217d5e5fa": {
     "id": "29dfd9be-feec-4b45-a5a6-e49217d5e5fa",
     "prev": "f31a9f8d-8bde-46f5-a89d-c375f61009f4",
     "regions": {
      "e456ef98-fb1e-424a-ac5b-4b13f0247f74": {
       "attrs": {
        "height": 0.8,
        "width": 0.8,
        "x": 0.1,
        "y": 0.1
       },
       "content": {
        "cell": "1e8ddb83-ea61-449a-bd11-fe6b23b7decf",
        "part": "whole"
       },
       "id": "e456ef98-fb1e-424a-ac5b-4b13f0247f74"
      }
     }
    },
    "353645bd-02fb-45c8-80d6-aaf2d7ef5c1a": {
     "id": "353645bd-02fb-45c8-80d6-aaf2d7ef5c1a",
     "prev": "5c75dce2-e2b6-444d-a618-e9764fba7799",
     "regions": {
      "87918cd4-4f5c-42aa-a1bd-195d43203c2e": {
       "attrs": {
        "height": 0.8,
        "width": 0.8,
        "x": 0.1,
        "y": 0.1
       },
       "content": {
        "cell": "9c753a82-ebc2-44c2-ad56-db4d8fefd7b6",
        "part": "whole"
       },
       "id": "87918cd4-4f5c-42aa-a1bd-195d43203c2e"
      }
     }
    },
    "3cf1bbb1-3d02-451c-bbe4-acae655404ce": {
     "id": "3cf1bbb1-3d02-451c-bbe4-acae655404ce",
     "prev": "fad04a7d-f91f-4505-8bfd-93764293ed48",
     "regions": {
      "c64a3ee3-23dc-4a8d-a05f-5d173805a8de": {
       "attrs": {
        "height": 0.8,
        "width": 0.8,
        "x": 0.1,
        "y": 0.1
       },
       "content": {
        "cell": "e3c8806e-8797-467c-8e43-942066e35b46",
        "part": "whole"
       },
       "id": "c64a3ee3-23dc-4a8d-a05f-5d173805a8de"
      }
     }
    },
    "4264d8a7-ae20-463b-b616-3ba3dd591ded": {
     "id": "4264d8a7-ae20-463b-b616-3ba3dd591ded",
     "prev": "8a850c64-8e69-4bf2-9cdf-11d3d96cba9c",
     "regions": {
      "ebf76456-c5e8-4ac7-8a75-b3b260de35e3": {
       "attrs": {
        "height": 0.8,
        "width": 0.8,
        "x": 0.1,
        "y": 0.1
       },
       "content": {
        "cell": "2cd18bae-765a-497b-871b-e9f05f672e39",
        "part": "whole"
       },
       "id": "ebf76456-c5e8-4ac7-8a75-b3b260de35e3"
      }
     }
    },
    "458b864b-c75e-49e9-a3d9-ff84d97dc59f": {
     "id": "458b864b-c75e-49e9-a3d9-ff84d97dc59f",
     "prev": "f78190b4-13d1-4d6a-be29-75a046e7ac5c",
     "regions": {
      "d6ac10fa-ab7b-4a82-adc0-92314a2b6b98": {
       "attrs": {
        "height": 0.8,
        "width": 0.8,
        "x": 0.1,
        "y": 0.1
       },
       "content": {
        "cell": "36b1e415-7d09-4ad0-b34e-d232ffa5a0ac",
        "part": "whole"
       },
       "id": "d6ac10fa-ab7b-4a82-adc0-92314a2b6b98"
      }
     }
    },
    "47cb3594-c868-4beb-ba97-1b66e5ab5310": {
     "id": "47cb3594-c868-4beb-ba97-1b66e5ab5310",
     "prev": "aa5a625f-ff7f-42cf-886b-bfb0a5c820c6",
     "regions": {
      "98c7a468-6580-4c4d-ac6f-54e3d9729648": {
       "attrs": {
        "height": 0.8,
        "width": 0.8,
        "x": 0.1,
        "y": 0.1
       },
       "content": {
        "cell": "24e567c6-e29f-4f10-8af5-a57b1f0ffc2a",
        "part": "whole"
       },
       "id": "98c7a468-6580-4c4d-ac6f-54e3d9729648"
      }
     }
    },
    "49e8c7bf-5909-4d04-8ecf-3573f804a181": {
     "id": "49e8c7bf-5909-4d04-8ecf-3573f804a181",
     "prev": "0052b82e-f7b1-4423-9d9e-a361f0766117",
     "regions": {
      "c3ddad08-4126-4b5f-9891-d948984adf47": {
       "attrs": {
        "height": 0.8,
        "width": 0.8,
        "x": 0.1,
        "y": 0.1
       },
       "content": {
        "cell": "9a89250a-476b-4080-b75a-d363b8282d1f",
        "part": "whole"
       },
       "id": "c3ddad08-4126-4b5f-9891-d948984adf47"
      }
     }
    },
    "4b565465-b29e-4332-9938-c9dc00438430": {
     "id": "4b565465-b29e-4332-9938-c9dc00438430",
     "prev": "05ae80f4-35d5-40ff-8a3c-783c9cd85754",
     "regions": {
      "4cdf9d83-f7a7-4c8f-b674-7526d7fd1348": {
       "attrs": {
        "height": 0.8,
        "width": 0.8,
        "x": 0.1,
        "y": 0.1
       },
       "content": {
        "cell": "e9a05696-9078-4c3b-b331-fc2853000f69",
        "part": "whole"
       },
       "id": "4cdf9d83-f7a7-4c8f-b674-7526d7fd1348"
      }
     }
    },
    "4d62e593-21ff-4dc5-92cb-89c6021689a5": {
     "id": "4d62e593-21ff-4dc5-92cb-89c6021689a5",
     "prev": "aafea4a2-d837-485c-9831-c3bbcee023a5",
     "regions": {
      "60077f01-e61e-4dab-90be-25c7f79e7c28": {
       "attrs": {
        "height": 0.8,
        "width": 0.8,
        "x": 0.1,
        "y": 0.1
       },
       "content": {
        "cell": "59db5b57-b2b8-42bf-8140-28b704073a0e",
        "part": "whole"
       },
       "id": "60077f01-e61e-4dab-90be-25c7f79e7c28"
      }
     }
    },
    "4eb8f21c-b235-40ed-a87d-fbb8abb075a3": {
     "id": "4eb8f21c-b235-40ed-a87d-fbb8abb075a3",
     "prev": "64aff7f8-f107-4862-a661-99d98c85155d",
     "regions": {
      "85996048-0b59-439b-b60c-97653498cf62": {
       "attrs": {
        "height": 0.8,
        "width": 0.8,
        "x": 0.1,
        "y": 0.1
       },
       "content": {
        "cell": "0b7a0dd5-b70a-45db-902e-c1ce9762c47c",
        "part": "whole"
       },
       "id": "85996048-0b59-439b-b60c-97653498cf62"
      }
     }
    },
    "4ff99a52-1b41-4c4d-92d2-13aec9a7ac89": {
     "id": "4ff99a52-1b41-4c4d-92d2-13aec9a7ac89",
     "prev": "df47e7fa-7ebe-4ad7-9376-8363ae0e1bdf",
     "regions": {
      "58b9d508-c9ed-42c6-a5ca-dd87b808915e": {
       "attrs": {
        "height": 0.8,
        "width": 0.8,
        "x": 0.1,
        "y": 0.1
       },
       "content": {
        "cell": "c93f5a20-ae7e-401d-b4bc-c0722784e33f",
        "part": "whole"
       },
       "id": "58b9d508-c9ed-42c6-a5ca-dd87b808915e"
      }
     }
    },
    "5166247c-e952-45c2-917f-d71811ea0855": {
     "id": "5166247c-e952-45c2-917f-d71811ea0855",
     "prev": "6688ce3c-a5aa-4ec0-aea8-913bc05819c1",
     "regions": {
      "79c7d178-dbe3-40ef-a2a0-47ffc680d1df": {
       "attrs": {
        "height": 0.8,
        "width": 0.8,
        "x": 0.1,
        "y": 0.1
       },
       "content": {
        "cell": "dfb2496e-57a3-431d-978e-cb5c7914f040",
        "part": "whole"
       },
       "id": "79c7d178-dbe3-40ef-a2a0-47ffc680d1df"
      }
     }
    },
    "53b01bd9-40a5-41c5-989e-3c16717d3256": {
     "id": "53b01bd9-40a5-41c5-989e-3c16717d3256",
     "prev": "f5333cc3-f9f3-4bad-ad51-07470f0ed196",
     "regions": {
      "406cecbc-582c-49b9-86ac-4fb39a2cb5cd": {
       "attrs": {
        "height": 0.8,
        "width": 0.8,
        "x": 0.1,
        "y": 0.1
       },
       "content": {
        "cell": "68b81a37-503b-4d1e-b463-37153bd61d73",
        "part": "whole"
       },
       "id": "406cecbc-582c-49b9-86ac-4fb39a2cb5cd"
      }
     }
    },
    "5619e3bf-3495-49cd-8590-59255957dedb": {
     "id": "5619e3bf-3495-49cd-8590-59255957dedb",
     "prev": "bac131a9-b0ab-42f3-91d8-5f2df64b8bd1",
     "regions": {
      "ea410060-1bd6-46d2-9d7a-33e982354baa": {
       "attrs": {
        "height": 0.8,
        "width": 0.8,
        "x": 0.1,
        "y": 0.1
       },
       "content": {
        "cell": "d22594ec-d603-4895-aa2a-6cd8e9af49bf",
        "part": "whole"
       },
       "id": "ea410060-1bd6-46d2-9d7a-33e982354baa"
      }
     }
    },
    "587fa469-fbe7-46ad-b41d-5eb44ba6cd71": {
     "id": "587fa469-fbe7-46ad-b41d-5eb44ba6cd71",
     "prev": "29dfd9be-feec-4b45-a5a6-e49217d5e5fa",
     "regions": {
      "76de6755-a41e-40d5-967a-89428686ccc0": {
       "attrs": {
        "height": 0.8,
        "width": 0.8,
        "x": 0.1,
        "y": 0.1
       },
       "content": {
        "cell": "18d9a34d-dd11-4469-a933-a55aa3ce5d83",
        "part": "whole"
       },
       "id": "76de6755-a41e-40d5-967a-89428686ccc0"
      }
     }
    },
    "5a5750a2-9b81-4376-9962-824ac0469fb8": {
     "id": "5a5750a2-9b81-4376-9962-824ac0469fb8",
     "prev": "f90ba756-fb3f-4604-bdc1-64fbaa02638e",
     "regions": {
      "b47a5657-5c6f-49ee-ac7b-7e9c405b729e": {
       "attrs": {
        "height": 0.8,
        "width": 0.8,
        "x": 0.1,
        "y": 0.1
       },
       "content": {
        "cell": "46a2cb71-f1d3-48a7-a65e-c31b5b59ce2b",
        "part": "whole"
       },
       "id": "b47a5657-5c6f-49ee-ac7b-7e9c405b729e"
      }
     }
    },
    "5a76f2e9-2a98-4e79-9b28-b2ff90057d0a": {
     "id": "5a76f2e9-2a98-4e79-9b28-b2ff90057d0a",
     "prev": "8eb8dda3-4255-476a-9d41-cc8984f2d48d",
     "regions": {
      "53ee0452-05ce-45eb-954b-9b9ce09ea674": {
       "attrs": {
        "height": 0.8,
        "width": 0.8,
        "x": 0.1,
        "y": 0.1
       },
       "content": {
        "cell": "3fb9b986-634d-47fe-9e74-d3ee65b84119",
        "part": "whole"
       },
       "id": "53ee0452-05ce-45eb-954b-9b9ce09ea674"
      }
     }
    },
    "5b2a487f-1fe7-4e1b-9224-25ac06f848f9": {
     "id": "5b2a487f-1fe7-4e1b-9224-25ac06f848f9",
     "prev": "052c56da-d919-45fc-9d37-377879c9a307",
     "regions": {
      "3ab5ff7c-e6af-49fb-8bf3-077188e07a12": {
       "attrs": {
        "height": 0.8,
        "width": 0.8,
        "x": 0.1,
        "y": 0.1
       },
       "content": {
        "cell": "613754ef-c7b6-48f5-94ac-14a9047eb8b5",
        "part": "whole"
       },
       "id": "3ab5ff7c-e6af-49fb-8bf3-077188e07a12"
      }
     }
    },
    "5c75dce2-e2b6-444d-a618-e9764fba7799": {
     "id": "5c75dce2-e2b6-444d-a618-e9764fba7799",
     "prev": "53b01bd9-40a5-41c5-989e-3c16717d3256",
     "regions": {
      "b3f63906-186d-41f5-b84a-6344d53a0080": {
       "attrs": {
        "height": 0.8,
        "width": 0.8,
        "x": 0.1,
        "y": 0.1
       },
       "content": {
        "cell": "7a8847ee-732b-4a0e-ab83-3365262f8830",
        "part": "whole"
       },
       "id": "b3f63906-186d-41f5-b84a-6344d53a0080"
      }
     }
    },
    "61db137f-84bd-4b79-8482-162ee2028a43": {
     "id": "61db137f-84bd-4b79-8482-162ee2028a43",
     "prev": "4d62e593-21ff-4dc5-92cb-89c6021689a5",
     "regions": {
      "0af39355-c360-433a-8fed-650fb6fc097f": {
       "attrs": {
        "height": 0.8,
        "width": 0.8,
        "x": 0.1,
        "y": 0.1
       },
       "content": {
        "cell": "b3e357f9-02be-4dba-ae10-077457e09269",
        "part": "whole"
       },
       "id": "0af39355-c360-433a-8fed-650fb6fc097f"
      }
     }
    },
    "64aff7f8-f107-4862-a661-99d98c85155d": {
     "id": "64aff7f8-f107-4862-a661-99d98c85155d",
     "prev": "28fb309d-6d25-44ca-ab25-2ef31f2217f8",
     "regions": {
      "e2446863-c4ab-42cc-8ae5-a8145a48ba09": {
       "attrs": {
        "height": 0.8,
        "width": 0.8,
        "x": 0.1,
        "y": 0.1
       },
       "content": {
        "cell": "ca720d8a-693b-4ee2-ab59-fe091f4cecdc",
        "part": "whole"
       },
       "id": "e2446863-c4ab-42cc-8ae5-a8145a48ba09"
      }
     }
    },
    "65c6e731-0466-4d88-b1f2-311b2a2308b9": {
     "id": "65c6e731-0466-4d88-b1f2-311b2a2308b9",
     "prev": "22eebb25-915b-4767-be52-cfa3bc43e962",
     "regions": {
      "bf04fe93-e5b6-4438-8ad0-e185bdf1aa74": {
       "attrs": {
        "height": 0.8,
        "width": 0.8,
        "x": 0.1,
        "y": 0.1
       },
       "content": {
        "cell": "6bcc8ffb-4588-4408-9d76-45812be8de6a",
        "part": "whole"
       },
       "id": "bf04fe93-e5b6-4438-8ad0-e185bdf1aa74"
      }
     }
    },
    "664cd155-455b-4708-8eb0-738f45d2dd08": {
     "id": "664cd155-455b-4708-8eb0-738f45d2dd08",
     "prev": "0d7e1235-d5c1-42ab-b69b-7dde12ab1c24",
     "regions": {
      "fe53abba-5067-414e-a63d-097775a38fd0": {
       "attrs": {
        "height": 0.8,
        "width": 0.8,
        "x": 0.1,
        "y": 0.1
       },
       "content": {
        "cell": "cba8af31-eb25-425a-871d-b2a4fbe3d83a",
        "part": "whole"
       },
       "id": "fe53abba-5067-414e-a63d-097775a38fd0"
      }
     }
    },
    "6688ce3c-a5aa-4ec0-aea8-913bc05819c1": {
     "id": "6688ce3c-a5aa-4ec0-aea8-913bc05819c1",
     "prev": "6f0ce16f-ea60-49b6-b779-50d3518cc957",
     "regions": {
      "bcaf9390-b864-42ca-87b4-716203dbade2": {
       "attrs": {
        "height": 0.8,
        "width": 0.8,
        "x": 0.1,
        "y": 0.1
       },
       "content": {
        "cell": "f847ebd1-5e3c-47cf-bb9e-07b819896774",
        "part": "whole"
       },
       "id": "bcaf9390-b864-42ca-87b4-716203dbade2"
      }
     }
    },
    "6f0ce16f-ea60-49b6-b779-50d3518cc957": {
     "id": "6f0ce16f-ea60-49b6-b779-50d3518cc957",
     "prev": "825f7403-3093-4aec-b8e1-dc8ad38f55f7",
     "regions": {
      "71f1676d-2690-4b0c-bd04-fe4024a0b474": {
       "attrs": {
        "height": 0.8,
        "width": 0.8,
        "x": 0.1,
        "y": 0.1
       },
       "content": {
        "cell": "f702fbdb-4c9d-4233-800f-5ed63a6bb421",
        "part": "whole"
       },
       "id": "71f1676d-2690-4b0c-bd04-fe4024a0b474"
      }
     }
    },
    "6f99212b-b206-4d14-bfd4-52cd7bdf14b3": {
     "id": "6f99212b-b206-4d14-bfd4-52cd7bdf14b3",
     "prev": "99a6c6fa-44db-4f75-bd31-8a1b90e3aaa8",
     "regions": {
      "59bdd876-46fb-49ee-8ea0-a522214cf5b9": {
       "attrs": {
        "height": 0.8,
        "width": 0.8,
        "x": 0.1,
        "y": 0.1
       },
       "content": {
        "cell": "70cd7d83-b605-48f2-b284-200b934f8cb7",
        "part": "whole"
       },
       "id": "59bdd876-46fb-49ee-8ea0-a522214cf5b9"
      }
     }
    },
    "70d4dc7e-340e-4992-8a31-c92128e0d063": {
     "id": "70d4dc7e-340e-4992-8a31-c92128e0d063",
     "prev": "911d098d-d52b-4d8a-ad5d-6b754e3de624",
     "regions": {
      "91954397-6c47-47d8-8043-c81ca126d41d": {
       "attrs": {
        "height": 0.8,
        "width": 0.8,
        "x": 0.1,
        "y": 0.1
       },
       "content": {
        "cell": "4b8b3b0e-3a4d-4fbf-856a-654b45d7fbe3",
        "part": "whole"
       },
       "id": "91954397-6c47-47d8-8043-c81ca126d41d"
      }
     }
    },
    "751e9791-40e2-407f-88b3-a88813e314f7": {
     "id": "751e9791-40e2-407f-88b3-a88813e314f7",
     "prev": "664cd155-455b-4708-8eb0-738f45d2dd08",
     "regions": {
      "d4c95638-734c-4312-b4a8-fef73a0e2b94": {
       "attrs": {
        "height": 0.8,
        "width": 0.8,
        "x": 0.1,
        "y": 0.1
       },
       "content": {
        "cell": "f9f48699-0257-4f95-90f1-16d58d7e6a71",
        "part": "whole"
       },
       "id": "d4c95638-734c-4312-b4a8-fef73a0e2b94"
      }
     }
    },
    "7591a46c-1fb7-497c-9571-384e6c7c915b": {
     "id": "7591a46c-1fb7-497c-9571-384e6c7c915b",
     "prev": "95a42c04-1b1f-43b0-bc37-d27a6bb0f217",
     "regions": {
      "6b252100-ab72-404b-adfa-ed679c02b302": {
       "attrs": {
        "height": 0.8,
        "width": 0.8,
        "x": 0.1,
        "y": 0.1
       },
       "content": {
        "cell": "ff20670d-6a83-45a6-9601-9f0b78c54074",
        "part": "whole"
       },
       "id": "6b252100-ab72-404b-adfa-ed679c02b302"
      }
     }
    },
    "7c589098-09b6-48b5-bfcc-28ec1b940948": {
     "id": "7c589098-09b6-48b5-bfcc-28ec1b940948",
     "prev": "b45bae0d-1d83-480e-bbe1-24c765c901a0",
     "regions": {
      "7c8021af-ec04-490d-a78a-64301eb18f5c": {
       "attrs": {
        "height": 0.8,
        "width": 0.8,
        "x": 0.1,
        "y": 0.1
       },
       "content": {
        "cell": "bf5ac402-0e5b-4152-aecd-d738d8e71abc",
        "part": "whole"
       },
       "id": "7c8021af-ec04-490d-a78a-64301eb18f5c"
      }
     }
    },
    "7e179fc1-1cf9-49fe-87ac-7d2860a63482": {
     "id": "7e179fc1-1cf9-49fe-87ac-7d2860a63482",
     "prev": "856646d6-c479-4bd9-b75c-58e88d6ff9f5",
     "regions": {
      "f645a069-b423-4e35-b06a-71b1b006285a": {
       "attrs": {
        "height": 0.8,
        "width": 0.8,
        "x": 0.1,
        "y": 0.1
       },
       "content": {
        "cell": "fa505cba-710d-4eda-bfb0-e02cfd464241",
        "part": "whole"
       },
       "id": "f645a069-b423-4e35-b06a-71b1b006285a"
      }
     }
    },
    "825f7403-3093-4aec-b8e1-dc8ad38f55f7": {
     "id": "825f7403-3093-4aec-b8e1-dc8ad38f55f7",
     "prev": "c08c185d-98e9-445a-9167-2d31000b9180",
     "regions": {
      "47d08542-b410-43b5-9397-7d00b08f6a67": {
       "attrs": {
        "height": 0.8,
        "width": 0.8,
        "x": 0.1,
        "y": 0.1
       },
       "content": {
        "cell": "6c98c39b-6ed6-4641-b020-2ad9f4d0f205",
        "part": "whole"
       },
       "id": "47d08542-b410-43b5-9397-7d00b08f6a67"
      }
     }
    },
    "82b8de5c-df13-4d2e-9ab2-aa8cff157b6e": {
     "id": "82b8de5c-df13-4d2e-9ab2-aa8cff157b6e",
     "prev": "0cf9e58d-70fc-4d9a-9c37-136227a96f1d",
     "regions": {
      "779a0c42-6267-4fcb-837c-727cddec3275": {
       "attrs": {
        "height": 0.8,
        "width": 0.8,
        "x": 0.1,
        "y": 0.1
       },
       "content": {
        "cell": "982b86f5-1750-4034-921c-c6ff1cda7687",
        "part": "whole"
       },
       "id": "779a0c42-6267-4fcb-837c-727cddec3275"
      }
     }
    },
    "851ca86a-fffb-479e-9203-eb7f03216cfa": {
     "id": "851ca86a-fffb-479e-9203-eb7f03216cfa",
     "prev": "01771150-43e7-4f27-9601-a91311b04891",
     "regions": {
      "d76f6fd5-8a7b-4c28-9c41-a60b66d354a1": {
       "attrs": {
        "height": 0.8,
        "width": 0.8,
        "x": 0.1,
        "y": 0.1
       },
       "content": {
        "cell": "f50c5a2b-ca16-4e47-921b-7f9aab489de1",
        "part": "whole"
       },
       "id": "d76f6fd5-8a7b-4c28-9c41-a60b66d354a1"
      }
     }
    },
    "856646d6-c479-4bd9-b75c-58e88d6ff9f5": {
     "id": "856646d6-c479-4bd9-b75c-58e88d6ff9f5",
     "prev": "c6252912-f04c-424f-be05-5bccf335139c",
     "regions": {
      "c30c0d56-79c6-4160-8b1f-c79f2d887713": {
       "attrs": {
        "height": 0.8,
        "width": 0.8,
        "x": 0.1,
        "y": 0.1
       },
       "content": {
        "cell": "b4c9ee2d-a2a5-434a-9c8e-c59518d8d7f7",
        "part": "whole"
       },
       "id": "c30c0d56-79c6-4160-8b1f-c79f2d887713"
      }
     }
    },
    "8a35ff89-9dd2-4312-9968-a4f09e04b001": {
     "id": "8a35ff89-9dd2-4312-9968-a4f09e04b001",
     "prev": "8d673289-6ea5-41d8-8314-50c249fc3f26",
     "regions": {
      "706a6784-d904-4ff7-bd2e-03adecb35aaa": {
       "attrs": {
        "height": 0.8,
        "width": 0.8,
        "x": 0.1,
        "y": 0.1
       },
       "content": {
        "cell": "655b565b-15ba-4844-8a87-2c6ce4db47da",
        "part": "whole"
       },
       "id": "706a6784-d904-4ff7-bd2e-03adecb35aaa"
      }
     }
    },
    "8a850c64-8e69-4bf2-9cdf-11d3d96cba9c": {
     "id": "8a850c64-8e69-4bf2-9cdf-11d3d96cba9c",
     "prev": "a10b97aa-e0f8-47cb-ab32-c71cbd0dd064",
     "regions": {
      "d1ecde4b-c04f-432d-b6c6-d194783c7471": {
       "attrs": {
        "height": 0.8,
        "width": 0.8,
        "x": 0.1,
        "y": 0.1
       },
       "content": {
        "cell": "cd8c3a45-ef67-444c-b62d-a9b81744b123",
        "part": "whole"
       },
       "id": "d1ecde4b-c04f-432d-b6c6-d194783c7471"
      }
     }
    },
    "8b872348-35a3-4d50-aeb9-c2aa46018233": {
     "id": "8b872348-35a3-4d50-aeb9-c2aa46018233",
     "prev": "49e8c7bf-5909-4d04-8ecf-3573f804a181",
     "regions": {
      "0489dd6d-38bb-47da-b030-0aec37c421ed": {
       "attrs": {
        "height": 0.8,
        "width": 0.8,
        "x": 0.1,
        "y": 0.1
       },
       "content": {
        "cell": "5ba0c8dd-f8cc-4802-9dc1-7ed06b1eedcb",
        "part": "whole"
       },
       "id": "0489dd6d-38bb-47da-b030-0aec37c421ed"
      }
     }
    },
    "8d673289-6ea5-41d8-8314-50c249fc3f26": {
     "id": "8d673289-6ea5-41d8-8314-50c249fc3f26",
     "prev": "02e7266d-f8e7-470b-87c6-3f7e68ad8ba6",
     "regions": {
      "181812b6-4def-4867-9e6f-d1688e7f05c4": {
       "attrs": {
        "height": 0.8,
        "width": 0.8,
        "x": 0.1,
        "y": 0.1
       },
       "content": {
        "cell": "8ed8da02-2c07-40d0-bb0d-76dfecb6a32e",
        "part": "whole"
       },
       "id": "181812b6-4def-4867-9e6f-d1688e7f05c4"
      }
     }
    },
    "8eb8dda3-4255-476a-9d41-cc8984f2d48d": {
     "id": "8eb8dda3-4255-476a-9d41-cc8984f2d48d",
     "prev": "946dfa49-53b4-412f-8775-864325f08508",
     "regions": {
      "fdede280-76b6-46ac-8962-f0b71743f8c4": {
       "attrs": {
        "height": 0.8,
        "width": 0.8,
        "x": 0.1,
        "y": 0.1
       },
       "content": {
        "cell": "ceb92633-92b2-4797-89eb-3ee2d7c9c687",
        "part": "whole"
       },
       "id": "fdede280-76b6-46ac-8962-f0b71743f8c4"
      }
     }
    },
    "911d098d-d52b-4d8a-ad5d-6b754e3de624": {
     "id": "911d098d-d52b-4d8a-ad5d-6b754e3de624",
     "prev": "0a5248b6-7d1c-4561-9eff-6246c7afc95e",
     "regions": {
      "08adc304-20c4-4eaa-8ab8-538ecc0f4b14": {
       "attrs": {
        "height": 0.8,
        "width": 0.8,
        "x": 0.1,
        "y": 0.1
       },
       "content": {
        "cell": "0e6f29cc-75cb-404c-a316-0b083ba40574",
        "part": "whole"
       },
       "id": "08adc304-20c4-4eaa-8ab8-538ecc0f4b14"
      }
     }
    },
    "93d5894e-ebaa-4d85-9667-6a536a9f0038": {
     "id": "93d5894e-ebaa-4d85-9667-6a536a9f0038",
     "prev": "d0c227a3-90ad-4da3-96b1-51c26249b62b",
     "regions": {
      "b87ee41e-b469-4443-8ddc-814eadf256e1": {
       "attrs": {
        "height": 0.8,
        "width": 0.8,
        "x": 0.1,
        "y": 0.1
       },
       "content": {
        "cell": "55529f0e-7379-481d-b6a0-74170e8c6cd9",
        "part": "whole"
       },
       "id": "b87ee41e-b469-4443-8ddc-814eadf256e1"
      }
     }
    },
    "946dfa49-53b4-412f-8775-864325f08508": {
     "id": "946dfa49-53b4-412f-8775-864325f08508",
     "prev": "26e17f4f-5724-4aad-927e-8266d20946f8",
     "regions": {
      "3a8fdf83-fd3c-4b3c-9457-8cdacde714e4": {
       "attrs": {
        "height": 0.8,
        "width": 0.8,
        "x": 0.1,
        "y": 0.1
       },
       "content": {
        "cell": "ce7eacde-96f6-435a-baaa-b44708c93612",
        "part": "whole"
       },
       "id": "3a8fdf83-fd3c-4b3c-9457-8cdacde714e4"
      }
     }
    },
    "95a42c04-1b1f-43b0-bc37-d27a6bb0f217": {
     "id": "95a42c04-1b1f-43b0-bc37-d27a6bb0f217",
     "prev": "fe037cbe-5137-49f3-a7bf-e7e0316b18e4",
     "regions": {
      "c3630dbc-08ab-4f1e-8cdd-e498f1b83fc8": {
       "attrs": {
        "height": 0.8,
        "width": 0.8,
        "x": 0.1,
        "y": 0.1
       },
       "content": {
        "cell": "35a820fe-5024-4f5f-a292-9611d0805b2f",
        "part": "whole"
       },
       "id": "c3630dbc-08ab-4f1e-8cdd-e498f1b83fc8"
      }
     }
    },
    "9696c835-409f-4e5e-aa7f-685b45780aa5": {
     "id": "9696c835-409f-4e5e-aa7f-685b45780aa5",
     "prev": "82b8de5c-df13-4d2e-9ab2-aa8cff157b6e",
     "regions": {
      "04a40e46-0343-4064-a13b-c27144391f6a": {
       "attrs": {
        "height": 0.8,
        "width": 0.8,
        "x": 0.1,
        "y": 0.1
       },
       "content": {
        "cell": "f9636f66-ce15-4219-972d-0a32c7a6ddfc",
        "part": "whole"
       },
       "id": "04a40e46-0343-4064-a13b-c27144391f6a"
      }
     }
    },
    "99a6c6fa-44db-4f75-bd31-8a1b90e3aaa8": {
     "id": "99a6c6fa-44db-4f75-bd31-8a1b90e3aaa8",
     "prev": "751e9791-40e2-407f-88b3-a88813e314f7",
     "regions": {
      "94ec7802-0a23-405b-9011-b1161d89873b": {
       "attrs": {
        "height": 0.8,
        "width": 0.8,
        "x": 0.1,
        "y": 0.1
       },
       "content": {
        "cell": "725d448d-e479-41bb-9acf-3e73145d0c51",
        "part": "whole"
       },
       "id": "94ec7802-0a23-405b-9011-b1161d89873b"
      }
     }
    },
    "99ce4f05-10bf-4ba9-873e-4021305dff8f": {
     "id": "99ce4f05-10bf-4ba9-873e-4021305dff8f",
     "prev": "28285a33-49e4-4530-a023-65be1a709464",
     "regions": {
      "1189b7c6-aa7e-49fe-afca-17ebb97af925": {
       "attrs": {
        "height": 0.8,
        "width": 0.8,
        "x": 0.1,
        "y": 0.1
       },
       "content": {
        "cell": "c6e3833e-44ca-4866-8482-1178aafe16c3",
        "part": "whole"
       },
       "id": "1189b7c6-aa7e-49fe-afca-17ebb97af925"
      }
     }
    },
    "9a57ba95-57cb-4784-98f8-f75aa1b15de9": {
     "id": "9a57ba95-57cb-4784-98f8-f75aa1b15de9",
     "prev": "07e3e7a8-990c-4b4b-9629-7fe49399068d",
     "regions": {
      "57170749-109d-4917-ba61-27c83e9cd5ad": {
       "attrs": {
        "height": 0.8,
        "width": 0.8,
        "x": 0.1,
        "y": 0.1
       },
       "content": {
        "cell": "9e2da9e8-ea01-4a3f-bbc4-9a3dae337f0a",
        "part": "whole"
       },
       "id": "57170749-109d-4917-ba61-27c83e9cd5ad"
      }
     }
    },
    "a04ea7ab-b47a-4b13-9348-115ab80f93a5": {
     "id": "a04ea7ab-b47a-4b13-9348-115ab80f93a5",
     "prev": "70d4dc7e-340e-4992-8a31-c92128e0d063",
     "regions": {
      "de6040ac-4157-44a5-abeb-c0ee698aea66": {
       "attrs": {
        "height": 0.8,
        "width": 0.8,
        "x": 0.1,
        "y": 0.1
       },
       "content": {
        "cell": "608df4e7-811e-4015-9f49-50d0e82486b6",
        "part": "whole"
       },
       "id": "de6040ac-4157-44a5-abeb-c0ee698aea66"
      }
     }
    },
    "a0cb7ed0-84ea-4341-a3bc-685ed84e841a": {
     "id": "a0cb7ed0-84ea-4341-a3bc-685ed84e841a",
     "prev": "9696c835-409f-4e5e-aa7f-685b45780aa5",
     "regions": {
      "7ddfe894-b22f-4692-97c5-159311901cde": {
       "attrs": {
        "height": 0.8,
        "width": 0.8,
        "x": 0.1,
        "y": 0.1
       },
       "content": {
        "cell": "a7b324ce-a124-4b15-90e0-03ba798f60f0",
        "part": "whole"
       },
       "id": "7ddfe894-b22f-4692-97c5-159311901cde"
      }
     }
    },
    "a10b97aa-e0f8-47cb-ab32-c71cbd0dd064": {
     "id": "a10b97aa-e0f8-47cb-ab32-c71cbd0dd064",
     "prev": "fed306c9-9e18-491d-9fce-4825d0f88e23",
     "regions": {
      "78cf18fb-5c1b-4e36-b6c1-c88a09f93695": {
       "attrs": {
        "height": 0.8,
        "width": 0.8,
        "x": 0.1,
        "y": 0.1
       },
       "content": {
        "cell": "09a832b8-5be1-49c0-a503-3156d11f9599",
        "part": "whole"
       },
       "id": "78cf18fb-5c1b-4e36-b6c1-c88a09f93695"
      }
     }
    },
    "a52bd972-3f23-4012-9f4c-81e17ebf96ce": {
     "id": "a52bd972-3f23-4012-9f4c-81e17ebf96ce",
     "prev": "120b97ca-1585-4560-89ce-b589e74ff92a",
     "regions": {
      "b1d6864a-146d-42ef-a12d-3f0e12f570ec": {
       "attrs": {
        "height": 0.8,
        "width": 0.8,
        "x": 0.1,
        "y": 0.1
       },
       "content": {
        "cell": "2d8a025a-4c6f-4c5c-a4e4-7165224cd61e",
        "part": "whole"
       },
       "id": "b1d6864a-146d-42ef-a12d-3f0e12f570ec"
      }
     }
    },
    "a79d3556-f9ba-4f85-86e3-d2fbfee4fbea": {
     "id": "a79d3556-f9ba-4f85-86e3-d2fbfee4fbea",
     "prev": "7c589098-09b6-48b5-bfcc-28ec1b940948",
     "regions": {
      "09965370-13f3-449f-8852-33bbf772088e": {
       "attrs": {
        "height": 0.8,
        "width": 0.8,
        "x": 0.1,
        "y": 0.1
       },
       "content": {
        "cell": "88ca2cf6-2728-45ff-8b18-914a4d1e404a",
        "part": "whole"
       },
       "id": "09965370-13f3-449f-8852-33bbf772088e"
      }
     }
    },
    "aa5a625f-ff7f-42cf-886b-bfb0a5c820c6": {
     "id": "aa5a625f-ff7f-42cf-886b-bfb0a5c820c6",
     "prev": "587fa469-fbe7-46ad-b41d-5eb44ba6cd71",
     "regions": {
      "4219f5aa-9c39-4389-9918-9693c94f4a16": {
       "attrs": {
        "height": 0.8,
        "width": 0.8,
        "x": 0.1,
        "y": 0.1
       },
       "content": {
        "cell": "7606ab45-6d53-44ed-a816-1850330c713c",
        "part": "whole"
       },
       "id": "4219f5aa-9c39-4389-9918-9693c94f4a16"
      }
     }
    },
    "aafea4a2-d837-485c-9831-c3bbcee023a5": {
     "id": "aafea4a2-d837-485c-9831-c3bbcee023a5",
     "prev": "c466dad1-94a8-4059-8dac-0ffe08ad08bb",
     "regions": {
      "80ef598c-70c2-4358-973d-3ccf34334df1": {
       "attrs": {
        "height": 0.8,
        "width": 0.8,
        "x": 0.1,
        "y": 0.1
       },
       "content": {
        "cell": "754cf478-b907-46c1-99ef-72aeb38a5616",
        "part": "whole"
       },
       "id": "80ef598c-70c2-4358-973d-3ccf34334df1"
      }
     }
    },
    "b17a84df-7e38-41eb-92e4-e00764fe7c29": {
     "id": "b17a84df-7e38-41eb-92e4-e00764fe7c29",
     "prev": "5619e3bf-3495-49cd-8590-59255957dedb",
     "regions": {
      "858875ab-1311-4f04-aa42-6f80d8bb5cb7": {
       "attrs": {
        "height": 0.8,
        "width": 0.8,
        "x": 0.1,
        "y": 0.1
       },
       "content": {
        "cell": "01aab4c8-42ad-403d-8b0f-339edf5934fe",
        "part": "whole"
       },
       "id": "858875ab-1311-4f04-aa42-6f80d8bb5cb7"
      }
     }
    },
    "b45bae0d-1d83-480e-bbe1-24c765c901a0": {
     "id": "b45bae0d-1d83-480e-bbe1-24c765c901a0",
     "prev": "65c6e731-0466-4d88-b1f2-311b2a2308b9",
     "regions": {
      "45a038df-03d5-464c-95e4-9f6510146132": {
       "attrs": {
        "height": 0.8,
        "width": 0.8,
        "x": 0.1,
        "y": 0.1
       },
       "content": {
        "cell": "8fc41507-2b59-4da8-be9b-5a557dd2d0d5",
        "part": "whole"
       },
       "id": "45a038df-03d5-464c-95e4-9f6510146132"
      }
     }
    },
    "bac131a9-b0ab-42f3-91d8-5f2df64b8bd1": {
     "id": "bac131a9-b0ab-42f3-91d8-5f2df64b8bd1",
     "prev": "1f6c1f60-464a-4418-b493-1373f4a95ded",
     "regions": {
      "85b97f7b-dc80-4930-a8a3-65084fb753e1": {
       "attrs": {
        "height": 0.8,
        "width": 0.8,
        "x": 0.1,
        "y": 0.1
       },
       "content": {
        "cell": "b17fa6bd-715e-4a8e-b5bf-6b8a6b8f30d9",
        "part": "whole"
       },
       "id": "85b97f7b-dc80-4930-a8a3-65084fb753e1"
      }
     }
    },
    "bd088f8a-75a7-495a-a535-335c8b4a5de3": {
     "id": "bd088f8a-75a7-495a-a535-335c8b4a5de3",
     "prev": "1ed9579d-9869-4393-86a9-ae914fb079fd",
     "regions": {
      "aba7d61e-62c3-44c9-bd0c-ee26e4fb73b6": {
       "attrs": {
        "height": 0.8,
        "width": 0.8,
        "x": 0.1,
        "y": 0.1
       },
       "content": {
        "cell": "fa5900d1-d957-40b3-8121-29a2e4f58bd4",
        "part": "whole"
       },
       "id": "aba7d61e-62c3-44c9-bd0c-ee26e4fb73b6"
      }
     }
    },
    "bd397fd9-4c4b-49ab-bebb-e6c1b34ed48b": {
     "id": "bd397fd9-4c4b-49ab-bebb-e6c1b34ed48b",
     "prev": "a52bd972-3f23-4012-9f4c-81e17ebf96ce",
     "regions": {
      "49a54c83-aac9-470e-80aa-da55c34c7190": {
       "attrs": {
        "height": 0.8,
        "width": 0.8,
        "x": 0.1,
        "y": 0.1
       },
       "content": {
        "cell": "a6e9c291-bd8c-458d-b276-ba07ce7883c0",
        "part": "whole"
       },
       "id": "49a54c83-aac9-470e-80aa-da55c34c7190"
      }
     }
    },
    "bfb6600e-d137-4f15-b679-654c22e5c501": {
     "id": "bfb6600e-d137-4f15-b679-654c22e5c501",
     "prev": "9a57ba95-57cb-4784-98f8-f75aa1b15de9",
     "regions": {
      "631fbd80-afcf-416d-a591-1fe0971d7823": {
       "attrs": {
        "height": 0.8,
        "width": 0.8,
        "x": 0.1,
        "y": 0.1
       },
       "content": {
        "cell": "222e4e8c-2809-4b43-a219-8b601b7c9e93",
        "part": "whole"
       },
       "id": "631fbd80-afcf-416d-a591-1fe0971d7823"
      }
     }
    },
    "bfda3b75-eb73-403a-88c2-693dc3505bb3": {
     "id": "bfda3b75-eb73-403a-88c2-693dc3505bb3",
     "prev": "a04ea7ab-b47a-4b13-9348-115ab80f93a5",
     "regions": {
      "e049b591-8463-43e8-96ea-c7a72325f43d": {
       "attrs": {
        "height": 0.8,
        "width": 0.8,
        "x": 0.1,
        "y": 0.1
       },
       "content": {
        "cell": "e938085a-7808-47cf-b545-aab75a0b720a",
        "part": "whole"
       },
       "id": "e049b591-8463-43e8-96ea-c7a72325f43d"
      }
     }
    },
    "c08c185d-98e9-445a-9167-2d31000b9180": {
     "id": "c08c185d-98e9-445a-9167-2d31000b9180",
     "prev": "47cb3594-c868-4beb-ba97-1b66e5ab5310",
     "regions": {
      "76e37dd0-c00c-4413-a094-b851bee123f3": {
       "attrs": {
        "height": 0.8,
        "width": 0.8,
        "x": 0.1,
        "y": 0.1
       },
       "content": {
        "cell": "c76df3b9-6271-4ba3-b3ca-48ab94023850",
        "part": "whole"
       },
       "id": "76e37dd0-c00c-4413-a094-b851bee123f3"
      }
     }
    },
    "c466dad1-94a8-4059-8dac-0ffe08ad08bb": {
     "id": "c466dad1-94a8-4059-8dac-0ffe08ad08bb",
     "prev": "5a5750a2-9b81-4376-9962-824ac0469fb8",
     "regions": {
      "babc58ea-f0a9-4b76-9b31-c08a37f306a1": {
       "attrs": {
        "height": 0.8,
        "width": 0.8,
        "x": 0.1,
        "y": 0.1
       },
       "content": {
        "cell": "c7e44248-7901-43fd-af52-1451c69c3cfe",
        "part": "whole"
       },
       "id": "babc58ea-f0a9-4b76-9b31-c08a37f306a1"
      }
     }
    },
    "c6252912-f04c-424f-be05-5bccf335139c": {
     "id": "c6252912-f04c-424f-be05-5bccf335139c",
     "prev": "3cf1bbb1-3d02-451c-bbe4-acae655404ce",
     "regions": {
      "057fc297-ee9e-4e54-8f0c-51a0e050b341": {
       "attrs": {
        "height": 0.8,
        "width": 0.8,
        "x": 0.1,
        "y": 0.1
       },
       "content": {
        "cell": "a086b660-105b-4f75-9814-4e7a837b50b5",
        "part": "whole"
       },
       "id": "057fc297-ee9e-4e54-8f0c-51a0e050b341"
      }
     }
    },
    "d0c227a3-90ad-4da3-96b1-51c26249b62b": {
     "id": "d0c227a3-90ad-4da3-96b1-51c26249b62b",
     "prev": "f3424d38-ae6f-43bf-9b95-9aa02ba92bf6",
     "regions": {
      "a414e1fd-b246-4907-b241-d751c00c9492": {
       "attrs": {
        "height": 0.8,
        "width": 0.8,
        "x": 0.1,
        "y": 0.1
       },
       "content": {
        "cell": "f35c613f-45af-4dfe-b889-05725c327ecc",
        "part": "whole"
       },
       "id": "a414e1fd-b246-4907-b241-d751c00c9492"
      }
     }
    },
    "de528816-a650-461c-9f74-60f38f3205fe": {
     "id": "de528816-a650-461c-9f74-60f38f3205fe",
     "prev": "b17a84df-7e38-41eb-92e4-e00764fe7c29",
     "regions": {
      "b1f00f3b-80d4-49e3-82ae-adea245ffed5": {
       "attrs": {
        "height": 0.8,
        "width": 0.8,
        "x": 0.1,
        "y": 0.1
       },
       "content": {
        "cell": "db9800eb-baae-4055-9c6c-281264383ce0",
        "part": "whole"
       },
       "id": "b1f00f3b-80d4-49e3-82ae-adea245ffed5"
      }
     }
    },
    "df47e7fa-7ebe-4ad7-9376-8363ae0e1bdf": {
     "id": "df47e7fa-7ebe-4ad7-9376-8363ae0e1bdf",
     "prev": "5166247c-e952-45c2-917f-d71811ea0855",
     "regions": {
      "b83c387c-572f-4ad8-96da-0aee6190c973": {
       "attrs": {
        "height": 0.8,
        "width": 0.8,
        "x": 0.1,
        "y": 0.1
       },
       "content": {
        "cell": "ebe9b4cb-3b9b-4e76-84c6-58a6fb982c38",
        "part": "whole"
       },
       "id": "b83c387c-572f-4ad8-96da-0aee6190c973"
      }
     }
    },
    "e2700333-1912-4a28-8c82-f73d72bea459": {
     "id": "e2700333-1912-4a28-8c82-f73d72bea459",
     "prev": "5a76f2e9-2a98-4e79-9b28-b2ff90057d0a",
     "regions": {
      "91053c09-519e-4c37-9bc6-c764e13a1032": {
       "attrs": {
        "height": 0.8,
        "width": 0.8,
        "x": 0.1,
        "y": 0.1
       },
       "content": {
        "cell": "ec793686-4c6b-4021-929b-1a5dff184aff",
        "part": "whole"
       },
       "id": "91053c09-519e-4c37-9bc6-c764e13a1032"
      }
     }
    },
    "ea4f3f0d-b374-4483-9d63-2fe6e11bde26": {
     "id": "ea4f3f0d-b374-4483-9d63-2fe6e11bde26",
     "prev": "6f99212b-b206-4d14-bfd4-52cd7bdf14b3",
     "regions": {
      "7c176aa7-d8d7-4d5a-b9c2-00c3b89f8773": {
       "attrs": {
        "height": 0.8,
        "width": 0.8,
        "x": 0.1,
        "y": 0.1
       },
       "content": {
        "cell": "7d3a6363-536f-4269-82d6-087c5cecaee3",
        "part": "whole"
       },
       "id": "7c176aa7-d8d7-4d5a-b9c2-00c3b89f8773"
      }
     }
    },
    "ebab35ee-d8bd-4bfe-bb97-4ea589fb2b4e": {
     "id": "ebab35ee-d8bd-4bfe-bb97-4ea589fb2b4e",
     "prev": "e2700333-1912-4a28-8c82-f73d72bea459",
     "regions": {
      "5ce528b5-0bd8-44b7-81f3-edbde0c81800": {
       "attrs": {
        "height": 0.8,
        "width": 0.8,
        "x": 0.1,
        "y": 0.1
       },
       "content": {
        "cell": "0053afb8-59db-42a6-b42f-7789251161b4",
        "part": "whole"
       },
       "id": "5ce528b5-0bd8-44b7-81f3-edbde0c81800"
      }
     }
    },
    "ee71bee7-6fed-423f-b5d8-d801ee3c6279": {
     "id": "ee71bee7-6fed-423f-b5d8-d801ee3c6279",
     "prev": "4b565465-b29e-4332-9938-c9dc00438430",
     "regions": {
      "2be5625c-a076-46c1-970d-45fe98696c58": {
       "attrs": {
        "height": 0.8,
        "width": 0.8,
        "x": 0.1,
        "y": 0.1
       },
       "content": {
        "cell": "0f4c6f17-31f7-49dc-ab40-0b4bfa20f997",
        "part": "whole"
       },
       "id": "2be5625c-a076-46c1-970d-45fe98696c58"
      }
     }
    },
    "f31a9f8d-8bde-46f5-a89d-c375f61009f4": {
     "id": "f31a9f8d-8bde-46f5-a89d-c375f61009f4",
     "prev": "de528816-a650-461c-9f74-60f38f3205fe",
     "regions": {
      "5bf35004-91ef-449f-aef9-d8550476f667": {
       "attrs": {
        "height": 0.8,
        "width": 0.8,
        "x": 0.1,
        "y": 0.1
       },
       "content": {
        "cell": "1c889196-89b7-4359-90a0-aaa5056cfba1",
        "part": "whole"
       },
       "id": "5bf35004-91ef-449f-aef9-d8550476f667"
      }
     }
    },
    "f3424d38-ae6f-43bf-9b95-9aa02ba92bf6": {
     "id": "f3424d38-ae6f-43bf-9b95-9aa02ba92bf6",
     "prev": "851ca86a-fffb-479e-9203-eb7f03216cfa",
     "regions": {
      "57664b7e-fba1-4e12-8cf4-046b4acc0366": {
       "attrs": {
        "height": 0.8,
        "width": 0.8,
        "x": 0.1,
        "y": 0.1
       },
       "content": {
        "cell": "e49d91b2-0294-4717-a62a-41595e122983",
        "part": "whole"
       },
       "id": "57664b7e-fba1-4e12-8cf4-046b4acc0366"
      }
     }
    },
    "f5333cc3-f9f3-4bad-ad51-07470f0ed196": {
     "id": "f5333cc3-f9f3-4bad-ad51-07470f0ed196",
     "prev": "8a35ff89-9dd2-4312-9968-a4f09e04b001",
     "regions": {
      "1b7094ca-e219-47c6-8104-a7378783bf96": {
       "attrs": {
        "height": 0.8,
        "width": 0.8,
        "x": 0.1,
        "y": 0.1
       },
       "content": {
        "cell": "99b3aff7-e7c7-4a0d-a865-6238f6e4af44",
        "part": "whole"
       },
       "id": "1b7094ca-e219-47c6-8104-a7378783bf96"
      }
     }
    },
    "f78190b4-13d1-4d6a-be29-75a046e7ac5c": {
     "id": "f78190b4-13d1-4d6a-be29-75a046e7ac5c",
     "prev": "7591a46c-1fb7-497c-9571-384e6c7c915b",
     "regions": {
      "56b454cb-47be-4f73-a659-465006423c3d": {
       "attrs": {
        "height": 0.8,
        "width": 0.8,
        "x": 0.1,
        "y": 0.1
       },
       "content": {
        "cell": "a3b27e23-41ba-4a79-8d06-38f45711cae9",
        "part": "whole"
       },
       "id": "56b454cb-47be-4f73-a659-465006423c3d"
      }
     }
    },
    "f817a40d-e95f-489a-85ff-44bc125b47b7": {
     "id": "f817a40d-e95f-489a-85ff-44bc125b47b7",
     "prev": "08823aaa-7669-4dc3-a4d9-544256ab8230",
     "regions": {
      "7c61da4c-1546-4064-9a79-14c291971215": {
       "attrs": {
        "height": 0.8,
        "width": 0.8,
        "x": 0.1,
        "y": 0.1
       },
       "content": {
        "cell": "ab398d0e-787e-4673-8cee-edda6ee95dc9",
        "part": "whole"
       },
       "id": "7c61da4c-1546-4064-9a79-14c291971215"
      }
     }
    },
    "f90ba756-fb3f-4604-bdc1-64fbaa02638e": {
     "id": "f90ba756-fb3f-4604-bdc1-64fbaa02638e",
     "prev": "a79d3556-f9ba-4f85-86e3-d2fbfee4fbea",
     "regions": {
      "4bf20cd7-bb2a-480b-8081-2fa1faf5c4cf": {
       "attrs": {
        "height": 0.8,
        "width": 0.8,
        "x": 0.1,
        "y": 0.1
       },
       "content": {
        "cell": "38ac79e8-125f-441f-a7e1-e1b72c7a4c58",
        "part": "whole"
       },
       "id": "4bf20cd7-bb2a-480b-8081-2fa1faf5c4cf"
      }
     }
    },
    "fad04a7d-f91f-4505-8bfd-93764293ed48": {
     "id": "fad04a7d-f91f-4505-8bfd-93764293ed48",
     "prev": "f817a40d-e95f-489a-85ff-44bc125b47b7",
     "regions": {
      "e7941deb-2cf2-4d4e-90ec-3b9264b1e717": {
       "attrs": {
        "height": 0.8,
        "width": 0.8,
        "x": 0.1,
        "y": 0.1
       },
       "content": {
        "cell": "2a4b9ee0-1a1e-4151-8e4a-7a9fd2a3e71c",
        "part": "whole"
       },
       "id": "e7941deb-2cf2-4d4e-90ec-3b9264b1e717"
      }
     }
    },
    "fb95abd4-b6a5-4e12-b547-a2bbaca6556d": {
     "id": "fb95abd4-b6a5-4e12-b547-a2bbaca6556d",
     "prev": "99ce4f05-10bf-4ba9-873e-4021305dff8f",
     "regions": {
      "1f2d282c-98fa-487b-bd7d-d8d1d0e154bf": {
       "attrs": {
        "height": 0.8,
        "width": 0.8,
        "x": 0.1,
        "y": 0.1
       },
       "content": {
        "cell": "70a16642-e3a3-4738-90d1-1add91c5247d",
        "part": "whole"
       },
       "id": "1f2d282c-98fa-487b-bd7d-d8d1d0e154bf"
      }
     }
    },
    "fbfc191f-1d18-484d-8bc6-1dbc7c44f5b4": {
     "id": "fbfc191f-1d18-484d-8bc6-1dbc7c44f5b4",
     "prev": null,
     "regions": {
      "8be1e111-808f-4259-81c6-b0acbc0ff8fc": {
       "attrs": {
        "height": 0.8,
        "width": 0.8,
        "x": 0.1,
        "y": 0.1
       },
       "content": {
        "cell": "a81bcfc3-ca3a-4e94-8520-4ab3ed099826",
        "part": "whole"
       },
       "id": "8be1e111-808f-4259-81c6-b0acbc0ff8fc"
      }
     }
    },
    "fe037cbe-5137-49f3-a7bf-e7e0316b18e4": {
     "id": "fe037cbe-5137-49f3-a7bf-e7e0316b18e4",
     "prev": "4ff99a52-1b41-4c4d-92d2-13aec9a7ac89",
     "regions": {
      "015305ab-2d61-49de-b258-0c3da6a80fb6": {
       "attrs": {
        "height": 0.8,
        "width": 0.8,
        "x": 0.1,
        "y": 0.1
       },
       "content": {
        "cell": "0374eea4-d4aa-4b8f-98ea-98e0e97806e4",
        "part": "whole"
       },
       "id": "015305ab-2d61-49de-b258-0c3da6a80fb6"
      }
     }
    },
    "fed306c9-9e18-491d-9fce-4825d0f88e23": {
     "id": "fed306c9-9e18-491d-9fce-4825d0f88e23",
     "prev": "61db137f-84bd-4b79-8482-162ee2028a43",
     "regions": {
      "2498ff45-3e9e-4d63-806c-48c3748d84d3": {
       "attrs": {
        "height": 0.8,
        "width": 0.8,
        "x": 0.1,
        "y": 0.1
       },
       "content": {
        "cell": "d3f3f2d2-f220-4867-bff8-05bdd49a1fdf",
        "part": "whole"
       },
       "id": "2498ff45-3e9e-4d63-806c-48c3748d84d3"
      }
     }
    }
   },
   "themes": {}
  }
 },
 "nbformat": 4,
 "nbformat_minor": 1
}
