{
 "cells": [
  {
   "cell_type": "code",
   "execution_count": 1,
   "metadata": {},
   "outputs": [],
   "source": [
    "import sqlite3\n",
    "import pandas as pd\n",
    "import requests\n",
    "import json\n",
    "import auxiliares4 as aux"
   ]
  },
  {
   "cell_type": "code",
   "execution_count": 2,
   "metadata": {},
   "outputs": [
    {
     "data": {
      "text/plain": [
       "<sqlite3.Connection at 0x105910d50>"
      ]
     },
     "execution_count": 2,
     "metadata": {},
     "output_type": "execute_result"
    }
   ],
   "source": [
    "conn = sqlite3.connect('data_bb.db')\n",
    "\n",
    "conn"
   ]
  },
  {
   "cell_type": "code",
   "execution_count": 3,
   "metadata": {},
   "outputs": [
    {
     "data": {
      "text/html": [
       "<div>\n",
       "<style scoped>\n",
       "    .dataframe tbody tr th:only-of-type {\n",
       "        vertical-align: middle;\n",
       "    }\n",
       "\n",
       "    .dataframe tbody tr th {\n",
       "        vertical-align: top;\n",
       "    }\n",
       "\n",
       "    .dataframe thead th {\n",
       "        text-align: right;\n",
       "    }\n",
       "</style>\n",
       "<table border=\"1\" class=\"dataframe\">\n",
       "  <thead>\n",
       "    <tr style=\"text-align: right;\">\n",
       "      <th></th>\n",
       "      <th>ticker</th>\n",
       "      <th>N_FECHAS</th>\n",
       "    </tr>\n",
       "  </thead>\n",
       "  <tbody>\n",
       "    <tr>\n",
       "      <th>0</th>\n",
       "      <td>CFR CC Equity</td>\n",
       "      <td>1035</td>\n",
       "    </tr>\n",
       "    <tr>\n",
       "      <th>1</th>\n",
       "      <td>CENCOSHO CC Equity</td>\n",
       "      <td>1077</td>\n",
       "    </tr>\n",
       "    <tr>\n",
       "      <th>2</th>\n",
       "      <td>MALLPLAZ CC Equity</td>\n",
       "      <td>1304</td>\n",
       "    </tr>\n",
       "    <tr>\n",
       "      <th>3</th>\n",
       "      <td>PILMAIQ CC Equity</td>\n",
       "      <td>1568</td>\n",
       "    </tr>\n",
       "    <tr>\n",
       "      <th>4</th>\n",
       "      <td>SMU CC Equity</td>\n",
       "      <td>1678</td>\n",
       "    </tr>\n",
       "  </tbody>\n",
       "</table>\n",
       "</div>"
      ],
      "text/plain": [
       "               ticker  N_FECHAS\n",
       "0       CFR CC Equity      1035\n",
       "1  CENCOSHO CC Equity      1077\n",
       "2  MALLPLAZ CC Equity      1304\n",
       "3   PILMAIQ CC Equity      1568\n",
       "4       SMU CC Equity      1678"
      ]
     },
     "execution_count": 3,
     "metadata": {},
     "output_type": "execute_result"
    }
   ],
   "source": [
    "query = '''\n",
    "    SELECT TICKER, COUNT(VALOR) AS N_FECHAS\n",
    "    FROM PRECIOS\n",
    "    GROUP BY TICKER\n",
    "    ORDER BY N_FECHAS\n",
    "'''\n",
    "\n",
    "df = pd.read_sql(query, conn)\n",
    "df.head()"
   ]
  },
  {
   "cell_type": "code",
   "execution_count": 4,
   "metadata": {},
   "outputs": [
    {
     "data": {
      "text/html": [
       "<div>\n",
       "<style scoped>\n",
       "    .dataframe tbody tr th:only-of-type {\n",
       "        vertical-align: middle;\n",
       "    }\n",
       "\n",
       "    .dataframe tbody tr th {\n",
       "        vertical-align: top;\n",
       "    }\n",
       "\n",
       "    .dataframe thead th {\n",
       "        text-align: right;\n",
       "    }\n",
       "</style>\n",
       "<table border=\"1\" class=\"dataframe\">\n",
       "  <thead>\n",
       "    <tr style=\"text-align: right;\">\n",
       "      <th></th>\n",
       "      <th>indexDateString</th>\n",
       "      <th>value</th>\n",
       "      <th>statusCode</th>\n",
       "    </tr>\n",
       "  </thead>\n",
       "  <tbody>\n",
       "    <tr>\n",
       "      <th>0</th>\n",
       "      <td>09-08-1982</td>\n",
       "      <td>55.65</td>\n",
       "      <td>OK</td>\n",
       "    </tr>\n",
       "    <tr>\n",
       "      <th>1</th>\n",
       "      <td>10-08-1982</td>\n",
       "      <td>62.79</td>\n",
       "      <td>OK</td>\n",
       "    </tr>\n",
       "    <tr>\n",
       "      <th>2</th>\n",
       "      <td>11-08-1982</td>\n",
       "      <td>64.07</td>\n",
       "      <td>OK</td>\n",
       "    </tr>\n",
       "    <tr>\n",
       "      <th>3</th>\n",
       "      <td>12-08-1982</td>\n",
       "      <td>60.52</td>\n",
       "      <td>OK</td>\n",
       "    </tr>\n",
       "    <tr>\n",
       "      <th>4</th>\n",
       "      <td>13-08-1982</td>\n",
       "      <td>56.87</td>\n",
       "      <td>OK</td>\n",
       "    </tr>\n",
       "    <tr>\n",
       "      <th>...</th>\n",
       "      <td>...</td>\n",
       "      <td>...</td>\n",
       "      <td>...</td>\n",
       "    </tr>\n",
       "    <tr>\n",
       "      <th>15022</th>\n",
       "      <td>25-09-2023</td>\n",
       "      <td>889.21</td>\n",
       "      <td>OK</td>\n",
       "    </tr>\n",
       "    <tr>\n",
       "      <th>15023</th>\n",
       "      <td>26-09-2023</td>\n",
       "      <td>900.14</td>\n",
       "      <td>OK</td>\n",
       "    </tr>\n",
       "    <tr>\n",
       "      <th>15024</th>\n",
       "      <td>27-09-2023</td>\n",
       "      <td>904.31</td>\n",
       "      <td>OK</td>\n",
       "    </tr>\n",
       "    <tr>\n",
       "      <th>15025</th>\n",
       "      <td>28-09-2023</td>\n",
       "      <td>904.62</td>\n",
       "      <td>OK</td>\n",
       "    </tr>\n",
       "    <tr>\n",
       "      <th>15026</th>\n",
       "      <td>29-09-2023</td>\n",
       "      <td>906.84</td>\n",
       "      <td>OK</td>\n",
       "    </tr>\n",
       "  </tbody>\n",
       "</table>\n",
       "<p>15027 rows × 3 columns</p>\n",
       "</div>"
      ],
      "text/plain": [
       "      indexDateString   value statusCode\n",
       "0          09-08-1982   55.65         OK\n",
       "1          10-08-1982   62.79         OK\n",
       "2          11-08-1982   64.07         OK\n",
       "3          12-08-1982   60.52         OK\n",
       "4          13-08-1982   56.87         OK\n",
       "...               ...     ...        ...\n",
       "15022      25-09-2023  889.21         OK\n",
       "15023      26-09-2023  900.14         OK\n",
       "15024      27-09-2023  904.31         OK\n",
       "15025      28-09-2023  904.62         OK\n",
       "15026      29-09-2023  906.84         OK\n",
       "\n",
       "[15027 rows x 3 columns]"
      ]
     },
     "execution_count": 4,
     "metadata": {},
     "output_type": "execute_result"
    }
   ],
   "source": [
    "user='1090208'\n",
    "pwd='cyTG5VWgjynj'\n",
    "\n",
    "serie = 'F073.TCO.PRE.Z.D'\n",
    "\n",
    "url = f\"https://si3.bcentral.cl/SieteRestWS/SieteRestWS.ashx?\" + \\\n",
    "    f\"user={user}&pass={pwd}&lastdate=2023-09-29&\" + \\\n",
    "    f\"timeseries={serie}&function=GetSeries\"\n",
    "\n",
    "response = requests.get(url)\n",
    "data = response.json()[\"Series\"][\"Obs\"]\n",
    "\n",
    "df1 = pd.DataFrame(data)\n",
    "df1"
   ]
  },
  {
   "cell_type": "code",
   "execution_count": 5,
   "metadata": {},
   "outputs": [
    {
     "data": {
      "text/html": [
       "<div>\n",
       "<style scoped>\n",
       "    .dataframe tbody tr th:only-of-type {\n",
       "        vertical-align: middle;\n",
       "    }\n",
       "\n",
       "    .dataframe tbody tr th {\n",
       "        vertical-align: top;\n",
       "    }\n",
       "\n",
       "    .dataframe thead th {\n",
       "        text-align: right;\n",
       "    }\n",
       "</style>\n",
       "<table border=\"1\" class=\"dataframe\">\n",
       "  <thead>\n",
       "    <tr style=\"text-align: right;\">\n",
       "      <th></th>\n",
       "      <th>name</th>\n",
       "    </tr>\n",
       "  </thead>\n",
       "  <tbody>\n",
       "    <tr>\n",
       "      <th>0</th>\n",
       "      <td>PRECIOS</td>\n",
       "    </tr>\n",
       "    <tr>\n",
       "      <th>1</th>\n",
       "      <td>TICKERNEMO</td>\n",
       "    </tr>\n",
       "  </tbody>\n",
       "</table>\n",
       "</div>"
      ],
      "text/plain": [
       "         name\n",
       "0     PRECIOS\n",
       "1  TICKERNEMO"
      ]
     },
     "execution_count": 5,
     "metadata": {},
     "output_type": "execute_result"
    }
   ],
   "source": [
    "query = \"SELECT name FROM sqlite_master WHERE type='table';\"\n",
    "tables = pd.read_sql_query(query, conn)\n",
    "tables"
   ]
  },
  {
   "cell_type": "code",
   "execution_count": 6,
   "metadata": {},
   "outputs": [
    {
     "data": {
      "text/html": [
       "<div>\n",
       "<style scoped>\n",
       "    .dataframe tbody tr th:only-of-type {\n",
       "        vertical-align: middle;\n",
       "    }\n",
       "\n",
       "    .dataframe tbody tr th {\n",
       "        vertical-align: top;\n",
       "    }\n",
       "\n",
       "    .dataframe thead th {\n",
       "        text-align: right;\n",
       "    }\n",
       "</style>\n",
       "<table border=\"1\" class=\"dataframe\">\n",
       "  <thead>\n",
       "    <tr style=\"text-align: right;\">\n",
       "      <th></th>\n",
       "      <th>index</th>\n",
       "      <th>ticker</th>\n",
       "      <th>nombre</th>\n",
       "      <th>nemo</th>\n",
       "    </tr>\n",
       "  </thead>\n",
       "  <tbody>\n",
       "    <tr>\n",
       "      <th>0</th>\n",
       "      <td>10</td>\n",
       "      <td>CENCOSUD CC Equity</td>\n",
       "      <td>Cencosud SA</td>\n",
       "      <td>CENCOSUD</td>\n",
       "    </tr>\n",
       "  </tbody>\n",
       "</table>\n",
       "</div>"
      ],
      "text/plain": [
       "   index              ticker       nombre      nemo\n",
       "0     10  CENCOSUD CC Equity  Cencosud SA  CENCOSUD"
      ]
     },
     "execution_count": 6,
     "metadata": {},
     "output_type": "execute_result"
    }
   ],
   "source": [
    "query_nemotecnico = \"SELECT * FROM TICKERNEMO WHERE nombre LIKE '%CENCOSUD%';\"\n",
    "nemotecnico_cencosud = pd.read_sql_query(query_nemotecnico, conn)\n",
    "nemotecnico_cencosud"
   ]
  },
  {
   "cell_type": "code",
   "execution_count": 7,
   "metadata": {},
   "outputs": [
    {
     "data": {
      "text/html": [
       "<div>\n",
       "<style scoped>\n",
       "    .dataframe tbody tr th:only-of-type {\n",
       "        vertical-align: middle;\n",
       "    }\n",
       "\n",
       "    .dataframe tbody tr th {\n",
       "        vertical-align: top;\n",
       "    }\n",
       "\n",
       "    .dataframe thead th {\n",
       "        text-align: right;\n",
       "    }\n",
       "</style>\n",
       "<table border=\"1\" class=\"dataframe\">\n",
       "  <thead>\n",
       "    <tr style=\"text-align: right;\">\n",
       "      <th></th>\n",
       "      <th>Instrumento</th>\n",
       "      <th>Ult. Precio</th>\n",
       "      <th>Rent 1d</th>\n",
       "      <th>Rent 1m</th>\n",
       "      <th>Rent ytd*</th>\n",
       "      <th>Rent 1y*</th>\n",
       "      <th>Rent 5y*</th>\n",
       "    </tr>\n",
       "  </thead>\n",
       "  <tbody>\n",
       "    <tr>\n",
       "      <th>0</th>\n",
       "      <td>CENCOSUD</td>\n",
       "      <td>1685.0</td>\n",
       "      <td>0.60%</td>\n",
       "      <td>-7.42%</td>\n",
       "      <td>28.97%</td>\n",
       "      <td>37.55%</td>\n",
       "      <td>1.50%</td>\n",
       "    </tr>\n",
       "    <tr>\n",
       "      <th>1</th>\n",
       "      <td>IPSA</td>\n",
       "      <td>5833.36</td>\n",
       "      <td>0.15%</td>\n",
       "      <td>-3.23%</td>\n",
       "      <td>10.86%</td>\n",
       "      <td>15.85%</td>\n",
       "      <td>2.00%</td>\n",
       "    </tr>\n",
       "    <tr>\n",
       "      <th>2</th>\n",
       "      <td>Dólar</td>\n",
       "      <td>906.84</td>\n",
       "      <td>0.25%</td>\n",
       "      <td>5.74%</td>\n",
       "      <td>5.51%</td>\n",
       "      <td>-6.62%</td>\n",
       "      <td>6.51%</td>\n",
       "    </tr>\n",
       "    <tr>\n",
       "      <th>3</th>\n",
       "      <td>Fecha de referencia:</td>\n",
       "      <td>2023-09-29</td>\n",
       "      <td></td>\n",
       "      <td></td>\n",
       "      <td></td>\n",
       "      <td></td>\n",
       "      <td></td>\n",
       "    </tr>\n",
       "  </tbody>\n",
       "</table>\n",
       "</div>"
      ],
      "text/plain": [
       "            Instrumento Ult. Precio Rent 1d Rent 1m Rent ytd* Rent 1y*  \\\n",
       "0              CENCOSUD      1685.0   0.60%  -7.42%    28.97%   37.55%   \n",
       "1                  IPSA     5833.36   0.15%  -3.23%    10.86%   15.85%   \n",
       "2                 Dólar      906.84   0.25%   5.74%     5.51%   -6.62%   \n",
       "3  Fecha de referencia:  2023-09-29                                      \n",
       "\n",
       "  Rent 5y*  \n",
       "0    1.50%  \n",
       "1    2.00%  \n",
       "2    6.51%  \n",
       "3           "
      ]
     },
     "execution_count": 7,
     "metadata": {},
     "output_type": "execute_result"
    }
   ],
   "source": [
    "tickers_con_datos = ['CENCOSUD']  # Tickers con datos según la muestra\n",
    "fecha_prueba_con_datos = \"2023-09-29\"  # Fecha dentro del rango de la muestra de datos\n",
    "df_rentabilidades_con_datos = aux.calcular_rentabilidades(conn, fecha_prueba_con_datos, tickers_con_datos)\n",
    "df_rentabilidades_con_datos"
   ]
  },
  {
   "cell_type": "code",
   "execution_count": 8,
   "metadata": {},
   "outputs": [
    {
     "name": "stdout",
     "output_type": "stream",
     "text": [
      "El DataFrame se ha guardado en req4.xlsx\n"
     ]
    }
   ],
   "source": [
    "nombre_archivo = \"req4.xlsx\"\n",
    "# Guarda el DataFrame en un archivo Excel\n",
    "df_rentabilidades_con_datos.to_excel(nombre_archivo, index=False)\n",
    "print(f\"El DataFrame se ha guardado en {nombre_archivo}\")"
   ]
  }
 ],
 "metadata": {
  "kernelspec": {
   "display_name": "economía-y-ciencia-de-datos-etUShWn_",
   "language": "python",
   "name": "python3"
  },
  "language_info": {
   "codemirror_mode": {
    "name": "ipython",
    "version": 3
   },
   "file_extension": ".py",
   "mimetype": "text/x-python",
   "name": "python",
   "nbconvert_exporter": "python",
   "pygments_lexer": "ipython3",
   "version": "3.9.7"
  }
 },
 "nbformat": 4,
 "nbformat_minor": 2
}
