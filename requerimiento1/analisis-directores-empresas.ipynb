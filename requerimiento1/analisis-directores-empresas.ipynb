{
 "cells": [
  {
   "cell_type": "code",
   "execution_count": 74,
   "metadata": {},
   "outputs": [],
   "source": [
    "from datetime import datetime as dt\n",
    "from auxiliares1 import directores"
   ]
  },
  {
   "cell_type": "markdown",
   "metadata": {},
   "source": [
    "## Probando funciones de la librería"
   ]
  },
  {
   "cell_type": "code",
   "execution_count": 75,
   "metadata": {},
   "outputs": [
    {
     "data": {
      "text/plain": [
       "[\"Error: Incorrect date format. It should be 'DD-MM-YYYY'.\"]"
      ]
     },
     "execution_count": 75,
     "metadata": {},
     "output_type": "execute_result"
    }
   ],
   "source": [
    "directores(\"2019-04-30\")"
   ]
  },
  {
   "cell_type": "code",
   "execution_count": 76,
   "metadata": {},
   "outputs": [
    {
     "data": {
      "text/plain": [
       "[]"
      ]
     },
     "execution_count": 76,
     "metadata": {},
     "output_type": "execute_result"
    }
   ],
   "source": [
    "directores(\"04-30-2020\")"
   ]
  },
  {
   "cell_type": "code",
   "execution_count": 77,
   "metadata": {},
   "outputs": [
    {
     "data": {
      "text/plain": [
       "'19-10-2023 23:03:53'"
      ]
     },
     "execution_count": 77,
     "metadata": {},
     "output_type": "execute_result"
    }
   ],
   "source": [
    "timestamp = dt.now()\n",
    "formatted_timestamp = timestamp.strftime(\"%d-%m-%Y %H:%M:%S\")\n",
    "formatted_timestamp"
   ]
  },
  {
   "cell_type": "markdown",
   "metadata": {},
   "source": [
    "## Requirimiento"
   ]
  },
  {
   "cell_type": "code",
   "execution_count": 78,
   "metadata": {},
   "outputs": [],
   "source": [
    "def tiempo_ejecucion():\n",
    "    timestamp = dt.now()\n",
    "    formatted_timestamp = timestamp.strftime(\"%d-%m-%Y %H:%M:%S\")\n",
    "    return formatted_timestamp"
   ]
  },
  {
   "cell_type": "code",
   "execution_count": 79,
   "metadata": {},
   "outputs": [],
   "source": [
    "fechas_requerimientos = [\"30-09-2023\"]"
   ]
  },
  {
   "cell_type": "code",
   "execution_count": 80,
   "metadata": {},
   "outputs": [],
   "source": [
    "with open('req1.txt', 'w') as file:\n",
    "    for fecha_req in fechas_requerimientos:\n",
    "        file.write(tiempo_ejecucion() + \", \" + fecha_req + \", \")\n",
    "        directores_list = []\n",
    "        directores_list = directores(fecha_req)\n",
    "        for director in directores_list:\n",
    "            if directores_list[-1]:\n",
    "                file.write(\"\\n\")\n",
    "            else:\n",
    "                file.write(str(director) + \", \")            "
   ]
  },
  {
   "cell_type": "code",
   "execution_count": 81,
   "metadata": {},
   "outputs": [
    {
     "name": "stdout",
     "output_type": "stream",
     "text": [
      "19-10-2023 23:03:53, 30-09-2023, 8953510, 5213938, 7012075, 7012865, 9979516, 0, 0, 0, 0, \n"
     ]
    }
   ],
   "source": [
    "with open('req1.txt', 'r') as file:\n",
    "    req1 = file.read()\n",
    "    print(req1)"
   ]
  }
 ],
 "metadata": {
  "kernelspec": {
   "display_name": "economía-y-ciencia-de-datos-etUShWn_",
   "language": "python",
   "name": "python3"
  },
  "language_info": {
   "codemirror_mode": {
    "name": "ipython",
    "version": 3
   },
   "file_extension": ".py",
   "mimetype": "text/x-python",
   "name": "python",
   "nbconvert_exporter": "python",
   "pygments_lexer": "ipython3",
   "version": "3.9.7"
  },
  "orig_nbformat": 4
 },
 "nbformat": 4,
 "nbformat_minor": 2
}
