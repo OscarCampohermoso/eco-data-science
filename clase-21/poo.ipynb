{
 "cells": [
  {
   "cell_type": "code",
   "execution_count": 33,
   "metadata": {},
   "outputs": [],
   "source": [
    "import time\n",
    "import random\n",
    "import numpy as np"
   ]
  },
  {
   "cell_type": "markdown",
   "metadata": {},
   "source": [
    "# 1. Clasees (o tipos)\n",
    "\n",
    "Una clase es la difinición más fundamental de un objeto. Es el molde a partir del cual éstos se crean.\n",
    "\n",
    "Por ejemplo la clase \"Auto\""
   ]
  },
  {
   "cell_type": "code",
   "execution_count": 3,
   "metadata": {},
   "outputs": [],
   "source": [
    "class Auto:\n",
    "    \"\"\"Esta es la clase Auto\"\"\""
   ]
  },
  {
   "cell_type": "code",
   "execution_count": 4,
   "metadata": {},
   "outputs": [
    {
     "name": "stdout",
     "output_type": "stream",
     "text": [
      "<class '__main__.Auto'>\n"
     ]
    }
   ],
   "source": [
    "a = Auto()\n",
    "\n",
    "print(type(a))"
   ]
  },
  {
   "cell_type": "markdown",
   "metadata": {},
   "source": [
    "# 2. Objetos\n",
    "Un objeto es una instancia de una clase. Es decir, es un elemento que se crea a partir de un molde."
   ]
  },
  {
   "cell_type": "markdown",
   "metadata": {},
   "source": [
    "![Auto rojo](https://cdn-3.expansion.mx/dims4/default/67d078b/2147483647/strip/true/crop/664x400+0+0/resize/1600x964!/format/webp/quality/60/?url=https%3A%2F%2Fcdn-3.expansion.mx%2Fmedia%2F2012%2F03%2F02%2Fchevy1-0.jpg)"
   ]
  },
  {
   "cell_type": "code",
   "execution_count": 5,
   "metadata": {},
   "outputs": [],
   "source": [
    "auto_rojo = Auto()"
   ]
  },
  {
   "cell_type": "code",
   "execution_count": 6,
   "metadata": {},
   "outputs": [
    {
     "data": {
      "text/plain": [
       "<__main__.Auto at 0x118245d90>"
      ]
     },
     "execution_count": 6,
     "metadata": {},
     "output_type": "execute_result"
    }
   ],
   "source": [
    "auto_rojo"
   ]
  },
  {
   "cell_type": "code",
   "execution_count": 8,
   "metadata": {},
   "outputs": [],
   "source": [
    "class Auto:\n",
    "    \"\"\"Esta es la clase Auto\"\"\"\n",
    "    def __init__(self, color, puertas):\n",
    "        print(\"Se ejecutó __init__\")\n",
    "        self.color = color\n",
    "        self.puertas = puertas"
   ]
  },
  {
   "cell_type": "code",
   "execution_count": 9,
   "metadata": {},
   "outputs": [
    {
     "name": "stdout",
     "output_type": "stream",
     "text": [
      "Se ejecutó __init__\n"
     ]
    },
    {
     "data": {
      "text/plain": [
       "<__main__.Auto at 0x118144220>"
      ]
     },
     "execution_count": 9,
     "metadata": {},
     "output_type": "execute_result"
    }
   ],
   "source": [
    "auto_rojo = Auto(\"rojo\", 4)\n",
    "\n",
    "auto_rojo"
   ]
  },
  {
   "cell_type": "code",
   "execution_count": 10,
   "metadata": {},
   "outputs": [
    {
     "data": {
      "text/plain": [
       "4"
      ]
     },
     "execution_count": 10,
     "metadata": {},
     "output_type": "execute_result"
    }
   ],
   "source": [
    "auto_rojo.puertas"
   ]
  },
  {
   "cell_type": "markdown",
   "metadata": {},
   "source": [
    "# 3. Encapsulación\n",
    "\n",
    "La encapsulación es el proceso de ocultar todos los detalles de un objeto que no contribuyen a sus características esenciales. Describe la idea de que los datos dentro de un objeto deben ser privados a ese objeto y no accesibles a otros objetos a menos que el propietario del objeto lo permita."
   ]
  },
  {
   "cell_type": "code",
   "execution_count": 30,
   "metadata": {},
   "outputs": [],
   "source": [
    "class Auto:\n",
    "    \"\"\"Esta es la clase Auto\"\"\"\n",
    "    def __init__(self, color, puertas):\n",
    "        print(\"Se ejecutó __init__\")\n",
    "        self.color = color\n",
    "        self.puertas = puertas\n",
    "        self.posicion = 0\n",
    "        self.detenido = True\n",
    "\n",
    "    def abrir_puertas(self):\n",
    "        print(\"Se abren las puertas\")\n",
    "\n",
    "    def avanzar(self):\n",
    "        while self.detenido:\n",
    "            self.posicion += 1\n",
    "            print(\"Vamos en la posición\", self.posicion)\n",
    "            if self.posicion == 10:\n",
    "                self.detenido = False\n",
    "\n",
    "    def detener(self):\n",
    "        self.detenido = True"
   ]
  },
  {
   "cell_type": "code",
   "execution_count": 31,
   "metadata": {},
   "outputs": [
    {
     "name": "stdout",
     "output_type": "stream",
     "text": [
      "Se ejecutó __init__\n"
     ]
    }
   ],
   "source": [
    "a = Auto(\"rojo\", 4)"
   ]
  },
  {
   "cell_type": "code",
   "execution_count": 32,
   "metadata": {},
   "outputs": [
    {
     "name": "stdout",
     "output_type": "stream",
     "text": [
      "Vamos en la posición 1\n",
      "Vamos en la posición 2\n",
      "Vamos en la posición 3\n",
      "Vamos en la posición 4\n",
      "Vamos en la posición 5\n",
      "Vamos en la posición 6\n",
      "Vamos en la posición 7\n",
      "Vamos en la posición 8\n",
      "Vamos en la posición 9\n",
      "Vamos en la posición 10\n",
      "10\n"
     ]
    }
   ],
   "source": [
    "a.avanzar()\n",
    "print(a.posicion)"
   ]
  },
  {
   "cell_type": "code",
   "execution_count": 34,
   "metadata": {},
   "outputs": [],
   "source": [
    "class Auto:\n",
    "    \"\"\"Esta es la clase Auto\"\"\"\n",
    "\n",
    "    def __init__(self, marca, modelo, color, puertas):\n",
    "        print(\"Se ejecutó __init__\")\n",
    "        self.marca = marca\n",
    "        self.modelo = modelo\n",
    "        self.color = color\n",
    "        self.puertas = puertas\n",
    "        self.posicion = 0\n",
    "        self.velocidad = 0\n",
    "        self.detenido = True\n",
    "        self.combustible = 100  # Supongamos que el combustible se mide en porcentaje\n",
    "\n",
    "    def __repr__(self):\n",
    "        return f\"Auto(marca='{self.marca}', modelo='{self.modelo}', color='{self.color}', puertas={self.puertas}, posicion={self.posicion}, velocidad={self.velocidad}, detenido={self.detenido}, combustible={self.combustible})\"\n",
    "\n",
    "    def abrir_puertas(self):\n",
    "        print(\"Se abren las puertas\")\n",
    "\n",
    "    def cambiar_color(self, nuevo_color):\n",
    "        self.color = nuevo_color\n",
    "        print(f\"El color del auto ha sido cambiado a {self.color}\")\n",
    "\n",
    "    def avanzar(self):\n",
    "        if self.combustible > 0:\n",
    "            self.detenido = False\n",
    "            while not self.detenido and self.combustible > 0:\n",
    "                self.posicion += self.velocidad\n",
    "                self.combustible -= 0.5  # Consumo de combustible\n",
    "                print(f\"Vamos en la posición {self.posicion} a una velocidad de {self.velocidad}. Combustible restante: {self.combustible}%\")\n",
    "                if self.posicion >= 100:\n",
    "                    self.detener()\n",
    "        else:\n",
    "            print(\"No hay suficiente combustible para avanzar.\")\n",
    "\n",
    "    def acelerar(self):\n",
    "        if not self.detenido and self.combustible > 0:\n",
    "            self.velocidad += 10\n",
    "            print(f\"Velocidad incrementada a {self.velocidad}\")\n",
    "        else:\n",
    "            print(\"No se puede acelerar mientras el auto está detenido o sin combustible.\")\n",
    "\n",
    "    def desacelerar(self):\n",
    "        if self.velocidad > 0:\n",
    "            self.velocidad -= 10\n",
    "            print(f\"Velocidad disminuida a {self.velocidad}\")\n",
    "        else:\n",
    "            print(\"El auto ya está detenido.\")\n",
    "\n",
    "    def detener(self):\n",
    "        self.detenido = True\n",
    "        self.velocidad = 0\n",
    "        print(\"El auto se ha detenido.\")\n"
   ]
  },
  {
   "cell_type": "code",
   "execution_count": 36,
   "metadata": {},
   "outputs": [
    {
     "name": "stdout",
     "output_type": "stream",
     "text": [
      "Se ejecutó __init__\n",
      "Auto(marca='Toyota', modelo='Corolla', color='Rojo', puertas=4, posicion=0, velocidad=0, detenido=True, combustible=100)\n"
     ]
    }
   ],
   "source": [
    "mi_auto = Auto(marca=\"Toyota\", modelo=\"Corolla\", color=\"Rojo\", puertas=4)\n",
    "print(mi_auto)"
   ]
  },
  {
   "cell_type": "markdown",
   "metadata": {},
   "source": [
    "## ¿Cómo podemo modelar la tabla de desarrollo de un crédito bancario?"
   ]
  },
  {
   "cell_type": "markdown",
   "metadata": {},
   "source": [
    "Amortización de un crédito bancario: es el proceso de pagar un préstamo en cuotas periódicas.\n",
    "\n",
    "Cuota: es el pago que se realiza en un periodo determinado.\n",
    "\n",
    "Tasa: es el porcentaje que se aplica al saldo de la deuda para calcular los intereses."
   ]
  },
  {
   "cell_type": "code",
   "execution_count": 66,
   "metadata": {},
   "outputs": [],
   "source": [
    "## ¿Cómo podemo modelar la tabla de desarrollo de un crédito bancario?\n",
    "# Para ello necesitamos una clase que represente a la tabla de amortización\n",
    "# y otra clase que represente al crédito en sí.\n",
    "\n",
    "class Credito:\n",
    "    def __init__(self, monto, tasa, plazo):\n",
    "        self.monto = monto\n",
    "        self.tasa = tasa\n",
    "        self.plazo = plazo\n",
    "        self.cuota = self.calcular_cuota()\n",
    "\n",
    "    def calcular_cuota(self) -> float:\n",
    "        return (self.monto * self.tasa) / (1 - 1/(1 + self.tasa)**self.plazo)\n",
    "    \n",
    "    def pago (self):\n",
    "        self.monto = self.monto - self.cuota + (self.monto * self.tasa)\n",
    "        print(f\"El monto restante es {self.monto}, gracias por su pago\")\n",
    "\n",
    "    def __repr__(self) -> str:\n",
    "        return f\"Credito(\\n monto={self.monto}\\n tasa={self.tasa}\\n plazo={self.plazo}\\n cuota={self.cuota}\\n)\"\n"
   ]
  },
  {
   "cell_type": "code",
   "execution_count": 67,
   "metadata": {},
   "outputs": [],
   "source": [
    "c = Credito(monto=1000, tasa=0.01, plazo=36)"
   ]
  },
  {
   "cell_type": "code",
   "execution_count": 69,
   "metadata": {},
   "outputs": [
    {
     "name": "stdout",
     "output_type": "stream",
     "text": [
      "El monto restante es 953.3392372761691, gracias por su pago\n",
      "Credito(\n",
      " monto=953.3392372761691\n",
      " tasa=0.01\n",
      " plazo=36\n",
      " cuota=33.21430981285116\n",
      ")\n"
     ]
    }
   ],
   "source": [
    "c.pago()\n",
    "print(c)"
   ]
  }
 ],
 "metadata": {
  "kernelspec": {
   "display_name": "economía-y-ciencia-de-datos-etUShWn_",
   "language": "python",
   "name": "python3"
  },
  "language_info": {
   "codemirror_mode": {
    "name": "ipython",
    "version": 3
   },
   "file_extension": ".py",
   "mimetype": "text/x-python",
   "name": "python",
   "nbconvert_exporter": "python",
   "pygments_lexer": "ipython3",
   "version": "3.9.7"
  }
 },
 "nbformat": 4,
 "nbformat_minor": 2
}
