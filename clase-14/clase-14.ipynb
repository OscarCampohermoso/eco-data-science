{
 "cells": [
  {
   "cell_type": "markdown",
   "metadata": {},
   "source": [
    "Inner : intersección de dos bases.\n",
    "\n",
    "Outer : unión de dos bases."
   ]
  },
  {
   "cell_type": "markdown",
   "metadata": {},
   "source": [
    "```python\n",
    "df = df_ingresos.merge(df_gastos, on='comuna', how='outer')\n",
    "sf.fillna(0, inplace=True)\n",
    "``````"
   ]
  },
  {
   "cell_type": "markdown",
   "metadata": {},
   "source": [
    "### Superavit\n",
    "Cantidad en que los ingresos superan a los gastos.\n",
    "\"el club obtuvo un superávit de 70 millones la pasada temporada\""
   ]
  },
  {
   "cell_type": "markdown",
   "metadata": {},
   "source": [
    "```python\n",
    "df['superavit'] = df['ingresos'] - df['gastos']\n",
    "base = df[df['superavit'] > 0]\n",
    "\n",
    "base.sort_values(by='superavit', ascending=False, inplace=True)\n",
    "``````"
   ]
  },
  {
   "cell_type": "markdown",
   "metadata": {},
   "source": [
    "# Encuentra el menor y el mayor valor de la bas."
   ]
  },
  {
   "cell_type": "markdown",
   "metadata": {},
   "source": [
    "```python\n",
    "df_inbresos[df_ingresos['comuna'] == min(df_ingresos['total_ingresos'])]\n",
    "```"
   ]
  },
  {
   "cell_type": "markdown",
   "metadata": {},
   "source": [
    "# Nos piden encontrar comunas con diferencias de incgros mayores a 5 veces\n",
    "\n"
   ]
  },
  {
   "cell_type": "markdown",
   "metadata": {},
   "source": [
    "```python\n",
    "df_ingresos['id'] = 1\n",
    "\n",
    "df_cruce = df_ingresos.merge(df_gastos, on='id', how='outer')\n",
    "\n",
    "df_cruce['diferencia'] = df_cruce['total_ingresos'] / df_cruce['total_gastos']\n",
    "\n",
    "df_cruce[df_cruce['diferencia'] > 5]\n",
    "```"
   ]
  }
 ],
 "metadata": {
  "language_info": {
   "name": "python"
  },
  "orig_nbformat": 4
 },
 "nbformat": 4,
 "nbformat_minor": 2
}
