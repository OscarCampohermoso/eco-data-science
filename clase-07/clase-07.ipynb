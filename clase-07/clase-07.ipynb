{
 "cells": [
  {
   "cell_type": "markdown",
   "metadata": {},
   "source": [
    "# Feedback"
   ]
  },
  {
   "cell_type": "markdown",
   "metadata": {},
   "source": [
    "Requerimiento 1. Comentarios\n",
    "\n",
    "- Mejoras Muy Relelevantes\n",
    "\n",
    "    - Usar comentarios y documenten las funciones\n",
    "    - No usar librerias fuera del ambiente viegente del curso\n",
    "    - NO repetir codigo, si se puede usar \"for\"\n",
    "    - Usar nombres más intuitivos\n",
    "    - Estudiar bondades de librerías sugeridas (\"datetime\")\n",
    "        - Tratamiento de input errado (fechas)\n",
    "    - Evitar código \"escalera\"\n",
    "- Relevantes\n",
    "    - Evitar uso excesivo de try/except\n",
    "    - Procurar seguir instrucciones sobre input/output de las funciones (directores entrega lnea formateada)\n",
    "- Otros\n",
    "    - Todas las funciones auxiliares deberían estar en archivo \"auxiliares.py\" (no guardadas en otros archivos)\n",
    "    - Evitar rutas abasolutas\n",
    "\n",
    "- Requerimiento 2,\n",
    "    - Data FFMM\n",
    "    - Nemótecnicos\n",
    "    - Identificación de FFMM\n",
    "    - Tipo de cambio a fines de julio de este año"
   ]
  },
  {
   "cell_type": "code",
   "execution_count": 4,
   "metadata": {},
   "outputs": [
    {
     "name": "stdout",
     "output_type": "stream",
     "text": [
      "<class 'ValueError'>\n",
      "time data '36-08-2023' does not match format '%d-%m-%Y'\n"
     ]
    }
   ],
   "source": [
    "from datetime import datetime as dt\n",
    "\n",
    "str_date = \"36-08-2023\"\n",
    "\n",
    "try:\n",
    "    date = dt.strptime(str_date, \"%d-%m-%Y\")\n",
    "    print(date)\n",
    "except Exception as e:\n",
    "    print(type(e))\n",
    "    print(e)"
   ]
  },
  {
   "cell_type": "markdown",
   "metadata": {},
   "source": [
    "## Busqueda?"
   ]
  },
  {
   "cell_type": "code",
   "execution_count": null,
   "metadata": {},
   "outputs": [],
   "source": [
    "data = []\n",
    "lista = []\n",
    "for linea in data:\n",
    "    # si fecha_inico<x<fecha_fin?termino\n",
    "    director = None\n",
    "    lista.append(director)"
   ]
  },
  {
   "cell_type": "code",
   "execution_count": 6,
   "metadata": {},
   "outputs": [
    {
     "name": "stdout",
     "output_type": "stream",
     "text": [
      "encontrado\n"
     ]
    }
   ],
   "source": [
    "productos = ['sk1', 'sk3', 'sk4']\n",
    "\n",
    "\n",
    "cod = 'sk4'\n",
    "for prod in productos:\n",
    "    if prod == 'sk4':\n",
    "        print('encontrado')\n",
    "\n",
    "# usando zip -> zip es un iterador que permite iterar sobre dos listas al mismo tiempo\n",
    "for prod, cod in zip(productos, ['sk1', 'sk3', 'sk4']):\n",
    "    if prod == cod:\n",
    "        print('encontrado')"
   ]
  },
  {
   "cell_type": "code",
   "execution_count": 7,
   "metadata": {},
   "outputs": [],
   "source": [
    "productos = {'sk1' : 'prod1', 'sk3' : 'prod3', 'sk4' : 'prod4'}"
   ]
  },
  {
   "cell_type": "code",
   "execution_count": 8,
   "metadata": {},
   "outputs": [
    {
     "data": {
      "text/plain": [
       "'prod4'"
      ]
     },
     "execution_count": 8,
     "metadata": {},
     "output_type": "execute_result"
    }
   ],
   "source": [
    "productos['sk4']"
   ]
  },
  {
   "cell_type": "markdown",
   "metadata": {},
   "source": [
    "Podemos usar el run(codigo de fondo mutuo) y la moneda para hacerlo de manera más directa"
   ]
  }
 ],
 "metadata": {
  "kernelspec": {
   "display_name": "economía-y-ciencia-de-datos-etUShWn_",
   "language": "python",
   "name": "python3"
  },
  "language_info": {
   "codemirror_mode": {
    "name": "ipython",
    "version": 3
   },
   "file_extension": ".py",
   "mimetype": "text/x-python",
   "name": "python",
   "nbconvert_exporter": "python",
   "pygments_lexer": "ipython3",
   "version": "3.9.7"
  },
  "orig_nbformat": 4
 },
 "nbformat": 4,
 "nbformat_minor": 2
}
