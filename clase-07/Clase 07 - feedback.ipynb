{
 "cells": [
  {
   "cell_type": "markdown",
   "id": "9d25283f",
   "metadata": {},
   "source": [
    "# Clase 07 - Feedback requerimientos\n",
    "\n",
    "- Requerimiento 1. Comentarios\n",
    "    - Mejoras MUY relevantes\n",
    "        - Usar comentarios y documenten sus funciones\n",
    "        - No usar librerias fuera del ambiente vigente del curso (Pandas)\n",
    "        - No repetir código, si se puede usar usar \"for\"\n",
    "        - Usar nombres más intuitivos\n",
    "        - Estudiar bondades de librerías sugeridas (\"datetime\")\n",
    "            - Tratamiento de input errado (fechas)\n",
    "        - Evitar código \"escalera\"\n",
    "        \n",
    "    - Revelantes\n",
    "        - Evitar uso excesivo de try\n",
    "        - Procurar seguir instrucciones sobre input/output de las funciones (Directores entrega linea formateada)\n",
    "        - Procurar seguir instrucciones sobre formato de salida (req1.txt)\n",
    "            - No incluir \"<\"\n",
    "        \n",
    "    - Otros (sugeridos)\n",
    "        - Todas las funciones auxiliares deberían estar en archivo \"auxiliares.py\" (no guardar en otros archivos)\n",
    "        - Evitar rutas absolutas\n",
    "\n",
    "\n",
    "- Requerimiento 2.\n",
    "    - Data FFMM\n",
    "    - Nemotécnicos\n",
    "    - Identificación de FFMM"
   ]
  },
  {
   "cell_type": "code",
   "execution_count": 6,
   "id": "b10dc9c8",
   "metadata": {},
   "outputs": [],
   "source": [
    "def directores(input):\n",
    "    '''\n",
    "    entrega los directores vigentes a la fecha\n",
    "    '''"
   ]
  },
  {
   "cell_type": "code",
   "execution_count": 7,
   "id": "8174095c",
   "metadata": {},
   "outputs": [
    {
     "name": "stdout",
     "output_type": "stream",
     "text": [
      "Help on function directores in module __main__:\n",
      "\n",
      "directores(input)\n",
      "    entrega los directores vigentes a la fecha\n",
      "\n"
     ]
    }
   ],
   "source": [
    "help(directores)"
   ]
  },
  {
   "cell_type": "code",
   "execution_count": 11,
   "id": "133ce258",
   "metadata": {},
   "outputs": [
    {
     "name": "stdout",
     "output_type": "stream",
     "text": [
      "fecha mala\n"
     ]
    }
   ],
   "source": [
    "from datetime import datetime as dt\n",
    "\n",
    "fecha = '32-12-2023'\n",
    "\n",
    "try:\n",
    "    date = dt.strptime(fecha, \"%d-%m-%Y\")\n",
    "except:\n",
    "    print('fecha mala')\n",
    "    \n"
   ]
  },
  {
   "cell_type": "code",
   "execution_count": 5,
   "id": "10bc19b6",
   "metadata": {},
   "outputs": [
    {
     "name": "stdout",
     "output_type": "stream",
     "text": [
      "futuro\n"
     ]
    }
   ],
   "source": [
    "if date > datetime.datetime.now():\n",
    "    print('futuro')\n",
    "else:\n",
    "    print('pasado')"
   ]
  },
  {
   "cell_type": "code",
   "execution_count": null,
   "id": "3e43a075",
   "metadata": {},
   "outputs": [],
   "source": [
    "# codigo escalera\n",
    "try:\n",
    "    while True:\n",
    "        #leer datos\n",
    "        if linea[0] == \"\":\n",
    "            #hago otra cosa\n",
    "            fecha = \"31-12-2050\"\n",
    "            if linea[2] < X:\n",
    "                #hago otra cosa\n",
    "                if rut == \"0-E\"\n",
    "                    #hago otra cosa..\n",
    "except:\n",
    "    print(...)"
   ]
  },
  {
   "cell_type": "code",
   "execution_count": null,
   "id": "1d07682f",
   "metadata": {},
   "outputs": [],
   "source": []
  },
  {
   "cell_type": "code",
   "execution_count": null,
   "id": "2e7c4bcb",
   "metadata": {},
   "outputs": [],
   "source": []
  },
  {
   "cell_type": "code",
   "execution_count": null,
   "id": "8152398f",
   "metadata": {},
   "outputs": [],
   "source": [
    "for linea in data:\n",
    "    #si fecha_inico<x<fecha?termno\n",
    "    lista.append(director)"
   ]
  },
  {
   "cell_type": "code",
   "execution_count": null,
   "id": "1e34b8c7",
   "metadata": {},
   "outputs": [],
   "source": []
  },
  {
   "cell_type": "code",
   "execution_count": 20,
   "id": "401b1dc5",
   "metadata": {},
   "outputs": [],
   "source": [
    "productos = ['sk1', 'sk3','sk1', 'sk3', 'sk1', 'sk3', 'sk1', 'sk3', 'sk4', 'sk3', 'sk1', 'sk3', 'sk1', 'sk3', 'sk1', 'sk3',  ]"
   ]
  },
  {
   "cell_type": "code",
   "execution_count": 23,
   "id": "65e077ab",
   "metadata": {},
   "outputs": [
    {
     "data": {
      "text/plain": [
       "True"
      ]
     },
     "execution_count": 23,
     "metadata": {},
     "output_type": "execute_result"
    }
   ],
   "source": [
    "cod in productos\n"
   ]
  },
  {
   "cell_type": "code",
   "execution_count": 26,
   "id": "f946f327",
   "metadata": {},
   "outputs": [],
   "source": [
    "productos = {'sk1': 'prod1', 'sk2': 'prod2'}"
   ]
  },
  {
   "cell_type": "code",
   "execution_count": 27,
   "id": "da02395a",
   "metadata": {},
   "outputs": [
    {
     "ename": "KeyError",
     "evalue": "'sk4'",
     "output_type": "error",
     "traceback": [
      "\u001b[1;31m-------------------------------------------------------------------\u001b[0m",
      "\u001b[1;31mKeyError\u001b[0m                          Traceback (most recent call last)",
      "Cell \u001b[1;32mIn[27], line 1\u001b[0m\n\u001b[1;32m----> 1\u001b[0m \u001b[43mproductos\u001b[49m\u001b[43m[\u001b[49m\u001b[38;5;124;43m'\u001b[39;49m\u001b[38;5;124;43msk4\u001b[39;49m\u001b[38;5;124;43m'\u001b[39;49m\u001b[43m]\u001b[49m\n",
      "\u001b[1;31mKeyError\u001b[0m: 'sk4'"
     ]
    }
   ],
   "source": [
    "productos['sk4']"
   ]
  },
  {
   "cell_type": "code",
   "execution_count": 21,
   "id": "58e65b53",
   "metadata": {},
   "outputs": [
    {
     "name": "stdout",
     "output_type": "stream",
     "text": [
      "no esta\n",
      "no esta\n",
      "no esta\n",
      "no esta\n",
      "no esta\n",
      "no esta\n",
      "no esta\n",
      "no esta\n",
      "si esta el producto\n",
      "no esta\n",
      "no esta\n",
      "no esta\n",
      "no esta\n",
      "no esta\n",
      "no esta\n",
      "no esta\n"
     ]
    }
   ],
   "source": [
    "cod = 'sk4'\n",
    "\n",
    "for prod in productos:\n",
    "    if prod == cod:\n",
    "        print('si esta el producto')\n",
    "    else:\n",
    "        print('no esta')"
   ]
  },
  {
   "cell_type": "code",
   "execution_count": null,
   "id": "15cbb01a",
   "metadata": {},
   "outputs": [],
   "source": []
  }
 ],
 "metadata": {
  "kernelspec": {
   "display_name": "Python 3 (ipykernel)",
   "language": "python",
   "name": "python3"
  },
  "language_info": {
   "codemirror_mode": {
    "name": "ipython",
    "version": 3
   },
   "file_extension": ".py",
   "mimetype": "text/x-python",
   "name": "python",
   "nbconvert_exporter": "python",
   "pygments_lexer": "ipython3",
   "version": "3.9.17"
  }
 },
 "nbformat": 4,
 "nbformat_minor": 5
}
