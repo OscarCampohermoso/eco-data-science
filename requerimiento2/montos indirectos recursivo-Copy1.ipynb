{
 "cells": [
  {
   "cell_type": "markdown",
   "id": "02bce63a",
   "metadata": {},
   "source": [
    "Para realizar el requerimiento, podemos usar datos ficticios"
   ]
  },
  {
   "cell_type": "code",
   "execution_count": 1,
   "id": "3e2205eb",
   "metadata": {},
   "outputs": [],
   "source": [
    "        # RUN    NEMO       RUT        MONTO\n",
    "data = [(8881, 'FALABELLA',  95555555, 100),\n",
    "        (8881, 'CFM_2',      8882,     50),\n",
    "        (8882, 'FALABELLA',  95555555, 300), \n",
    "        (8882, 'OTROS',      12345,    500), \n",
    "        (8882, 'CFM_3',      8883,     200),\n",
    "        (8883, 'FALABELLA',  95555555, 100), \n",
    "        (8883, 'OTROS',      12345,    500)]"
   ]
  },
  {
   "cell_type": "code",
   "execution_count": 2,
   "id": "bdc32729",
   "metadata": {},
   "outputs": [
    {
     "data": {
      "text/plain": [
       "{8881: 1, 8882: 1, 8883: 1}"
      ]
     },
     "execution_count": 2,
     "metadata": {},
     "output_type": "execute_result"
    }
   ],
   "source": [
    "fondos = {}\n",
    "for fila in data:\n",
    "    fondos[fila[0]] = 1\n",
    "fondos"
   ]
  },
  {
   "cell_type": "code",
   "execution_count": 9,
   "id": "73b6d6bb",
   "metadata": {},
   "outputs": [
    {
     "data": {
      "text/plain": [
       "100"
      ]
     },
     "execution_count": 9,
     "metadata": {},
     "output_type": "execute_result"
    }
   ],
   "source": [
    "monto_directo(8881, 'FALABELLA', data)"
   ]
  },
  {
   "cell_type": "code",
   "execution_count": 10,
   "id": "29f37ef2",
   "metadata": {},
   "outputs": [
    {
     "data": {
      "text/plain": [
       "116.66666666666666"
      ]
     },
     "execution_count": 10,
     "metadata": {},
     "output_type": "execute_result"
    }
   ],
   "source": [
    "monto_total(8881, 'FALABELLA', data)"
   ]
  },
  {
   "cell_type": "markdown",
   "id": "a5dab206",
   "metadata": {},
   "source": [
    "¿Y si quiero hacerlo para todos los fondos?"
   ]
  },
  {
   "cell_type": "code",
   "execution_count": 14,
   "id": "803b8be9",
   "metadata": {},
   "outputs": [
    {
     "data": {
      "text/plain": [
       "[116.66666666666666, 333.3333333333333, 100]"
      ]
     },
     "execution_count": 14,
     "metadata": {},
     "output_type": "execute_result"
    }
   ],
   "source": [
    "#identificar cuales son los fondos\n",
    "\n",
    "fondos = {}\n",
    "for fila in data:\n",
    "    fondos[fila[0]] = 1\n",
    "fondos\n",
    "\n",
    "montos = []\n",
    "for fondo, val in fondos.items():\n",
    "    monto = monto_total(fondo, 'FALABELLA', data)\n",
    "    montos.append(monto)\n",
    "    \n",
    "montos"
   ]
  },
  {
   "cell_type": "code",
   "execution_count": null,
   "id": "11f88286",
   "metadata": {},
   "outputs": [],
   "source": []
  },
  {
   "cell_type": "markdown",
   "id": "6f9b8837",
   "metadata": {},
   "source": [
    "otra alternativa (mas eficiente)"
   ]
  },
  {
   "cell_type": "code",
   "execution_count": 33,
   "id": "7a66ee8b",
   "metadata": {},
   "outputs": [
    {
     "data": {
      "text/plain": [
       "[116.66666666666666, 333.3333333333333, 100]"
      ]
     },
     "execution_count": 33,
     "metadata": {},
     "output_type": "execute_result"
    }
   ],
   "source": [
    "montos = []\n",
    "fondos_vistos = set()\n",
    "\n",
    "for r, n, rut, m in data:\n",
    "    if r not in fondos_vistos:\n",
    "        monto = monto_total(r, 'FALABELLA', data)\n",
    "        montos.append(monto)\n",
    "        fondos_vistos.add(r)\n",
    "    else:\n",
    "        continue\n",
    "\n",
    "montos"
   ]
  },
  {
   "cell_type": "code",
   "execution_count": null,
   "id": "0c4ae721",
   "metadata": {},
   "outputs": [],
   "source": []
  },
  {
   "cell_type": "code",
   "execution_count": null,
   "id": "5ca981e5",
   "metadata": {},
   "outputs": [],
   "source": []
  }
 ],
 "metadata": {
  "kernelspec": {
   "display_name": "Python 3 (ipykernel)",
   "language": "python",
   "name": "python3"
  },
  "language_info": {
   "codemirror_mode": {
    "name": "ipython",
    "version": 3
   },
   "file_extension": ".py",
   "mimetype": "text/x-python",
   "name": "python",
   "nbconvert_exporter": "python",
   "pygments_lexer": "ipython3",
   "version": "3.9.7"
  }
 },
 "nbformat": 4,
 "nbformat_minor": 5
}
