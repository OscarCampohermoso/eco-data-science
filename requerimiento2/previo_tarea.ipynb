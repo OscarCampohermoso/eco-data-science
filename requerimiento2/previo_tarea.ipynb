{
 "cells": [
  {
   "cell_type": "markdown",
   "metadata": {},
   "source": [
    "```python\n",
    "instrumentos_de_mi_empresa = ['FALABELLA', 'BFALAX-3', 'BFALAYY-5']\n",
    "# indenticar cuales son los fondos\n",
    "data = [] # bdd ficticia\n",
    "fondos = {}\n",
    "for fila in data:\n",
    "    fondos[fila[0]] = 1\n",
    "fondos\n",
    "\n",
    "montos = []\n",
    "for fondo, val in fondos.items():\n",
    "    monto = monto_total(fondo, 'FALABELLA', data)\n",
    "    montos.append(monto)\n",
    "\n",
    "montos\n",
    "```\n",
    "\n",
    "El monto total es por instrumento.\n",
    "\n",
    "\n",
    "monto_directo:\n",
    "```python\n",
    "def monto_directo(run, nemo, data):\n",
    "    monto = 0\n",
    "    for r, n, rut, m in data:\n",
    "        if r == run and n == nemo:\n",
    "            monto += m\n",
    "    return monto\n",
    "```\n",
    "\n",
    "hit total:\n",
    "```python\n",
    "def total(run, data):\n",
    "    monto = 0\n",
    "    for r, n, rut, m in data:\n",
    "        if r == run:\n",
    "            monto += m\n",
    "    return monto\n",
    "```\n",
    "\n"
   ]
  },
  {
   "cell_type": "code",
   "execution_count": 46,
   "metadata": {},
   "outputs": [],
   "source": [
    "def monto_directo(run, instrumento, datos):\n",
    "    \"\"\"\"\n",
    "    Calcula la inversión directa de un fondo mutuo en un instrumento.\n",
    "\n",
    "    param run: RUN del fondo mutuo.\n",
    "    param instrumento: Nemotécnico del instrumento.\n",
    "    param datos: Lista de listas con los datos.\n",
    "    return: Inversión directa del fondo mutuo en el instrumento.\n",
    "    \"\"\"\n",
    "    # Inicializar el monto total en 0\n",
    "    monto_total = 0.0\n",
    "\n",
    "    # Iterar sobre los datos para encontrar las inversiones del RUN especificado\n",
    "    for run_fondo, nemotecnico, _, monto, _ in datos:\n",
    "        # Si encontramos el RUN y el nemotécnico especificados, sumamos el monto al total\n",
    "        if run_fondo == run and nemotecnico == instrumento:\n",
    "            print('Run', run_fondo, 'Nemotécnico', nemotecnico, 'Monto', monto)\n",
    "            # Tomamos el monto desde la posición 19\n",
    "            monto = float(monto)\n",
    "            monto_total += monto    \n",
    "    return monto_total"
   ]
  },
  {
   "cell_type": "code",
   "execution_count": 47,
   "metadata": {},
   "outputs": [],
   "source": [
    "def total_run(run, datos):\n",
    "    \"\"\"\n",
    "    Calcula el monto total invertido por un fondo mutuo.\n",
    "\n",
    "    :param run: RUN del fondo mutuo.\n",
    "    :param datos: Lista de listas con los datos.\n",
    "    :return: Monto total invertido por el fondo mutuo.\n",
    "    \"\"\"\n",
    "    # Inicializar el monto total en 0\n",
    "    monto_total = 0.0\n",
    "    \n",
    "    # Iterar sobre los datos para encontrar las inversiones del RUN especificado\n",
    "    for run_fondo, _, _, monto, _ in datos:\n",
    "\n",
    "        # Si encontramos el RUN y el nemotécnico especificados, sumamos el monto al total\n",
    "        if run_fondo == run:\n",
    "            # Tomamos el monto desde la posición 19\n",
    "            monto = float(monto)\n",
    "            monto_total += monto\n",
    "    \n",
    "    return monto_total"
   ]
  },
  {
   "cell_type": "code",
   "execution_count": 48,
   "metadata": {},
   "outputs": [],
   "source": [
    "def rut_exists_in_data(rut, datos):\n",
    "    for r, _, _, _, _ in datos:\n",
    "        if r == rut:\n",
    "            return True\n",
    "    return False\n",
    "\n",
    "def monto_total(run, instrumento, datos, visited_runs=None):\n",
    "    if visited_runs is None:\n",
    "        visited_runs = []\n",
    "\n",
    "    # Si el run ya ha sido visitado, retornamos 0 para evitar la recursión infinita\n",
    "    if run in visited_runs:\n",
    "        return 0\n",
    "\n",
    "    visited_runs.append(run)\n",
    "\n",
    "    monto_directo_total = monto_directo(run, instrumento, datos)\n",
    "    monto_indirecto_total = 0\n",
    "\n",
    "    for current_run, _, rut, monto, tipo_inv in datos:\n",
    "\n",
    "        # Si el run actual coincide y el tipo de inversión es 'CMF'\n",
    "        if current_run == run and tipo_inv == 'CMF':\n",
    "            # Verificamos si el rut está en los datos\n",
    "            if rut_exists_in_data(rut, datos):\n",
    "                monto_total_rut = total_run(rut, datos)\n",
    "                if monto_total_rut != 0:\n",
    "                    factor = monto / monto_total_rut\n",
    "                    monto_indirecto_total += factor * monto_total(rut, instrumento, datos, visited_runs)\n",
    "    \n",
    "    return monto_directo_total + monto_indirecto_total"
   ]
  },
  {
   "cell_type": "code",
   "execution_count": 49,
   "metadata": {},
   "outputs": [],
   "source": [
    "        #RUN    NEMO    RUT    MONTO   TIPOINV\n",
    "data = [(8881, 'FALABELLA', 95555555, 100, 'CMF'),\n",
    "        (8881, 'CFM2', 8882, 50, 'CMF'),\n",
    "        (8882, 'FALABELLA', 95555555, 300, 'CMF'),\n",
    "        (8882, 'OTROS', 12345, 500, 'CMF'),\n",
    "        (8882, 'CFM_3', 8883, 200, 'CMF'),\n",
    "        (8883, 'FALABELLA', 95555555, 100, 'CMF'),\n",
    "        (8883, 'OTROS', 12345, 500, 'CMF'),]"
   ]
  },
  {
   "cell_type": "code",
   "execution_count": 50,
   "metadata": {},
   "outputs": [
    {
     "name": "stdout",
     "output_type": "stream",
     "text": [
      "Run 8881 Nemotécnico FALABELLA Monto 100\n"
     ]
    },
    {
     "data": {
      "text/plain": [
       "100.0"
      ]
     },
     "execution_count": 50,
     "metadata": {},
     "output_type": "execute_result"
    }
   ],
   "source": [
    "monto_directo(8881, 'FALABELLA', data)"
   ]
  },
  {
   "cell_type": "code",
   "execution_count": 51,
   "metadata": {},
   "outputs": [
    {
     "data": {
      "text/plain": [
       "1000.0"
      ]
     },
     "execution_count": 51,
     "metadata": {},
     "output_type": "execute_result"
    }
   ],
   "source": [
    "total_run(8882, data)"
   ]
  },
  {
   "cell_type": "code",
   "execution_count": 52,
   "metadata": {},
   "outputs": [
    {
     "name": "stdout",
     "output_type": "stream",
     "text": [
      "Run 8881 Nemotécnico FALABELLA Monto 100\n",
      "Run 8882 Nemotécnico FALABELLA Monto 300\n",
      "Run 8883 Nemotécnico FALABELLA Monto 100\n"
     ]
    },
    {
     "data": {
      "text/plain": [
       "116.66666666666667"
      ]
     },
     "execution_count": 52,
     "metadata": {},
     "output_type": "execute_result"
    }
   ],
   "source": [
    "monto_total(8881, 'FALABELLA', data)"
   ]
  },
  {
   "cell_type": "code",
   "execution_count": 55,
   "metadata": {},
   "outputs": [
    {
     "name": "stdout",
     "output_type": "stream",
     "text": [
      "Run 8883 Nemotécnico FALABELLA Monto 100\n"
     ]
    },
    {
     "data": {
      "text/plain": [
       "100.0"
      ]
     },
     "execution_count": 55,
     "metadata": {},
     "output_type": "execute_result"
    }
   ],
   "source": [
    "monto_total(8883, 'FALABELLA', data)"
   ]
  },
  {
   "cell_type": "code",
   "execution_count": null,
   "metadata": {},
   "outputs": [],
   "source": []
  }
 ],
 "metadata": {
  "kernelspec": {
   "display_name": "economía-y-ciencia-de-datos-etUShWn_",
   "language": "python",
   "name": "python3"
  },
  "language_info": {
   "codemirror_mode": {
    "name": "ipython",
    "version": 3
   },
   "file_extension": ".py",
   "mimetype": "text/x-python",
   "name": "python",
   "nbconvert_exporter": "python",
   "pygments_lexer": "ipython3",
   "version": "3.9.7"
  },
  "orig_nbformat": 4
 },
 "nbformat": 4,
 "nbformat_minor": 2
}
