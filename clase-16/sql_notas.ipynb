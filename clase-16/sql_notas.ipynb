{
 "cells": [
  {
   "cell_type": "markdown",
   "metadata": {},
   "source": [
    "| CURSO | PROM_ACUM | PORCENTAJE |\n",
    "|----------|----------|----------|\n",
    "| A    | 5.8   | 75%   |\n",
    "| B    | 5.0   | 30%   |\n",
    "| C    | 4.0   | 50%   |"
   ]
  },
  {
   "cell_type": "markdown",
   "metadata": {},
   "source": [
    "```sql\n",
    "SELECT \n",
    "    curso, \n",
    "    SUM(nota*porc)/100 AS prom_acum,\n",
    "    SUM(porc) AS porcentaje,\n",
    "    GREATEST((4 - (SUM(nota*porc)/100 * SUM(porc)/100))/(1 - SUM(porc)/100), 1) AS nota_necesaria\n",
    "FROM notas\n",
    "GROUP BY curso;\n",
    "\n",
    "```"
   ]
  },
  {
   "cell_type": "markdown",
   "metadata": {},
   "source": [
    "NOTA NECESARIA: \n",
    "$$\n",
    "    max(\\frac{4-PROM \\cdot PORC}{1 - PORC}, 1)\n",
    "$$"
   ]
  },
  {
   "cell_type": "markdown",
   "metadata": {},
   "source": [
    "AHORA la información en la tabla es muy pobre especialmente si tomamos en cuenta que los cursos no evalúan de la misma manera. Por ejemplo, el curso A tiene 3 evaluaciones, el curso B tiene 2 evaluaciones y el curso C tiene 1 evaluación. Lo que podemos hacer es crear una tabla que contenga la información de las evaluaciones de cada curso."
   ]
  },
  {
   "cell_type": "markdown",
   "metadata": {},
   "source": [
    "Existen dos bases de datos transaccionales:"
   ]
  },
  {
   "cell_type": "markdown",
   "metadata": {},
   "source": [
    "- Base de datos transaccional: Es una base de datos que se actualiza en tiempo real. Por ejemplo, una base de datos de un banco que registra las transacciones de los clientes.\n",
    "- Base de datos analítica: Es una base de datos que se actualiza en un periodo de tiempo. Por ejemplo, una base de datos de un banco que registra las transacciones de los clientes cada mes."
   ]
  },
  {
   "cell_type": "markdown",
   "metadata": {},
   "source": [
    "por ejemplo para una empresa de ventas de productos de limpieza, la base de datos transaccional puede ser:\n",
    "\n",
    "| ID | PRODUCTO | CANTIDAD | PRECIO | FECHA |\n",
    "|----|----------|----------|--------|-------|\n",
    "| 1  | LIMON    | 10       | 1.5    | 1/1/20|\n",
    "| 2  | LIMON    | 5        | 1.5    | 1/1/20|\n",
    "| 3  | LIMON    | 10       | 1.5    | 1/1/20|\n",
    "| 4  | LIMON    | 10       | 1.5    | 1/1/20|\n",
    "| 5  | LIMON    | 10       | 1.5    | 1/1/20|\n",
    "| 6  | LIMON    | 10       | 1.5    | 1/1/20|\n",
    "\n",
    "y la base de datos analítica puede ser:\n",
    "\n",
    "| PRODUCTO | CANTIDAD | PRECIO | FECHA |\n",
    "|----------|----------|--------|-------|\n",
    "| LIMON    | 55       | 1.5    | 1/1/20|\n"
   ]
  },
  {
   "cell_type": "markdown",
   "metadata": {},
   "source": [
    "Las bases de datos transaccionales se encuentran en SQL y las bases de datos analíticas se encuentran en NoSQL."
   ]
  },
  {
   "cell_type": "markdown",
   "metadata": {},
   "source": [
    "SQL: Es un lengua de consulta estructurado. Es un lenguaje de programación que permite hacer consultas a una base de datos relacional. Las bases de datos relacionales son bases de datos que se encuentran en tablas. Por ejemplo, la base de datos de la empresa de ventas de productos de limpieza se encuentra en tablas.\n",
    "\n",
    "```SQL\n",
    "SELECT * FROM tabla;\n",
    "```"
   ]
  },
  {
   "cell_type": "markdown",
   "metadata": {},
   "source": [
    "```sql\n",
    "SELECT [column_name(s)]\n",
    "FROM [table_name]\n",
    "WHERE [column_name] LIKE [pattern]\n",
    "GROUP BY [column_name(s)]\n",
    "HAVING [condition];\n",
    "```"
   ]
  },
  {
   "cell_type": "markdown",
   "metadata": {},
   "source": [
    "```sql\n",
    "SELECT curso, nota\n",
    "FROM notas\n",
    "WHERE curso = 'A' AND nota < 4;\n",
    "```"
   ]
  },
  {
   "cell_type": "markdown",
   "metadata": {},
   "source": [
    "```sql\n",
    "SELECT curso, nota, (porcentaje/100) AS porcentaje\n",
    "FROM notas\n",
    "WHERE curso = 'A' AND nota < 4;\n",
    "```\n"
   ]
  },
  {
   "cell_type": "markdown",
   "metadata": {},
   "source": [
    "group by\n",
    "```sql\n",
    "SELECT curso, AVG(nota) AS promedio\n",
    "FROM notas\n",
    "WHERE curso = 'A' AND nota < 4\n",
    "GROUP BY curso;\n",
    "```"
   ]
  },
  {
   "cell_type": "markdown",
   "metadata": {},
   "source": []
  }
 ],
 "metadata": {
  "language_info": {
   "name": "python"
  }
 },
 "nbformat": 4,
 "nbformat_minor": 2
}
