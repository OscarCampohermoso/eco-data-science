{
 "cells": [
  {
   "cell_type": "code",
   "execution_count": 2,
   "metadata": {},
   "outputs": [
    {
     "name": "stdout",
     "output_type": "stream",
     "text": [
      "[2.9000000000000004, 5, 10, 15, 17, 20, 21.4]\n"
     ]
    }
   ],
   "source": [
    "def percentile(L, p):\n",
    "    L_sorted = sorted(L)\n",
    "    k = (len(L_sorted) - 1) * p\n",
    "    f = int(k)\n",
    "    c = k - f\n",
    "    return (1 - c) * L_sorted[f] + c * L_sorted[f + 1]\n",
    "\n",
    "def winsorize(L, X):\n",
    "    lower_percentile = percentile(L, (100 - X) / 200)\n",
    "    upper_percentile = percentile(L, (X + (100 - X) / 2) / 100)\n",
    "    L_winsorized = [lower_percentile if x < lower_percentile else upper_percentile if x > upper_percentile else x for x in L]\n",
    "    return L_winsorized\n",
    "\n",
    "# Ejemplo de uso\n",
    "original_data = [2, 5, 10, 15, 17, 20, 22]\n",
    "winsor_level = 90\n",
    "winsorized_data = winsorize(original_data, winsor_level)\n",
    "print(winsorized_data)"
   ]
  },
  {
   "cell_type": "code",
   "execution_count": 13,
   "metadata": {},
   "outputs": [
    {
     "name": "stdout",
     "output_type": "stream",
     "text": [
      "1\n",
      "16\n",
      "[5, 5, 10, 15, 17, 20, 22, 45, 50, 55, 60, 65, 70, 75, 80, 85, 90, 90]\n"
     ]
    }
   ],
   "source": [
    "def simple_percentile(L, p):\n",
    "    L_sorted = sorted(L)\n",
    "    k = round((len(L_sorted) - 1) * p / 100)\n",
    "    print(k)\n",
    "    return L_sorted[k]\n",
    "\n",
    "def winsorize(L, X):\n",
    "    lower_percentile = simple_percentile(L, (100 - X) / 2)\n",
    "    upper_percentile = simple_percentile(L, X + (100 - X) / 2)\n",
    "    L_winsorized = [lower_percentile if x < lower_percentile else upper_percentile if x > upper_percentile else x for x in L]\n",
    "    return L_winsorized\n",
    "\n",
    "# Ejemplo de uso\n",
    "original_data = [2, 5, 10, 15, 17, 20, 22, 45, 50, 55, 60, 65, 70, 75, 80, 85, 90, 1000]\n",
    "winsor_level = 90\n",
    "winsorized_data = winsorize(original_data, winsor_level)\n",
    "print(winsorized_data)\n"
   ]
  },
  {
   "cell_type": "code",
   "execution_count": 15,
   "metadata": {},
   "outputs": [],
   "source": [
    "def biciesto(año):\n",
    "    if año % 4 == 0 and año % 100 != 0 or año % 400 == 0:\n",
    "        return True"
   ]
  },
  {
   "cell_type": "code",
   "execution_count": 17,
   "metadata": {},
   "outputs": [
    {
     "data": {
      "text/plain": [
       "True"
      ]
     },
     "execution_count": 17,
     "metadata": {},
     "output_type": "execute_result"
    }
   ],
   "source": [
    "biciesto(2020) # biviesto viene de bis (dos) y sexto (seis) porque cada seis años se repite el calendario"
   ]
  },
  {
   "cell_type": "code",
   "execution_count": 18,
   "metadata": {},
   "outputs": [],
   "source": [
    "def magic(num1, num2 = 2):\n",
    "    if num1 % num2 == 0:\n",
    "        return False\n",
    "    if num2 + 1 == num1:\n",
    "        return True\n",
    "    return magic(num1, num2+1)\n"
   ]
  },
  {
   "cell_type": "code",
   "execution_count": 19,
   "metadata": {},
   "outputs": [
    {
     "data": {
      "text/plain": [
       "False"
      ]
     },
     "execution_count": 19,
     "metadata": {},
     "output_type": "execute_result"
    }
   ],
   "source": [
    "magic(10)"
   ]
  },
  {
   "cell_type": "code",
   "execution_count": 23,
   "metadata": {},
   "outputs": [
    {
     "name": "stdout",
     "output_type": "stream",
     "text": [
      "zgcl!\n"
     ]
    }
   ],
   "source": [
    "def shift(texto, valor):\n",
    "    resultado = ''\n",
    "    for char in texto:\n",
    "        if char.isalpha():\n",
    "            desplazamiento = ord('a') if char.islower() else ord('A')\n",
    "            resultado += chr((ord(char) - desplazamiento + valor) % 26 + desplazamiento)\n",
    "        else:\n",
    "            resultado += char\n",
    "    return resultado\n",
    "\n",
    "# Probamos la función con el ejemplo dado\n",
    "A = shift('vamos bien!', -2)\n",
    "B = A.split()[1]\n",
    "print(B.replace('i', 'e'))"
   ]
  },
  {
   "cell_type": "code",
   "execution_count": 33,
   "metadata": {},
   "outputs": [],
   "source": [
    "def mediana(L):\n",
    "    n = len(L)\n",
    "    mediana = L[(n-1)//2]\n",
    "    return mediana"
   ]
  },
  {
   "cell_type": "code",
   "execution_count": 34,
   "metadata": {},
   "outputs": [
    {
     "name": "stdout",
     "output_type": "stream",
     "text": [
      "2\n"
     ]
    },
    {
     "data": {
      "text/plain": [
       "3"
      ]
     },
     "execution_count": 34,
     "metadata": {},
     "output_type": "execute_result"
    }
   ],
   "source": [
    "lista_m = [1,2,3,4,5]\n",
    "mediana(lista_m)"
   ]
  },
  {
   "cell_type": "code",
   "execution_count": 35,
   "metadata": {},
   "outputs": [],
   "source": [
    "# Definición del procedimiento para analizar los datos de los estafados sin utilizar set\n",
    "def analizar_estafas_sin_set(estafados):\n",
    "    # Diccionario para guardar el número de personas estafadas por cada empresa\n",
    "    empresas_personas = {}\n",
    "    \n",
    "    # Diccionario para guardar el número de veces que cada empresa estafó a cada persona\n",
    "    empresas_veces = {}\n",
    "    \n",
    "    for rut, deuda, empresa, fecha in estafados:\n",
    "        # Actualizar el número de personas estafadas por cada empresa\n",
    "        if empresa not in empresas_personas:\n",
    "            empresas_personas[empresa] = 0\n",
    "        if empresa not in empresas_veces or rut not in empresas_veces[empresa]:\n",
    "            empresas_personas[empresa] += 1\n",
    "        \n",
    "        # Actualizar el número de veces que cada empresa estafó a cada persona\n",
    "        if empresa not in empresas_veces:\n",
    "            empresas_veces[empresa] = {}\n",
    "        if rut not in empresas_veces[empresa]:\n",
    "            empresas_veces[empresa][rut] = 0\n",
    "        empresas_veces[empresa][rut] += 1\n",
    "        \n",
    "    return empresas_personas, empresas_veces"
   ]
  },
  {
   "cell_type": "code",
   "execution_count": 36,
   "metadata": {},
   "outputs": [
    {
     "data": {
      "text/plain": [
       "({'inversiones_eycd': 2, 'inversiones_xyz': 2},\n",
       " {'inversiones_eycd': {'18.294.117-9': 2, '19.123.456-7': 1},\n",
       "  'inversiones_xyz': {'18.294.117-9': 1, '19.123.456-7': 1}})"
      ]
     },
     "execution_count": 36,
     "metadata": {},
     "output_type": "execute_result"
    }
   ],
   "source": [
    "# Datos de ejemplo\n",
    "estafados = [\n",
    "    ('18.294.117-9', 5000000, 'inversiones_eycd', (20, 5, 2017)),\n",
    "    ('19.123.456-7', 3000000, 'inversiones_eycd', (21, 5, 2017)),\n",
    "    ('18.294.117-9', 2000000, 'inversiones_xyz', (22, 5, 2017)),\n",
    "    ('19.123.456-7', 1000000, 'inversiones_xyz', (23, 5, 2017)),\n",
    "    ('18.294.117-9', 4000000, 'inversiones_eycd', (24, 5, 2017))\n",
    "]\n",
    "\n",
    "# Llamada al procedimiento con los mismos datos de ejemplo\n",
    "analizar_estafas_sin_set(estafados)"
   ]
  },
  {
   "cell_type": "code",
   "execution_count": 38,
   "metadata": {},
   "outputs": [
    {
     "data": {
      "text/plain": [
       "[2, 3, 4]"
      ]
     },
     "execution_count": 38,
     "metadata": {},
     "output_type": "execute_result"
    }
   ],
   "source": [
    "def magic2(L):\n",
    "    a = L\n",
    "    L.append(4)\n",
    "    a.pop(0)\n",
    "    return L\n",
    "\n",
    "L = [1,2,3]\n",
    "magic2(L)"
   ]
  },
  {
   "cell_type": "code",
   "execution_count": 39,
   "metadata": {},
   "outputs": [
    {
     "name": "stdout",
     "output_type": "stream",
     "text": [
      "3\n"
     ]
    }
   ],
   "source": [
    "a = 3\n",
    "\n",
    "b = a \n",
    "b += 4\n",
    "print(a)"
   ]
  },
  {
   "cell_type": "markdown",
   "metadata": {},
   "source": []
  },
  {
   "cell_type": "code",
   "execution_count": null,
   "metadata": {},
   "outputs": [],
   "source": []
  }
 ],
 "metadata": {
  "kernelspec": {
   "display_name": "economía-y-ciencia-de-datos-etUShWn_",
   "language": "python",
   "name": "python3"
  },
  "language_info": {
   "codemirror_mode": {
    "name": "ipython",
    "version": 3
   },
   "file_extension": ".py",
   "mimetype": "text/x-python",
   "name": "python",
   "nbconvert_exporter": "python",
   "pygments_lexer": "ipython3",
   "version": "3.9.7"
  },
  "orig_nbformat": 4
 },
 "nbformat": 4,
 "nbformat_minor": 2
}
