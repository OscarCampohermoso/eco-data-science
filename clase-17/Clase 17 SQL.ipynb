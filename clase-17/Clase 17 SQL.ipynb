{
 "cells": [
  {
   "cell_type": "markdown",
   "id": "cc48b416",
   "metadata": {},
   "source": [
    "#  Clase 17 - SQL\n",
    "\n",
    "### Hoy\n",
    "- Dbeaver – instalación y uso\n",
    "    - Carga datos notas\n",
    "- Exploración de datos\n",
    "- Queries anidadas\n",
    "- Llamada desde Python\n",
    "- Uso de funcion “CASE”"
   ]
  },
  {
   "cell_type": "markdown",
   "id": "4702ab9e",
   "metadata": {},
   "source": [
    "#### Opciones de consulta de datos: Método \"directo\""
   ]
  },
  {
   "cell_type": "code",
   "execution_count": 3,
   "id": "274e7df5",
   "metadata": {},
   "outputs": [
    {
     "data": {
      "text/plain": [
       "(0, 'A', 'c1', 0.1, 6.0)"
      ]
     },
     "execution_count": 3,
     "metadata": {},
     "output_type": "execute_result"
    }
   ],
   "source": [
    "import sqlite3\n",
    "\n",
    "conn = sqlite3.connect('notes.db')\n",
    "\n",
    "#cursor = conn.cursor()\n",
    "\n",
    "query = 'SELECT * FROM NOTAS'\n",
    "\n",
    "response = conn.execute(query)\n",
    "\n",
    "response.fetchone()"
   ]
  },
  {
   "cell_type": "markdown",
   "id": "2f8cba31",
   "metadata": {},
   "source": [
    "#### Opciones de consulta de datos: Método \"indirecto\""
   ]
  },
  {
   "cell_type": "code",
   "execution_count": 3,
   "id": "1c4b77c0",
   "metadata": {},
   "outputs": [
    {
     "data": {
      "text/html": [
       "<div>\n",
       "<style scoped>\n",
       "    .dataframe tbody tr th:only-of-type {\n",
       "        vertical-align: middle;\n",
       "    }\n",
       "\n",
       "    .dataframe tbody tr th {\n",
       "        vertical-align: top;\n",
       "    }\n",
       "\n",
       "    .dataframe thead th {\n",
       "        text-align: right;\n",
       "    }\n",
       "</style>\n",
       "<table border=\"1\" class=\"dataframe\">\n",
       "  <thead>\n",
       "    <tr style=\"text-align: right;\">\n",
       "      <th></th>\n",
       "      <th>CURSO</th>\n",
       "      <th>NOTA ACTUAL</th>\n",
       "      <th>PORCENTAJE ACUMULADO</th>\n",
       "      <th>NOTA NECESARIA</th>\n",
       "    </tr>\n",
       "  </thead>\n",
       "  <tbody>\n",
       "    <tr>\n",
       "      <th>0</th>\n",
       "      <td>A</td>\n",
       "      <td>6.29</td>\n",
       "      <td>0.7</td>\n",
       "      <td>5.33</td>\n",
       "    </tr>\n",
       "    <tr>\n",
       "      <th>1</th>\n",
       "      <td>B</td>\n",
       "      <td>5.00</td>\n",
       "      <td>0.4</td>\n",
       "      <td>6.67</td>\n",
       "    </tr>\n",
       "    <tr>\n",
       "      <th>2</th>\n",
       "      <td>C</td>\n",
       "      <td>4.50</td>\n",
       "      <td>0.5</td>\n",
       "      <td>7.50</td>\n",
       "    </tr>\n",
       "    <tr>\n",
       "      <th>3</th>\n",
       "      <td>D</td>\n",
       "      <td>6.50</td>\n",
       "      <td>0.3</td>\n",
       "      <td>5.79</td>\n",
       "    </tr>\n",
       "  </tbody>\n",
       "</table>\n",
       "</div>"
      ],
      "text/plain": [
       "  CURSO  NOTA ACTUAL  PORCENTAJE ACUMULADO  NOTA NECESARIA\n",
       "0     A         6.29                   0.7            5.33\n",
       "1     B         5.00                   0.4            6.67\n",
       "2     C         4.50                   0.5            7.50\n",
       "3     D         6.50                   0.3            5.79"
      ]
     },
     "execution_count": 3,
     "metadata": {},
     "output_type": "execute_result"
    }
   ],
   "source": [
    "import pandas as pd\n",
    "import sqlite3\n",
    "\n",
    "conn = sqlite3.connect('notes.db')\n",
    "\n",
    "#en pandas no es necesario crear un objeto cursor\n",
    "\n",
    "query = '''\n",
    "    SELECT \n",
    "        Curso AS \"CURSO\", \n",
    "        ROUND(NOTA_ACTUAL, 2) AS \"NOTA ACTUAL\", \n",
    "        ROUND(PORC_ACUM, 2) AS \"PORCENTAJE ACUMULADO\", \n",
    "        ROUND(MAX(((? - NOTA_ACTUAL * PORC_ACUM) / (1 - PORC_ACUM)), 1), 2) AS \"NOTA NECESARIA\"\n",
    "    FROM (\n",
    "        SELECT \n",
    "            Curso, \n",
    "            SUM(Nota * Ponderacion)/SUM(Ponderacion) AS NOTA_ACTUAL,\n",
    "            SUM(Ponderacion) AS PORC_ACUM\n",
    "        FROM NOTAS\n",
    "        GROUP BY Curso\n",
    "    );\n",
    "\n",
    "'''\n",
    "\n",
    "df = pd.read_sql(query, conn, params=[6])\n",
    "\n",
    "df"
   ]
  },
  {
   "cell_type": "code",
   "execution_count": null,
   "id": "0566ab19",
   "metadata": {},
   "outputs": [],
   "source": []
  }
 ],
 "metadata": {
  "kernelspec": {
   "display_name": "economía-y-ciencia-de-datos-etUShWn_",
   "language": "python",
   "name": "python3"
  },
  "language_info": {
   "codemirror_mode": {
    "name": "ipython",
    "version": 3
   },
   "file_extension": ".py",
   "mimetype": "text/x-python",
   "name": "python",
   "nbconvert_exporter": "python",
   "pygments_lexer": "ipython3",
   "version": "3.9.7"
  }
 },
 "nbformat": 4,
 "nbformat_minor": 5
}
