{
 "cells": [
  {
   "cell_type": "markdown",
   "metadata": {},
   "source": [
    "# Base de datos SQL"
   ]
  },
  {
   "cell_type": "markdown",
   "metadata": {},
   "source": [
    "- ¿qué tan grandes pueden ser las bases de datos? r. muy grandes, pero no infinitas (por ahora)\n",
    "- ¿cuántos datos podemos cargar a Python? r. todos los que quepan en la memoria RAM\n",
    "- ¿cuántos datos puede procesar un computador? r. todos los que quepan en la memoria RAM y en el disco duro (o en la nube)"
   ]
  },
  {
   "cell_type": "markdown",
   "metadata": {},
   "source": [
    "```python\n",
    "import pandas as pd\n",
    "\n",
    "df = pd.read_csv('data/censo-2017.csv', sep=';', nrows=1000)\n",
    "\n",
    "df\n",
    "```\n",
    "\n",
    "incluso una base de datos \"pequeña\", toma mucho tiempo en cargar ...\n",
    "\n",
    "Veamos cómo se podría hacer lo mismo con SQL\n",
    "\n",
    "```python\n",
    "import sqlite3\n",
    "\n",
    "conn = sqlite3.connect('data/censo-2017.sqlite')\n",
    "\n",
    "df = pd.read_sql_query('SELECT * FROM censo_2017', conn)\n",
    "\n",
    "df = pd.read_sql('SELECT * FROM censo_2017', conn) # la diferencia es que este comando es más general y permite hacer más cosas\n",
    "\n",
    "df\n",
    "```\n",
    "\n",
    "pasos en el 'mundo real'\n",
    "\n",
    "1. \"Conectarse\"\n",
    "2. Enviar consulta \"Query\"\n",
    "3. Procesar respuestas"
   ]
  },
  {
   "cell_type": "markdown",
   "metadata": {},
   "source": []
  }
 ],
 "metadata": {
  "language_info": {
   "name": "python"
  }
 },
 "nbformat": 4,
 "nbformat_minor": 2
}
