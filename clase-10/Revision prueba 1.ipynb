{
 "cells": [
  {
   "cell_type": "markdown",
   "id": "4aafc8ee",
   "metadata": {},
   "source": [
    "## Pregunta 1 - Identifique el output (5 puntos)\n",
    "\n",
    "¿Cuál es el output de este código?\n",
    "\n",
    "```python\n",
    "x = [1, 2, 3]\n",
    "y = x\n",
    "y[0] = False and False\n",
    "print(x)\n",
    "```"
   ]
  },
  {
   "cell_type": "markdown",
   "id": "8252f607",
   "metadata": {},
   "source": [
    "Respuesta: [False, 2, 3]"
   ]
  },
  {
   "cell_type": "markdown",
   "id": "5e5aa9f9",
   "metadata": {},
   "source": [
    "## Pregunta 2 - Palíndromo (5 puntos)\n",
    "Cree una función que permita verificar si un texto determinado es o no un palíndromo. Un palíndromo se define como aquel texto que se lee igual de izquierda a derecha y de derecha a izquierda. Para efectos de esta función, se sugiere eliminar los espacios y convertir letras mayúsculas a minúsculas (por ejemplo, \"La Anilina al\" es un palíndromo).\n",
    "\n"
   ]
  },
  {
   "cell_type": "markdown",
   "id": "b6c6229c",
   "metadata": {},
   "source": [
    "Respuesta:"
   ]
  },
  {
   "cell_type": "code",
   "execution_count": 1,
   "id": "ae4e03d0",
   "metadata": {},
   "outputs": [],
   "source": [
    "def es_palindromo(texto):\n",
    "    'determina si \"texto\" es palindromo o no'\n",
    "    # Escriba aquí su código\n",
    "    \n",
    "    t = texto.replace(\" \", \"\").strip()\n",
    "    \n",
    "    return t==t[::-1]"
   ]
  },
  {
   "cell_type": "code",
   "execution_count": 2,
   "id": "7e4b7dcb",
   "metadata": {},
   "outputs": [
    {
     "data": {
      "text/plain": [
       "True"
      ]
     },
     "execution_count": 2,
     "metadata": {},
     "output_type": "execute_result"
    }
   ],
   "source": [
    "#test\n",
    "\n",
    "t = 'anilina'\n",
    "\n",
    "es_palindromo(t)"
   ]
  },
  {
   "cell_type": "markdown",
   "id": "93d1c988",
   "metadata": {},
   "source": [
    "## Pregunta 3 - Encuentre el error (5 puntos)\n",
    "\n",
    "Analice el siguiente código y encuentre al menos cuatro errores de ejecución. La función `conteo_de_palabras` debería calcular y devolver un diccionario que contenga la cantidad de veces que aparece cada palabra en el archivo. Explique brevemente los errores encontrados.\n",
    "\n",
    "```python\n",
    "def conteo_de_palabras(nombre_archivo):\n",
    "    cuenta_palabras = {}   \n",
    "    with open(nombre_archivo, 'a') as archivo_texto\n",
    "        contenido = archivo_texto.read()\n",
    "        for palabra in contenido.split:\n",
    "            cuenta_palabras(palabra) = cuenta_palabras.get(palabra, 0) + 1\n",
    "    return cuenta_palabras\n",
    "\n",
    "resultado = conteo_de_caracteres(\"texto.txt\")\n",
    "print(resultado)\n",
    "```"
   ]
  },
  {
   "cell_type": "markdown",
   "id": "6c5c1553",
   "metadata": {},
   "source": [
    "Hay 5 errores:\n",
    "\n",
    "1. Se llama a la función equivocada (conteo_de_caracteres en vez de conteo_de_palabras)\n",
    "2. No se usa \":\" al final de la instrucción \"with\"\n",
    "3. Hay error al llamar la función split (debería ser con paréntesis)\n",
    "4. Diccionario \"cuenta_palabras\" se va llenando de la forma equivocada (deben usarse paréntesis cuadrados)\n",
    "5. El archivo se lee con parámetro \"a\" en el with, en vez de leerlo con parámetro \"r\""
   ]
  },
  {
   "cell_type": "markdown",
   "id": "ce990237",
   "metadata": {},
   "source": [
    "## Pregunta 4 - Recursión (5 puntos)\n",
    "\n",
    "En Álgebra aprendimos que $\\sum_{i=1}^n i = \\frac{n(n+1)}{2}$. Para comprobarlo, usted debe desarrollar una función **recursiva** que tome como parámetro el valor de $n$ y que retorne el resultado de la sumatoria. Su función deberá ir sumando sucesivamente todos los elementos de la sumatoria.\n"
   ]
  },
  {
   "cell_type": "code",
   "execution_count": 3,
   "id": "791a8408",
   "metadata": {},
   "outputs": [],
   "source": [
    "def sumatoria(n):\n",
    "    #escriba su codigo\n",
    "    if n == 1:\n",
    "        return 1\n",
    "    return n + sumatoria(n-1)"
   ]
  },
  {
   "cell_type": "code",
   "execution_count": 4,
   "id": "00367777",
   "metadata": {},
   "outputs": [
    {
     "data": {
      "text/plain": [
       "6"
      ]
     },
     "execution_count": 4,
     "metadata": {},
     "output_type": "execute_result"
    }
   ],
   "source": [
    "sumatoria(3)"
   ]
  },
  {
   "cell_type": "code",
   "execution_count": 5,
   "id": "27b12d10",
   "metadata": {},
   "outputs": [
    {
     "name": "stdout",
     "output_type": "stream",
     "text": [
      "True\n"
     ]
    }
   ],
   "source": [
    "# Para comprobar la veracidad de la propiedad (nada que hacer aquí...)\n",
    "n = 100\n",
    "suma_propiedad = n*(n+1)/2\n",
    "suma_manual = sumatoria(n)\n",
    "\n",
    "print(suma_propiedad == suma_manual)\n",
    "# Output deseado:\n",
    "# True\n"
   ]
  },
  {
   "cell_type": "markdown",
   "id": "b1ae1952",
   "metadata": {},
   "source": [
    "## Pregunta 5 - Áreas (15 puntos)\n",
    "\n",
    "Un amigo arquitecto le pide ayuda para automatizar el cálculo de areas (superficie) de una casa. Le cuenta que regularmente toma las dimensiones de las habitaciones (largo y ancho, en metros), y luego anota el nombre de la habitación; además le cuenta que, para algunas habitaciones debe tomar más de una medida, ya que algunas habitaciones tienen formas complejas (ver imagen). *Puede asumir, en todo caso, que todas las habitaciones estarán formadas por uno o más rectángulos.*\n",
    "\n",
    "<p align=\"center\">\n",
    "  <img src=\"areas.png\" width=\"300\"/>\n",
    "</p>\n",
    "\n",
    "Escriba una función que le permita procesar la información y calcular el área total de cada habitación. En concreto, su función debe tomar la información provista en la lista `dimensiones`, y debe retornar un diccionario donde la llave sea el nombre de la habitación, y el valor sea el área final de la habitación."
   ]
  },
  {
   "cell_type": "code",
   "execution_count": 6,
   "id": "cb09ca9e",
   "metadata": {},
   "outputs": [],
   "source": [
    "dimensiones = [2, 3, \"cocina\", 4, 4, \"living\", 3.5, 1, \"dormitorio1\", 3, 3, \"baño\", 3.5, 3, \"dormitorio1\", 4, 3.5, \"dormitorio2\"]"
   ]
  },
  {
   "cell_type": "markdown",
   "id": "b6419e76",
   "metadata": {},
   "source": [
    "Respuesta:"
   ]
  },
  {
   "cell_type": "code",
   "execution_count": 7,
   "id": "543d33b4",
   "metadata": {},
   "outputs": [],
   "source": [
    "#escriba codigo\n",
    "def areas(dimensiones):\n",
    "    n = len(dimensiones) // 3\n",
    "    \n",
    "    d = {}\n",
    "    for x in range(n):\n",
    "        i = 3*x + 0\n",
    "        j = 3*x + 1\n",
    "        k = 3*x + 2\n",
    "        \n",
    "        m1 = dimensiones[i]\n",
    "        m2 = dimensiones[j]\n",
    "        nombre = dimensiones[k]\n",
    "        \n",
    "        if nombre in d:\n",
    "            d[nombre] = d[nombre] + m1*m2\n",
    "        else:\n",
    "            d[nombre] = m1*m2\n",
    "    \n",
    "    return d"
   ]
  },
  {
   "cell_type": "code",
   "execution_count": 8,
   "id": "a8b3fcd7",
   "metadata": {},
   "outputs": [
    {
     "data": {
      "text/plain": [
       "{'cocina': 6,\n",
       " 'living': 16,\n",
       " 'dormitorio1': 14.0,\n",
       " 'baño': 9,\n",
       " 'dormitorio2': 14.0}"
      ]
     },
     "execution_count": 8,
     "metadata": {},
     "output_type": "execute_result"
    }
   ],
   "source": [
    "areas(dimensiones)"
   ]
  },
  {
   "cell_type": "markdown",
   "id": "4745e83a",
   "metadata": {},
   "source": [
    "## Pregunta 6 - VP y TIR (25 puntos)\n",
    "\n",
    "#### Parte 1. Valor Presente (10 puntos)\n",
    "\n",
    "A usted lo contrataron para evaluar proyectos de inversión. Cada proyecto recibe flujos de forma anual y tiene asociado una tasa de retorno. Para efectos de la pregunta, el valor presente de un proyecto estará dado por:\n",
    "\n",
    "<div align=\"center\">\n",
    "$VP= \\sum_{i=1}^{i=T} \\frac{Flujo_i}{(1+r)^i}$\n",
    "</div>\n",
    "\n",
    "Escriba una función que tome una lista de flujos y una tasa de interés, y le entregue el valor presente del proyecto."
   ]
  },
  {
   "cell_type": "code",
   "execution_count": 9,
   "id": "ade00b6a",
   "metadata": {},
   "outputs": [],
   "source": [
    "def vp(lista_de_flujos, tasa):\n",
    "    # Escriba aquí su código\n",
    "    \n",
    "    flujos_descontados = [f/((1+tasa)**(i+1)) for i, f in enumerate(lista_de_flujos)]\n",
    "    vp = sum(flujos_descontados)\n",
    "    \n",
    "    return vp"
   ]
  },
  {
   "cell_type": "code",
   "execution_count": 10,
   "id": "4fe14531",
   "metadata": {},
   "outputs": [
    {
     "data": {
      "text/plain": [
       "481.59278737791124"
      ]
     },
     "execution_count": 10,
     "metadata": {},
     "output_type": "execute_result"
    }
   ],
   "source": [
    "flujos = [100, 200, 300]\n",
    "tasa = 0.1\n",
    "\n",
    "vp(flujos, tasa)\n"
   ]
  },
  {
   "cell_type": "markdown",
   "id": "5feb3303",
   "metadata": {},
   "source": [
    "#### Parte 2. TIR (15 puntos)\n",
    "\n",
    "Usando su función anterior, escriba una función que le permita calcular la TIR de un proyecto. La TIR se define como aquella tasa que equipara el valor presente del proyecto con su inversión inicial requerida (vale decir, aquella tasa que hace que el valor presente neto sea igual a cero).\n"
   ]
  },
  {
   "cell_type": "code",
   "execution_count": 11,
   "id": "ae0c6618",
   "metadata": {},
   "outputs": [],
   "source": [
    "def tir(lista_de_flujos, inversion_inicial):\n",
    "    # Escriba aquí su código\n",
    "    \n",
    "    error = 100\n",
    "    tir = 0.1\n",
    "    \n",
    "    while abs(error) > 0.01:\n",
    "        \n",
    "        vp_0 = vp(lista_de_flujos, tir)\n",
    "        \n",
    "        vpn = vp_0 - inversion_inicial\n",
    "        \n",
    "        if vpn > 0:\n",
    "            tir = tir * 1.1\n",
    "        else:\n",
    "            tir = tir * 0.9\n",
    "        \n",
    "        error = vpn\n",
    "        \n",
    "    return tir\n",
    "        "
   ]
  },
  {
   "cell_type": "code",
   "execution_count": 12,
   "id": "5e36a6ba",
   "metadata": {},
   "outputs": [
    {
     "data": {
      "text/plain": [
       "0.17494044657312396"
      ]
     },
     "execution_count": 12,
     "metadata": {},
     "output_type": "execute_result"
    }
   ],
   "source": [
    "flujos = [100, 200, 300]\n",
    "inversion_inicial = 400\n",
    "\n",
    "tir(flujos, inversion_inicial)"
   ]
  },
  {
   "cell_type": "code",
   "execution_count": null,
   "id": "87c86c01",
   "metadata": {},
   "outputs": [],
   "source": []
  }
 ],
 "metadata": {
  "kernelspec": {
   "display_name": "Python 3 (ipykernel)",
   "language": "python",
   "name": "python3"
  },
  "language_info": {
   "codemirror_mode": {
    "name": "ipython",
    "version": 3
   },
   "file_extension": ".py",
   "mimetype": "text/x-python",
   "name": "python",
   "nbconvert_exporter": "python",
   "pygments_lexer": "ipython3",
   "version": "3.9.17"
  }
 },
 "nbformat": 4,
 "nbformat_minor": 5
}
