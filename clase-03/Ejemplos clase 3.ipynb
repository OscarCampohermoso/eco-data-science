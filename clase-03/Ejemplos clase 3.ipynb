{
 "cells": [
  {
   "cell_type": "markdown",
   "id": "536c2184",
   "metadata": {},
   "source": [
    "### Cómo leer un archivo plano?"
   ]
  },
  {
   "cell_type": "code",
   "execution_count": 5,
   "id": "02371bd7",
   "metadata": {},
   "outputs": [],
   "source": [
    "archivo = open('ExportaLista.csv')"
   ]
  },
  {
   "cell_type": "code",
   "execution_count": 6,
   "id": "714e0595",
   "metadata": {},
   "outputs": [],
   "source": [
    "datos = archivo.readlines()"
   ]
  },
  {
   "cell_type": "code",
   "execution_count": 7,
   "id": "856ef798",
   "metadata": {},
   "outputs": [
    {
     "data": {
      "text/plain": [
       "['Pontificia Universidad Católica de Chile;;;;;;\\n',\n",
       " 'Lista del Curso;;EAE253B-1;;;;\\n',\n",
       " 'Año/Periodo;;2023/22;;;;\\n',\n",
       " ';;;;;;\\n',\n",
       " 'N°;Rut;Apellido Paterno;Apellido Materno;Nombres;Cod. Curriculum;Correo\\n',\n",
       " '1;20722470-7;ALVIAL;VÉLIZ;CRISTOBAL JAVIER;050014;cjalvial@uc.cl\\n',\n",
       " '2;20806449-5;ARÁNGUIZ;POZAS;CRISTÓBAL;050014;aranguiz@uc.cl\\n',\n",
       " '3;21030142-9;BOSCH;PARDO;AMANDA;050014;amanda.bosch@uc.cl\\n',\n",
       " '4;21000971-K;BRITO;CUMSILLE;JOSEFINA ALEJANDRA;050014;josefinabrito@uc.cl\\n',\n",
       " '5;23051097-0;BUFFA;.;SABINA;050014;sabina.buffa@uc.cl\\n',\n",
       " '6;20283149-4;BUSTOS;KEHDY;DIEGO ALEJANDRO;050004;diegobustosk@uc.cl\\n',\n",
       " '7;109020-8;CAMPOHERMOSO;BERDEJA;OSCAR;000302;ocampohermosob@uc.cl\\n',\n",
       " '8;20883606-4;CANALE;BASSI;BRUNO ANDRÉS;050014;brunocanale12@uc.cl\\n',\n",
       " '9;20664191-6;CHADWICK;VERGARA;BLANCA MARÍA;050014;bchadwick@uc.cl\\n',\n",
       " '10;26735375-1;CHEN;;WEIKANG;050004;wchen2@uc.cl\\n',\n",
       " '11;20845319-K;CONTRERAS;SALGADO;SEBASTIÁN AGUSTÍN;050014;seba.cont.salg@uc.cl\\n',\n",
       " '12;20665518-6;COVARRUBIAS;CRUZ;ANGELES MARÍA;050014;angelita.covarrubias@uc.cl\\n',\n",
       " '13;20808658-8;CRUZ;BEZANILLA;BENJAMÍN;050014;b.cruz@uc.cl\\n',\n",
       " '14;21728331-0;EDWARDS;RIVERO;DIEGO;050014;diego.edwards@uc.cl\\n',\n",
       " '15;21014942-2;ELGUETA;UGARTE;TRINIDAD;050014;trinidad.elgueta@uc.cl\\n',\n",
       " '16;20666078-3;ETCHEGARAY;MICHELL;LEÓN RAIMUNDO;050014;letchegaray@uc.cl\\n',\n",
       " '17;19901035-2;FARCUH;HERNÁNDEZ;IGNACIO ANDRÉS;050004;ignacio.farcuh@uc.cl\\n',\n",
       " '18;20664794-9;FIGUEROA;POLANCO;MARTÍN ANDRÉS;050014;mfigueroapol@uc.cl\\n',\n",
       " '19;20666441-K;FROHLICH;RYBERTT;KARINA;050014;kfrohlich@uc.cl\\n',\n",
       " '20;20755574-6;GANA;RENGIFO;JOSÉ MIGUEL;050014;josegana@uc.cl\\n',\n",
       " '21;20730423-9;GIL;REVUELTA;AGUSTÍN IGNACIO;050014;agustingr@uc.cl\\n',\n",
       " '22;20857726-3;GÓMEZ;CONTI;SOFÍA CAROLINA;050014;sgomezconti@uc.cl\\n',\n",
       " '23;19673237-3;HENRIQUEZ;SALAZAR;RAFAELA SIMONE;050014;rmhenriquez@uc.cl\\n',\n",
       " '24;20824672-0;JOHNSON;SOTTA;CRISTÓBAL;050014;cjohnsonsotta@uc.cl\\n',\n",
       " '25;109164-6;KEIP;;AVRIL DENISA;000302;akeip0@uc.cl\\n',\n",
       " '26;21008889-K;LEÓN;TAPIA;MAGDALENA;050014;mleont@uc.cl\\n',\n",
       " '27;20666397-9;LISBOA;NAETER;FRANCISCO JOSÉ;050014;flisboa@uc.cl\\n',\n",
       " '28;20808344-9;LLANOS;ROJAS;NICOLÁS EDUARDO;050014;nllanos@uc.cl\\n',\n",
       " '29;21051367-1;MANQUELIPE;MEDINA;IGNACIO ANDRÉS;050014;manquelipeignacio@uc.cl\\n',\n",
       " '30;20442629-5;MARTÍNEZ;COLLARTE;BENJAMÍN ALEJANDRO;050014;benjamn.martnez@uc.cl\\n',\n",
       " '31;21028002-2;MEGE;CASTRO;CATALINA ELISA;050014;catalina.mege@uc.cl\\n',\n",
       " '32;20694484-6;MELEDA;CALVO;MARÍA AGUSTINA;050014;ameleda@uc.cl\\n',\n",
       " '33;20622651-K;MERELLO;FEDERICI;SANTIAGO;050014;santiago.merello@uc.cl\\n',\n",
       " '34;20779801-0;MOLINA;SOTO;DEYANIRA ALEJANDRA;050014;deyanira.molina@uc.cl\\n',\n",
       " '35;20838687-5;MOLLO;VEGA;FERNANDA NOEMÍ;050014;fmollo@uc.cl\\n',\n",
       " '36;20818984-0;MOOR;CARVAJAL;BENJAMÍN;050014;benjamn.moor@uc.cl\\n',\n",
       " '37;20806517-3;MORALES;WALLIS;CATALINA ANDREA;050014;c.moralesw@uc.cl\\n',\n",
       " '38;21030143-7;MUÑOZ;CAMPOS;MATÍAS ALFONSO;050014;mmunoz.campos@uc.cl\\n',\n",
       " '39;20725941-1;MUSSUTO;RIENZI;NICOLÁS;050014;nicolasmussuto@uc.cl\\n',\n",
       " '40;19276911-6;OLAVE;ROJAS;MATÍAS NICOLÁS;090101;matas.olave@uc.cl\\n',\n",
       " '41;20665468-6;PAVLOVIC;LÓPEZ;ISABEL CARMEN;050014;ipavlovic@uc.cl\\n',\n",
       " '42;20948391-2;PEREIRA;GUILLÉN;CARLOS GASTÓN;090001;cgpg@uc.cl\\n',\n",
       " '43;19307761-7;PIZARRO;CORTÉS;ALONSO;050005;alonso.pizarro@uc.cl\\n',\n",
       " '44;21160611-8;PONCE;CARRERA;TOMÁS ALONSO;050014;tomas.ponce@uc.cl\\n',\n",
       " '45;21030880-6;QUEMADA;ELTON;DIEGO;050014;diego.quemada@uc.cl\\n',\n",
       " '46;20823868-K;REY;ORTIZ;MARÍA LUISA;050014;marialuisarey@uc.cl\\n',\n",
       " '47;20100622-8;RIQUELME;SILVA;MATÍAS CRISTÓBAL;050014;matas.riquelme@uc.cl\\n',\n",
       " '48;19214579-1;RIVERA;ORTIZ;IGNACIA ANDREA;050014;ierivera@uc.cl\\n',\n",
       " '49;20967664-8;ROJAS;OPORTO;SEBASTIÁN RODRIGO;050014;srojao@uc.cl\\n',\n",
       " '50;20473351-1;SALAS;MERY;DIEGO ALONSO;050014;dsalm@uc.cl\\n',\n",
       " '51;19606135-5;SANDOVAL;RUIZ;FERNANDO JOAQUÍN;050097;fjsandoval@uc.cl\\n',\n",
       " '52;22046655-8;SCHMIDT;MONTES;THOMAS;050014;t.schmidt@uc.cl\\n',\n",
       " '53;20988814-9;STAM;ALFARO;WIM ARJAN;050014;wim.stam@uc.cl\\n',\n",
       " '54;20884570-5;TAGLE;MONTES;FRANCISCA MARÍA;050014;francisca.tagle@uc.cl\\n',\n",
       " '55;21181102-1;TALADRIZ;BIGNOTTI;TOMÁS;050014;tomas.taladriz@uc.cl\\n',\n",
       " '56;20665195-4;TITZE;CHIMENTI;EMILIA JOSEFINA;050014;etitze@uc.cl\\n',\n",
       " '57;20808313-9;TRONCOSO;SCHAUFLER;PAULA;050014;paula.troncoso@uc.cl\\n',\n",
       " '58;20825889-3;VERDUGO;MOLINA;NICOLÁS MATEO;050014;nmverdugo@uc.cl\\n',\n",
       " '59;21870987-7;WINKLER;DANÚS;THOMAS;050014;twinkler@uc.cl\\n',\n",
       " '60;20773245-1;ZAMBRANO;HERNÁNDEZ;JUAN JOSÉ MARIO;050014;juan.zambrano@uc.cl\\n',\n",
       " '61;20666499-1;ZAMORA;ÁGUILA;AGUSTÍN ANDRÉS;050014;aguszamora@uc.cl\\n']"
      ]
     },
     "execution_count": 7,
     "metadata": {},
     "output_type": "execute_result"
    }
   ],
   "source": [
    "datos"
   ]
  },
  {
   "cell_type": "markdown",
   "id": "3babb4a9",
   "metadata": {},
   "source": [
    "##### Ejemplo: buscar alumnos con RUT menor a 20 millones"
   ]
  },
  {
   "cell_type": "code",
   "execution_count": 14,
   "id": "a06f0904",
   "metadata": {},
   "outputs": [
    {
     "name": "stdout",
     "output_type": "stream",
     "text": [
      "Pontificia Universidad Católica de Chile;;;;;;\n",
      "\n",
      "['Pontificia Universidad Católica de Chile', '', '', '', '', '', '\\n']\n"
     ]
    }
   ],
   "source": [
    "for line in datos:\n",
    "    print(line)\n",
    "    print(line.split(\";\"))\n",
    "    break"
   ]
  },
  {
   "cell_type": "markdown",
   "id": "ce2f9f70",
   "metadata": {},
   "source": [
    "### Cómo escribir a un archivo desde Python?"
   ]
  },
  {
   "cell_type": "code",
   "execution_count": 17,
   "id": "6ab82bfb",
   "metadata": {},
   "outputs": [],
   "source": [
    "output = open('data.txt', mode='w')\n",
    "\n",
    "print('hola', file=output)\n",
    "\n",
    "output.close()"
   ]
  },
  {
   "cell_type": "markdown",
   "id": "e0fa05c8",
   "metadata": {},
   "source": [
    "### Cómo leer funciones desde archivos externos?\n",
    "\n",
    "1. Guardar la definición de la función en un archivo .py\n",
    "2. Llamar a la función desde otro código (por ej, en Jupyter notebook"
   ]
  },
  {
   "cell_type": "code",
   "execution_count": 18,
   "id": "e8b704a4",
   "metadata": {},
   "outputs": [
    {
     "name": "stdout",
     "output_type": "stream",
     "text": [
      "hello\n"
     ]
    }
   ],
   "source": [
    "from auxiliares import hola\n",
    "\n",
    "hola()"
   ]
  }
 ],
 "metadata": {
  "kernelspec": {
   "display_name": "Python 3 (ipykernel)",
   "language": "python",
   "name": "python3"
  },
  "language_info": {
   "codemirror_mode": {
    "name": "ipython",
    "version": 3
   },
   "file_extension": ".py",
   "mimetype": "text/x-python",
   "name": "python",
   "nbconvert_exporter": "python",
   "pygments_lexer": "ipython3",
   "version": "3.9.17"
  }
 },
 "nbformat": 4,
 "nbformat_minor": 5
}
