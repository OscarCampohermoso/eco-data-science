{
 "cells": [
  {
   "cell_type": "markdown",
   "id": "19e9c1ab",
   "metadata": {},
   "source": [
    "# Repaso Prueba 2\n",
    "\n",
    "## Examen 2019 - P.4\n",
    "\n",
    "Suponga que existe una base de datos con dos tablas relacionadas, RATINGS y MOVIES. La primera contiene calificaciones históricas de películas hechas por distintos usuarios (vale decir, una misma película puede tener muchas notas). La segunda contiene información de identificación de cada película. Ambas tablas contienen un campo para identificar a cada película llamado MOVIE_ID.\n",
    "\n",
    "Escriba código en SQL que le permita conocer:\n",
    "\n",
    "**1. \\[10 puntos\\] El nombre de las 5 mejores películas estrenadas desde el año 2000 a la fecha. Para responder esta pregunta, suponga que la tabla MOVIES contiene la variable \"año de estreno\" (YEAR_AIR), y la variable \"nombre de película\" (NAME). La tabla RATINGS contiene la variable RATING. Además, suponga que \"mejor\" quiere decir aquella película con el rating promedio más alto.**"
   ]
  },
  {
   "cell_type": "markdown",
   "id": "486ac56d",
   "metadata": {},
   "source": [
    "Tabla RATINGS con tres variables: MOVIE_ID, USER_ID y RATING. \\\n",
    "Tabla MOVIES tiene tres variables: MOVIE_ID, YEAR y NOMBRE."
   ]
  },
  {
   "cell_type": "code",
   "execution_count": null,
   "id": "5ef4621e",
   "metadata": {},
   "outputs": [],
   "source": [
    "'''\n",
    "SELECT M_ID, AVG(RATING)\n",
    "FROM RATINGS\n",
    "GROUP BY MOVIE_ID\n",
    "'''"
   ]
  },
  {
   "cell_type": "markdown",
   "id": "2669aa16",
   "metadata": {},
   "source": [
    "**Nota**: con querys más complejas suele ser común asignar nombre a las tablas..."
   ]
  },
  {
   "cell_type": "code",
   "execution_count": null,
   "id": "a273926b",
   "metadata": {},
   "outputs": [],
   "source": [
    "'''\n",
    "SELECT R.M_ID, AVG(R.RATING)\n",
    "FROM RATINGS R\n",
    "GROUP BY MOVIE_ID\n",
    "'''\n",
    "\n",
    "# se entiende que a la tabla RATINGS se le asigna el pseudónimo R\n",
    "# esto es útil cuando se trabajan con varias tablas con columnas similares"
   ]
  },
  {
   "cell_type": "markdown",
   "id": "8d751cbe",
   "metadata": {},
   "source": [
    "Sacamos el promedio, que es útil, pero necesitamos filtrar ahora las películas estrenadas del 2000 en adelante."
   ]
  },
  {
   "cell_type": "code",
   "execution_count": null,
   "id": "ee632a42",
   "metadata": {},
   "outputs": [],
   "source": [
    "'''\n",
    "SELECT M_ID, AVG(RATING)\n",
    "FROM RATINGS JOIN MOVIES USING(MOVIE_ID)\n",
    "WHERE YEAR >= 200\n",
    "GROUP BY MOVIE_ID\n",
    "'''\n",
    "\n",
    "# este join está temporalmente añadiendo a la tabla RATINGS la información de MOVIES\n",
    "# dado que en RATINGS hay múltiples observaciones para MOVIE_ID, YEAR y NOMBRE se repetirá..."
   ]
  },
  {
   "cell_type": "markdown",
   "id": "dc1d9633",
   "metadata": {},
   "source": [
    "Faltaría buscar las 5 mejores películas por nombre..."
   ]
  },
  {
   "cell_type": "code",
   "execution_count": null,
   "id": "f53e6f92",
   "metadata": {},
   "outputs": [],
   "source": [
    "'''\n",
    "SELECT M_ID, AVG(RATING) AS NOTA_PROM\n",
    "FROM RATINGS JOIN MOVIES USING (MOVIE_ID)\n",
    "WHERE YEAR >= 200\n",
    "GROUP BY MOVIE_ID, NOMBRE\n",
    "ORDER BY NOTA_PROM DESC\n",
    "LIMIT 5\n",
    "'''\n",
    "\n",
    "# LIMIT 5 sirve para indicar que nos arroje solo las primeras 5 observaciones que cumplan las condiciones\n",
    "# ORDER BY VA SIEMPRE DESPUÉS DE GROUP BY"
   ]
  },
  {
   "cell_type": "markdown",
   "id": "60236739",
   "metadata": {},
   "source": [
    "Si quisiera solo el nombre podría hacer una consulta anidada... "
   ]
  },
  {
   "cell_type": "code",
   "execution_count": null,
   "id": "1ad2ee19",
   "metadata": {},
   "outputs": [],
   "source": [
    "'''\n",
    "SELECT NOMBRE\n",
    "FROM (\n",
    "    SELECT M_ID, AVG(RATING) AS NOTA_PROM\n",
    "    FROM RATINGS JOIN MOVIES USING (MOVIE_ID)\n",
    "    WHERE YEAR >= 200\n",
    "    GROUP BY MOVIE_ID, NOMBRE\n",
    "    ORDER BY NOTA_PROM DESC\n",
    "    LIMIT 5\n",
    ")\n",
    "'''"
   ]
  },
  {
   "cell_type": "markdown",
   "id": "82541be9",
   "metadata": {},
   "source": [
    "¿Qué pasaría si RATINGS tiene MOVIE_ID pero en MOVIES se llama ID? En vez de usar USING (MOVIE_ID) tenemos que decir ON..."
   ]
  },
  {
   "cell_type": "code",
   "execution_count": null,
   "id": "f8a20939",
   "metadata": {},
   "outputs": [],
   "source": [
    "'''\n",
    "SELECT M_ID, AVG(RATING) AS NOTA_PROM\n",
    "FROM RATINGS R JOIN MOVIES M ON R.MOVIE_ID = M.ID\n",
    "WHERE YEAR >= 200\n",
    "GROUP BY MOVIE_ID, NOMBRE\n",
    "ORDER BY NOTA_PROM DESC\n",
    "LIMIT 5\n",
    "'''"
   ]
  },
  {
   "cell_type": "markdown",
   "id": "fae26d3f",
   "metadata": {},
   "source": [
    "**2. \\[10 puntos\\] El número de películas por año, desde el año 2000 a la fecha, que hayan tenido más de 100 calificaciones.**"
   ]
  },
  {
   "cell_type": "markdown",
   "id": "2024979b",
   "metadata": {},
   "source": [
    "Un primer paso bien marcado es contar ratings por película, dígase, para cada película cuantas calificaciones tiene cada una."
   ]
  },
  {
   "cell_type": "code",
   "execution_count": null,
   "id": "668ff050",
   "metadata": {},
   "outputs": [],
   "source": [
    "'''\n",
    "SELECT MOVIE_ID, COUNT(*) AS NUM\n",
    "FROM RATINGS\n",
    "GROUP BY MOVIE_ID\n",
    "'''"
   ]
  },
  {
   "cell_type": "markdown",
   "id": "264e14ac",
   "metadata": {},
   "source": [
    "¿Cómo podría señalar aquellas películas con más de 100 calificaciones?"
   ]
  },
  {
   "cell_type": "code",
   "execution_count": null,
   "id": "1d7cc0dc",
   "metadata": {},
   "outputs": [],
   "source": [
    "# método artesanal: consulta anidada...\n",
    "\n",
    "# función HAVING, que puede ejecutarse post GROUP BY\n",
    "\n",
    "'''\n",
    "SELECT MOVIE_ID, COUNT(*) AS NUM\n",
    "FROM RATINGS\n",
    "GROUP BY MOVIE_ID\n",
    "HAVING NUM >= 100\n",
    "'''"
   ]
  },
  {
   "cell_type": "markdown",
   "id": "c5d24479",
   "metadata": {},
   "source": [
    "Faltaría señalar la fecha..."
   ]
  },
  {
   "cell_type": "code",
   "execution_count": null,
   "id": "4d66f0ae",
   "metadata": {},
   "outputs": [],
   "source": [
    "# alternativa 1\n",
    "\n",
    "'''\n",
    "SELECT YEAR, COUNT(*)\n",
    "FROM (\n",
    "    SELECT MOVIE_ID, YEAR, COUNT(*) AS NUM\n",
    "    FROM RATINGS JOIN MOVIES USING (MOVIE_ID)\n",
    "    GROUP BY MOVIE_ID, YEAR\n",
    "    HAVING NUM >= 100\n",
    ")\n",
    "WHERE YEAR >= 2000\n",
    "GROUP BY YEAR\n",
    "'''\n",
    "\n",
    "# alternativa 2\n",
    "\n",
    "'''\n",
    "WITH BASE AS (\n",
    "    SELECT MOVIE_ID, COUNT(*) AS NUM\n",
    "    FROM RATINGS\n",
    "    GROUP BY MOVIE_ID\n",
    ")\n",
    "SELECT YEAR, COUNT(*)\n",
    "FROM (\n",
    "    SELECT MOVIE_ID, YEAR\n",
    "    FROM BASE JOIN MOVIES USING (MOVIE_ID)\n",
    "    WHERE NUM >= 100\n",
    ")\n",
    "WHERE YEAR >= 2000\n",
    "GROUP BY YEAR\n",
    "'''"
   ]
  },
  {
   "cell_type": "markdown",
   "id": "ffd9be2f",
   "metadata": {},
   "source": [
    "## Examen 2020\n",
    "\n",
    "(...) Después de las elecciones, su candidato (A) perdió, y le pidieron a ud. analizar los datos de votaciones para tratar de entender que pasó. Afortunadamente, consiguieron la información en una base de datos estructurada (SQL), con la siguiente descripción...\n",
    "\n",
    "**b. (5 puntos) Construya una query que le permita saber el núemero de votos obtenidos por cada candidato, por carrera.**"
   ]
  },
  {
   "cell_type": "markdown",
   "id": "7f04fa4d",
   "metadata": {},
   "source": [
    "Podríamos partir sumando por mesa..."
   ]
  },
  {
   "cell_type": "code",
   "execution_count": null,
   "id": "0cd98339",
   "metadata": {},
   "outputs": [],
   "source": [
    "'''\n",
    "SELECT MESAS, SUM(VA), SUM(VB)\n",
    "FROM VOTOS\n",
    "GROUP BY MESA\n",
    "'''"
   ]
  },
  {
   "cell_type": "markdown",
   "id": "6a23e0f0",
   "metadata": {},
   "source": [
    "Si lo quisiera hacer por carrera..."
   ]
  },
  {
   "cell_type": "code",
   "execution_count": null,
   "id": "c2f421f9",
   "metadata": {},
   "outputs": [],
   "source": [
    "'''\n",
    "SELECT CARR, SUM(VA), SUM(VB)\n",
    "FROM VOTOS JOIN MESAS USING (MESA_ID)\n",
    "GROUP BY CARR\n",
    "'''"
   ]
  },
  {
   "cell_type": "code",
   "execution_count": 1,
   "metadata": {},
   "outputs": [
    {
     "data": {
      "text/plain": [
       "(   MOVIE_ID        NAME  YEAR_AIR\n",
       " 0         1  Película A      2001\n",
       " 1         2  Película B      2003\n",
       " 2         3  Película C      2002\n",
       " 3         4  Película D      2005\n",
       " 4         5  Película E      2004,\n",
       "    MOVIE_ID  RATING\n",
       " 0         1       4\n",
       " 1         1       5\n",
       " 2         1       3\n",
       " 3         1       4\n",
       " 4         1       5)"
      ]
     },
     "execution_count": 1,
     "metadata": {},
     "output_type": "execute_result"
    }
   ],
   "source": [
    "import pandas as pd\n",
    "import sqlite3\n",
    "\n",
    "# Crear datos de muestra para las tablas MOVIES y RATINGS\n",
    "data_movies = {\n",
    "    \"MOVIE_ID\": [1, 2, 3, 4, 5, 6, 7, 8, 9, 10],\n",
    "    \"NAME\": [\"Película A\", \"Película B\", \"Película C\", \"Película D\", \"Película E\", \n",
    "             \"Película F\", \"Película G\", \"Película H\", \"Película I\", \"Película J\"],\n",
    "    \"YEAR_AIR\": [2001, 2003, 2002, 2005, 2004, 2000, 2006, 2007, 2008, 2009]\n",
    "}\n",
    "\n",
    "data_ratings = {\n",
    "    \"MOVIE_ID\": [1, 1, 1, 1, 1, 1, 1, 1, 1, 1, 2, 2, 3, 3, 3, 4, 4, 4, 4, 4, \n",
    "                 5, 5, 5, 6, 7, 7, 7, 8, 9, 10, 10, 10, 10, 10, 10],\n",
    "    \"RATING\": [4, 5, 3, 4, 5, 5, 4, 3, 4, 5, 4, 4, 5, 5, 4, 3, 3, 2, 4, 5, \n",
    "               5, 4, 5, 3, 4, 4, 4, 5, 5, 3, 4, 3, 3, 2, 5]\n",
    "}\n",
    "\n",
    "# Crear DataFrames de Pandas\n",
    "df_movies = pd.DataFrame(data_movies)\n",
    "df_ratings = pd.DataFrame(data_ratings)\n",
    "\n",
    "# Crear una conexión a una base de datos en memoria\n",
    "conn = sqlite3.connect(':memory:')\n",
    "\n",
    "# Copiar los DataFrames a la base de datos\n",
    "df_movies.to_sql('MOVIES', conn, index=False, if_exists='replace')\n",
    "df_ratings.to_sql('RATINGS', conn, index=False, if_exists='replace')\n",
    "\n",
    "# Verificar las tablas creadas\n",
    "df_movies.head(), df_ratings.head()"
   ]
  },
  {
   "cell_type": "code",
   "execution_count": 3,
   "metadata": {},
   "outputs": [
    {
     "data": {
      "text/html": [
       "<div>\n",
       "<style scoped>\n",
       "    .dataframe tbody tr th:only-of-type {\n",
       "        vertical-align: middle;\n",
       "    }\n",
       "\n",
       "    .dataframe tbody tr th {\n",
       "        vertical-align: top;\n",
       "    }\n",
       "\n",
       "    .dataframe thead th {\n",
       "        text-align: right;\n",
       "    }\n",
       "</style>\n",
       "<table border=\"1\" class=\"dataframe\">\n",
       "  <thead>\n",
       "    <tr style=\"text-align: right;\">\n",
       "      <th></th>\n",
       "      <th>NAME</th>\n",
       "      <th>AVG_RATING</th>\n",
       "    </tr>\n",
       "  </thead>\n",
       "  <tbody>\n",
       "    <tr>\n",
       "      <th>0</th>\n",
       "      <td>Película I</td>\n",
       "      <td>5.000000</td>\n",
       "    </tr>\n",
       "    <tr>\n",
       "      <th>1</th>\n",
       "      <td>Película H</td>\n",
       "      <td>5.000000</td>\n",
       "    </tr>\n",
       "    <tr>\n",
       "      <th>2</th>\n",
       "      <td>Película E</td>\n",
       "      <td>4.666667</td>\n",
       "    </tr>\n",
       "    <tr>\n",
       "      <th>3</th>\n",
       "      <td>Película C</td>\n",
       "      <td>4.666667</td>\n",
       "    </tr>\n",
       "    <tr>\n",
       "      <th>4</th>\n",
       "      <td>Película A</td>\n",
       "      <td>4.200000</td>\n",
       "    </tr>\n",
       "  </tbody>\n",
       "</table>\n",
       "</div>"
      ],
      "text/plain": [
       "         NAME  AVG_RATING\n",
       "0  Película I    5.000000\n",
       "1  Película H    5.000000\n",
       "2  Película E    4.666667\n",
       "3  Película C    4.666667\n",
       "4  Película A    4.200000"
      ]
     },
     "execution_count": 3,
     "metadata": {},
     "output_type": "execute_result"
    }
   ],
   "source": [
    "query_best_movies = \"\"\"\n",
    "SELECT M.NAME, AVG(R.RATING) as AVG_RATING\n",
    "FROM MOVIES M\n",
    "JOIN RATINGS R ON M.MOVIE_ID = R.MOVIE_ID\n",
    "WHERE M.YEAR_AIR >= 2000\n",
    "GROUP BY M.NAME\n",
    "ORDER BY AVG_RATING DESC\n",
    "LIMIT 5;\n",
    "\"\"\"\n",
    "\n",
    "# Ejecutar la consulta para las mejores películas\n",
    "best_movies = pd.read_sql_query(query_best_movies, conn)\n",
    "best_movies"
   ]
  },
  {
   "cell_type": "code",
   "execution_count": 5,
   "metadata": {},
   "outputs": [
    {
     "data": {
      "text/html": [
       "<div>\n",
       "<style scoped>\n",
       "    .dataframe tbody tr th:only-of-type {\n",
       "        vertical-align: middle;\n",
       "    }\n",
       "\n",
       "    .dataframe tbody tr th {\n",
       "        vertical-align: top;\n",
       "    }\n",
       "\n",
       "    .dataframe thead th {\n",
       "        text-align: right;\n",
       "    }\n",
       "</style>\n",
       "<table border=\"1\" class=\"dataframe\">\n",
       "  <thead>\n",
       "    <tr style=\"text-align: right;\">\n",
       "      <th></th>\n",
       "      <th>YEAR_AIR</th>\n",
       "      <th>NUM_MOVIES</th>\n",
       "    </tr>\n",
       "  </thead>\n",
       "  <tbody>\n",
       "    <tr>\n",
       "      <th>0</th>\n",
       "      <td>2001</td>\n",
       "      <td>1</td>\n",
       "    </tr>\n",
       "    <tr>\n",
       "      <th>1</th>\n",
       "      <td>2005</td>\n",
       "      <td>1</td>\n",
       "    </tr>\n",
       "    <tr>\n",
       "      <th>2</th>\n",
       "      <td>2009</td>\n",
       "      <td>1</td>\n",
       "    </tr>\n",
       "  </tbody>\n",
       "</table>\n",
       "</div>"
      ],
      "text/plain": [
       "   YEAR_AIR  NUM_MOVIES\n",
       "0      2001           1\n",
       "1      2005           1\n",
       "2      2009           1"
      ]
     },
     "execution_count": 5,
     "metadata": {},
     "output_type": "execute_result"
    }
   ],
   "source": [
    "query_movies_per_year = \"\"\"\n",
    "SELECT M.YEAR_AIR, COUNT(M.MOVIE_ID) AS NUM_MOVIES\n",
    "FROM MOVIES M\n",
    "WHERE M.YEAR_AIR >= 2000\n",
    "AND M.MOVIE_ID IN (\n",
    "    SELECT R.MOVIE_ID\n",
    "    FROM RATINGS R\n",
    "    GROUP BY R.MOVIE_ID\n",
    "    HAVING COUNT(R.RATING) > 3\n",
    ")\n",
    "GROUP BY M.YEAR_AIR\n",
    "ORDER BY M.YEAR_AIR;\n",
    "\"\"\"\n",
    "\n",
    "# Ejecutar la consulta para películas por año\n",
    "movies_per_year = pd.read_sql_query(query_movies_per_year, conn)\n",
    "movies_per_year"
   ]
  },
  {
   "cell_type": "code",
   "execution_count": 19,
   "metadata": {},
   "outputs": [
    {
     "data": {
      "text/html": [
       "<div>\n",
       "<style scoped>\n",
       "    .dataframe tbody tr th:only-of-type {\n",
       "        vertical-align: middle;\n",
       "    }\n",
       "\n",
       "    .dataframe tbody tr th {\n",
       "        vertical-align: top;\n",
       "    }\n",
       "\n",
       "    .dataframe thead th {\n",
       "        text-align: right;\n",
       "    }\n",
       "</style>\n",
       "<table border=\"1\" class=\"dataframe\">\n",
       "  <thead>\n",
       "    <tr style=\"text-align: right;\">\n",
       "      <th></th>\n",
       "      <th>YEAR_AIR</th>\n",
       "      <th>NUM_MOVIES</th>\n",
       "    </tr>\n",
       "  </thead>\n",
       "  <tbody>\n",
       "    <tr>\n",
       "      <th>0</th>\n",
       "      <td>2001</td>\n",
       "      <td>1</td>\n",
       "    </tr>\n",
       "    <tr>\n",
       "      <th>1</th>\n",
       "      <td>2002</td>\n",
       "      <td>1</td>\n",
       "    </tr>\n",
       "    <tr>\n",
       "      <th>2</th>\n",
       "      <td>2004</td>\n",
       "      <td>1</td>\n",
       "    </tr>\n",
       "    <tr>\n",
       "      <th>3</th>\n",
       "      <td>2005</td>\n",
       "      <td>1</td>\n",
       "    </tr>\n",
       "    <tr>\n",
       "      <th>4</th>\n",
       "      <td>2006</td>\n",
       "      <td>1</td>\n",
       "    </tr>\n",
       "    <tr>\n",
       "      <th>5</th>\n",
       "      <td>2009</td>\n",
       "      <td>1</td>\n",
       "    </tr>\n",
       "  </tbody>\n",
       "</table>\n",
       "</div>"
      ],
      "text/plain": [
       "   YEAR_AIR  NUM_MOVIES\n",
       "0      2001           1\n",
       "1      2002           1\n",
       "2      2004           1\n",
       "3      2005           1\n",
       "4      2006           1\n",
       "5      2009           1"
      ]
     },
     "execution_count": 19,
     "metadata": {},
     "output_type": "execute_result"
    }
   ],
   "source": [
    "query_movies_per_year = \"\"\"\n",
    "SELECT M.YEAR_AIR, COUNT(M.MOVIE_ID) AS NUM_MOVIES\n",
    "FROM MOVIES M\n",
    "WHERE M.YEAR_AIR >= 2000\n",
    "AND M.MOVIE_ID IN (\n",
    "    SELECT R.MOVIE_ID\n",
    "    FROM RATINGS R\n",
    "    GROUP BY R.MOVIE_ID\n",
    "    HAVING COUNT(R.RATING) >= 3\n",
    ")\n",
    "GROUP BY M.YEAR_AIR\n",
    "ORDER BY M.YEAR_AIR;\n",
    "\"\"\"\n",
    "\n",
    "# Ejecutar la consulta para películas por año\n",
    "movies_per_year = pd.read_sql_query(query_movies_per_year, conn)\n",
    "movies_per_year"
   ]
  },
  {
   "cell_type": "code",
   "execution_count": 18,
   "metadata": {},
   "outputs": [
    {
     "data": {
      "text/html": [
       "<div>\n",
       "<style scoped>\n",
       "    .dataframe tbody tr th:only-of-type {\n",
       "        vertical-align: middle;\n",
       "    }\n",
       "\n",
       "    .dataframe tbody tr th {\n",
       "        vertical-align: top;\n",
       "    }\n",
       "\n",
       "    .dataframe thead th {\n",
       "        text-align: right;\n",
       "    }\n",
       "</style>\n",
       "<table border=\"1\" class=\"dataframe\">\n",
       "  <thead>\n",
       "    <tr style=\"text-align: right;\">\n",
       "      <th></th>\n",
       "      <th>YEAR_AIR</th>\n",
       "      <th>MOVIE_N</th>\n",
       "    </tr>\n",
       "  </thead>\n",
       "  <tbody>\n",
       "    <tr>\n",
       "      <th>0</th>\n",
       "      <td>2001</td>\n",
       "      <td>1</td>\n",
       "    </tr>\n",
       "    <tr>\n",
       "      <th>1</th>\n",
       "      <td>2002</td>\n",
       "      <td>1</td>\n",
       "    </tr>\n",
       "    <tr>\n",
       "      <th>2</th>\n",
       "      <td>2004</td>\n",
       "      <td>1</td>\n",
       "    </tr>\n",
       "    <tr>\n",
       "      <th>3</th>\n",
       "      <td>2005</td>\n",
       "      <td>1</td>\n",
       "    </tr>\n",
       "    <tr>\n",
       "      <th>4</th>\n",
       "      <td>2006</td>\n",
       "      <td>1</td>\n",
       "    </tr>\n",
       "    <tr>\n",
       "      <th>5</th>\n",
       "      <td>2009</td>\n",
       "      <td>1</td>\n",
       "    </tr>\n",
       "  </tbody>\n",
       "</table>\n",
       "</div>"
      ],
      "text/plain": [
       "   YEAR_AIR  MOVIE_N\n",
       "0      2001        1\n",
       "1      2002        1\n",
       "2      2004        1\n",
       "3      2005        1\n",
       "4      2006        1\n",
       "5      2009        1"
      ]
     },
     "execution_count": 18,
     "metadata": {},
     "output_type": "execute_result"
    }
   ],
   "source": [
    "query_movies_per_year = \"\"\"\n",
    "SELECT YEAR_AIR, COUNT(*) AS MOVIE_N\n",
    "FROM (\n",
    "    SELECT M.MOVIE_ID, M.YEAR_AIR\n",
    "    FROM MOVIES M\n",
    "    JOIN RATINGS R ON M.MOVIE_ID = R.MOVIE_ID\n",
    "    GROUP BY M.MOVIE_ID, M.YEAR_AIR\n",
    "    HAVING COUNT(R.MOVIE_ID) >= 3\n",
    ") AS SUBQUERY\n",
    "WHERE YEAR_AIR >= 2000\n",
    "GROUP BY YEAR_AIR;\n",
    "\"\"\"\n",
    "\n",
    "# Ejecutar la consulta para películas por año\n",
    "movies_per_year = pd.read_sql_query(query_movies_per_year, conn)\n",
    "movies_per_year"
   ]
  },
  {
   "cell_type": "code",
   "execution_count": null,
   "metadata": {},
   "outputs": [],
   "source": []
  }
 ],
 "metadata": {
  "kernelspec": {
   "display_name": "Python 3 (ipykernel)",
   "language": "python",
   "name": "python3"
  },
  "language_info": {
   "codemirror_mode": {
    "name": "ipython",
    "version": 3
   },
   "file_extension": ".py",
   "mimetype": "text/x-python",
   "name": "python",
   "nbconvert_exporter": "python",
   "pygments_lexer": "ipython3",
   "version": "3.9.7"
  }
 },
 "nbformat": 4,
 "nbformat_minor": 5
}
