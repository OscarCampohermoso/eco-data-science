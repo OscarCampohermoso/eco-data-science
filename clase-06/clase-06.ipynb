{
 "cells": [
  {
   "cell_type": "markdown",
   "metadata": {},
   "source": [
    "# RECURSIÓN"
   ]
  },
  {
   "cell_type": "code",
   "execution_count": 3,
   "metadata": {},
   "outputs": [
    {
     "name": "stdout",
     "output_type": "stream",
     "text": [
      "Alguien en la red de amigos de David tiene COVID-19.\n"
     ]
    }
   ],
   "source": [
    "# Diccionario de amigos\n",
    "amigos = {\n",
    "    \"Alice\": [\"Bob\", \"Carol\"],\n",
    "    \"Bob\": [\"Alice\", \"David\"],\n",
    "    \"Carol\": [\"Alice\", \"Eve\"],\n",
    "    \"David\": [\"Bob\"],\n",
    "    \"Eve\": [\"Carol\"],\n",
    "    \"Frank\": []\n",
    "}\n",
    "\n",
    "# Diccionario que indica quién tiene COVID-19\n",
    "tiene_covid = {\n",
    "    \"Alice\": False,\n",
    "    \"Bob\": False,\n",
    "    \"Carol\": False,\n",
    "    \"David\": True,\n",
    "    \"Eve\": False,\n",
    "    \"Frank\": False\n",
    "}\n",
    "\n",
    "# Función recursiva para verificar si alguien en la red de amigos tiene COVID-19\n",
    "def verificar_covid(persona, visitados):\n",
    "    if persona in visitados:  # Evitar ciclos infinitos\n",
    "        return False\n",
    "    visitados.add(persona)  # Marcar persona como visitada\n",
    "\n",
    "    if tiene_covid[persona]:  # Comprobar si la persona actual tiene COVID-19\n",
    "        return True\n",
    "\n",
    "    for amigo in amigos[persona]:  # Recorrer la lista de amigos\n",
    "        if verificar_covid(amigo, visitados):  # Llamada recursiva\n",
    "            return True\n",
    "    return False\n",
    "\n",
    "# Iniciar la búsqueda desde una persona específica\n",
    "persona_inicial = \"David\"\n",
    "visitados = set()\n",
    "resultado = verificar_covid(persona_inicial, visitados)\n",
    "\n",
    "# Mostrar el resultado\n",
    "if resultado:\n",
    "    print(f\"Alguien en la red de amigos de {persona_inicial} tiene COVID-19.\")\n",
    "else:\n",
    "    print(f\"Nadie en la red de amigos de {persona_inicial} tiene COVID-19.\")\n"
   ]
  },
  {
   "cell_type": "code",
   "execution_count": 4,
   "metadata": {},
   "outputs": [
    {
     "name": "stdout",
     "output_type": "stream",
     "text": [
      "El elemento 0 de la lista es a.\n",
      "El elemento 1 de la lista es b.\n",
      "El elemento 2 de la lista es c.\n",
      "El elemento 3 de la lista es d.\n",
      "El elemento 4 de la lista es e.\n",
      "\n",
      "El elemento 0 de la lista es a.\n",
      "El elemento 1 de la lista es b.\n",
      "El elemento 2 de la lista es c.\n",
      "El elemento 3 de la lista es d.\n",
      "El elemento 4 de la lista es e.\n",
      "\n"
     ]
    }
   ],
   "source": [
    "# Uso del enumerate\n",
    "\n",
    "# Inicializar una lista\n",
    "lista = [\"a\", \"b\", \"c\", \"d\", \"e\"]\n",
    "\n",
    "# Recorrer la lista\n",
    "\n",
    "# Forma 1: Recorrer la lista con un índice\n",
    "for i in range(len(lista)):\n",
    "    print(f\"El elemento {i} de la lista es {lista[i]}.\")\n",
    "print()\n",
    "\n",
    "# Forma 2: Recorrer la lista con enumerate\n",
    "for i, elemento in enumerate(lista):\n",
    "    print(f\"El elemento {i} de la lista es {elemento}.\")\n",
    "print()"
   ]
  },
  {
   "cell_type": "code",
   "execution_count": 5,
   "metadata": {},
   "outputs": [],
   "source": [
    "def amigos(x, data):\n",
    "    lista_amigos = []\n",
    "    for i1, i2 in data:\n",
    "        if i1 == x:\n",
    "            # guardar i2 en lista_amigos\n",
    "            lista_amigos.append(i2)\n",
    "        elif i2 == x:\n",
    "            # guardar i1 en lista_amigos\n",
    "            lista_amigos.append(i1)\n",
    "        else:\n",
    "            continue\n",
    "    return lista_amigos"
   ]
  },
  {
   "cell_type": "markdown",
   "metadata": {},
   "source": [
    "Cabe aclarar que cualquier función recursiva puede ser implementada de manera iterativa, y viceversa. Sin embargo, en algunos casos es más sencillo implementar una función recursiva, mientras que en otros casos es más sencillo implementar una función iterativa."
   ]
  },
  {
   "cell_type": "code",
   "execution_count": 6,
   "metadata": {},
   "outputs": [
    {
     "name": "stdout",
     "output_type": "stream",
     "text": [
      "['l', 'v']\n"
     ]
    }
   ],
   "source": [
    "# cada linea del archivo tiene esta estructura 'a\\tl\\n'\n",
    "with open(\"contactos.txt\", \"r\") as archivo:\n",
    "    data = archivo.readlines()\n",
    "    data = [linea.strip().split(\"\\t\") for linea in data]\n",
    "\n",
    "\n",
    "# Ejemplo de uso de la función amigos\n",
    "print(amigos(\"a\", data))"
   ]
  },
  {
   "cell_type": "code",
   "execution_count": 7,
   "metadata": {},
   "outputs": [
    {
     "name": "stdout",
     "output_type": "stream",
     "text": [
      "['p', 'j', 'm']\n"
     ]
    }
   ],
   "source": [
    "amigos_p = amigos(\"p\", data)\n",
    "for amigo in amigos_p:\n",
    "    print(amigos(amigo, data))"
   ]
  },
  {
   "cell_type": "code",
   "execution_count": 10,
   "metadata": {},
   "outputs": [],
   "source": [
    "visited = set()  # To keep track of visited nodes\n",
    "\n",
    "def amigos_recursive(x, data):\n",
    "    if x in visited:  # Check if node has been visited before\n",
    "        return []\n",
    "    visited.add(x)  # Mark node as visited\n",
    "    \n",
    "    amigos_x = amigos(x, data)\n",
    "    all_amigos = []  # This will contain the extended list of friends\n",
    "    \n",
    "    for amigo in amigos_x:\n",
    "        lista_amigos = amigos_recursive(amigo, data)\n",
    "        all_amigos.extend(lista_amigos)\n",
    "    \n",
    "    return all_amigos + amigos_x  # Return the aggregated list of friends"
   ]
  },
  {
   "cell_type": "code",
   "execution_count": 11,
   "metadata": {},
   "outputs": [
    {
     "name": "stdout",
     "output_type": "stream",
     "text": [
      "['o', 'i', 'l', 'x', 'j', 'l', 'm', 'v', 'g', 's', 'm', 'b', 'y', 'g', 'z', 'd', 'm', 'w', 'k', 'o', 'b', 'z', 'e', 'q', 'k', 'w', 'e', 'x', 'z', 'k', 'm', 'o', 'w', 'c', 'z', 'u', 'w', 'i', 'o', 'u', 'c', 'x', 'i', 'k', 'l', 'c', 'f', 'r', 'l', 'a', 'x', 'f', 'y', 'c', 'l', 'v', 'j', 'a', 'y', 'v', 'd', 'y', 'p', 'j', 'm', 'd']\n"
     ]
    }
   ],
   "source": [
    "amigos_p = amigos_recursive(\"p\", data)\n",
    "print(amigos_p)"
   ]
  },
  {
   "cell_type": "code",
   "execution_count": null,
   "metadata": {},
   "outputs": [],
   "source": []
  }
 ],
 "metadata": {
  "kernelspec": {
   "display_name": "economía-y-ciencia-de-datos-etUShWn_",
   "language": "python",
   "name": "python3"
  },
  "language_info": {
   "codemirror_mode": {
    "name": "ipython",
    "version": 3
   },
   "file_extension": ".py",
   "mimetype": "text/x-python",
   "name": "python",
   "nbconvert_exporter": "python",
   "pygments_lexer": "ipython3",
   "version": "3.9.7"
  },
  "orig_nbformat": 4
 },
 "nbformat": 4,
 "nbformat_minor": 2
}
